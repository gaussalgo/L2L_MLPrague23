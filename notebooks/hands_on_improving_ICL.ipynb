{
  "cells": [
    {
      "cell_type": "markdown",
      "id": "c9f30c1a-8962-4236-b7aa-3718d08548da",
      "metadata": {
        "id": "c9f30c1a-8962-4236-b7aa-3718d08548da"
      },
      "source": [
        "# Hands-on: Improving In-context Learning for your {task, language, prompt}\n",
        "\n",
        "This notebook will show you how to fine-tune existing few-shot in-context learners to perform better on the application of your interest.\n",
        "\n",
        "We will demonstrate how you can fine-tune a model to perform in-context few-shot learning **on a new (target) language** using QA dataset(s) of the target language.\n"
      ]
    },
    {
      "cell_type": "code",
      "execution_count": null,
      "id": "42d0299e-e0b4-4e36-8b1d-2322b68cab54",
      "metadata": {
        "id": "42d0299e-e0b4-4e36-8b1d-2322b68cab54"
      },
      "outputs": [],
      "source": [
        "# notebook's requirements\n",
        "!pip install datasets adaptor==0.2.1"
      ]
    },
    {
      "cell_type": "markdown",
      "id": "32614ce5",
      "metadata": {
        "id": "32614ce5"
      },
      "source": [
        "## Existing models\n",
        "\n",
        "* T5 models (https://huggingface.co/t5-large) - pre-trained on mixture of tasks in text2text format\n",
        "* FLAN - T5 models (https://huggingface.co/google/flan-t5-large) - fine-tuned T5 model on 1000 additional tasks\n",
        "* mT5 models (https://huggingface.co/google/mt5-large) - pre-trained on 101 languages, no supervised tasks - needs to be fine-tuned\n",
        "* Tk models (https://huggingface.co/allenai/tk-instruct-large-def-pos) - fine-tuned T5 on tasks with prompts written as in-context instructions\n",
        "* mTk models (https://huggingface.co/allenai/mtk-instruct-3b-def-pos) - multilingual version of the Tk model\n",
        "* MPT (https://huggingface.co/mosaicml/mpt-7b)\n",
        "* Alpaca (https://github.com/tatsu-lab/stanford_alpaca)"
      ]
    },
    {
      "cell_type": "markdown",
      "id": "b487bae2-bbf2-44c4-9ea6-70126e319792",
      "metadata": {
        "id": "b487bae2-bbf2-44c4-9ea6-70126e319792",
        "tags": []
      },
      "source": [
        "## Generation - refresher\n",
        "\n",
        "Recall the **Causal Langauge Modeling (CLM)** from earlier, where the model predicts the **following token** from previous context.\n",
        "\n",
        "![image.png](https://gcdnb.pbrd.co/images/Bx4h6Lordx0y.png?o=1)  \n",
        "![image.png](https://gcdnb.pbrd.co/images/rb7bmZS11gtl.png?o=1)\n",
        "![image.png](https://gcdnb.pbrd.co/images/gXYffjzLIk7n.png?o=1)\n",
        "\n",
        "[[images source]](https://www.rohanawhad.com/improvements-of-spanbert-over-bert/)\n",
        "\n",
        "Note that the task of language **generation** is very similar to CLM: We predict the next token conditionally to the input. Only in the case of generation, the **input also contains the previous outputs** of the model."
      ]
    },
    {
      "cell_type": "markdown",
      "id": "6ab407ee-eedc-4843-9d58-a372ce76b86a",
      "metadata": {
        "id": "6ab407ee-eedc-4843-9d58-a372ce76b86a"
      },
      "source": [
        "## Construction of Training pipeline\n",
        "\n",
        "Many libraries makes it easy to train your NN model, with different levels of user complexity - do not get confused by that.\n",
        "\n",
        "Ordered by implementation complexity incrementally, for PyTorch models, you can find at least these: **Pure PyTorch, PyTorch Lightning, Transformers Trainer, Adaptor (ours)**. We will take a look at how it looks at the most low-level (Pure PyTorch), and the most high-level (Adaptor), but in your time, you can also look at [Sequence Classification tutorial](https://huggingface.co/docs/transformers/tasks/sequence_classification) from HuggingFace.\n"
      ]
    },
    {
      "cell_type": "markdown",
      "id": "95be66f8-ce1c-43a5-a49d-91832e69541c",
      "metadata": {
        "id": "95be66f8-ce1c-43a5-a49d-91832e69541c"
      },
      "source": [
        "#### 1. Vanilla PyTorch training\n",
        "\n",
        "Here, we are going to take a look at the low level of updating a network.\n",
        "The process can be summarized in the following steps:\n",
        "\n",
        "1. **We pick our base model** to fine-tune. While all Transformer LMs can perform token classification, not all of them are equally good at it. We'll talk about it a bit more offline.\n",
        "\n",
        "2. **We construct training dataset** from our data. Here, we transform texts into valid model inputs/samples (as we've seen in previous session) and assign true labels for each sample.\n",
        "\n",
        "3. **We iterate over the samples** in so-called *epochs*. In this step, we get the model predictions for a *batch* of samples: The raw predictions take form of probabilities (usually log-probabilities, to make prediction faster).\n",
        "\n",
        "4. **We update the model**. Here, we first compare the predicted probabilities with \"true probabilities\", where true category gets a probability==1, and other categories get 0. The comparison is done by so-called *loss* function, which is a special version of distance measure. Then, we update the weights of the model so that they improve the loss metric.\n",
        "\n",
        "5. **We continue as long as the model improves**, which we measure on a held-out dataset, to avoid that the model just learns to remember our data (but then would perform badly in the real world)."
      ]
    },
    {
      "cell_type": "code",
      "execution_count": null,
      "id": "fe3494eb-b0c4-4756-b391-4277eb537e03",
      "metadata": {
        "id": "fe3494eb-b0c4-4756-b391-4277eb537e03",
        "outputId": "cbe42337-d904-4552-bfd8-7a725da354a4"
      },
      "outputs": [
        {
          "name": "stderr",
          "output_type": "stream",
          "text": [
            "Some weights of the model checkpoint at bert-base-multilingual-cased were not used when initializing BertForSequenceClassification: ['cls.predictions.transform.LayerNorm.weight', 'cls.seq_relationship.weight', 'cls.predictions.transform.dense.bias', 'cls.predictions.bias', 'cls.seq_relationship.bias', 'cls.predictions.transform.dense.weight', 'cls.predictions.decoder.weight', 'cls.predictions.transform.LayerNorm.bias']\n",
            "- This IS expected if you are initializing BertForSequenceClassification from the checkpoint of a model trained on another task or with another architecture (e.g. initializing a BertForSequenceClassification model from a BertForPreTraining model).\n",
            "- This IS NOT expected if you are initializing BertForSequenceClassification from the checkpoint of a model that you expect to be exactly identical (initializing a BertForSequenceClassification model from a BertForSequenceClassification model).\n",
            "Some weights of BertForSequenceClassification were not initialized from the model checkpoint at bert-base-multilingual-cased and are newly initialized: ['classifier.bias', 'classifier.weight']\n",
            "You should probably TRAIN this model on a down-stream task to be able to use it for predictions and inference.\n"
          ]
        }
      ],
      "source": [
        "# 1: We pick our base model\n",
        "\n",
        "from transformers import BertForSequenceClassification, AutoTokenizer\n",
        "\n",
        "model = BertForSequenceClassification.from_pretrained(\"bert-base-multilingual-cased\", num_labels=6).to(\"cuda\")\n",
        "tokenizer = AutoTokenizer.from_pretrained(\"bert-base-multilingual-cased\")"
      ]
    },
    {
      "cell_type": "code",
      "execution_count": null,
      "id": "84e44004-d65f-41a3-8dbf-1964e0d3ddd5",
      "metadata": {
        "id": "84e44004-d65f-41a3-8dbf-1964e0d3ddd5",
        "outputId": "c90e4503-0f93-4e94-f25c-1dcabe897207"
      },
      "outputs": [
        {
          "data": {
            "text/plain": [
              "{'input_ids': tensor([[   101,    159,  14488,  ...,      0,      0,      0],\n",
              "        [   101,    163,  11530,  ...,      0,      0,      0],\n",
              "        [   101,    297,  10415,  ...,      0,      0,      0],\n",
              "        ...,\n",
              "        [   101,    123, 104968,  ...,      0,      0,      0],\n",
              "        [   101,  38938,    183,  ...,      0,      0,      0],\n",
              "        [   101,  41432,  10144,  ...,      0,      0,      0]]), 'token_type_ids': tensor([[0, 0, 0,  ..., 0, 0, 0],\n",
              "        [0, 0, 0,  ..., 0, 0, 0],\n",
              "        [0, 0, 0,  ..., 0, 0, 0],\n",
              "        ...,\n",
              "        [0, 0, 0,  ..., 0, 0, 0],\n",
              "        [0, 0, 0,  ..., 0, 0, 0],\n",
              "        [0, 0, 0,  ..., 0, 0, 0]]), 'attention_mask': tensor([[1, 1, 1,  ..., 0, 0, 0],\n",
              "        [1, 1, 1,  ..., 0, 0, 0],\n",
              "        [1, 1, 1,  ..., 0, 0, 0],\n",
              "        ...,\n",
              "        [1, 1, 1,  ..., 0, 0, 0],\n",
              "        [1, 1, 1,  ..., 0, 0, 0],\n",
              "        [1, 1, 1,  ..., 0, 0, 0]])}"
            ]
          },
          "execution_count": 3,
          "metadata": {},
          "output_type": "execute_result"
        }
      ],
      "source": [
        "# 2: We construct training dataset\n",
        "\n",
        "from datasets import load_dataset\n",
        "\n",
        "dataset = load_dataset(\"fewshot-goes-multilingual/sk_csfd-movie-reviews\")\n",
        "\n",
        "raw_dataset = {}\n",
        "raw_dataset[\"train\"] = tokenizer(dataset[\"train\"]['comment'], \n",
        "                                 padding=\"max_length\",  # this assures that all input samples have the same length and can be processed in a batch\n",
        "                                 truncation=True,  # this removes parts of inputs that can not fit into the model input\n",
        "                                 return_tensors=\"pt\"  # this returns the samples as PyTorch tensors, that we do not have to convert ourselves\n",
        "                                 )\n",
        "raw_dataset[\"validation\"] = tokenizer(dataset[\"validation\"]['comment'], \n",
        "                                      padding=\"max_length\",\n",
        "                                      truncation=True,\n",
        "                                      return_tensors=\"pt\")"
      ]
    },
    {
      "cell_type": "code",
      "execution_count": null,
      "id": "8a66c18f-8e39-4acf-af33-37ca69c46582",
      "metadata": {
        "id": "8a66c18f-8e39-4acf-af33-37ca69c46582",
        "scrolled": true,
        "tags": []
      },
      "outputs": [],
      "source": [
        "# 3: We iterate over the samples\n",
        "\n",
        "from transformers import AdamW\n",
        "from torch.nn import CrossEntropyLoss\n",
        "\n",
        "batch_size = 8\n",
        "max_num_epochs = 5\n",
        "learning_rate = 2e-6\n",
        "\n",
        "optimizer = AdamW(model.parameters(),  # optimizer will actually update the model weights,\n",
        "                  no_deprecation_warning=True,  # so that they get better at prediction after every step\n",
        "                  lr=learning_rate)\n",
        "\n",
        "loss_fn = CrossEntropyLoss()  # distance function computing distance of predictions to expected labels\n",
        "\n",
        "for epoch in range(max_num_epochs):\n",
        "    running_loss = 0\n",
        "    for batch_offset in range(0, len(raw_dataset[\"train\"][\"input_ids\"]), batch_size):\n",
        "        dataset_batch = {\"input_ids\": raw_dataset[\"train\"][\"input_ids\"][batch_offset: batch_offset+batch_size].to(\"cuda\"),\n",
        "                         \"attention_mask\": raw_dataset[\"train\"][\"attention_mask\"][batch_offset: batch_offset+batch_size].to(\"cuda\"),\n",
        "                         \"token_type_ids\": raw_dataset[\"train\"][\"token_type_ids\"][batch_offset: batch_offset+batch_size].to(\"cuda\"),\n",
        "                         \"labels\": raw_dataset[\"train\"][\"labels\"][batch_offset: batch_offset+batch_size].to(\"cuda\")}\n",
        "        \n",
        "        model_outputs = model(input_ids=dataset_batch[\"input_ids\"],\n",
        "                              attention_mask=dataset_batch[\"attention_mask\"],\n",
        "                              token_type_ids=dataset_batch[\"token_type_ids\"])  # this can also be done this way: outputs = model(**dataset_batch)        \n",
        "        expected_predictions = dataset_batch[\"labels\"]\n",
        "        \n",
        "        # we first compare the predicted probabilities with \"true probabilities\"\n",
        "        loss_value = loss_fn(model_outputs.logits, expected_predictions)\n",
        "        loss_value.backward()\n",
        "        \n",
        "        running_loss += loss_value.item()\n",
        "        \n",
        "        # 4. We update the model\n",
        "        optimizer.step()\n",
        "        optimizer.zero_grad()\n",
        "        \n",
        "        # 5: Evaluation: Check and stop the training if the model no longer improves\n",
        "        if (batch_offset/batch_size) % 1000 == 0:\n",
        "            # print our loss after every 1000-th step\n",
        "            print(\"Current training loss: %s\" % running_loss)\n",
        "            running_loss = 0"
      ]
    },
    {
      "cell_type": "markdown",
      "id": "f45c9f88-bb44-4e74-9828-e6acebbfc8ba",
      "metadata": {
        "id": "f45c9f88-bb44-4e74-9828-e6acebbfc8ba"
      },
      "source": [
        "#### 2. Training through high-level interface\n",
        "\n",
        "Many libraries today allow the user to train the language model without giving much thought of encoding, batching, or back-propagation. \n",
        "\n",
        "With some intuition on what is going on under the hood, you can skip the details and quickly jump into engineering over only high-level elements, such as the model and dataset in a textual form.\n",
        "\n",
        "Adapter is the open-source library that we use for more complex training pipelines, with very simple interface we'll se below."
      ]
    },
    {
      "cell_type": "markdown",
      "id": "29b4c188-de9a-49fc-8e76-1d8455e9eb3f",
      "metadata": {
        "id": "29b4c188-de9a-49fc-8e76-1d8455e9eb3f"
      },
      "source": [
        "First we pick the base model. At this point we do not care about the task."
      ]
    },
    {
      "cell_type": "markdown",
      "id": "bd0b70fa-5f1a-498e-a02b-81b72c83cc1f",
      "metadata": {
        "id": "bd0b70fa-5f1a-498e-a02b-81b72c83cc1f",
        "tags": []
      },
      "source": [
        "## 7. Training of Generative model\n",
        "\n",
        "Interestingly, generation is just a special case of token classification: In each prediction step, out of all possible tokens in the model vocabulary, we want to pick the one that best fits the input and previously-generated text.\n",
        "\n",
        "\n",
        "1. In this settings, when we train the model, we update it maximise the chance of predicting correct category on this single token.\n",
        "\n",
        "2. During the inference (i.e. the actual usage of the model), we look only at model's prediction at this single token. This is also what `transformers.AnyModelForSequenceClassification` does internally."
      ]
    },
    {
      "cell_type": "code",
      "execution_count": null,
      "id": "b6b1a0f2-cc70-46dd-82bf-72277f44bff4",
      "metadata": {
        "id": "b6b1a0f2-cc70-46dd-82bf-72277f44bff4"
      },
      "outputs": [],
      "source": [
        "!pip install sentencepiece protobuf==3.20.0  # required for generation"
      ]
    },
    {
      "cell_type": "code",
      "execution_count": null,
      "id": "b4df1218-66cf-4f27-b156-b6c84f49f11d",
      "metadata": {
        "id": "b4df1218-66cf-4f27-b156-b6c84f49f11d",
        "outputId": "85f8a8b9-440a-4bd0-cd7a-6e60af337184"
      },
      "outputs": [
        {
          "name": "stderr",
          "output_type": "stream",
          "text": [
            "/home/jovyan/.local/lib/python3.8/site-packages/transformers/convert_slow_tokenizer.py:434: UserWarning: The sentencepiece tokenizer that you are converting to a fast tokenizer uses the byte fallback option which is not implemented in the fast tokenizers. In practice this means that the fast version of the tokenizer can produce unknown tokens whereas the sentencepiece version would have converted these unknown tokens into a sequence of byte tokens matching the original piece of text.\n",
            "  warnings.warn(\n"
          ]
        }
      ],
      "source": [
        "from adaptor.lang_module import LangModule\n",
        "\n",
        "language_module = LangModule(\"google/mt5-base\")"
      ]
    },
    {
      "cell_type": "markdown",
      "id": "92bcac29-dad5-41da-8967-1fba93de87d3",
      "metadata": {
        "id": "92bcac29-dad5-41da-8967-1fba93de87d3"
      },
      "source": [
        "Second, we choose the objective that we want to fine-tune the model for. The objective will take care of configuring the model correctly. We just give it our desired inputs and outputs."
      ]
    },
    {
      "cell_type": "code",
      "execution_count": null,
      "id": "8ec9dbb0-28ce-4eef-adb4-e7f94fface07",
      "metadata": {
        "id": "8ec9dbb0-28ce-4eef-adb4-e7f94fface07"
      },
      "outputs": [],
      "source": [
        "from adaptor.objectives.seq2seq import Sequence2Sequence\n",
        "\n",
        "promt = \" Kolko hviezdičiek si zaslúži táto recenzia? Možnosti: 1, 2, 3, 4, 5.\"\n",
        "\n",
        "training_objective = Sequence2Sequence(lang_module=language_module,\n",
        "                                            texts_or_path=[promt + review for review in dataset[\"train\"]['comment']],\n",
        "                                            labels_or_path=[str(x) for x in dataset[\"train\"][\"rating_int\"]],\n",
        "                                            val_texts_or_path=[promt + review for review in dataset[\"validation\"]['comment']],\n",
        "                                            val_labels_or_path=[str(x) for x in dataset[\"validation\"][\"rating_int\"]],\n",
        "                                            batch_size=1)"
      ]
    },
    {
      "cell_type": "markdown",
      "id": "12cebf2c-6c81-46ce-84f8-e5eb2d8f0380",
      "metadata": {
        "id": "12cebf2c-6c81-46ce-84f8-e5eb2d8f0380"
      },
      "source": [
        "The training process is configured through a possibly large set of arugments. You can read through each of them in [TrainingArgs documentation](https://huggingface.co/docs/transformers/main_classes/trainer#transformers.TrainingArguments)."
      ]
    },
    {
      "cell_type": "code",
      "execution_count": null,
      "id": "06ef7263-2e6c-42dd-abc1-cdaec7668881",
      "metadata": {
        "id": "06ef7263-2e6c-42dd-abc1-cdaec7668881"
      },
      "outputs": [],
      "source": [
        "from adaptor.utils import AdaptationArguments, StoppingStrategy\n",
        "\n",
        "args = AdaptationArguments(output_dir=\"./output_dir_generative\",\n",
        "                           learning_rate=2e-5,\n",
        "                           warmup_steps=1000,\n",
        "                           stopping_strategy=StoppingStrategy.FIRST_OBJECTIVE_CONVERGED,\n",
        "                           do_train=True,\n",
        "                           do_eval=True,\n",
        "                           log_level=\"critical\",\n",
        "                           logging_steps=100,\n",
        "                           eval_steps=200,\n",
        "                           evaluation_strategy=\"steps\",\n",
        "                           save_steps=200,\n",
        "                           save_total_limit=11,\n",
        "                           stopping_patience=10,\n",
        "                           num_train_epochs=20,\n",
        "                           gradient_accumulation_steps=32)"
      ]
    },
    {
      "cell_type": "markdown",
      "id": "87c21df6-44e3-44f1-9f00-3e6ba9fe2868",
      "metadata": {
        "id": "87c21df6-44e3-44f1-9f00-3e6ba9fe2868"
      },
      "source": [
        "Adaptor allows training for multiple objectives at once, that are applied in a chosen Schedule. Multi-objective training is useful for more complex scenarios, but for our case, we suffice with a single objective, so a selection of Schedule does not really matter."
      ]
    },
    {
      "cell_type": "code",
      "execution_count": null,
      "id": "d2efa3d0-f4bc-4ca4-a9e3-a430cf7c8384",
      "metadata": {
        "id": "d2efa3d0-f4bc-4ca4-a9e3-a430cf7c8384",
        "outputId": "b5626cb8-3dae-476b-9ba9-5e1726faa178"
      },
      "outputs": [
        {
          "name": "stderr",
          "output_type": "stream",
          "text": [
            "Total number of train samples: 25000\n",
            "Total number of eval samples: 2500\n"
          ]
        }
      ],
      "source": [
        "from adaptor.schedules import SequentialSchedule\n",
        "from adaptor.adapter import Adapter\n",
        "\n",
        "parallel_schedule = SequentialSchedule(objectives=[training_objective], args=args)\n",
        "# 4. train using Adapter\n",
        "adapter = Adapter(lang_module=language_module,\n",
        "                  schedule=parallel_schedule,\n",
        "                  args=args)"
      ]
    },
    {
      "cell_type": "markdown",
      "id": "a72e0cd7-464b-470d-82c2-89e142af7d69",
      "metadata": {
        "id": "a72e0cd7-464b-470d-82c2-89e142af7d69"
      },
      "source": [
        "After all the configuration, we are ready to run the training and wait for the trained model.\n",
        "\n",
        "Given the `stopping_strategy=StoppingStrategy.FIRST_OBJECTIVE_CONVERGED` and `stopping_patience=1`, the training will terminate after first evaluation, where `model_quality_evaluator` (i.e. `SequenceAccuracy`) does not improve over one evaluation."
      ]
    },
    {
      "cell_type": "code",
      "execution_count": null,
      "id": "37079d64-8d00-4dcc-a5ed-061655433f01",
      "metadata": {
        "id": "37079d64-8d00-4dcc-a5ed-061655433f01",
        "outputId": "68d78205-7c6e-4b35-f530-64cf2d42fa25",
        "scrolled": true,
        "tags": []
      },
      "outputs": [
        {
          "name": "stderr",
          "output_type": "stream",
          "text": [
            "/home/jovyan/.local/lib/python3.8/site-packages/transformers/optimization.py:306: FutureWarning: This implementation of AdamW is deprecated and will be removed in a future version. Use the PyTorch implementation torch.optim.AdamW instead, or set `no_deprecation_warning=True` to disable this warning\n",
            "  warnings.warn(\n",
            "Converged objectives: []\n",
            "Sequence2Sequence:  13%|█▎        | 3200/25000 [07:04<44:01,  8.25batches/s, epoch=1, loss=11.7, split=train]  Converged objectives: []\n",
            "Sequence2Sequence:  13%|█▎        | 3202/25000 [07:04<53:40,  6.77batches/s, epoch=1, loss=17, split=train]    "
          ]
        },
        {
          "name": "stdout",
          "output_type": "stream",
          "text": [
            "{'loss': 17.9087, 'learning_rate': 2.0000000000000003e-06, 'train_Sequence2Sequence_loss': 16.13142704963684, 'train_Sequence2Sequence_num_batches': 20, 'epoch': 0.01}\n"
          ]
        },
        {
          "name": "stderr",
          "output_type": "stream",
          "text": [
            "Sequence2Sequence:  26%|██▌       | 6400/25000 [13:55<36:35,  8.47batches/s, epoch=1, loss=17, split=train]    Converged objectives: []\n",
            "Evaluating...\n"
          ]
        },
        {
          "name": "stdout",
          "output_type": "stream",
          "text": [
            "{'loss': 17.1405, 'learning_rate': 4.000000000000001e-06, 'train_Sequence2Sequence_loss': 17.9901912689209, 'train_Sequence2Sequence_num_batches': 20, 'epoch': 0.01}\n"
          ]
        },
        {
          "name": "stderr",
          "output_type": "stream",
          "text": [
            "Sequence2Sequence: 100%|█████████▉| 2499/2500 [01:25<00:00, 27.76batches/s, epoch=1, loss=16.1, split=eval]Converged objectives: []\n"
          ]
        },
        {
          "name": "stdout",
          "output_type": "stream",
          "text": [
            "{'eval_loss': 13.747293472290039, 'eval_runtime': 85.0848, 'eval_samples_per_second': 29.382, 'eval_steps_per_second': 29.382, 'eval_Sequence2Sequence_loss': 13.888874187469483, 'eval_Sequence2Sequence_num_batches': 100, 'epoch': 0.01}\n"
          ]
        },
        {
          "name": "stderr",
          "output_type": "stream",
          "text": [
            "Sequence2Sequence:  38%|███▊      | 9600/25000 [22:30<30:15,  8.48batches/s, epoch=1, loss=5.41, split=train]    Converged objectives: []\n",
            "Sequence2Sequence:  38%|███▊      | 9602/25000 [22:30<40:07,  6.40batches/s, epoch=1, loss=17.7, split=train]"
          ]
        },
        {
          "name": "stdout",
          "output_type": "stream",
          "text": [
            "{'loss': 15.2123, 'learning_rate': 6e-06, 'train_Sequence2Sequence_loss': 13.12563066482544, 'train_Sequence2Sequence_num_batches': 20, 'epoch': 0.02}\n"
          ]
        },
        {
          "name": "stderr",
          "output_type": "stream",
          "text": [
            "Sequence2Sequence:  51%|█████     | 12800/25000 [29:24<23:46,  8.55batches/s, epoch=1, loss=9.41, split=train]  Converged objectives: []\n",
            "Evaluating...\n"
          ]
        },
        {
          "name": "stdout",
          "output_type": "stream",
          "text": [
            "{'loss': 13.1265, 'learning_rate': 8.000000000000001e-06, 'train_Sequence2Sequence_loss': 11.312626147270203, 'train_Sequence2Sequence_num_batches': 20, 'epoch': 0.03}\n"
          ]
        },
        {
          "name": "stderr",
          "output_type": "stream",
          "text": [
            "Sequence2Sequence: 100%|██████████| 2500/2500 [15:28<00:00,  2.69batches/s, epoch=1, loss=14.1, split=eval]\n",
            "Sequence2Sequence: 100%|█████████▉| 2498/2500 [01:29<00:00, 27.67batches/s, epoch=1, loss=7.91, split=eval]Converged objectives: []\n"
          ]
        },
        {
          "name": "stdout",
          "output_type": "stream",
          "text": [
            "{'eval_loss': 9.292762756347656, 'eval_runtime': 89.5283, 'eval_samples_per_second': 27.924, 'eval_steps_per_second': 27.924, 'eval_Sequence2Sequence_loss': 9.237446851730347, 'eval_Sequence2Sequence_num_batches': 100, 'epoch': 0.03}\n"
          ]
        },
        {
          "name": "stderr",
          "output_type": "stream",
          "text": [
            "Sequence2Sequence:  64%|██████▍   | 16000/25000 [38:01<17:41,  8.48batches/s, epoch=1, loss=6.95, split=train]    Converged objectives: []\n",
            "Sequence2Sequence:  64%|██████▍   | 16003/25000 [38:01<19:42,  7.61batches/s, epoch=1, loss=7.07, split=train]"
          ]
        },
        {
          "name": "stdout",
          "output_type": "stream",
          "text": [
            "{'loss': 10.1095, 'learning_rate': 1e-05, 'train_Sequence2Sequence_loss': 7.4681835770606995, 'train_Sequence2Sequence_num_batches': 20, 'epoch': 0.03}\n"
          ]
        },
        {
          "name": "stderr",
          "output_type": "stream",
          "text": [
            "Sequence2Sequence:  77%|███████▋  | 19199/25000 [43:14<08:29, 11.38batches/s, epoch=1, loss=6.23, split=train] Converged objectives: []\n",
            "Evaluating...\n"
          ]
        },
        {
          "name": "stdout",
          "output_type": "stream",
          "text": [
            "{'loss': 6.9675, 'learning_rate': 1.2e-05, 'train_Sequence2Sequence_loss': 5.620758986473083, 'train_Sequence2Sequence_num_batches': 20, 'epoch': 0.04}\n"
          ]
        },
        {
          "name": "stderr",
          "output_type": "stream",
          "text": [
            "Sequence2Sequence: 100%|██████████| 2500/2500 [13:50<00:00,  3.01batches/s, epoch=1, loss=8.7, split=eval]\n",
            "Sequence2Sequence: 100%|█████████▉| 2498/2500 [01:00<00:00, 42.41batches/s, epoch=1, loss=3.8, split=eval] in]Converged objectives: []\n"
          ]
        },
        {
          "name": "stdout",
          "output_type": "stream",
          "text": [
            "{'eval_loss': 4.800583362579346, 'eval_runtime': 60.8677, 'eval_samples_per_second': 41.073, 'eval_steps_per_second': 41.073, 'eval_Sequence2Sequence_loss': 4.826601564884186, 'eval_Sequence2Sequence_num_batches': 100, 'epoch': 0.04}\n"
          ]
        },
        {
          "name": "stderr",
          "output_type": "stream",
          "text": [
            "Sequence2Sequence:  90%|████████▉ | 22399/25000 [49:39<04:14, 10.23batches/s, epoch=1, loss=2.18, split=train]   Converged objectives: []\n",
            "Sequence2Sequence:  90%|████████▉ | 22402/25000 [49:40<04:34,  9.46batches/s, epoch=1, loss=0.0848, split=train]"
          ]
        },
        {
          "name": "stdout",
          "output_type": "stream",
          "text": [
            "{'loss': 3.6865, 'learning_rate': 1.4e-05, 'train_Sequence2Sequence_loss': 2.250028187036514, 'train_Sequence2Sequence_num_batches': 20, 'epoch': 0.04}\n"
          ]
        },
        {
          "name": "stderr",
          "output_type": "stream",
          "text": [
            "Sequence2Sequence: 100%|██████████| 25000/25000 [53:50<00:00,  9.07batches/s, epoch=1, loss=0.833, split=train]  Converged objectives: []\n",
            "Sequence2Sequence: 100%|██████████| 25000/25000 [53:50<00:00,  7.74batches/s, epoch=1, loss=1.11, split=train] \n",
            "Sequence2Sequence:   2%|▏         | 600/25000 [01:00<36:15, 11.21batches/s, epoch=2, loss=1.72, split=train]  Converged objectives: []\n",
            "Evaluating...\n"
          ]
        },
        {
          "name": "stdout",
          "output_type": "stream",
          "text": [
            "{'loss': 1.6736, 'learning_rate': 1.6000000000000003e-05, 'train_Sequence2Sequence_loss': 1.288987749814987, 'train_Sequence2Sequence_num_batches': 20, 'epoch': 0.05}\n"
          ]
        },
        {
          "name": "stderr",
          "output_type": "stream",
          "text": [
            "Sequence2Sequence: 100%|██████████| 2500/2500 [11:35<00:00,  3.59batches/s, epoch=1, loss=4.07, split=eval]\n",
            "Sequence2Sequence: 100%|█████████▉| 2497/2500 [01:00<00:00, 41.67batches/s, epoch=2, loss=0.806, split=eval]Converged objectives: []\n"
          ]
        },
        {
          "name": "stdout",
          "output_type": "stream",
          "text": [
            "{'eval_loss': 0.9550275206565857, 'eval_runtime': 61.0507, 'eval_samples_per_second': 40.95, 'eval_steps_per_second': 40.95, 'eval_Sequence2Sequence_loss': 1.0189049816131592, 'eval_Sequence2Sequence_num_batches': 100, 'epoch': 0.05}\n"
          ]
        },
        {
          "name": "stderr",
          "output_type": "stream",
          "text": [
            "Sequence2Sequence:  15%|█▌        | 3799/25000 [07:30<30:52, 11.45batches/s, epoch=2, loss=0.444, split=train]  Converged objectives: []\n",
            "Sequence2Sequence:  15%|█▌        | 3803/25000 [07:30<36:24,  9.70batches/s, epoch=2, loss=0.744, split=train]"
          ]
        },
        {
          "name": "stdout",
          "output_type": "stream",
          "text": [
            "{'loss': 1.2113, 'learning_rate': 1.8e-05, 'train_Sequence2Sequence_loss': 0.9597227975726128, 'train_Sequence2Sequence_num_batches': 20, 'epoch': 0.06}\n"
          ]
        },
        {
          "name": "stderr",
          "output_type": "stream",
          "text": [
            "Sequence2Sequence:  28%|██▊       | 7000/25000 [12:58<38:41,  7.75batches/s, epoch=2, loss=0.829, split=train] Converged objectives: []\n",
            "Evaluating...\n"
          ]
        },
        {
          "name": "stdout",
          "output_type": "stream",
          "text": [
            "{'loss': 1.0595, 'learning_rate': 2e-05, 'train_Sequence2Sequence_loss': 0.9232580676674843, 'train_Sequence2Sequence_num_batches': 20, 'epoch': 0.06}\n"
          ]
        },
        {
          "name": "stderr",
          "output_type": "stream",
          "text": [
            "Sequence2Sequence: 100%|██████████| 2500/2500 [11:58<00:00,  3.48batches/s, epoch=2, loss=0.949, split=eval]\n",
            "Sequence2Sequence: 100%|█████████▉| 2498/2500 [01:09<00:00, 35.87batches/s, epoch=2, loss=0.687, split=eval]Converged objectives: []\n"
          ]
        },
        {
          "name": "stdout",
          "output_type": "stream",
          "text": [
            "{'eval_loss': 0.8977074027061462, 'eval_runtime': 69.7066, 'eval_samples_per_second': 35.865, 'eval_steps_per_second': 35.865, 'eval_Sequence2Sequence_loss': 0.9306386995315552, 'eval_Sequence2Sequence_num_batches': 100, 'epoch': 0.06}\n"
          ]
        },
        {
          "name": "stderr",
          "output_type": "stream",
          "text": [
            "Sequence2Sequence:  41%|████      | 10199/25000 [20:00<26:26,  9.33batches/s, epoch=2, loss=0.786, split=train]  Converged objectives: []\n",
            "Sequence2Sequence:  41%|████      | 10203/25000 [20:00<26:15,  9.39batches/s, epoch=2, loss=0.84, split=train] "
          ]
        },
        {
          "name": "stdout",
          "output_type": "stream",
          "text": [
            "{'loss': 1.0496, 'learning_rate': 1.9993579454253612e-05, 'train_Sequence2Sequence_loss': 0.9891065150499344, 'train_Sequence2Sequence_num_batches': 20, 'epoch': 0.07}\n"
          ]
        },
        {
          "name": "stderr",
          "output_type": "stream",
          "text": [
            "Sequence2Sequence:  54%|█████▎    | 13399/25000 [25:31<25:28,  7.59batches/s, epoch=2, loss=1.2, split=train]   Converged objectives: []\n",
            "Evaluating...\n"
          ]
        },
        {
          "name": "stdout",
          "output_type": "stream",
          "text": [
            "{'loss': 1.114, 'learning_rate': 1.9987158908507226e-05, 'train_Sequence2Sequence_loss': 1.4632992073893547, 'train_Sequence2Sequence_num_batches': 20, 'epoch': 0.08}\n"
          ]
        },
        {
          "name": "stderr",
          "output_type": "stream",
          "text": [
            "Sequence2Sequence: 100%|██████████| 2500/2500 [12:33<00:00,  3.32batches/s, epoch=2, loss=0.893, split=eval]\n",
            "Sequence2Sequence: 100%|██████████| 2500/2500 [02:21<00:00, 15.79batches/s, epoch=2, loss=0.931, split=eval]Converged objectives: []\n"
          ]
        },
        {
          "name": "stdout",
          "output_type": "stream",
          "text": [
            "{'eval_loss': 0.8781482577323914, 'eval_runtime': 141.1936, 'eval_samples_per_second': 17.706, 'eval_steps_per_second': 17.706, 'eval_Sequence2Sequence_loss': 0.8995459002256393, 'eval_Sequence2Sequence_num_batches': 100, 'epoch': 0.08}\n"
          ]
        },
        {
          "name": "stderr",
          "output_type": "stream",
          "text": [
            "Sequence2Sequence:  66%|██████▋   | 16599/25000 [34:46<12:47, 10.95batches/s, epoch=2, loss=1.03, split=train]    Converged objectives: []\n",
            "Sequence2Sequence:  66%|██████▋   | 16603/25000 [34:46<12:45, 10.97batches/s, epoch=2, loss=2.86, split=train] "
          ]
        },
        {
          "name": "stdout",
          "output_type": "stream",
          "text": [
            "{'loss': 1.1752, 'learning_rate': 1.9980738362760837e-05, 'train_Sequence2Sequence_loss': 1.0303605556488038, 'train_Sequence2Sequence_num_batches': 20, 'epoch': 0.08}\n"
          ]
        },
        {
          "name": "stderr",
          "output_type": "stream",
          "text": [
            "Sequence2Sequence:  79%|███████▉  | 19800/25000 [39:56<08:57,  9.68batches/s, epoch=2, loss=0.651, split=train] Converged objectives: []\n",
            "Evaluating...\n"
          ]
        },
        {
          "name": "stdout",
          "output_type": "stream",
          "text": [
            "{'loss': 1.1018, 'learning_rate': 1.9974317817014448e-05, 'train_Sequence2Sequence_loss': 1.2170063734054566, 'train_Sequence2Sequence_num_batches': 20, 'epoch': 0.09}\n"
          ]
        },
        {
          "name": "stderr",
          "output_type": "stream",
          "text": [
            "Sequence2Sequence: 100%|██████████| 2500/2500 [14:24<00:00,  2.89batches/s, epoch=2, loss=0.737, split=eval]\n",
            "Sequence2Sequence: 100%|█████████▉| 2497/2500 [01:00<00:00, 42.61batches/s, epoch=2, loss=0.777, split=eval]Converged objectives: []\n"
          ]
        },
        {
          "name": "stdout",
          "output_type": "stream",
          "text": [
            "{'eval_loss': 0.9093708992004395, 'eval_runtime': 60.3291, 'eval_samples_per_second': 41.439, 'eval_steps_per_second': 41.439, 'eval_Sequence2Sequence_loss': 0.8524070379137992, 'eval_Sequence2Sequence_num_batches': 100, 'epoch': 0.09}\n"
          ]
        },
        {
          "name": "stderr",
          "output_type": "stream",
          "text": [
            "Sequence2Sequence:  92%|█████████▏| 23000/25000 [46:17<02:49, 11.80batches/s, epoch=2, loss=1.36, split=train]    Converged objectives: []\n",
            "Sequence2Sequence:  92%|█████████▏| 23002/25000 [46:18<03:07, 10.67batches/s, epoch=2, loss=1.23, split=train]"
          ]
        },
        {
          "name": "stdout",
          "output_type": "stream",
          "text": [
            "{'loss': 1.1251, 'learning_rate': 1.996789727126806e-05, 'train_Sequence2Sequence_loss': 0.8924560755491256, 'train_Sequence2Sequence_num_batches': 20, 'epoch': 0.1}\n"
          ]
        },
        {
          "name": "stderr",
          "output_type": "stream",
          "text": [
            "Sequence2Sequence: 100%|█████████▉| 24999/25000 [49:28<00:00, 12.83batches/s, epoch=2, loss=1.14, split=train] Converged objectives: []\n",
            "Sequence2Sequence: 100%|██████████| 25000/25000 [49:28<00:00,  8.42batches/s, epoch=2, loss=0.611, split=train]\n",
            "Sequence2Sequence:   5%|▍         | 1199/25000 [01:55<36:57, 10.73batches/s, epoch=3, loss=1.25, split=train]  Converged objectives: []\n",
            "Evaluating...\n"
          ]
        },
        {
          "name": "stdout",
          "output_type": "stream",
          "text": [
            "{'loss': 0.9416, 'learning_rate': 1.9961476725521673e-05, 'train_Sequence2Sequence_loss': 0.9576057404279709, 'train_Sequence2Sequence_num_batches': 20, 'epoch': 0.1}\n"
          ]
        },
        {
          "name": "stderr",
          "output_type": "stream",
          "text": [
            "Sequence2Sequence: 100%|██████████| 2500/2500 [11:27<00:00,  3.64batches/s, epoch=2, loss=0.759, split=eval]\n",
            "Sequence2Sequence: 100%|█████████▉| 2499/2500 [01:00<00:00, 42.74batches/s, epoch=3, loss=0.881, split=eval]]Converged objectives: []\n"
          ]
        },
        {
          "name": "stdout",
          "output_type": "stream",
          "text": [
            "{'eval_loss': 0.8875173926353455, 'eval_runtime': 60.2358, 'eval_samples_per_second': 41.504, 'eval_steps_per_second': 41.504, 'eval_Sequence2Sequence_loss': 0.9013218656182289, 'eval_Sequence2Sequence_num_batches': 100, 'epoch': 0.1}\n"
          ]
        },
        {
          "name": "stderr",
          "output_type": "stream",
          "text": [
            "Sequence2Sequence:  18%|█▊        | 4400/25000 [08:19<35:08,  9.77batches/s, epoch=3, loss=0.704, split=train]   Converged objectives: []\n",
            "Sequence2Sequence:  18%|█▊        | 4402/25000 [08:20<45:23,  7.56batches/s, epoch=3, loss=0.362, split=train]"
          ]
        },
        {
          "name": "stdout",
          "output_type": "stream",
          "text": [
            "{'loss': 0.8777, 'learning_rate': 1.9955056179775283e-05, 'train_Sequence2Sequence_loss': 0.9964094690978527, 'train_Sequence2Sequence_num_batches': 20, 'epoch': 0.11}\n"
          ]
        },
        {
          "name": "stderr",
          "output_type": "stream",
          "text": [
            "Sequence2Sequence:  30%|███       | 7600/25000 [13:30<28:35, 10.14batches/s, epoch=3, loss=1.48, split=train]  Converged objectives: []\n",
            "Evaluating...\n"
          ]
        },
        {
          "name": "stdout",
          "output_type": "stream",
          "text": [
            "{'loss': 0.8518, 'learning_rate': 1.9948635634028894e-05, 'train_Sequence2Sequence_loss': 0.98110511302948, 'train_Sequence2Sequence_num_batches': 20, 'epoch': 0.12}\n"
          ]
        },
        {
          "name": "stderr",
          "output_type": "stream",
          "text": [
            "Sequence2Sequence: 100%|██████████| 2500/2500 [11:35<00:00,  3.60batches/s, epoch=3, loss=0.859, split=eval]\n",
            "Sequence2Sequence: 100%|██████████| 2500/2500 [01:00<00:00, 41.94batches/s, epoch=3, loss=0.625, split=eval]]Converged objectives: []\n"
          ]
        },
        {
          "name": "stdout",
          "output_type": "stream",
          "text": [
            "{'eval_loss': 0.7786861062049866, 'eval_runtime': 60.4968, 'eval_samples_per_second': 41.325, 'eval_steps_per_second': 41.325, 'eval_Sequence2Sequence_loss': 0.747508175522089, 'eval_Sequence2Sequence_num_batches': 100, 'epoch': 0.12}\n"
          ]
        },
        {
          "name": "stderr",
          "output_type": "stream",
          "text": [
            "Sequence2Sequence:  43%|████▎     | 10800/25000 [20:13<22:13, 10.65batches/s, epoch=3, loss=0.48, split=train]   Converged objectives: []\n",
            "Sequence2Sequence:  43%|████▎     | 10802/25000 [20:13<25:38,  9.23batches/s, epoch=3, loss=1.13, split=train]"
          ]
        },
        {
          "name": "stdout",
          "output_type": "stream",
          "text": [
            "{'loss': 0.8176, 'learning_rate': 1.9942215088282505e-05, 'train_Sequence2Sequence_loss': 0.856459392607212, 'train_Sequence2Sequence_num_batches': 20, 'epoch': 0.12}\n"
          ]
        },
        {
          "name": "stderr",
          "output_type": "stream",
          "text": [
            "Sequence2Sequence:  56%|█████▌    | 13999/25000 [25:21<17:50, 10.28batches/s, epoch=3, loss=0.751, split=train] Converged objectives: []\n",
            "Evaluating...\n"
          ]
        },
        {
          "name": "stdout",
          "output_type": "stream",
          "text": [
            "{'loss': 0.801, 'learning_rate': 1.993579454253612e-05, 'train_Sequence2Sequence_loss': 0.738645076006651, 'train_Sequence2Sequence_num_batches': 20, 'epoch': 0.13}\n"
          ]
        },
        {
          "name": "stderr",
          "output_type": "stream",
          "text": [
            "Sequence2Sequence: 100%|██████████| 2500/2500 [11:50<00:00,  3.52batches/s, epoch=3, loss=0.61, split=eval]\n",
            "Sequence2Sequence: 100%|█████████▉| 2498/2500 [01:00<00:00, 41.97batches/s, epoch=3, loss=0.66, split=eval]  ] Converged objectives: []\n"
          ]
        },
        {
          "name": "stdout",
          "output_type": "stream",
          "text": [
            "{'eval_loss': 0.6833826899528503, 'eval_runtime': 60.4829, 'eval_samples_per_second': 41.334, 'eval_steps_per_second': 41.334, 'eval_Sequence2Sequence_loss': 0.6239492813497782, 'eval_Sequence2Sequence_num_batches': 100, 'epoch': 0.13}\n"
          ]
        },
        {
          "name": "stderr",
          "output_type": "stream",
          "text": [
            "Sequence2Sequence:  69%|██████▉   | 17199/25000 [31:43<13:49,  9.41batches/s, epoch=3, loss=0.475, split=train]   Converged objectives: []\n",
            "Sequence2Sequence:  69%|██████▉   | 17203/25000 [31:44<13:49,  9.40batches/s, epoch=3, loss=0.784, split=train]"
          ]
        },
        {
          "name": "stdout",
          "output_type": "stream",
          "text": [
            "{'loss': 0.7796, 'learning_rate': 1.992937399678973e-05, 'train_Sequence2Sequence_loss': 0.6439758151769638, 'train_Sequence2Sequence_num_batches': 20, 'epoch': 0.13}\n"
          ]
        },
        {
          "name": "stderr",
          "output_type": "stream",
          "text": [
            "Sequence2Sequence:  82%|████████▏ | 20399/25000 [36:53<08:32,  8.98batches/s, epoch=3, loss=0.658, split=train] Converged objectives: []\n",
            "Evaluating...\n"
          ]
        },
        {
          "name": "stdout",
          "output_type": "stream",
          "text": [
            "{'loss': 0.7586, 'learning_rate': 1.992295345104334e-05, 'train_Sequence2Sequence_loss': 0.7579818919301033, 'train_Sequence2Sequence_num_batches': 20, 'epoch': 0.14}\n"
          ]
        },
        {
          "name": "stderr",
          "output_type": "stream",
          "text": [
            "Sequence2Sequence: 100%|██████████| 2500/2500 [11:31<00:00,  3.61batches/s, epoch=3, loss=0.701, split=eval]\n",
            "Sequence2Sequence: 100%|██████████| 2500/2500 [01:00<00:00, 41.53batches/s, epoch=3, loss=0.522, split=eval] Converged objectives: []\n"
          ]
        },
        {
          "name": "stdout",
          "output_type": "stream",
          "text": [
            "{'eval_loss': 0.6365209221839905, 'eval_runtime': 60.4646, 'eval_samples_per_second': 41.347, 'eval_steps_per_second': 41.347, 'eval_Sequence2Sequence_loss': 0.5349153718724847, 'eval_Sequence2Sequence_num_batches': 100, 'epoch': 0.14}\n"
          ]
        },
        {
          "name": "stderr",
          "output_type": "stream",
          "text": [
            "Sequence2Sequence:  94%|█████████▍| 23599/25000 [43:22<02:14, 10.40batches/s, epoch=3, loss=0.433, split=train]   Converged objectives: []\n",
            "Sequence2Sequence:  94%|█████████▍| 23603/25000 [43:22<02:29,  9.35batches/s, epoch=3, loss=1.02, split=train] "
          ]
        },
        {
          "name": "stdout",
          "output_type": "stream",
          "text": [
            "{'loss': 0.7269, 'learning_rate': 1.991653290529695e-05, 'train_Sequence2Sequence_loss': 0.6378240719437599, 'train_Sequence2Sequence_num_batches': 20, 'epoch': 0.15}\n"
          ]
        },
        {
          "name": "stderr",
          "output_type": "stream",
          "text": [
            "Sequence2Sequence: 100%|█████████▉| 24999/25000 [45:37<00:00, 12.76batches/s, epoch=3, loss=0.403, split=train]  Converged objectives: []\n",
            "Sequence2Sequence: 100%|██████████| 25000/25000 [45:37<00:00,  9.13batches/s, epoch=3, loss=0.662, split=train]\n",
            "Sequence2Sequence:   7%|▋         | 1799/25000 [02:52<36:38, 10.55batches/s, epoch=4, loss=1.28, split=train]  Converged objectives: []\n",
            "Evaluating...\n"
          ]
        },
        {
          "name": "stdout",
          "output_type": "stream",
          "text": [
            "{'loss': 0.7174, 'learning_rate': 1.9910112359550565e-05, 'train_Sequence2Sequence_loss': 0.8308555901050567, 'train_Sequence2Sequence_num_batches': 20, 'epoch': 0.15}\n"
          ]
        },
        {
          "name": "stderr",
          "output_type": "stream",
          "text": [
            "Sequence2Sequence: 100%|██████████| 2500/2500 [11:36<00:00,  3.59batches/s, epoch=3, loss=0.624, split=eval]\n",
            "Sequence2Sequence: 100%|█████████▉| 2496/2500 [01:00<00:00, 42.83batches/s, epoch=4, loss=1.12, split=eval]  ]Converged objectives: []\n"
          ]
        },
        {
          "name": "stdout",
          "output_type": "stream",
          "text": [
            "{'eval_loss': 0.6226826906204224, 'eval_runtime': 60.3031, 'eval_samples_per_second': 41.457, 'eval_steps_per_second': 41.457, 'eval_Sequence2Sequence_loss': 0.5227230403013527, 'eval_Sequence2Sequence_num_batches': 100, 'epoch': 0.15}\n"
          ]
        },
        {
          "name": "stderr",
          "output_type": "stream",
          "text": [
            "Sequence2Sequence:  20%|█▉        | 4999/25000 [09:37<28:54, 11.53batches/s, epoch=4, loss=0.279, split=train]   Converged objectives: []\n",
            "Sequence2Sequence:  20%|██        | 5003/25000 [09:37<33:51,  9.84batches/s, epoch=4, loss=0.557, split=train]"
          ]
        },
        {
          "name": "stdout",
          "output_type": "stream",
          "text": [
            "{'loss': 0.6995, 'learning_rate': 1.9903691813804176e-05, 'train_Sequence2Sequence_loss': 0.7266338691115379, 'train_Sequence2Sequence_num_batches': 20, 'epoch': 0.16}\n"
          ]
        },
        {
          "name": "stderr",
          "output_type": "stream",
          "text": [
            "Sequence2Sequence:  33%|███▎      | 8199/25000 [15:16<23:13, 12.05batches/s, epoch=4, loss=0.401, split=train] Converged objectives: []\n",
            "Evaluating...\n"
          ]
        },
        {
          "name": "stdout",
          "output_type": "stream",
          "text": [
            "{'loss': 0.6957, 'learning_rate': 1.9897271268057787e-05, 'train_Sequence2Sequence_loss': 0.6796964161098004, 'train_Sequence2Sequence_num_batches': 20, 'epoch': 0.17}\n"
          ]
        },
        {
          "name": "stderr",
          "output_type": "stream",
          "text": [
            "Sequence2Sequence: 100%|██████████| 2500/2500 [12:24<00:00,  3.36batches/s, epoch=4, loss=0.699, split=eval]\n",
            "Sequence2Sequence: 100%|█████████▉| 2497/2500 [01:00<00:00, 41.53batches/s, epoch=4, loss=1.04, split=eval]  ]Converged objectives: []\n"
          ]
        },
        {
          "name": "stdout",
          "output_type": "stream",
          "text": [
            "{'eval_loss': 0.5963655114173889, 'eval_runtime': 60.7486, 'eval_samples_per_second': 41.153, 'eval_steps_per_second': 41.153, 'eval_Sequence2Sequence_loss': 0.48524558486416935, 'eval_Sequence2Sequence_num_batches': 100, 'epoch': 0.17}\n"
          ]
        },
        {
          "name": "stderr",
          "output_type": "stream",
          "text": [
            "Sequence2Sequence:  46%|████▌     | 11400/25000 [21:56<21:09, 10.71batches/s, epoch=4, loss=0.217, split=train]  Converged objectives: []\n",
            "Sequence2Sequence:  46%|████▌     | 11402/25000 [21:56<24:30,  9.25batches/s, epoch=4, loss=4.58, split=train] "
          ]
        },
        {
          "name": "stdout",
          "output_type": "stream",
          "text": [
            "{'loss': 0.6896, 'learning_rate': 1.9890850722311397e-05, 'train_Sequence2Sequence_loss': 0.6386201687157154, 'train_Sequence2Sequence_num_batches': 20, 'epoch': 0.17}\n"
          ]
        },
        {
          "name": "stderr",
          "output_type": "stream",
          "text": [
            "Sequence2Sequence:  58%|█████▊    | 14600/25000 [27:10<18:46,  9.23batches/s, epoch=4, loss=1.62, split=train]   Converged objectives: []\n",
            "Evaluating...\n"
          ]
        },
        {
          "name": "stdout",
          "output_type": "stream",
          "text": [
            "{'loss': 0.6769, 'learning_rate': 1.988443017656501e-05, 'train_Sequence2Sequence_loss': 0.8141349509358407, 'train_Sequence2Sequence_num_batches': 20, 'epoch': 0.18}\n"
          ]
        },
        {
          "name": "stderr",
          "output_type": "stream",
          "text": [
            "Sequence2Sequence: 100%|██████████| 2500/2500 [11:54<00:00,  3.50batches/s, epoch=4, loss=0.598, split=eval]\n",
            "Sequence2Sequence: 100%|█████████▉| 2497/2500 [01:00<00:00, 42.10batches/s, epoch=4, loss=1.07, split=eval]   Converged objectives: []\n"
          ]
        },
        {
          "name": "stdout",
          "output_type": "stream",
          "text": [
            "{'eval_loss': 0.6001282930374146, 'eval_runtime': 60.5808, 'eval_samples_per_second': 41.267, 'eval_steps_per_second': 41.267, 'eval_Sequence2Sequence_loss': 0.487833188418299, 'eval_Sequence2Sequence_num_batches': 100, 'epoch': 0.18}\n"
          ]
        },
        {
          "name": "stderr",
          "output_type": "stream",
          "text": [
            "Sequence2Sequence:  71%|███████   | 17800/25000 [33:39<10:43, 11.18batches/s, epoch=4, loss=1.54, split=train]    Converged objectives: []\n",
            "Sequence2Sequence:  71%|███████   | 17802/25000 [33:40<12:09,  9.87batches/s, epoch=4, loss=0.58, split=train]"
          ]
        },
        {
          "name": "stdout",
          "output_type": "stream",
          "text": [
            "{'loss': 0.6756, 'learning_rate': 1.9878009630818622e-05, 'train_Sequence2Sequence_loss': 0.6737121604382992, 'train_Sequence2Sequence_num_batches': 20, 'epoch': 0.19}\n"
          ]
        },
        {
          "name": "stderr",
          "output_type": "stream",
          "text": [
            "Sequence2Sequence:  84%|████████▍ | 21000/25000 [38:53<06:16, 10.62batches/s, epoch=4, loss=0.306, split=train]  Converged objectives: []\n",
            "Evaluating...\n"
          ]
        },
        {
          "name": "stdout",
          "output_type": "stream",
          "text": [
            "{'loss': 0.6585, 'learning_rate': 1.9871589085072233e-05, 'train_Sequence2Sequence_loss': 0.6223988311365247, 'train_Sequence2Sequence_num_batches': 20, 'epoch': 0.19}\n"
          ]
        },
        {
          "name": "stderr",
          "output_type": "stream",
          "text": [
            "Sequence2Sequence: 100%|██████████| 2500/2500 [11:42<00:00,  3.56batches/s, epoch=4, loss=0.594, split=eval]\n",
            "Sequence2Sequence: 100%|█████████▉| 2496/2500 [01:00<00:00, 42.18batches/s, epoch=4, loss=0.967, split=eval]  ]Converged objectives: []\n"
          ]
        },
        {
          "name": "stdout",
          "output_type": "stream",
          "text": [
            "{'eval_loss': 0.5861856937408447, 'eval_runtime': 60.5055, 'eval_samples_per_second': 41.319, 'eval_steps_per_second': 41.319, 'eval_Sequence2Sequence_loss': 0.4468530134856701, 'eval_Sequence2Sequence_num_batches': 100, 'epoch': 0.19}\n"
          ]
        },
        {
          "name": "stderr",
          "output_type": "stream",
          "text": [
            "Sequence2Sequence:  97%|█████████▋| 24199/25000 [45:36<01:10, 11.31batches/s, epoch=4, loss=0.618, split=train]   Converged objectives: []\n",
            "Sequence2Sequence:  97%|█████████▋| 24201/25000 [45:36<01:21,  9.79batches/s, epoch=4, loss=0.277, split=train]"
          ]
        },
        {
          "name": "stdout",
          "output_type": "stream",
          "text": [
            "{'loss': 0.6455, 'learning_rate': 1.9865168539325844e-05, 'train_Sequence2Sequence_loss': 0.5100643190555274, 'train_Sequence2Sequence_num_batches': 20, 'epoch': 0.2}\n"
          ]
        },
        {
          "name": "stderr",
          "output_type": "stream",
          "text": [
            "Sequence2Sequence: 100%|██████████| 25000/25000 [46:54<00:00,  9.71batches/s, epoch=4, loss=0.0989, split=train] Converged objectives: []\n",
            "Sequence2Sequence: 100%|██████████| 25000/25000 [46:54<00:00,  8.88batches/s, epoch=4, loss=0.622, split=train] \n",
            "Sequence2Sequence:  10%|▉         | 2399/25000 [03:54<33:43, 11.17batches/s, epoch=5, loss=0.79, split=train]   Converged objectives: []\n",
            "Evaluating...\n"
          ]
        },
        {
          "name": "stdout",
          "output_type": "stream",
          "text": [
            "{'loss': 0.6468, 'learning_rate': 1.9858747993579458e-05, 'train_Sequence2Sequence_loss': 0.5149811970070004, 'train_Sequence2Sequence_num_batches': 20, 'epoch': 0.2}\n"
          ]
        },
        {
          "name": "stderr",
          "output_type": "stream",
          "text": [
            "Sequence2Sequence: 100%|██████████| 2500/2500 [11:55<00:00,  3.49batches/s, epoch=4, loss=0.8, split=eval]\n",
            "Sequence2Sequence: 100%|█████████▉| 2498/2500 [00:59<00:00, 41.41batches/s, epoch=5, loss=0.378, split=eval]  Converged objectives: []\n"
          ]
        },
        {
          "name": "stdout",
          "output_type": "stream",
          "text": [
            "{'eval_loss': 0.5601460933685303, 'eval_runtime': 59.788, 'eval_samples_per_second': 41.814, 'eval_steps_per_second': 41.814, 'eval_Sequence2Sequence_loss': 0.4408376425690949, 'eval_Sequence2Sequence_num_batches': 100, 'epoch': 0.2}\n"
          ]
        },
        {
          "name": "stderr",
          "output_type": "stream",
          "text": [
            "Sequence2Sequence:  22%|██▏       | 5599/25000 [10:26<28:16, 11.44batches/s, epoch=5, loss=0.423, split=train]   Converged objectives: []\n",
            "Sequence2Sequence:  22%|██▏       | 5603/25000 [10:26<30:39, 10.54batches/s, epoch=5, loss=0.469, split=train]"
          ]
        },
        {
          "name": "stdout",
          "output_type": "stream",
          "text": [
            "{'loss': 0.6352, 'learning_rate': 1.985232744783307e-05, 'train_Sequence2Sequence_loss': 0.7465759068727493, 'train_Sequence2Sequence_num_batches': 20, 'epoch': 0.21}\n"
          ]
        },
        {
          "name": "stderr",
          "output_type": "stream",
          "text": [
            "Sequence2Sequence:  35%|███▌      | 8799/25000 [15:38<27:25,  9.84batches/s, epoch=5, loss=0.0388, split=train] Converged objectives: []\n",
            "Evaluating...\n"
          ]
        },
        {
          "name": "stdout",
          "output_type": "stream",
          "text": [
            "{'loss': 0.644, 'learning_rate': 1.984590690208668e-05, 'train_Sequence2Sequence_loss': 0.6023554718121886, 'train_Sequence2Sequence_num_batches': 20, 'epoch': 0.22}\n"
          ]
        },
        {
          "name": "stderr",
          "output_type": "stream",
          "text": [
            "Sequence2Sequence: 100%|██████████| 2500/2500 [11:44<00:00,  3.55batches/s, epoch=5, loss=0.658, split=eval]\n",
            "Sequence2Sequence: 100%|█████████▉| 2499/2500 [01:01<00:00, 41.07batches/s, epoch=5, loss=0.714, split=eval]  Converged objectives: []\n"
          ]
        },
        {
          "name": "stdout",
          "output_type": "stream",
          "text": [
            "{'eval_loss': 0.5537274479866028, 'eval_runtime': 61.2439, 'eval_samples_per_second': 40.82, 'eval_steps_per_second': 40.82, 'eval_Sequence2Sequence_loss': 0.42096569160930813, 'eval_Sequence2Sequence_num_batches': 100, 'epoch': 0.22}\n"
          ]
        },
        {
          "name": "stderr",
          "output_type": "stream",
          "text": [
            "Sequence2Sequence:  48%|████▊     | 12000/25000 [22:05<20:19, 10.66batches/s, epoch=5, loss=0.952, split=train]   Converged objectives: []\n",
            "Sequence2Sequence:  48%|████▊     | 12002/25000 [22:05<22:23,  9.68batches/s, epoch=5, loss=0.121, split=train]"
          ]
        },
        {
          "name": "stdout",
          "output_type": "stream",
          "text": [
            "{'loss': 0.6388, 'learning_rate': 1.983948635634029e-05, 'train_Sequence2Sequence_loss': 0.5808817652985454, 'train_Sequence2Sequence_num_batches': 20, 'epoch': 0.22}\n"
          ]
        },
        {
          "name": "stderr",
          "output_type": "stream",
          "text": [
            "Sequence2Sequence:  61%|██████    | 15199/25000 [27:25<14:39, 11.14batches/s, epoch=5, loss=0.579, split=train]   Converged objectives: []\n",
            "Evaluating...\n"
          ]
        },
        {
          "name": "stdout",
          "output_type": "stream",
          "text": [
            "{'loss': 0.6176, 'learning_rate': 1.98330658105939e-05, 'train_Sequence2Sequence_loss': 0.5324886912247166, 'train_Sequence2Sequence_num_batches': 20, 'epoch': 0.23}\n"
          ]
        },
        {
          "name": "stderr",
          "output_type": "stream",
          "text": [
            "Sequence2Sequence: 100%|██████████| 2500/2500 [11:46<00:00,  3.54batches/s, epoch=5, loss=0.583, split=eval]\n",
            "Sequence2Sequence: 100%|█████████▉| 2499/2500 [00:59<00:00, 42.27batches/s, epoch=5, loss=0.723, split=eval]  ]Converged objectives: []\n"
          ]
        },
        {
          "name": "stdout",
          "output_type": "stream",
          "text": [
            "{'eval_loss': 0.5530375838279724, 'eval_runtime': 59.3352, 'eval_samples_per_second': 42.134, 'eval_steps_per_second': 42.134, 'eval_Sequence2Sequence_loss': 0.41948916090419514, 'eval_Sequence2Sequence_num_batches': 100, 'epoch': 0.23}\n"
          ]
        },
        {
          "name": "stderr",
          "output_type": "stream",
          "text": [
            "Sequence2Sequence:  74%|███████▎  | 18400/25000 [33:57<11:28,  9.58batches/s, epoch=5, loss=0.694, split=train]   Converged objectives: []\n",
            "Sequence2Sequence:  74%|███████▎  | 18402/25000 [33:57<13:39,  8.05batches/s, epoch=5, loss=0.125, split=train]"
          ]
        },
        {
          "name": "stdout",
          "output_type": "stream",
          "text": [
            "{'loss': 0.6197, 'learning_rate': 1.982664526484751e-05, 'train_Sequence2Sequence_loss': 0.5873832687211689, 'train_Sequence2Sequence_num_batches': 20, 'epoch': 0.24}\n"
          ]
        },
        {
          "name": "stderr",
          "output_type": "stream",
          "text": [
            "Sequence2Sequence:  86%|████████▋ | 21600/25000 [39:28<05:25, 10.44batches/s, epoch=5, loss=0.351, split=train]   Converged objectives: []\n",
            "Evaluating...\n"
          ]
        },
        {
          "name": "stdout",
          "output_type": "stream",
          "text": [
            "{'loss': 0.6004, 'learning_rate': 1.9820224719101126e-05, 'train_Sequence2Sequence_loss': 0.5783053252846002, 'train_Sequence2Sequence_num_batches': 20, 'epoch': 0.24}\n"
          ]
        },
        {
          "name": "stderr",
          "output_type": "stream",
          "text": [
            "Sequence2Sequence: 100%|██████████| 2500/2500 [12:03<00:00,  3.46batches/s, epoch=5, loss=0.566, split=eval]\n",
            "Sequence2Sequence: 100%|██████████| 2500/2500 [00:59<00:00, 42.52batches/s, epoch=5, loss=0.22, split=eval]    Converged objectives: []\n"
          ]
        },
        {
          "name": "stdout",
          "output_type": "stream",
          "text": [
            "{'eval_loss': 0.5415412783622742, 'eval_runtime': 59.261, 'eval_samples_per_second': 42.186, 'eval_steps_per_second': 42.186, 'eval_Sequence2Sequence_loss': 0.3954517652653158, 'eval_Sequence2Sequence_num_batches': 100, 'epoch': 0.24}\n"
          ]
        },
        {
          "name": "stderr",
          "output_type": "stream",
          "text": [
            "Sequence2Sequence:  99%|█████████▉| 24799/25000 [46:14<00:16, 12.25batches/s, epoch=5, loss=0.327, split=train]   Converged objectives: []\n",
            "Sequence2Sequence:  99%|█████████▉| 24803/25000 [46:15<00:17, 11.22batches/s, epoch=5, loss=0.258, split=train]"
          ]
        },
        {
          "name": "stdout",
          "output_type": "stream",
          "text": [
            "{'loss': 0.6034, 'learning_rate': 1.9813804173354736e-05, 'train_Sequence2Sequence_loss': 0.5259017555043102, 'train_Sequence2Sequence_num_batches': 20, 'epoch': 0.25}\n"
          ]
        },
        {
          "name": "stderr",
          "output_type": "stream",
          "text": [
            "Sequence2Sequence: 100%|█████████▉| 24999/25000 [46:31<00:00, 11.07batches/s, epoch=5, loss=0.0068, split=train]Converged objectives: []\n",
            "Sequence2Sequence: 100%|██████████| 25000/25000 [46:31<00:00,  8.96batches/s, epoch=5, loss=0.952, split=train] \n",
            "Sequence2Sequence:  12%|█▏        | 2999/25000 [05:04<41:45,  8.78batches/s, epoch=6, loss=0.46, split=train]    Converged objectives: []\n",
            "Evaluating...\n"
          ]
        },
        {
          "name": "stdout",
          "output_type": "stream",
          "text": [
            "{'loss': 0.6117, 'learning_rate': 1.9807383627608347e-05, 'train_Sequence2Sequence_loss': 0.7263975866138935, 'train_Sequence2Sequence_num_batches': 20, 'epoch': 0.26}\n"
          ]
        },
        {
          "name": "stderr",
          "output_type": "stream",
          "text": [
            "Sequence2Sequence: 100%|██████████| 2500/2500 [12:07<00:00,  3.44batches/s, epoch=5, loss=0.65, split=eval]\n",
            "Sequence2Sequence: 100%|██████████| 2500/2500 [00:59<00:00, 42.34batches/s, epoch=6, loss=0.104, split=eval]  Converged objectives: []\n"
          ]
        },
        {
          "name": "stdout",
          "output_type": "stream",
          "text": [
            "{'eval_loss': 0.5392204523086548, 'eval_runtime': 59.1984, 'eval_samples_per_second': 42.231, 'eval_steps_per_second': 42.231, 'eval_Sequence2Sequence_loss': 0.40796574177918954, 'eval_Sequence2Sequence_num_batches': 100, 'epoch': 0.26}\n"
          ]
        },
        {
          "name": "stderr",
          "output_type": "stream",
          "text": [
            "Sequence2Sequence:  25%|██▍       | 6200/25000 [12:01<26:33, 11.80batches/s, epoch=6, loss=0.0174, split=train]  Converged objectives: []\n",
            "Sequence2Sequence:  25%|██▍       | 6202/25000 [12:02<29:22, 10.66batches/s, epoch=6, loss=0.315, split=train] "
          ]
        },
        {
          "name": "stdout",
          "output_type": "stream",
          "text": [
            "{'loss': 0.5915, 'learning_rate': 1.9800963081861958e-05, 'train_Sequence2Sequence_loss': 0.5904795465990901, 'train_Sequence2Sequence_num_batches': 20, 'epoch': 0.26}\n"
          ]
        },
        {
          "name": "stderr",
          "output_type": "stream",
          "text": [
            "Sequence2Sequence:  38%|███▊      | 9400/25000 [17:34<26:13,  9.92batches/s, epoch=6, loss=1.09, split=train]    Converged objectives: []\n",
            "Evaluating...\n"
          ]
        },
        {
          "name": "stdout",
          "output_type": "stream",
          "text": [
            "{'loss': 0.602, 'learning_rate': 1.9794542536115572e-05, 'train_Sequence2Sequence_loss': 0.5218310073018074, 'train_Sequence2Sequence_num_batches': 20, 'epoch': 0.27}\n"
          ]
        },
        {
          "name": "stderr",
          "output_type": "stream",
          "text": [
            "Sequence2Sequence: 100%|██████████| 2500/2500 [12:29<00:00,  3.33batches/s, epoch=6, loss=0.64, split=eval]\n",
            "Sequence2Sequence: 100%|██████████| 2500/2500 [00:59<00:00, 41.92batches/s, epoch=6, loss=0.0644, split=eval]  Converged objectives: []\n"
          ]
        },
        {
          "name": "stdout",
          "output_type": "stream",
          "text": [
            "{'eval_loss': 0.5270799994468689, 'eval_runtime': 59.729, 'eval_samples_per_second': 41.856, 'eval_steps_per_second': 41.856, 'eval_Sequence2Sequence_loss': 0.3850528732431121, 'eval_Sequence2Sequence_num_batches': 100, 'epoch': 0.27}\n"
          ]
        },
        {
          "name": "stderr",
          "output_type": "stream",
          "text": [
            "Sequence2Sequence:  50%|█████     | 12600/25000 [24:30<20:50,  9.92batches/s, epoch=6, loss=0.522, split=train]  Converged objectives: []\n",
            "Sequence2Sequence:  50%|█████     | 12603/25000 [24:31<20:55,  9.87batches/s, epoch=6, loss=0.919, split=train]"
          ]
        },
        {
          "name": "stdout",
          "output_type": "stream",
          "text": [
            "{'loss': 0.6061, 'learning_rate': 1.9788121990369183e-05, 'train_Sequence2Sequence_loss': 0.45653727781027553, 'train_Sequence2Sequence_num_batches': 20, 'epoch': 0.28}\n"
          ]
        },
        {
          "name": "stderr",
          "output_type": "stream",
          "text": [
            "Sequence2Sequence:  63%|██████▎   | 15800/25000 [30:04<15:23,  9.96batches/s, epoch=6, loss=0.989, split=train]   Converged objectives: []\n",
            "Evaluating...\n"
          ]
        },
        {
          "name": "stdout",
          "output_type": "stream",
          "text": [
            "{'loss': 0.5984, 'learning_rate': 1.9781701444622793e-05, 'train_Sequence2Sequence_loss': 0.6076782478019596, 'train_Sequence2Sequence_num_batches': 20, 'epoch': 0.28}\n"
          ]
        },
        {
          "name": "stderr",
          "output_type": "stream",
          "text": [
            "Sequence2Sequence: 100%|██████████| 2500/2500 [12:29<00:00,  3.33batches/s, epoch=6, loss=0.536, split=eval]\n",
            "Sequence2Sequence: 100%|█████████▉| 2497/2500 [01:00<00:00, 41.70batches/s, epoch=6, loss=0.976, split=eval]   Converged objectives: []\n"
          ]
        },
        {
          "name": "stdout",
          "output_type": "stream",
          "text": [
            "{'eval_loss': 0.5285273194313049, 'eval_runtime': 60.1461, 'eval_samples_per_second': 41.565, 'eval_steps_per_second': 41.565, 'eval_Sequence2Sequence_loss': 0.3991472888714634, 'eval_Sequence2Sequence_num_batches': 100, 'epoch': 0.28}\n"
          ]
        },
        {
          "name": "stderr",
          "output_type": "stream",
          "text": [
            "Sequence2Sequence:  76%|███████▌  | 19000/25000 [36:59<11:01,  9.07batches/s, epoch=6, loss=0.968, split=train]   Converged objectives: []\n",
            "Sequence2Sequence:  76%|███████▌  | 19003/25000 [36:59<11:25,  8.74batches/s, epoch=6, loss=0.615, split=train]"
          ]
        },
        {
          "name": "stdout",
          "output_type": "stream",
          "text": [
            "{'loss': 0.5773, 'learning_rate': 1.9775280898876404e-05, 'train_Sequence2Sequence_loss': 0.41512585487216713, 'train_Sequence2Sequence_num_batches': 20, 'epoch': 0.29}\n"
          ]
        },
        {
          "name": "stderr",
          "output_type": "stream",
          "text": [
            "Sequence2Sequence:  89%|████████▉ | 22200/25000 [42:32<04:42,  9.93batches/s, epoch=6, loss=0.782, split=train]   Converged objectives: []\n",
            "Evaluating...\n"
          ]
        },
        {
          "name": "stdout",
          "output_type": "stream",
          "text": [
            "{'loss': 0.5764, 'learning_rate': 1.9768860353130018e-05, 'train_Sequence2Sequence_loss': 0.4847982835024595, 'train_Sequence2Sequence_num_batches': 20, 'epoch': 0.29}\n"
          ]
        },
        {
          "name": "stderr",
          "output_type": "stream",
          "text": [
            "Sequence2Sequence: 100%|██████████| 2500/2500 [12:27<00:00,  3.34batches/s, epoch=6, loss=0.591, split=eval]\n",
            "Sequence2Sequence: 100%|██████████| 2500/2500 [00:59<00:00, 42.06batches/s, epoch=6, loss=0.0612, split=eval]  Converged objectives: []\n"
          ]
        },
        {
          "name": "stdout",
          "output_type": "stream",
          "text": [
            "{'eval_loss': 0.5239563584327698, 'eval_runtime': 59.3078, 'eval_samples_per_second': 42.153, 'eval_steps_per_second': 42.153, 'eval_Sequence2Sequence_loss': 0.37656585180317054, 'eval_Sequence2Sequence_num_batches': 100, 'epoch': 0.29}\n"
          ]
        },
        {
          "name": "stderr",
          "output_type": "stream",
          "text": [
            "Sequence2Sequence: 100%|█████████▉| 24999/25000 [48:35<00:00, 10.35batches/s, epoch=6, loss=0.0808, split=train]   Converged objectives: []\n",
            "Sequence2Sequence: 100%|██████████| 25000/25000 [48:35<00:00,  8.58batches/s, epoch=6, loss=0.0695, split=train]\n",
            "Sequence2Sequence:   2%|▏         | 400/25000 [00:41<49:57,  8.21batches/s, epoch=7, loss=0.357, split=train]  Converged objectives: []\n",
            "Sequence2Sequence:   2%|▏         | 402/25000 [00:42<55:18,  7.41batches/s, epoch=7, loss=0.277, split=train] "
          ]
        },
        {
          "name": "stdout",
          "output_type": "stream",
          "text": [
            "{'loss': 0.5622, 'learning_rate': 1.976243980738363e-05, 'train_Sequence2Sequence_loss': 0.4356877865735441, 'train_Sequence2Sequence_num_batches': 20, 'epoch': 0.3}\n"
          ]
        },
        {
          "name": "stderr",
          "output_type": "stream",
          "text": [
            "Sequence2Sequence:  14%|█▍        | 3600/25000 [06:13<34:46, 10.26batches/s, epoch=7, loss=0.668, split=train]  Converged objectives: []\n",
            "Evaluating...\n"
          ]
        },
        {
          "name": "stdout",
          "output_type": "stream",
          "text": [
            "{'loss': 0.5741, 'learning_rate': 1.975601926163724e-05, 'train_Sequence2Sequence_loss': 0.5757703617215156, 'train_Sequence2Sequence_num_batches': 20, 'epoch': 0.31}\n"
          ]
        },
        {
          "name": "stderr",
          "output_type": "stream",
          "text": [
            "Sequence2Sequence: 100%|██████████| 2500/2500 [12:16<00:00,  3.40batches/s, epoch=6, loss=0.581, split=eval]\n",
            "Sequence2Sequence: 100%|██████████| 2500/2500 [00:59<00:00, 42.57batches/s, epoch=7, loss=0.136, split=eval]   Converged objectives: []\n"
          ]
        },
        {
          "name": "stdout",
          "output_type": "stream",
          "text": [
            "{'eval_loss': 0.5329573154449463, 'eval_runtime': 59.1827, 'eval_samples_per_second': 42.242, 'eval_steps_per_second': 42.242, 'eval_Sequence2Sequence_loss': 0.3857708898675628, 'eval_Sequence2Sequence_num_batches': 100, 'epoch': 0.31}\n"
          ]
        },
        {
          "name": "stderr",
          "output_type": "stream",
          "text": [
            "Sequence2Sequence:  27%|██▋       | 6800/25000 [13:05<33:47,  8.98batches/s, epoch=7, loss=0.832, split=train]     Converged objectives: []\n",
            "Sequence2Sequence:  27%|██▋       | 6803/25000 [13:06<35:08,  8.63batches/s, epoch=7, loss=0.269, split=train]"
          ]
        },
        {
          "name": "stdout",
          "output_type": "stream",
          "text": [
            "{'loss': 0.5604, 'learning_rate': 1.9749598715890854e-05, 'train_Sequence2Sequence_loss': 0.5301136564346962, 'train_Sequence2Sequence_num_batches': 20, 'epoch': 0.31}\n"
          ]
        },
        {
          "name": "stderr",
          "output_type": "stream",
          "text": [
            "Sequence2Sequence:  40%|███▉      | 9999/25000 [18:37<23:11, 10.78batches/s, epoch=7, loss=0.533, split=train]  Converged objectives: []\n",
            "Evaluating...\n"
          ]
        },
        {
          "name": "stdout",
          "output_type": "stream",
          "text": [
            "{'loss': 0.5775, 'learning_rate': 1.9743178170144464e-05, 'train_Sequence2Sequence_loss': 0.7959721550461836, 'train_Sequence2Sequence_num_batches': 20, 'epoch': 0.32}\n"
          ]
        },
        {
          "name": "stderr",
          "output_type": "stream",
          "text": [
            "Sequence2Sequence: 100%|██████████| 2500/2500 [12:24<00:00,  3.36batches/s, epoch=7, loss=0.582, split=eval]\n",
            "Sequence2Sequence: 100%|█████████▉| 2498/2500 [00:59<00:00, 40.64batches/s, epoch=7, loss=0.149, split=eval]   Converged objectives: []\n"
          ]
        },
        {
          "name": "stdout",
          "output_type": "stream",
          "text": [
            "{'eval_loss': 0.5236142873764038, 'eval_runtime': 59.7858, 'eval_samples_per_second': 41.816, 'eval_steps_per_second': 41.816, 'eval_Sequence2Sequence_loss': 0.3973331648739986, 'eval_Sequence2Sequence_num_batches': 100, 'epoch': 0.32}\n"
          ]
        },
        {
          "name": "stderr",
          "output_type": "stream",
          "text": [
            "Sequence2Sequence:  53%|█████▎    | 13199/25000 [25:26<25:02,  7.86batches/s, epoch=7, loss=0.0325, split=train]  Converged objectives: []\n",
            "Sequence2Sequence:  53%|█████▎    | 13202/25000 [25:26<23:50,  8.25batches/s, epoch=7, loss=1.72, split=train]  "
          ]
        },
        {
          "name": "stdout",
          "output_type": "stream",
          "text": [
            "{'loss': 0.5611, 'learning_rate': 1.9736757624398075e-05, 'train_Sequence2Sequence_loss': 0.7791984749026597, 'train_Sequence2Sequence_num_batches': 20, 'epoch': 0.33}\n"
          ]
        },
        {
          "name": "stderr",
          "output_type": "stream",
          "text": [
            "Sequence2Sequence:  66%|██████▌   | 16399/25000 [30:57<13:01, 11.01batches/s, epoch=7, loss=0.605, split=train]   Converged objectives: []\n",
            "Evaluating...\n"
          ]
        },
        {
          "name": "stdout",
          "output_type": "stream",
          "text": [
            "{'loss': 0.5711, 'learning_rate': 1.9730337078651686e-05, 'train_Sequence2Sequence_loss': 0.6143085643649101, 'train_Sequence2Sequence_num_batches': 20, 'epoch': 0.33}\n"
          ]
        },
        {
          "name": "stderr",
          "output_type": "stream",
          "text": [
            "Sequence2Sequence: 100%|██████████| 2500/2500 [12:19<00:00,  3.38batches/s, epoch=7, loss=0.645, split=eval]\n",
            "Sequence2Sequence: 100%|██████████| 2500/2500 [00:59<00:00, 42.41batches/s, epoch=7, loss=0.0698, split=eval]  Converged objectives: []\n"
          ]
        },
        {
          "name": "stdout",
          "output_type": "stream",
          "text": [
            "{'eval_loss': 0.5071893334388733, 'eval_runtime': 59.3963, 'eval_samples_per_second': 42.09, 'eval_steps_per_second': 42.09, 'eval_Sequence2Sequence_loss': 0.3698523764451966, 'eval_Sequence2Sequence_num_batches': 100, 'epoch': 0.33}\n"
          ]
        },
        {
          "name": "stderr",
          "output_type": "stream",
          "text": [
            "Sequence2Sequence:  78%|███████▊  | 19600/25000 [37:50<08:53, 10.13batches/s, epoch=7, loss=0.573, split=train]   Converged objectives: []\n",
            "Sequence2Sequence:  78%|███████▊  | 19602/25000 [37:50<09:45,  9.22batches/s, epoch=7, loss=0.145, split=train]"
          ]
        },
        {
          "name": "stdout",
          "output_type": "stream",
          "text": [
            "{'loss': 0.5538, 'learning_rate': 1.97239165329053e-05, 'train_Sequence2Sequence_loss': 0.6059135699593753, 'train_Sequence2Sequence_num_batches': 20, 'epoch': 0.34}\n"
          ]
        },
        {
          "name": "stderr",
          "output_type": "stream",
          "text": [
            "Sequence2Sequence:  91%|█████████ | 22800/25000 [43:30<03:06, 11.80batches/s, epoch=7, loss=1.05, split=train]    Converged objectives: []\n",
            "Evaluating...\n"
          ]
        },
        {
          "name": "stdout",
          "output_type": "stream",
          "text": [
            "{'loss': 0.5512, 'learning_rate': 1.971749598715891e-05, 'train_Sequence2Sequence_loss': 0.5801600774750113, 'train_Sequence2Sequence_num_batches': 20, 'epoch': 0.35}\n"
          ]
        },
        {
          "name": "stderr",
          "output_type": "stream",
          "text": [
            "Sequence2Sequence: 100%|██████████| 2500/2500 [12:32<00:00,  3.32batches/s, epoch=7, loss=0.563, split=eval]\n",
            "Sequence2Sequence: 100%|█████████▉| 2499/2500 [00:58<00:00, 42.76batches/s, epoch=7, loss=0.732, split=eval]   Converged objectives: []\n"
          ]
        },
        {
          "name": "stdout",
          "output_type": "stream",
          "text": [
            "{'eval_loss': 0.5192049741744995, 'eval_runtime': 58.9591, 'eval_samples_per_second': 42.402, 'eval_steps_per_second': 42.402, 'eval_Sequence2Sequence_loss': 0.38003518845303913, 'eval_Sequence2Sequence_num_batches': 100, 'epoch': 0.35}\n"
          ]
        },
        {
          "name": "stderr",
          "output_type": "stream",
          "text": [
            "Sequence2Sequence: 100%|██████████| 25000/25000 [48:36<00:00,  9.04batches/s, epoch=7, loss=0.0131, split=train]  Converged objectives: []\n",
            "Sequence2Sequence: 100%|██████████| 25000/25000 [48:36<00:00,  8.57batches/s, epoch=7, loss=0.0995, split=train]\n",
            "Sequence2Sequence:   4%|▍         | 1000/25000 [01:38<42:37,  9.38batches/s, epoch=8, loss=0.083, split=train] Converged objectives: []\n",
            "Sequence2Sequence:   4%|▍         | 1003/25000 [01:38<41:52,  9.55batches/s, epoch=8, loss=0.878, split=train]"
          ]
        },
        {
          "name": "stdout",
          "output_type": "stream",
          "text": [
            "{'loss': 0.5457, 'learning_rate': 1.971107544141252e-05, 'train_Sequence2Sequence_loss': 0.4755964858457446, 'train_Sequence2Sequence_num_batches': 20, 'epoch': 0.35}\n"
          ]
        },
        {
          "name": "stderr",
          "output_type": "stream",
          "text": [
            "Sequence2Sequence:  17%|█▋        | 4200/25000 [07:08<35:11,  9.85batches/s, epoch=8, loss=1.73, split=train]    Converged objectives: []\n",
            "Evaluating...\n"
          ]
        },
        {
          "name": "stdout",
          "output_type": "stream",
          "text": [
            "{'loss': 0.5596, 'learning_rate': 1.9704654895666132e-05, 'train_Sequence2Sequence_loss': 0.5862939998507499, 'train_Sequence2Sequence_num_batches': 20, 'epoch': 0.36}\n"
          ]
        },
        {
          "name": "stderr",
          "output_type": "stream",
          "text": [
            "Sequence2Sequence: 100%|██████████| 2500/2500 [12:14<00:00,  3.40batches/s, epoch=7, loss=0.519, split=eval]\n",
            "Sequence2Sequence: 100%|██████████| 2500/2500 [00:59<00:00, 42.30batches/s, epoch=8, loss=0.148, split=eval]   Converged objectives: []\n"
          ]
        },
        {
          "name": "stdout",
          "output_type": "stream",
          "text": [
            "{'eval_loss': 0.5198851227760315, 'eval_runtime': 59.3985, 'eval_samples_per_second': 42.089, 'eval_steps_per_second': 42.089, 'eval_Sequence2Sequence_loss': 0.37279789358435667, 'eval_Sequence2Sequence_num_batches': 100, 'epoch': 0.36}\n"
          ]
        },
        {
          "name": "stderr",
          "output_type": "stream",
          "text": [
            "Sequence2Sequence:  30%|██▉       | 7400/25000 [13:48<29:30,  9.94batches/s, epoch=8, loss=0.334, split=train]   Converged objectives: []\n",
            "Sequence2Sequence:  30%|██▉       | 7403/25000 [13:49<30:49,  9.51batches/s, epoch=8, loss=1.71, split=train]  "
          ]
        },
        {
          "name": "stdout",
          "output_type": "stream",
          "text": [
            "{'loss': 0.5529, 'learning_rate': 1.9698234349919746e-05, 'train_Sequence2Sequence_loss': 0.33956901472993195, 'train_Sequence2Sequence_num_batches': 20, 'epoch': 0.36}\n"
          ]
        },
        {
          "name": "stderr",
          "output_type": "stream",
          "text": [
            "Sequence2Sequence:  42%|████▏     | 10600/25000 [19:20<26:04,  9.20batches/s, epoch=8, loss=0.259, split=train]  Converged objectives: []\n",
            "Evaluating...\n"
          ]
        },
        {
          "name": "stdout",
          "output_type": "stream",
          "text": [
            "{'loss': 0.5615, 'learning_rate': 1.9691813804173357e-05, 'train_Sequence2Sequence_loss': 0.4332905065268278, 'train_Sequence2Sequence_num_batches': 20, 'epoch': 0.37}\n"
          ]
        },
        {
          "name": "stderr",
          "output_type": "stream",
          "text": [
            "Sequence2Sequence: 100%|██████████| 2500/2500 [12:11<00:00,  3.42batches/s, epoch=8, loss=0.521, split=eval]\n",
            "Sequence2Sequence: 100%|█████████▉| 2499/2500 [00:59<00:00, 42.67batches/s, epoch=8, loss=0.715, split=eval]   Converged objectives: []\n"
          ]
        },
        {
          "name": "stdout",
          "output_type": "stream",
          "text": [
            "{'eval_loss': 0.5131158232688904, 'eval_runtime': 59.3613, 'eval_samples_per_second': 42.115, 'eval_steps_per_second': 42.115, 'eval_Sequence2Sequence_loss': 0.37863726761075667, 'eval_Sequence2Sequence_num_batches': 100, 'epoch': 0.37}\n"
          ]
        },
        {
          "name": "stderr",
          "output_type": "stream",
          "text": [
            "Sequence2Sequence:  55%|█████▌    | 13799/25000 [26:04<19:17,  9.68batches/s, epoch=8, loss=0.585, split=train]   Converged objectives: []\n",
            "Sequence2Sequence:  55%|█████▌    | 13803/25000 [26:04<18:51,  9.90batches/s, epoch=8, loss=1.02, split=train] "
          ]
        },
        {
          "name": "stdout",
          "output_type": "stream",
          "text": [
            "{'loss': 0.547, 'learning_rate': 1.9685393258426968e-05, 'train_Sequence2Sequence_loss': 0.5277315009385347, 'train_Sequence2Sequence_num_batches': 20, 'epoch': 0.38}\n"
          ]
        },
        {
          "name": "stderr",
          "output_type": "stream",
          "text": [
            "Sequence2Sequence:  68%|██████▊   | 17000/25000 [31:39<13:54,  9.59batches/s, epoch=8, loss=0.573, split=train]   Converged objectives: []\n",
            "Evaluating...\n"
          ]
        },
        {
          "name": "stdout",
          "output_type": "stream",
          "text": [
            "{'loss': 0.5503, 'learning_rate': 1.967897271268058e-05, 'train_Sequence2Sequence_loss': 0.49954956378787757, 'train_Sequence2Sequence_num_batches': 20, 'epoch': 0.38}\n"
          ]
        },
        {
          "name": "stderr",
          "output_type": "stream",
          "text": [
            "Sequence2Sequence: 100%|██████████| 2500/2500 [12:18<00:00,  3.38batches/s, epoch=8, loss=0.567, split=eval]\n",
            "Sequence2Sequence: 100%|█████████▉| 2499/2500 [00:59<00:00, 42.93batches/s, epoch=8, loss=0.654, split=eval]   Converged objectives: []\n"
          ]
        },
        {
          "name": "stdout",
          "output_type": "stream",
          "text": [
            "{'eval_loss': 0.5158900618553162, 'eval_runtime': 59.3458, 'eval_samples_per_second': 42.126, 'eval_steps_per_second': 42.126, 'eval_Sequence2Sequence_loss': 0.373412733253208, 'eval_Sequence2Sequence_num_batches': 100, 'epoch': 0.38}\n"
          ]
        },
        {
          "name": "stderr",
          "output_type": "stream",
          "text": [
            "Sequence2Sequence:  81%|████████  | 20200/25000 [38:29<07:29, 10.68batches/s, epoch=8, loss=1.39, split=train]    Converged objectives: []\n",
            "Sequence2Sequence:  81%|████████  | 20202/25000 [38:30<08:34,  9.32batches/s, epoch=8, loss=0.479, split=train]"
          ]
        },
        {
          "name": "stdout",
          "output_type": "stream",
          "text": [
            "{'loss': 0.5371, 'learning_rate': 1.9672552166934192e-05, 'train_Sequence2Sequence_loss': 0.7105328477453441, 'train_Sequence2Sequence_num_batches': 20, 'epoch': 0.39}\n"
          ]
        },
        {
          "name": "stderr",
          "output_type": "stream",
          "text": [
            "Sequence2Sequence:  94%|█████████▎| 23399/25000 [43:52<02:43,  9.81batches/s, epoch=8, loss=0.855, split=train]   Converged objectives: []\n",
            "Evaluating...\n"
          ]
        },
        {
          "name": "stdout",
          "output_type": "stream",
          "text": [
            "{'loss': 0.5349, 'learning_rate': 1.9666131621187803e-05, 'train_Sequence2Sequence_loss': 0.5205264747200999, 'train_Sequence2Sequence_num_batches': 20, 'epoch': 0.4}\n"
          ]
        },
        {
          "name": "stderr",
          "output_type": "stream",
          "text": [
            "Sequence2Sequence: 100%|██████████| 2500/2500 [12:13<00:00,  3.41batches/s, epoch=8, loss=0.504, split=eval]\n",
            "Sequence2Sequence: 100%|██████████| 2500/2500 [00:59<00:00, 43.00batches/s, epoch=8, loss=0.0224, split=eval]  Converged objectives: []\n"
          ]
        },
        {
          "name": "stdout",
          "output_type": "stream",
          "text": [
            "{'eval_loss': 0.5281214714050293, 'eval_runtime': 59.0845, 'eval_samples_per_second': 42.312, 'eval_steps_per_second': 42.312, 'eval_Sequence2Sequence_loss': 0.3893917181767756, 'eval_Sequence2Sequence_num_batches': 100, 'epoch': 0.4}\n"
          ]
        },
        {
          "name": "stderr",
          "output_type": "stream",
          "text": [
            "Sequence2Sequence: 100%|██████████| 25000/25000 [47:50<00:00,  8.84batches/s, epoch=8, loss=0.00228, split=train]  Converged objectives: []\n",
            "Sequence2Sequence: 100%|██████████| 25000/25000 [47:50<00:00,  8.71batches/s, epoch=8, loss=0.17, split=train]   \n",
            "Sequence2Sequence:   6%|▋         | 1599/25000 [02:43<38:14, 10.20batches/s, epoch=9, loss=1.52, split=train]    Converged objectives: []\n",
            "Sequence2Sequence:   6%|▋         | 1603/25000 [02:44<39:21,  9.91batches/s, epoch=9, loss=0.375, split=train]"
          ]
        },
        {
          "name": "stdout",
          "output_type": "stream",
          "text": [
            "{'loss': 0.5409, 'learning_rate': 1.9659711075441414e-05, 'train_Sequence2Sequence_loss': 0.3952503086067736, 'train_Sequence2Sequence_num_batches': 20, 'epoch': 0.4}\n"
          ]
        },
        {
          "name": "stderr",
          "output_type": "stream",
          "text": [
            "Sequence2Sequence:  19%|█▉        | 4799/25000 [08:11<31:23, 10.72batches/s, epoch=9, loss=0.373, split=train]   Converged objectives: []\n",
            "Evaluating...\n"
          ]
        },
        {
          "name": "stdout",
          "output_type": "stream",
          "text": [
            "{'loss': 0.5353, 'learning_rate': 1.9653290529695025e-05, 'train_Sequence2Sequence_loss': 0.5716028929455206, 'train_Sequence2Sequence_num_batches': 20, 'epoch': 0.41}\n"
          ]
        },
        {
          "name": "stderr",
          "output_type": "stream",
          "text": [
            "Sequence2Sequence: 100%|██████████| 2500/2500 [12:09<00:00,  3.43batches/s, epoch=8, loss=0.508, split=eval]\n",
            "Sequence2Sequence: 100%|█████████▉| 2498/2500 [00:59<00:00, 42.68batches/s, epoch=9, loss=0.0832, split=eval]  Converged objectives: []\n"
          ]
        },
        {
          "name": "stdout",
          "output_type": "stream",
          "text": [
            "{'eval_loss': 0.5132700204849243, 'eval_runtime': 59.4986, 'eval_samples_per_second': 42.018, 'eval_steps_per_second': 42.018, 'eval_Sequence2Sequence_loss': 0.37770710997865536, 'eval_Sequence2Sequence_num_batches': 100, 'epoch': 0.41}\n"
          ]
        },
        {
          "name": "stderr",
          "output_type": "stream",
          "text": [
            "Sequence2Sequence:  32%|███▏      | 8000/25000 [14:47<22:34, 12.55batches/s, epoch=9, loss=1.66, split=train]     Converged objectives: []\n",
            "Sequence2Sequence:  32%|███▏      | 8002/25000 [14:47<25:52, 10.95batches/s, epoch=9, loss=0.424, split=train]"
          ]
        },
        {
          "name": "stdout",
          "output_type": "stream",
          "text": [
            "{'loss': 0.533, 'learning_rate': 1.964686998394864e-05, 'train_Sequence2Sequence_loss': 0.6118331732344814, 'train_Sequence2Sequence_num_batches': 20, 'epoch': 0.42}\n"
          ]
        },
        {
          "name": "stderr",
          "output_type": "stream",
          "text": [
            "Sequence2Sequence:  45%|████▍     | 11199/25000 [20:20<22:54, 10.04batches/s, epoch=9, loss=0.921, split=train]   Converged objectives: []\n",
            "Evaluating...\n"
          ]
        },
        {
          "name": "stdout",
          "output_type": "stream",
          "text": [
            "{'loss': 0.5387, 'learning_rate': 1.964044943820225e-05, 'train_Sequence2Sequence_loss': 0.60723997905734, 'train_Sequence2Sequence_num_batches': 20, 'epoch': 0.42}\n"
          ]
        },
        {
          "name": "stderr",
          "output_type": "stream",
          "text": [
            "Sequence2Sequence: 100%|██████████| 2500/2500 [12:08<00:00,  3.43batches/s, epoch=9, loss=0.557, split=eval]\n",
            "Sequence2Sequence: 100%|█████████▉| 2499/2500 [00:59<00:00, 42.46batches/s, epoch=9, loss=0.669, split=eval]   ]Converged objectives: []\n"
          ]
        },
        {
          "name": "stdout",
          "output_type": "stream",
          "text": [
            "{'eval_loss': 0.5135796070098877, 'eval_runtime': 59.2113, 'eval_samples_per_second': 42.222, 'eval_steps_per_second': 42.222, 'eval_Sequence2Sequence_loss': 0.37837944358718234, 'eval_Sequence2Sequence_num_batches': 100, 'epoch': 0.42}\n"
          ]
        },
        {
          "name": "stderr",
          "output_type": "stream",
          "text": [
            "Sequence2Sequence:  58%|█████▊    | 14400/25000 [27:05<19:03,  9.27batches/s, epoch=9, loss=0.232, split=train]     Converged objectives: []\n",
            "Sequence2Sequence:  58%|█████▊    | 14403/25000 [27:06<18:22,  9.61batches/s, epoch=9, loss=1, split=train]    "
          ]
        },
        {
          "name": "stdout",
          "output_type": "stream",
          "text": [
            "{'loss': 0.5397, 'learning_rate': 1.963402889245586e-05, 'train_Sequence2Sequence_loss': 0.5801524210721254, 'train_Sequence2Sequence_num_batches': 20, 'epoch': 0.43}\n"
          ]
        },
        {
          "name": "stderr",
          "output_type": "stream",
          "text": [
            "Sequence2Sequence:  70%|███████   | 17600/25000 [32:35<13:08,  9.38batches/s, epoch=9, loss=1.37, split=train]    Converged objectives: []\n",
            "Evaluating...\n"
          ]
        },
        {
          "name": "stdout",
          "output_type": "stream",
          "text": [
            "{'loss': 0.5328, 'learning_rate': 1.962760834670947e-05, 'train_Sequence2Sequence_loss': 0.5299173167906701, 'train_Sequence2Sequence_num_batches': 20, 'epoch': 0.44}\n"
          ]
        },
        {
          "name": "stderr",
          "output_type": "stream",
          "text": [
            "Sequence2Sequence: 100%|██████████| 2500/2500 [12:14<00:00,  3.40batches/s, epoch=9, loss=0.442, split=eval]\n",
            "Sequence2Sequence: 100%|██████████| 2500/2500 [00:59<00:00, 41.13batches/s, epoch=9, loss=0.0297, split=eval]  Converged objectives: []\n"
          ]
        },
        {
          "name": "stdout",
          "output_type": "stream",
          "text": [
            "{'eval_loss': 0.5034902691841125, 'eval_runtime': 59.516, 'eval_samples_per_second': 42.006, 'eval_steps_per_second': 42.006, 'eval_Sequence2Sequence_loss': 0.3722729913392686, 'eval_Sequence2Sequence_num_batches': 100, 'epoch': 0.44}\n"
          ]
        },
        {
          "name": "stderr",
          "output_type": "stream",
          "text": [
            "Sequence2Sequence:  83%|████████▎ | 20800/25000 [39:24<06:37, 10.58batches/s, epoch=9, loss=0.0106, split=train]   Converged objectives: []\n",
            "Sequence2Sequence:  83%|████████▎ | 20802/25000 [39:24<07:35,  9.21batches/s, epoch=9, loss=0.0276, split=train]"
          ]
        },
        {
          "name": "stdout",
          "output_type": "stream",
          "text": [
            "{'loss': 0.5131, 'learning_rate': 1.9621187800963085e-05, 'train_Sequence2Sequence_loss': 0.5429276508511975, 'train_Sequence2Sequence_num_batches': 20, 'epoch': 0.44}\n"
          ]
        },
        {
          "name": "stderr",
          "output_type": "stream",
          "text": [
            "Sequence2Sequence:  96%|█████████▌| 24000/25000 [45:03<01:46,  9.35batches/s, epoch=9, loss=0.0665, split=train]  Converged objectives: []\n",
            "Evaluating...\n"
          ]
        },
        {
          "name": "stdout",
          "output_type": "stream",
          "text": [
            "{'loss': 0.5065, 'learning_rate': 1.9614767255216696e-05, 'train_Sequence2Sequence_loss': 0.5721983339637517, 'train_Sequence2Sequence_num_batches': 20, 'epoch': 0.45}\n"
          ]
        },
        {
          "name": "stderr",
          "output_type": "stream",
          "text": [
            "Sequence2Sequence: 100%|██████████| 2500/2500 [12:28<00:00,  3.34batches/s, epoch=9, loss=0.404, split=eval]\n",
            "Sequence2Sequence: 100%|█████████▉| 2499/2500 [00:59<00:00, 42.47batches/s, epoch=9, loss=0.706, split=eval]   Converged objectives: []\n"
          ]
        },
        {
          "name": "stdout",
          "output_type": "stream",
          "text": [
            "{'eval_loss': 0.5150699019432068, 'eval_runtime': 59.2128, 'eval_samples_per_second': 42.221, 'eval_steps_per_second': 42.221, 'eval_Sequence2Sequence_loss': 0.3666959664868773, 'eval_Sequence2Sequence_num_batches': 100, 'epoch': 0.45}\n"
          ]
        },
        {
          "name": "stderr",
          "output_type": "stream",
          "text": [
            "Sequence2Sequence: 100%|██████████| 25000/25000 [48:03<00:00,  9.06batches/s, epoch=9, loss=0.0265, split=train]  Converged objectives: []\n",
            "Sequence2Sequence: 100%|██████████| 25000/25000 [48:03<00:00,  8.67batches/s, epoch=9, loss=0.812, split=train] \n",
            "Sequence2Sequence:   9%|▉         | 2199/25000 [03:51<45:03,  8.43batches/s, epoch=10, loss=0.0174, split=train]  Converged objectives: []\n",
            "Sequence2Sequence:   9%|▉         | 2202/25000 [03:51<44:50,  8.47batches/s, epoch=10, loss=1.01, split=train]  "
          ]
        },
        {
          "name": "stdout",
          "output_type": "stream",
          "text": [
            "{'loss': 0.5281, 'learning_rate': 1.9608346709470306e-05, 'train_Sequence2Sequence_loss': 0.48698622044175865, 'train_Sequence2Sequence_num_batches': 20, 'epoch': 0.45}\n"
          ]
        },
        {
          "name": "stderr",
          "output_type": "stream",
          "text": [
            "Sequence2Sequence:  22%|██▏       | 5400/25000 [09:28<31:46, 10.28batches/s, epoch=10, loss=0.706, split=train]   Converged objectives: []\n",
            "Evaluating...\n"
          ]
        },
        {
          "name": "stdout",
          "output_type": "stream",
          "text": [
            "{'loss': 0.5218, 'learning_rate': 1.960192616372392e-05, 'train_Sequence2Sequence_loss': 0.6729309821268543, 'train_Sequence2Sequence_num_batches': 20, 'epoch': 0.46}\n"
          ]
        },
        {
          "name": "stderr",
          "output_type": "stream",
          "text": [
            "Sequence2Sequence: 100%|██████████| 2500/2500 [12:28<00:00,  3.34batches/s, epoch=9, loss=0.463, split=eval]\n",
            "Sequence2Sequence: 100%|██████████| 2500/2500 [00:59<00:00, 42.91batches/s, epoch=10, loss=0.0379, split=eval]  Converged objectives: []\n"
          ]
        },
        {
          "name": "stdout",
          "output_type": "stream",
          "text": [
            "{'eval_loss': 0.528730571269989, 'eval_runtime': 59.4233, 'eval_samples_per_second': 42.071, 'eval_steps_per_second': 42.071, 'eval_Sequence2Sequence_loss': 0.385827737479558, 'eval_Sequence2Sequence_num_batches': 100, 'epoch': 0.46}\n"
          ]
        },
        {
          "name": "stderr",
          "output_type": "stream",
          "text": [
            "Sequence2Sequence:  34%|███▍      | 8600/25000 [16:17<29:20,  9.31batches/s, epoch=10, loss=0.191, split=train]     Converged objectives: []\n",
            "Sequence2Sequence:  34%|███▍      | 8603/25000 [16:17<29:29,  9.27batches/s, epoch=10, loss=0.468, split=train]"
          ]
        },
        {
          "name": "stdout",
          "output_type": "stream",
          "text": [
            "{'loss': 0.5162, 'learning_rate': 1.959550561797753e-05, 'train_Sequence2Sequence_loss': 0.4432920694351196, 'train_Sequence2Sequence_num_batches': 20, 'epoch': 0.47}\n"
          ]
        },
        {
          "name": "stderr",
          "output_type": "stream",
          "text": [
            "Sequence2Sequence:  47%|████▋     | 11799/25000 [21:57<22:18,  9.86batches/s, epoch=10, loss=0.958, split=train]   Converged objectives: []\n",
            "Evaluating...\n"
          ]
        },
        {
          "name": "stdout",
          "output_type": "stream",
          "text": [
            "{'loss': 0.53, 'learning_rate': 1.9589085072231142e-05, 'train_Sequence2Sequence_loss': 0.6654968202812597, 'train_Sequence2Sequence_num_batches': 20, 'epoch': 0.47}\n"
          ]
        },
        {
          "name": "stderr",
          "output_type": "stream",
          "text": [
            "Sequence2Sequence: 100%|██████████| 2500/2500 [12:28<00:00,  3.34batches/s, epoch=10, loss=0.62, split=eval]\n",
            "Sequence2Sequence: 100%|█████████▉| 2499/2500 [00:59<00:00, 42.25batches/s, epoch=10, loss=0.693, split=eval]   Converged objectives: []\n"
          ]
        },
        {
          "name": "stdout",
          "output_type": "stream",
          "text": [
            "{'eval_loss': 0.5064353346824646, 'eval_runtime': 59.6871, 'eval_samples_per_second': 41.885, 'eval_steps_per_second': 41.885, 'eval_Sequence2Sequence_loss': 0.3757906282806653, 'eval_Sequence2Sequence_num_batches': 100, 'epoch': 0.47}\n"
          ]
        },
        {
          "name": "stderr",
          "output_type": "stream",
          "text": [
            "Sequence2Sequence:  60%|██████    | 15000/25000 [28:47<16:32, 10.08batches/s, epoch=10, loss=0.761, split=train]    Converged objectives: []\n",
            "Sequence2Sequence:  60%|██████    | 15002/25000 [28:47<18:10,  9.17batches/s, epoch=10, loss=1.75, split=train] "
          ]
        },
        {
          "name": "stdout",
          "output_type": "stream",
          "text": [
            "{'loss': 0.5033, 'learning_rate': 1.9582664526484753e-05, 'train_Sequence2Sequence_loss': 0.5067023937823251, 'train_Sequence2Sequence_num_batches': 20, 'epoch': 0.48}\n"
          ]
        },
        {
          "name": "stderr",
          "output_type": "stream",
          "text": [
            "Sequence2Sequence:  73%|███████▎  | 18199/25000 [34:10<10:35, 10.70batches/s, epoch=10, loss=0.115, split=train]   Converged objectives: []\n",
            "Evaluating...\n"
          ]
        },
        {
          "name": "stdout",
          "output_type": "stream",
          "text": [
            "{'loss': 0.5146, 'learning_rate': 1.9576243980738367e-05, 'train_Sequence2Sequence_loss': 0.3965223783161491, 'train_Sequence2Sequence_num_batches': 20, 'epoch': 0.49}\n"
          ]
        },
        {
          "name": "stderr",
          "output_type": "stream",
          "text": [
            "Sequence2Sequence: 100%|██████████| 2500/2500 [12:13<00:00,  3.41batches/s, epoch=10, loss=0.483, split=eval]\n",
            "Sequence2Sequence: 100%|██████████| 2500/2500 [00:59<00:00, 42.73batches/s, epoch=10, loss=0.0298, split=eval]  Converged objectives: []\n"
          ]
        },
        {
          "name": "stdout",
          "output_type": "stream",
          "text": [
            "{'eval_loss': 0.5249765515327454, 'eval_runtime': 59.447, 'eval_samples_per_second': 42.054, 'eval_steps_per_second': 42.054, 'eval_Sequence2Sequence_loss': 0.39318603200707003, 'eval_Sequence2Sequence_num_batches': 100, 'epoch': 0.49}\n"
          ]
        },
        {
          "name": "stderr",
          "output_type": "stream",
          "text": [
            "Sequence2Sequence:  86%|████████▌ | 21400/25000 [41:01<06:01,  9.95batches/s, epoch=10, loss=0.583, split=train]    Converged objectives: []\n",
            "Sequence2Sequence:  86%|████████▌ | 21402/25000 [41:01<06:55,  8.65batches/s, epoch=10, loss=0.0114, split=train]"
          ]
        },
        {
          "name": "stdout",
          "output_type": "stream",
          "text": [
            "{'loss': 0.4981, 'learning_rate': 1.9569823434991978e-05, 'train_Sequence2Sequence_loss': 0.4352576333330944, 'train_Sequence2Sequence_num_batches': 20, 'epoch': 0.49}\n"
          ]
        },
        {
          "name": "stderr",
          "output_type": "stream",
          "text": [
            "Sequence2Sequence:  98%|█████████▊| 24600/25000 [46:40<00:39, 10.12batches/s, epoch=10, loss=0.7, split=train]     Converged objectives: []\n",
            "Evaluating...\n"
          ]
        },
        {
          "name": "stdout",
          "output_type": "stream",
          "text": [
            "{'loss': 0.5059, 'learning_rate': 1.9563402889245588e-05, 'train_Sequence2Sequence_loss': 0.39349839659407737, 'train_Sequence2Sequence_num_batches': 20, 'epoch': 0.5}\n"
          ]
        },
        {
          "name": "stderr",
          "output_type": "stream",
          "text": [
            "Sequence2Sequence: 100%|██████████| 2500/2500 [12:29<00:00,  3.34batches/s, epoch=10, loss=0.446, split=eval]\n",
            "Sequence2Sequence: 100%|██████████| 2500/2500 [00:59<00:00, 42.86batches/s, epoch=10, loss=0.0244, split=eval]  Converged objectives: []\n"
          ]
        },
        {
          "name": "stdout",
          "output_type": "stream",
          "text": [
            "{'eval_loss': 0.520451545715332, 'eval_runtime': 59.2704, 'eval_samples_per_second': 42.18, 'eval_steps_per_second': 42.18, 'eval_Sequence2Sequence_loss': 0.37552610839542466, 'eval_Sequence2Sequence_num_batches': 100, 'epoch': 0.5}\n"
          ]
        },
        {
          "name": "stderr",
          "output_type": "stream",
          "text": [
            "Sequence2Sequence: 100%|██████████| 25000/25000 [48:35<00:00, 10.20batches/s, epoch=10, loss=0.0857, split=train]  Converged objectives: []\n",
            "Sequence2Sequence: 100%|██████████| 25000/25000 [48:35<00:00,  8.57batches/s, epoch=10, loss=0.0259, split=train]\n",
            "Sequence2Sequence:  11%|█         | 2799/25000 [04:50<33:33, 11.02batches/s, epoch=11, loss=0.29, split=train]     Converged objectives: []\n",
            "Sequence2Sequence:  11%|█         | 2802/25000 [04:50<38:48,  9.53batches/s, epoch=11, loss=0.631, split=train]"
          ]
        },
        {
          "name": "stdout",
          "output_type": "stream",
          "text": [
            "{'loss': 0.5152, 'learning_rate': 1.95569823434992e-05, 'train_Sequence2Sequence_loss': 0.6208932337845908, 'train_Sequence2Sequence_num_batches': 20, 'epoch': 0.51}\n"
          ]
        },
        {
          "name": "stderr",
          "output_type": "stream",
          "text": [
            "Sequence2Sequence:  24%|██▍       | 6000/25000 [10:19<29:36, 10.70batches/s, epoch=11, loss=0.0411, split=train]  Converged objectives: []\n",
            "Evaluating...\n"
          ]
        },
        {
          "name": "stdout",
          "output_type": "stream",
          "text": [
            "{'loss': 0.4941, 'learning_rate': 1.955056179775281e-05, 'train_Sequence2Sequence_loss': 0.3747291999403387, 'train_Sequence2Sequence_num_batches': 20, 'epoch': 0.51}\n"
          ]
        },
        {
          "name": "stderr",
          "output_type": "stream",
          "text": [
            "Sequence2Sequence: 100%|██████████| 2500/2500 [12:15<00:00,  3.40batches/s, epoch=10, loss=0.496, split=eval]\n",
            "Sequence2Sequence: 100%|██████████| 2500/2500 [00:59<00:00, 42.06batches/s, epoch=11, loss=0.0319, split=eval]  Converged objectives: []\n"
          ]
        },
        {
          "name": "stdout",
          "output_type": "stream",
          "text": [
            "{'eval_loss': 0.5053517818450928, 'eval_runtime': 59.5323, 'eval_samples_per_second': 41.994, 'eval_steps_per_second': 41.994, 'eval_Sequence2Sequence_loss': 0.3802253436569299, 'eval_Sequence2Sequence_num_batches': 100, 'epoch': 0.51}\n"
          ]
        },
        {
          "name": "stderr",
          "output_type": "stream",
          "text": [
            "Sequence2Sequence:  37%|███▋      | 9200/25000 [17:06<28:48,  9.14batches/s, epoch=11, loss=0.292, split=train]    Converged objectives: []\n",
            "Sequence2Sequence:  37%|███▋      | 9203/25000 [17:06<28:14,  9.32batches/s, epoch=11, loss=0.441, split=train]"
          ]
        },
        {
          "name": "stdout",
          "output_type": "stream",
          "text": [
            "{'loss': 0.5151, 'learning_rate': 1.954414125200642e-05, 'train_Sequence2Sequence_loss': 0.913335249107331, 'train_Sequence2Sequence_num_batches': 20, 'epoch': 0.52}\n"
          ]
        },
        {
          "name": "stderr",
          "output_type": "stream",
          "text": [
            "Sequence2Sequence:  50%|████▉     | 12400/25000 [22:22<20:51, 10.07batches/s, epoch=11, loss=0.573, split=train]   Converged objectives: []\n",
            "Evaluating...\n"
          ]
        },
        {
          "name": "stdout",
          "output_type": "stream",
          "text": [
            "{'loss': 0.5055, 'learning_rate': 1.953772070626003e-05, 'train_Sequence2Sequence_loss': 0.4158824751153588, 'train_Sequence2Sequence_num_batches': 20, 'epoch': 0.52}\n"
          ]
        },
        {
          "name": "stderr",
          "output_type": "stream",
          "text": [
            "Sequence2Sequence: 100%|██████████| 2500/2500 [12:02<00:00,  3.46batches/s, epoch=11, loss=0.517, split=eval]\n",
            "Sequence2Sequence: 100%|█████████▉| 2499/2500 [00:59<00:00, 42.62batches/s, epoch=11, loss=0.645, split=eval]   Converged objectives: []\n"
          ]
        },
        {
          "name": "stdout",
          "output_type": "stream",
          "text": [
            "{'eval_loss': 0.5081944465637207, 'eval_runtime': 59.1503, 'eval_samples_per_second': 42.265, 'eval_steps_per_second': 42.265, 'eval_Sequence2Sequence_loss': 0.3985707842015108, 'eval_Sequence2Sequence_num_batches': 100, 'epoch': 0.52}\n"
          ]
        },
        {
          "name": "stderr",
          "output_type": "stream",
          "text": [
            "Sequence2Sequence:  62%|██████▏   | 15599/25000 [29:13<15:06, 10.37batches/s, epoch=11, loss=0.372, split=train]   Converged objectives: []\n",
            "Sequence2Sequence:  62%|██████▏   | 15602/25000 [29:14<17:43,  8.84batches/s, epoch=11, loss=0.0146, split=train]"
          ]
        },
        {
          "name": "stdout",
          "output_type": "stream",
          "text": [
            "{'loss': 0.5082, 'learning_rate': 1.9531300160513645e-05, 'train_Sequence2Sequence_loss': 0.32458888047840445, 'train_Sequence2Sequence_num_batches': 20, 'epoch': 0.53}\n"
          ]
        },
        {
          "name": "stderr",
          "output_type": "stream",
          "text": [
            "Sequence2Sequence:  75%|███████▌  | 18800/25000 [34:52<11:38,  8.88batches/s, epoch=11, loss=0.015, split=train]   Converged objectives: []\n",
            "Evaluating...\n"
          ]
        },
        {
          "name": "stdout",
          "output_type": "stream",
          "text": [
            "{'loss': 0.4858, 'learning_rate': 1.9524879614767256e-05, 'train_Sequence2Sequence_loss': 0.46332801144453695, 'train_Sequence2Sequence_num_batches': 20, 'epoch': 0.54}\n"
          ]
        },
        {
          "name": "stderr",
          "output_type": "stream",
          "text": [
            "Sequence2Sequence: 100%|██████████| 2500/2500 [12:30<00:00,  3.33batches/s, epoch=11, loss=0.43, split=eval]\n",
            "Sequence2Sequence: 100%|█████████▉| 2499/2500 [00:59<00:00, 42.82batches/s, epoch=11, loss=0.594, split=eval]   Converged objectives: []\n"
          ]
        },
        {
          "name": "stdout",
          "output_type": "stream",
          "text": [
            "{'eval_loss': 0.5175153613090515, 'eval_runtime': 59.2053, 'eval_samples_per_second': 42.226, 'eval_steps_per_second': 42.226, 'eval_Sequence2Sequence_loss': 0.3807108040136154, 'eval_Sequence2Sequence_num_batches': 100, 'epoch': 0.54}\n"
          ]
        },
        {
          "name": "stderr",
          "output_type": "stream",
          "text": [
            "Sequence2Sequence:  88%|████████▊ | 22000/25000 [41:52<05:43,  8.73batches/s, epoch=11, loss=0.541, split=train]      Converged objectives: []\n",
            "Sequence2Sequence:  88%|████████▊ | 22002/25000 [41:52<06:32,  7.64batches/s, epoch=11, loss=1.56, split=train]  "
          ]
        },
        {
          "name": "stdout",
          "output_type": "stream",
          "text": [
            "{'loss': 0.4846, 'learning_rate': 1.9518459069020867e-05, 'train_Sequence2Sequence_loss': 0.5482988751027733, 'train_Sequence2Sequence_num_batches': 20, 'epoch': 0.54}\n"
          ]
        },
        {
          "name": "stderr",
          "output_type": "stream",
          "text": [
            "Sequence2Sequence: 100%|██████████| 25000/25000 [47:01<00:00,  9.75batches/s, epoch=11, loss=0.00605, split=train] Converged objectives: []\n",
            "Sequence2Sequence: 100%|██████████| 25000/25000 [47:02<00:00,  8.86batches/s, epoch=11, loss=0.144, split=train]  \n",
            "Sequence2Sequence:   1%|          | 200/25000 [00:21<44:08,  9.36batches/s, epoch=12, loss=0.343, split=train]   Converged objectives: []\n",
            "Evaluating...\n"
          ]
        },
        {
          "name": "stdout",
          "output_type": "stream",
          "text": [
            "{'loss': 0.4824, 'learning_rate': 1.9512038523274477e-05, 'train_Sequence2Sequence_loss': 0.47327965890290213, 'train_Sequence2Sequence_num_batches': 20, 'epoch': 0.55}\n"
          ]
        },
        {
          "name": "stderr",
          "output_type": "stream",
          "text": [
            "Sequence2Sequence: 100%|██████████| 2500/2500 [12:30<00:00,  3.33batches/s, epoch=11, loss=0.38, split=eval]\n",
            "Sequence2Sequence: 100%|██████████| 2500/2500 [00:59<00:00, 42.48batches/s, epoch=12, loss=0.0306, split=eval]  Converged objectives: []\n"
          ]
        },
        {
          "name": "stdout",
          "output_type": "stream",
          "text": [
            "{'eval_loss': 0.5046790242195129, 'eval_runtime': 59.3408, 'eval_samples_per_second': 42.129, 'eval_steps_per_second': 42.129, 'eval_Sequence2Sequence_loss': 0.37417812409192264, 'eval_Sequence2Sequence_num_batches': 100, 'epoch': 0.55}\n"
          ]
        },
        {
          "name": "stderr",
          "output_type": "stream",
          "text": [
            "Sequence2Sequence:  14%|█▎        | 3400/25000 [07:06<40:16,  8.94batches/s, epoch=12, loss=0.227, split=train]   Converged objectives: []\n",
            "Sequence2Sequence:  14%|█▎        | 3401/25000 [07:07<44:41,  8.06batches/s, epoch=12, loss=0.914, split=train]"
          ]
        },
        {
          "name": "stdout",
          "output_type": "stream",
          "text": [
            "{'loss': 0.5018, 'learning_rate': 1.950561797752809e-05, 'train_Sequence2Sequence_loss': 0.4678455790504813, 'train_Sequence2Sequence_num_batches': 20, 'epoch': 0.56}\n"
          ]
        },
        {
          "name": "stderr",
          "output_type": "stream",
          "text": [
            "Sequence2Sequence:  26%|██▋       | 6600/25000 [12:40<28:40, 10.70batches/s, epoch=12, loss=0.396, split=train]   Converged objectives: []\n",
            "Evaluating...\n"
          ]
        },
        {
          "name": "stdout",
          "output_type": "stream",
          "text": [
            "{'loss': 0.4929, 'learning_rate': 1.9499197431781702e-05, 'train_Sequence2Sequence_loss': 0.3709556887246436, 'train_Sequence2Sequence_num_batches': 20, 'epoch': 0.56}\n"
          ]
        },
        {
          "name": "stderr",
          "output_type": "stream",
          "text": [
            "Sequence2Sequence: 100%|██████████| 2500/2500 [12:19<00:00,  3.38batches/s, epoch=12, loss=0.446, split=eval]\n",
            "Sequence2Sequence: 100%|█████████▉| 2499/2500 [00:59<00:00, 42.79batches/s, epoch=12, loss=0.713, split=eval]   Converged objectives: []\n"
          ]
        },
        {
          "name": "stdout",
          "output_type": "stream",
          "text": [
            "{'eval_loss': 0.4892161190509796, 'eval_runtime': 59.2241, 'eval_samples_per_second': 42.213, 'eval_steps_per_second': 42.213, 'eval_Sequence2Sequence_loss': 0.3665177660973131, 'eval_Sequence2Sequence_num_batches': 100, 'epoch': 0.56}\n"
          ]
        },
        {
          "name": "stderr",
          "output_type": "stream",
          "text": [
            "Sequence2Sequence:  39%|███▉      | 9800/25000 [19:22<29:45,  8.51batches/s, epoch=12, loss=1.13, split=train]     Converged objectives: []\n",
            "Sequence2Sequence:  39%|███▉      | 9803/25000 [19:22<27:52,  9.09batches/s, epoch=12, loss=0.0112, split=train] "
          ]
        },
        {
          "name": "stdout",
          "output_type": "stream",
          "text": [
            "{'loss': 0.5053, 'learning_rate': 1.9492776886035313e-05, 'train_Sequence2Sequence_loss': 0.3760595821891911, 'train_Sequence2Sequence_num_batches': 20, 'epoch': 0.57}\n"
          ]
        },
        {
          "name": "stderr",
          "output_type": "stream",
          "text": [
            "Sequence2Sequence:  52%|█████▏    | 12999/25000 [24:57<18:18, 10.93batches/s, epoch=12, loss=0.0808, split=train]  Converged objectives: []\n",
            "Evaluating...\n"
          ]
        },
        {
          "name": "stdout",
          "output_type": "stream",
          "text": [
            "{'loss': 0.4889, 'learning_rate': 1.9486356340288927e-05, 'train_Sequence2Sequence_loss': 0.5273703459650279, 'train_Sequence2Sequence_num_batches': 20, 'epoch': 0.58}\n"
          ]
        },
        {
          "name": "stderr",
          "output_type": "stream",
          "text": [
            "Sequence2Sequence: 100%|██████████| 2500/2500 [12:16<00:00,  3.39batches/s, epoch=12, loss=0.405, split=eval]\n",
            "Sequence2Sequence: 100%|██████████| 2500/2500 [00:59<00:00, 42.75batches/s, epoch=12, loss=0.077, split=eval]   ]Converged objectives: []\n"
          ]
        },
        {
          "name": "stdout",
          "output_type": "stream",
          "text": [
            "{'eval_loss': 0.5077356696128845, 'eval_runtime': 59.1835, 'eval_samples_per_second': 42.242, 'eval_steps_per_second': 42.242, 'eval_Sequence2Sequence_loss': 0.37432838380113026, 'eval_Sequence2Sequence_num_batches': 100, 'epoch': 0.58}\n"
          ]
        },
        {
          "name": "stderr",
          "output_type": "stream",
          "text": [
            "Sequence2Sequence:  65%|██████▍   | 16200/25000 [31:44<15:00,  9.77batches/s, epoch=12, loss=0.0847, split=train]   Converged objectives: []\n",
            "Sequence2Sequence:  65%|██████▍   | 16202/25000 [31:45<17:19,  8.46batches/s, epoch=12, loss=0.708, split=train] "
          ]
        },
        {
          "name": "stdout",
          "output_type": "stream",
          "text": [
            "{'loss': 0.496, 'learning_rate': 1.9479935794542538e-05, 'train_Sequence2Sequence_loss': 0.4600994316395372, 'train_Sequence2Sequence_num_batches': 20, 'epoch': 0.58}\n"
          ]
        },
        {
          "name": "stderr",
          "output_type": "stream",
          "text": [
            "Sequence2Sequence:  78%|███████▊  | 19400/25000 [37:14<09:30,  9.81batches/s, epoch=12, loss=0.0225, split=train]  Converged objectives: []\n",
            "Evaluating...\n"
          ]
        },
        {
          "name": "stdout",
          "output_type": "stream",
          "text": [
            "{'loss': 0.4809, 'learning_rate': 1.947351524879615e-05, 'train_Sequence2Sequence_loss': 0.4438044151291251, 'train_Sequence2Sequence_num_batches': 20, 'epoch': 0.59}\n"
          ]
        },
        {
          "name": "stderr",
          "output_type": "stream",
          "text": [
            "Sequence2Sequence: 100%|██████████| 2500/2500 [12:17<00:00,  3.39batches/s, epoch=12, loss=0.466, split=eval]\n",
            "Sequence2Sequence: 100%|██████████| 2500/2500 [00:59<00:00, 42.58batches/s, epoch=12, loss=0.0763, split=eval]   Converged objectives: []\n"
          ]
        },
        {
          "name": "stdout",
          "output_type": "stream",
          "text": [
            "{'eval_loss': 0.5054042339324951, 'eval_runtime': 59.3612, 'eval_samples_per_second': 42.115, 'eval_steps_per_second': 42.115, 'eval_Sequence2Sequence_loss': 0.3638694470819246, 'eval_Sequence2Sequence_num_batches': 100, 'epoch': 0.59}\n"
          ]
        },
        {
          "name": "stderr",
          "output_type": "stream",
          "text": [
            "Sequence2Sequence:  90%|█████████ | 22599/25000 [44:05<04:01,  9.96batches/s, epoch=12, loss=0.0988, split=train]  Converged objectives: []\n",
            "Sequence2Sequence:  90%|█████████ | 22603/25000 [44:05<04:14,  9.41batches/s, epoch=12, loss=0.146, split=train] "
          ]
        },
        {
          "name": "stdout",
          "output_type": "stream",
          "text": [
            "{'loss': 0.4807, 'learning_rate': 1.946709470304976e-05, 'train_Sequence2Sequence_loss': 0.3785831667264574, 'train_Sequence2Sequence_num_batches': 20, 'epoch': 0.6}\n"
          ]
        },
        {
          "name": "stderr",
          "output_type": "stream",
          "text": [
            "Sequence2Sequence: 100%|██████████| 25000/25000 [48:16<00:00,  9.24batches/s, epoch=12, loss=0.00232, split=train] Converged objectives: []\n",
            "Sequence2Sequence: 100%|██████████| 25000/25000 [48:16<00:00,  8.63batches/s, epoch=12, loss=0.322, split=train]  \n",
            "Sequence2Sequence:   3%|▎         | 800/25000 [01:23<44:40,  9.03batches/s, epoch=13, loss=0.396, split=train]   Converged objectives: []\n",
            "Evaluating...\n"
          ]
        },
        {
          "name": "stdout",
          "output_type": "stream",
          "text": [
            "{'loss': 0.4737, 'learning_rate': 1.9460674157303373e-05, 'train_Sequence2Sequence_loss': 0.48623442770913244, 'train_Sequence2Sequence_num_batches': 20, 'epoch': 0.6}\n"
          ]
        },
        {
          "name": "stderr",
          "output_type": "stream",
          "text": [
            "Sequence2Sequence: 100%|██████████| 2500/2500 [12:24<00:00,  3.36batches/s, epoch=12, loss=0.391, split=eval]\n",
            "Sequence2Sequence: 100%|█████████▉| 2499/2500 [00:59<00:00, 42.57batches/s, epoch=13, loss=0.553, split=eval]   Converged objectives: []\n"
          ]
        },
        {
          "name": "stdout",
          "output_type": "stream",
          "text": [
            "{'eval_loss': 0.5129628777503967, 'eval_runtime': 59.5483, 'eval_samples_per_second': 41.983, 'eval_steps_per_second': 41.983, 'eval_Sequence2Sequence_loss': 0.3666597532480591, 'eval_Sequence2Sequence_num_batches': 100, 'epoch': 0.6}\n"
          ]
        },
        {
          "name": "stderr",
          "output_type": "stream",
          "text": [
            "Sequence2Sequence:  16%|█▌        | 4000/25000 [08:13<40:46,  8.58batches/s, epoch=13, loss=0.205, split=train]     Converged objectives: []\n",
            "Sequence2Sequence:  16%|█▌        | 4003/25000 [08:13<41:39,  8.40batches/s, epoch=13, loss=0.0983, split=train]"
          ]
        },
        {
          "name": "stdout",
          "output_type": "stream",
          "text": [
            "{'loss': 0.4954, 'learning_rate': 1.9454253611556984e-05, 'train_Sequence2Sequence_loss': 0.48100812174379826, 'train_Sequence2Sequence_num_batches': 20, 'epoch': 0.61}\n"
          ]
        },
        {
          "name": "stderr",
          "output_type": "stream",
          "text": [
            "Sequence2Sequence:  29%|██▉       | 7200/25000 [13:44<31:23,  9.45batches/s, epoch=13, loss=0.0375, split=train]  Converged objectives: []\n",
            "Evaluating...\n"
          ]
        },
        {
          "name": "stdout",
          "output_type": "stream",
          "text": [
            "{'loss': 0.4879, 'learning_rate': 1.9447833065810595e-05, 'train_Sequence2Sequence_loss': 0.4292648277012631, 'train_Sequence2Sequence_num_batches': 20, 'epoch': 0.61}\n"
          ]
        },
        {
          "name": "stderr",
          "output_type": "stream",
          "text": [
            "Sequence2Sequence: 100%|██████████| 2500/2500 [12:20<00:00,  3.37batches/s, epoch=13, loss=0.295, split=eval]\n",
            "Sequence2Sequence: 100%|██████████| 2500/2500 [00:58<00:00, 43.11batches/s, epoch=13, loss=0.0934, split=eval]  Converged objectives: []\n"
          ]
        },
        {
          "name": "stdout",
          "output_type": "stream",
          "text": [
            "{'eval_loss': 0.5119818449020386, 'eval_runtime': 58.8604, 'eval_samples_per_second': 42.473, 'eval_steps_per_second': 42.473, 'eval_Sequence2Sequence_loss': 0.36383356753074625, 'eval_Sequence2Sequence_num_batches': 100, 'epoch': 0.61}\n"
          ]
        },
        {
          "name": "stderr",
          "output_type": "stream",
          "text": [
            "Sequence2Sequence:  42%|████▏     | 10400/25000 [20:39<23:38, 10.29batches/s, epoch=13, loss=1.3, split=train]      Converged objectives: []\n",
            "Sequence2Sequence:  42%|████▏     | 10402/25000 [20:40<28:01,  8.68batches/s, epoch=13, loss=0.458, split=train]"
          ]
        },
        {
          "name": "stdout",
          "output_type": "stream",
          "text": [
            "{'loss': 0.4861, 'learning_rate': 1.9441412520064206e-05, 'train_Sequence2Sequence_loss': 0.4191356441937387, 'train_Sequence2Sequence_num_batches': 20, 'epoch': 0.62}\n"
          ]
        },
        {
          "name": "stderr",
          "output_type": "stream",
          "text": [
            "Sequence2Sequence:  54%|█████▍    | 13599/25000 [26:03<18:22, 10.34batches/s, epoch=13, loss=0.528, split=train]   Converged objectives: []\n",
            "Evaluating...\n"
          ]
        },
        {
          "name": "stdout",
          "output_type": "stream",
          "text": [
            "{'loss': 0.4784, 'learning_rate': 1.943499197431782e-05, 'train_Sequence2Sequence_loss': 0.5468687702901661, 'train_Sequence2Sequence_num_batches': 20, 'epoch': 0.63}\n"
          ]
        },
        {
          "name": "stderr",
          "output_type": "stream",
          "text": [
            "Sequence2Sequence: 100%|██████████| 2500/2500 [12:19<00:00,  3.38batches/s, epoch=13, loss=0.455, split=eval]\n",
            "Sequence2Sequence: 100%|██████████| 2500/2500 [00:59<00:00, 41.96batches/s, epoch=13, loss=0.0733, split=eval]  Converged objectives: []\n"
          ]
        },
        {
          "name": "stdout",
          "output_type": "stream",
          "text": [
            "{'eval_loss': 0.5147397518157959, 'eval_runtime': 59.1669, 'eval_samples_per_second': 42.253, 'eval_steps_per_second': 42.253, 'eval_Sequence2Sequence_loss': 0.3721724234933208, 'eval_Sequence2Sequence_num_batches': 100, 'epoch': 0.63}\n"
          ]
        },
        {
          "name": "stderr",
          "output_type": "stream",
          "text": [
            "Sequence2Sequence:  67%|██████▋   | 16799/25000 [32:58<15:19,  8.92batches/s, epoch=13, loss=0.459, split=train]    Converged objectives: []\n",
            "Sequence2Sequence:  67%|██████▋   | 16802/25000 [32:58<16:11,  8.44batches/s, epoch=13, loss=0.1, split=train]  "
          ]
        },
        {
          "name": "stdout",
          "output_type": "stream",
          "text": [
            "{'loss': 0.4749, 'learning_rate': 1.942857142857143e-05, 'train_Sequence2Sequence_loss': 0.39462841373169794, 'train_Sequence2Sequence_num_batches': 20, 'epoch': 0.63}\n"
          ]
        },
        {
          "name": "stderr",
          "output_type": "stream",
          "text": [
            "Sequence2Sequence:  80%|████████  | 20000/25000 [38:30<09:06,  9.15batches/s, epoch=13, loss=0.559, split=train]   Converged objectives: []\n",
            "Evaluating...\n"
          ]
        },
        {
          "name": "stdout",
          "output_type": "stream",
          "text": [
            "{'loss': 0.4779, 'learning_rate': 1.942215088282504e-05, 'train_Sequence2Sequence_loss': 0.3715055366512388, 'train_Sequence2Sequence_num_batches': 20, 'epoch': 0.64}\n"
          ]
        },
        {
          "name": "stderr",
          "output_type": "stream",
          "text": [
            "Sequence2Sequence: 100%|██████████| 2500/2500 [12:27<00:00,  3.35batches/s, epoch=13, loss=0.365, split=eval]\n",
            "Sequence2Sequence: 100%|██████████| 2500/2500 [00:58<00:00, 42.83batches/s, epoch=13, loss=0.0553, split=eval]  Converged objectives: []\n"
          ]
        },
        {
          "name": "stdout",
          "output_type": "stream",
          "text": [
            "{'eval_loss': 0.5091077089309692, 'eval_runtime': 59.0218, 'eval_samples_per_second': 42.357, 'eval_steps_per_second': 42.357, 'eval_Sequence2Sequence_loss': 0.3622108953912175, 'eval_Sequence2Sequence_num_batches': 100, 'epoch': 0.64}\n"
          ]
        },
        {
          "name": "stderr",
          "output_type": "stream",
          "text": [
            "Sequence2Sequence:  93%|█████████▎| 23200/25000 [45:15<03:16,  9.14batches/s, epoch=13, loss=0.349, split=train]    Converged objectives: []\n",
            "Sequence2Sequence:  93%|█████████▎| 23203/25000 [45:16<03:18,  9.03batches/s, epoch=13, loss=0.58, split=train] "
          ]
        },
        {
          "name": "stdout",
          "output_type": "stream",
          "text": [
            "{'loss': 0.4676, 'learning_rate': 1.9415730337078652e-05, 'train_Sequence2Sequence_loss': 0.5174128056329209, 'train_Sequence2Sequence_num_batches': 20, 'epoch': 0.65}\n"
          ]
        },
        {
          "name": "stderr",
          "output_type": "stream",
          "text": [
            "Sequence2Sequence: 100%|██████████| 25000/25000 [48:23<00:00,  9.39batches/s, epoch=13, loss=0.00691, split=train] Converged objectives: []\n",
            "Sequence2Sequence: 100%|██████████| 25000/25000 [48:23<00:00,  8.61batches/s, epoch=13, loss=0.114, split=train]  \n",
            "Sequence2Sequence:   6%|▌         | 1400/25000 [02:24<38:11, 10.30batches/s, epoch=14, loss=0.0106, split=train]  Converged objectives: []\n",
            "Evaluating...\n"
          ]
        },
        {
          "name": "stdout",
          "output_type": "stream",
          "text": [
            "{'loss': 0.4614, 'learning_rate': 1.9409309791332266e-05, 'train_Sequence2Sequence_loss': 0.45616555340820925, 'train_Sequence2Sequence_num_batches': 20, 'epoch': 0.65}\n"
          ]
        },
        {
          "name": "stderr",
          "output_type": "stream",
          "text": [
            "Sequence2Sequence: 100%|██████████| 2500/2500 [12:17<00:00,  3.39batches/s, epoch=13, loss=0.297, split=eval]\n",
            "Sequence2Sequence: 100%|██████████| 2500/2500 [00:59<00:00, 42.56batches/s, epoch=14, loss=0.0403, split=eval]  Converged objectives: []\n"
          ]
        },
        {
          "name": "stdout",
          "output_type": "stream",
          "text": [
            "{'eval_loss': 0.5207175612449646, 'eval_runtime': 59.3334, 'eval_samples_per_second': 42.135, 'eval_steps_per_second': 42.135, 'eval_Sequence2Sequence_loss': 0.3794464306027658, 'eval_Sequence2Sequence_num_batches': 100, 'epoch': 0.65}\n"
          ]
        },
        {
          "name": "stderr",
          "output_type": "stream",
          "text": [
            "Sequence2Sequence:  18%|█▊        | 4600/25000 [09:06<34:20,  9.90batches/s, epoch=14, loss=0.24, split=train]      Converged objectives: []\n",
            "Sequence2Sequence:  18%|█▊        | 4602/25000 [09:07<39:48,  8.54batches/s, epoch=14, loss=1.32, split=train] "
          ]
        },
        {
          "name": "stdout",
          "output_type": "stream",
          "text": [
            "{'loss': 0.4761, 'learning_rate': 1.9402889245585877e-05, 'train_Sequence2Sequence_loss': 0.27794278897345065, 'train_Sequence2Sequence_num_batches': 20, 'epoch': 0.66}\n"
          ]
        },
        {
          "name": "stderr",
          "output_type": "stream",
          "text": [
            "Sequence2Sequence:  31%|███       | 7799/25000 [14:36<29:20,  9.77batches/s, epoch=14, loss=0.814, split=train]   Converged objectives: []\n",
            "Evaluating...\n"
          ]
        },
        {
          "name": "stdout",
          "output_type": "stream",
          "text": [
            "{'loss': 0.4778, 'learning_rate': 1.9396468699839487e-05, 'train_Sequence2Sequence_loss': 0.36681154281977796, 'train_Sequence2Sequence_num_batches': 20, 'epoch': 0.67}\n"
          ]
        },
        {
          "name": "stderr",
          "output_type": "stream",
          "text": [
            "Sequence2Sequence: 100%|██████████| 2500/2500 [12:11<00:00,  3.42batches/s, epoch=14, loss=0.328, split=eval]\n",
            "Sequence2Sequence: 100%|██████████| 2500/2500 [00:59<00:00, 42.60batches/s, epoch=14, loss=0.0429, split=eval]  Converged objectives: []\n"
          ]
        },
        {
          "name": "stdout",
          "output_type": "stream",
          "text": [
            "{'eval_loss': 0.512718141078949, 'eval_runtime': 59.2895, 'eval_samples_per_second': 42.166, 'eval_steps_per_second': 42.166, 'eval_Sequence2Sequence_loss': 0.36688949639614293, 'eval_Sequence2Sequence_num_batches': 100, 'epoch': 0.67}\n"
          ]
        },
        {
          "name": "stderr",
          "output_type": "stream",
          "text": [
            "Sequence2Sequence:  44%|████▍     | 11000/25000 [21:12<18:09, 12.85batches/s, epoch=14, loss=0.153, split=train]   Converged objectives: []\n",
            "Sequence2Sequence:  44%|████▍     | 11002/25000 [21:13<22:01, 10.59batches/s, epoch=14, loss=0.0743, split=train]"
          ]
        },
        {
          "name": "stdout",
          "output_type": "stream",
          "text": [
            "{'loss': 0.4761, 'learning_rate': 1.9390048154093098e-05, 'train_Sequence2Sequence_loss': 0.3861128713237122, 'train_Sequence2Sequence_num_batches': 20, 'epoch': 0.67}\n"
          ]
        },
        {
          "name": "stderr",
          "output_type": "stream",
          "text": [
            "Sequence2Sequence:  57%|█████▋    | 14199/25000 [26:48<17:57, 10.03batches/s, epoch=14, loss=0.0322, split=train]  Converged objectives: []\n",
            "Evaluating...\n"
          ]
        },
        {
          "name": "stdout",
          "output_type": "stream",
          "text": [
            "{'loss': 0.4701, 'learning_rate': 1.9383627608346712e-05, 'train_Sequence2Sequence_loss': 0.5288792096194811, 'train_Sequence2Sequence_num_batches': 20, 'epoch': 0.68}\n"
          ]
        },
        {
          "name": "stderr",
          "output_type": "stream",
          "text": [
            "Sequence2Sequence: 100%|██████████| 2500/2500 [12:11<00:00,  3.42batches/s, epoch=14, loss=0.348, split=eval]\n",
            "Sequence2Sequence: 100%|██████████| 2500/2500 [00:59<00:00, 42.54batches/s, epoch=14, loss=0.0206, split=eval]   Converged objectives: []\n"
          ]
        },
        {
          "name": "stdout",
          "output_type": "stream",
          "text": [
            "{'eval_loss': 0.5064195990562439, 'eval_runtime': 59.2337, 'eval_samples_per_second': 42.206, 'eval_steps_per_second': 42.206, 'eval_Sequence2Sequence_loss': 0.36742951164022086, 'eval_Sequence2Sequence_num_batches': 100, 'epoch': 0.68}\n"
          ]
        },
        {
          "name": "stderr",
          "output_type": "stream",
          "text": [
            "Sequence2Sequence:  70%|██████▉   | 17399/25000 [33:38<11:13, 11.28batches/s, epoch=14, loss=0.236, split=train]    Converged objectives: []\n",
            "Sequence2Sequence:  70%|██████▉   | 17402/25000 [33:38<13:51,  9.13batches/s, epoch=14, loss=0.00703, split=train]"
          ]
        },
        {
          "name": "stdout",
          "output_type": "stream",
          "text": [
            "{'loss': 0.4665, 'learning_rate': 1.9377207062600323e-05, 'train_Sequence2Sequence_loss': 0.5853470032467157, 'train_Sequence2Sequence_num_batches': 20, 'epoch': 0.68}\n"
          ]
        },
        {
          "name": "stderr",
          "output_type": "stream",
          "text": [
            "Sequence2Sequence:  82%|████████▏ | 20599/25000 [38:50<07:01, 10.44batches/s, epoch=14, loss=0.807, split=train]   Converged objectives: []\n",
            "Evaluating...\n"
          ]
        },
        {
          "name": "stdout",
          "output_type": "stream",
          "text": [
            "{'loss': 0.4468, 'learning_rate': 1.9370786516853934e-05, 'train_Sequence2Sequence_loss': 0.49325691343983635, 'train_Sequence2Sequence_num_batches': 20, 'epoch': 0.69}\n"
          ]
        },
        {
          "name": "stderr",
          "output_type": "stream",
          "text": [
            "Sequence2Sequence: 100%|██████████| 2500/2500 [12:02<00:00,  3.46batches/s, epoch=14, loss=0.33, split=eval]\n",
            "Sequence2Sequence: 100%|██████████| 2500/2500 [01:01<00:00, 42.44batches/s, epoch=14, loss=0.0286, split=eval]  Converged objectives: []\n"
          ]
        },
        {
          "name": "stdout",
          "output_type": "stream",
          "text": [
            "{'eval_loss': 0.5058165788650513, 'eval_runtime': 61.6052, 'eval_samples_per_second': 40.581, 'eval_steps_per_second': 40.581, 'eval_Sequence2Sequence_loss': 0.36956959562106023, 'eval_Sequence2Sequence_num_batches': 100, 'epoch': 0.69}\n"
          ]
        },
        {
          "name": "stderr",
          "output_type": "stream",
          "text": [
            "Sequence2Sequence:  95%|█████████▌| 23800/25000 [45:22<01:37, 12.36batches/s, epoch=14, loss=0.299, split=train]   Converged objectives: []\n",
            "Sequence2Sequence:  95%|█████████▌| 23802/25000 [45:23<02:03,  9.73batches/s, epoch=14, loss=0.000817, split=train]"
          ]
        },
        {
          "name": "stdout",
          "output_type": "stream",
          "text": [
            "{'loss': 0.4551, 'learning_rate': 1.9364365971107544e-05, 'train_Sequence2Sequence_loss': 0.44054210537287875, 'train_Sequence2Sequence_num_batches': 20, 'epoch': 0.7}\n"
          ]
        },
        {
          "name": "stderr",
          "output_type": "stream",
          "text": [
            "Sequence2Sequence: 100%|██████████| 25000/25000 [47:24<00:00, 10.49batches/s, epoch=14, loss=0.0234, split=train]  Converged objectives: []\n",
            "Sequence2Sequence: 100%|██████████| 25000/25000 [47:24<00:00,  8.79batches/s, epoch=14, loss=0.101, split=train] \n",
            "Sequence2Sequence:   8%|▊         | 2000/25000 [03:26<39:53,  9.61batches/s, epoch=15, loss=0.805, split=train]   Converged objectives: []\n",
            "Evaluating...\n"
          ]
        },
        {
          "name": "stdout",
          "output_type": "stream",
          "text": [
            "{'loss': 0.4627, 'learning_rate': 1.935794542536116e-05, 'train_Sequence2Sequence_loss': 0.4921399026643485, 'train_Sequence2Sequence_num_batches': 20, 'epoch': 0.7}\n"
          ]
        },
        {
          "name": "stderr",
          "output_type": "stream",
          "text": [
            "Sequence2Sequence: 100%|██████████| 2500/2500 [12:01<00:00,  3.47batches/s, epoch=14, loss=0.379, split=eval]\n",
            "Sequence2Sequence: 100%|█████████▉| 2499/2500 [00:59<00:00, 42.38batches/s, epoch=15, loss=0.669, split=eval]   Converged objectives: []\n"
          ]
        },
        {
          "name": "stdout",
          "output_type": "stream",
          "text": [
            "{'eval_loss': 0.5068882703781128, 'eval_runtime': 59.3718, 'eval_samples_per_second': 42.108, 'eval_steps_per_second': 42.108, 'eval_Sequence2Sequence_loss': 0.3671030857101687, 'eval_Sequence2Sequence_num_batches': 100, 'epoch': 0.7}\n"
          ]
        },
        {
          "name": "stderr",
          "output_type": "stream",
          "text": [
            "Sequence2Sequence:  21%|██        | 5199/25000 [10:16<25:11, 13.10batches/s, epoch=15, loss=0.725, split=train]    Converged objectives: []\n",
            "Sequence2Sequence:  21%|██        | 5203/25000 [10:17<27:46, 11.88batches/s, epoch=15, loss=0.0023, split=train]"
          ]
        },
        {
          "name": "stdout",
          "output_type": "stream",
          "text": [
            "{'loss': 0.4568, 'learning_rate': 1.935152487961477e-05, 'train_Sequence2Sequence_loss': 0.34417617645813153, 'train_Sequence2Sequence_num_batches': 20, 'epoch': 0.71}\n"
          ]
        },
        {
          "name": "stderr",
          "output_type": "stream",
          "text": [
            "Sequence2Sequence:  34%|███▎      | 8400/25000 [15:46<28:48,  9.60batches/s, epoch=15, loss=0.491, split=train]   Converged objectives: []\n",
            "Evaluating...\n"
          ]
        },
        {
          "name": "stdout",
          "output_type": "stream",
          "text": [
            "{'loss': 0.4615, 'learning_rate': 1.934510433386838e-05, 'train_Sequence2Sequence_loss': 0.48778395596600604, 'train_Sequence2Sequence_num_batches': 20, 'epoch': 0.72}\n"
          ]
        },
        {
          "name": "stderr",
          "output_type": "stream",
          "text": [
            "Sequence2Sequence: 100%|██████████| 2500/2500 [12:19<00:00,  3.38batches/s, epoch=15, loss=0.334, split=eval]\n",
            "Sequence2Sequence: 100%|█████████▉| 2499/2500 [00:59<00:00, 42.35batches/s, epoch=15, loss=0.7, split=eval]     Converged objectives: []\n"
          ]
        },
        {
          "name": "stdout",
          "output_type": "stream",
          "text": [
            "{'eval_loss': 0.5138648152351379, 'eval_runtime': 59.6039, 'eval_samples_per_second': 41.944, 'eval_steps_per_second': 41.944, 'eval_Sequence2Sequence_loss': 0.37122122727636453, 'eval_Sequence2Sequence_num_batches': 100, 'epoch': 0.72}\n"
          ]
        },
        {
          "name": "stderr",
          "output_type": "stream",
          "text": [
            "Sequence2Sequence:  46%|████▋     | 11600/25000 [22:29<22:58,  9.72batches/s, epoch=15, loss=0.123, split=train]   Converged objectives: []\n",
            "Sequence2Sequence:  46%|████▋     | 11602/25000 [22:29<24:38,  9.06batches/s, epoch=15, loss=0.55, split=train] "
          ]
        },
        {
          "name": "stdout",
          "output_type": "stream",
          "text": [
            "{'loss': 0.4811, 'learning_rate': 1.9338683788121994e-05, 'train_Sequence2Sequence_loss': 0.5794610660756007, 'train_Sequence2Sequence_num_batches': 20, 'epoch': 0.72}\n"
          ]
        },
        {
          "name": "stderr",
          "output_type": "stream",
          "text": [
            "Sequence2Sequence:  59%|█████▉    | 14800/25000 [28:01<17:35,  9.67batches/s, epoch=15, loss=0.00273, split=train] Converged objectives: []\n",
            "Evaluating...\n"
          ]
        },
        {
          "name": "stdout",
          "output_type": "stream",
          "text": [
            "{'loss': 0.4589, 'learning_rate': 1.9332263242375605e-05, 'train_Sequence2Sequence_loss': 0.4520539697899949, 'train_Sequence2Sequence_num_batches': 20, 'epoch': 0.73}\n"
          ]
        },
        {
          "name": "stderr",
          "output_type": "stream",
          "text": [
            "Sequence2Sequence: 100%|██████████| 2500/2500 [12:15<00:00,  3.40batches/s, epoch=15, loss=0.362, split=eval]\n",
            "Sequence2Sequence: 100%|█████████▉| 2498/2500 [00:58<00:00, 42.01batches/s, epoch=15, loss=0.0395, split=eval]  Converged objectives: []\n"
          ]
        },
        {
          "name": "stdout",
          "output_type": "stream",
          "text": [
            "{'eval_loss': 0.5128594040870667, 'eval_runtime': 58.9628, 'eval_samples_per_second': 42.4, 'eval_steps_per_second': 42.4, 'eval_Sequence2Sequence_loss': 0.38117097136870143, 'eval_Sequence2Sequence_num_batches': 100, 'epoch': 0.73}\n"
          ]
        },
        {
          "name": "stderr",
          "output_type": "stream",
          "text": [
            "Sequence2Sequence:  72%|███████▏  | 18000/25000 [34:51<11:40,  9.99batches/s, epoch=15, loss=0.87, split=train]      Converged objectives: []\n",
            "Sequence2Sequence:  72%|███████▏  | 18002/25000 [34:51<13:30,  8.63batches/s, epoch=15, loss=0.165, split=train]"
          ]
        },
        {
          "name": "stdout",
          "output_type": "stream",
          "text": [
            "{'loss': 0.4612, 'learning_rate': 1.9325842696629215e-05, 'train_Sequence2Sequence_loss': 0.41338120492873714, 'train_Sequence2Sequence_num_batches': 20, 'epoch': 0.74}\n"
          ]
        },
        {
          "name": "stderr",
          "output_type": "stream",
          "text": [
            "Sequence2Sequence:  85%|████████▍ | 21200/25000 [40:20<05:55, 10.68batches/s, epoch=15, loss=0.319, split=train]   Converged objectives: []\n",
            "Evaluating...\n"
          ]
        },
        {
          "name": "stdout",
          "output_type": "stream",
          "text": [
            "{'loss': 0.4399, 'learning_rate': 1.9319422150882826e-05, 'train_Sequence2Sequence_loss': 0.47086584819771815, 'train_Sequence2Sequence_num_batches': 20, 'epoch': 0.74}\n"
          ]
        },
        {
          "name": "stderr",
          "output_type": "stream",
          "text": [
            "Sequence2Sequence: 100%|██████████| 2500/2500 [12:18<00:00,  3.39batches/s, epoch=15, loss=0.3, split=eval]\n",
            "Sequence2Sequence: 100%|█████████▉| 2499/2500 [00:59<00:00, 42.93batches/s, epoch=15, loss=0.829, split=eval]   n]Converged objectives: []\n"
          ]
        },
        {
          "name": "stdout",
          "output_type": "stream",
          "text": [
            "{'eval_loss': 0.5155004858970642, 'eval_runtime': 59.1815, 'eval_samples_per_second': 42.243, 'eval_steps_per_second': 42.243, 'eval_Sequence2Sequence_loss': 0.37860950291757034, 'eval_Sequence2Sequence_num_batches': 100, 'epoch': 0.74}\n"
          ]
        },
        {
          "name": "stderr",
          "output_type": "stream",
          "text": [
            "Sequence2Sequence:  98%|█████████▊| 24399/25000 [47:00<00:58, 10.24batches/s, epoch=15, loss=0.906, split=train]     Converged objectives: []\n",
            "Sequence2Sequence:  98%|█████████▊| 24402/25000 [47:00<01:04,  9.21batches/s, epoch=15, loss=0.385, split=train]"
          ]
        },
        {
          "name": "stdout",
          "output_type": "stream",
          "text": [
            "{'loss': 0.4483, 'learning_rate': 1.931300160513644e-05, 'train_Sequence2Sequence_loss': 0.4644367385888472, 'train_Sequence2Sequence_num_batches': 20, 'epoch': 0.75}\n"
          ]
        },
        {
          "name": "stderr",
          "output_type": "stream",
          "text": [
            "Sequence2Sequence: 100%|██████████| 25000/25000 [48:02<00:00, 10.75batches/s, epoch=15, loss=0.0247, split=train]  Converged objectives: []\n",
            "Sequence2Sequence: 100%|██████████| 25000/25000 [48:02<00:00,  8.67batches/s, epoch=15, loss=0.073, split=train] \n",
            "Sequence2Sequence:  10%|█         | 2600/25000 [04:35<40:10,  9.29batches/s, epoch=16, loss=0.259, split=train]   Converged objectives: []\n",
            "Evaluating...\n"
          ]
        },
        {
          "name": "stdout",
          "output_type": "stream",
          "text": [
            "{'loss': 0.456, 'learning_rate': 1.930658105939005e-05, 'train_Sequence2Sequence_loss': 0.4327113742008805, 'train_Sequence2Sequence_num_batches': 20, 'epoch': 0.76}\n"
          ]
        },
        {
          "name": "stderr",
          "output_type": "stream",
          "text": [
            "Sequence2Sequence: 100%|██████████| 2500/2500 [12:17<00:00,  3.39batches/s, epoch=15, loss=0.412, split=eval]\n",
            "Sequence2Sequence: 100%|█████████▉| 2497/2500 [00:59<00:00, 43.34batches/s, epoch=16, loss=0.756, split=eval]   Converged objectives: []\n"
          ]
        },
        {
          "name": "stdout",
          "output_type": "stream",
          "text": [
            "{'eval_loss': 0.5141530632972717, 'eval_runtime': 59.4825, 'eval_samples_per_second': 42.029, 'eval_steps_per_second': 42.029, 'eval_Sequence2Sequence_loss': 0.3772306936941823, 'eval_Sequence2Sequence_num_batches': 100, 'epoch': 0.76}\n"
          ]
        },
        {
          "name": "stderr",
          "output_type": "stream",
          "text": [
            "Sequence2Sequence:  23%|██▎       | 5800/25000 [11:12<33:19,  9.60batches/s, epoch=16, loss=0.269, split=train]     Converged objectives: []\n",
            "Sequence2Sequence:  23%|██▎       | 5803/25000 [11:13<35:00,  9.14batches/s, epoch=16, loss=0.0074, split=train]"
          ]
        },
        {
          "name": "stdout",
          "output_type": "stream",
          "text": [
            "{'loss': 0.4478, 'learning_rate': 1.9300160513643662e-05, 'train_Sequence2Sequence_loss': 0.46690354589372873, 'train_Sequence2Sequence_num_batches': 20, 'epoch': 0.76}\n"
          ]
        },
        {
          "name": "stderr",
          "output_type": "stream",
          "text": [
            "Sequence2Sequence:  36%|███▌      | 8999/25000 [16:42<26:59,  9.88batches/s, epoch=16, loss=0.256, split=train]   Converged objectives: []\n",
            "Evaluating...\n"
          ]
        },
        {
          "name": "stdout",
          "output_type": "stream",
          "text": [
            "{'loss': 0.4538, 'learning_rate': 1.9293739967897272e-05, 'train_Sequence2Sequence_loss': 0.5165918341255746, 'train_Sequence2Sequence_num_batches': 20, 'epoch': 0.77}\n"
          ]
        },
        {
          "name": "stderr",
          "output_type": "stream",
          "text": [
            "Sequence2Sequence: 100%|██████████| 2500/2500 [12:07<00:00,  3.44batches/s, epoch=16, loss=0.457, split=eval]\n",
            "Sequence2Sequence: 100%|██████████| 2500/2500 [00:59<00:00, 41.30batches/s, epoch=16, loss=0.0375, split=eval]  Objective `Sequence2Sequence` convergence metric `loss` did not improve for 10 eval steps. History: [0.3794464306027658, 0.36688949639614293, 0.36742951164022086, 0.36956959562106023, 0.3671030857101687, 0.37122122727636453, 0.38117097136870143, 0.37860950291757034, 0.3772306936941823, 0.37459440535254546]\n",
            "Converged objectives: ['Sequence2Sequence']\n",
            "Scheduler reached a termination condition: FIRST_OBJECTIVE_CONVERGED\n"
          ]
        },
        {
          "name": "stdout",
          "output_type": "stream",
          "text": [
            "{'eval_loss': 0.5148823261260986, 'eval_runtime': 59.5736, 'eval_samples_per_second': 41.965, 'eval_steps_per_second': 41.965, 'eval_Sequence2Sequence_loss': 0.37459440535254546, 'eval_Sequence2Sequence_num_batches': 100, 'epoch': 0.77}\n"
          ]
        },
        {
          "name": "stderr",
          "output_type": "stream",
          "text": [
            "Objective `Sequence2Sequence` convergence metric `loss` did not improve for 10 eval steps. History: [0.3794464306027658, 0.36688949639614293, 0.36742951164022086, 0.36956959562106023, 0.3671030857101687, 0.37122122727636453, 0.38117097136870143, 0.37860950291757034, 0.3772306936941823, 0.37459440535254546]\n",
            "Converged objectives: ['Sequence2Sequence']\n",
            "Scheduler reached a termination condition: FIRST_OBJECTIVE_CONVERGED\n"
          ]
        },
        {
          "name": "stdout",
          "output_type": "stream",
          "text": [
            "{'train_runtime': 44469.4849, 'train_samples_per_second': 224.873, 'train_steps_per_second': 7.027, 'train_loss': 1.267830918629964, 'train_Sequence2Sequence_loss': 0.5165918341255746, 'train_Sequence2Sequence_num_batches': 20, 'epoch': 0.77}\n"
          ]
        },
        {
          "data": {
            "text/plain": [
              "TrainOutput(global_step=12000, training_loss=1.267830918629964, metrics={'train_runtime': 44469.4849, 'train_samples_per_second': 224.873, 'train_steps_per_second': 7.027, 'total_flos': 0.0, 'train_loss': 1.267830918629964})"
            ]
          },
          "execution_count": 19,
          "metadata": {},
          "output_type": "execute_result"
        }
      ],
      "source": [
        "adapter.train()"
      ]
    },
    {
      "cell_type": "code",
      "execution_count": null,
      "id": "b54201ac-827a-4ead-827a-20f0bfdbf818",
      "metadata": {
        "id": "b54201ac-827a-4ead-827a-20f0bfdbf818",
        "outputId": "fca40a81-71aa-4f56-c3eb-be9d6a973457",
        "tags": []
      },
      "outputs": [
        {
          "data": {
            "text/plain": [
              "<Axes: >"
            ]
          },
          "execution_count": 23,
          "metadata": {},
          "output_type": "execute_result"
        },
        {
          "data": {
            "image/png": "[encoded data removed]",
            "text/plain": [
              "<Figure size 600x300 with 1 Axes>"
            ]
          },
          "metadata": {},
          "output_type": "display_data"
        }
      ],
      "source": [
        "# Evaluation loss\n",
        "pd.Series(training_objective.evaluations_history[\"eval\"][\"loss\"]).plot(figsize=(6, 3), grid=True)"
      ]
    },
    {
      "cell_type": "code",
      "execution_count": null,
      "id": "78366658-99df-4222-a2f6-4f847205949a",
      "metadata": {
        "id": "78366658-99df-4222-a2f6-4f847205949a",
        "outputId": "7798f9a2-475d-4489-f1db-8cd9457f9fe4",
        "tags": []
      },
      "outputs": [
        {
          "data": {
            "text/plain": [
              "<Axes: >"
            ]
          },
          "execution_count": 24,
          "metadata": {},
          "output_type": "execute_result"
        },
        {
          "data": {
            "image/png": "[encoded data removed]",
            "text/plain": [
              "<Figure size 600x300 with 1 Axes>"
            ]
          },
          "metadata": {},
          "output_type": "display_data"
        }
      ],
      "source": [
        "# Training loss\n",
        "pd.Series(training_objective.evaluations_history[\"train\"][\"loss\"]).plot(figsize=(6, 3), grid=True)"
      ]
    }
  ],
  "metadata": {
    "colab": {
      "provenance": []
    },
    "kernelspec": {
      "display_name": "Python 3 (ipykernel)",
      "language": "python",
      "name": "python3"
    },
    "language_info": {
      "codemirror_mode": {
        "name": "ipython",
        "version": 3
      },
      "file_extension": ".py",
      "mimetype": "text/x-python",
      "name": "python",
      "nbconvert_exporter": "python",
      "pygments_lexer": "ipython3",
      "version": "3.8.10"
    }
  },
  "nbformat": 4,
  "nbformat_minor": 5
}