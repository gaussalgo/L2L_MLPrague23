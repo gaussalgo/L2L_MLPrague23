{
  "cells": [
    {
      "cell_type": "markdown",
      "metadata": {
        "id": "view-in-github",
        "colab_type": "text"
      },
      "source": [
        "<a href=\"https://colab.research.google.com/github/gaussalgo/L2L_MLPrague23/blob/main/notebooks/hands_on_improving_ICL.ipynb\" target=\"_parent\"><img src=\"https://colab.research.google.com/assets/colab-badge.svg\" alt=\"Open In Colab\"/></a>"
      ]
    },
    {
      "cell_type": "markdown",
      "metadata": {
        "id": "c9f30c1a-8962-4236-b7aa-3718d08548da"
      },
      "source": [
        "# Training generative models\n",
        "\n",
        "Now that we have a theoretical background, we'll take a look at how the covered generative models are actually trained. \n",
        "\n",
        "After the overview, we will finally utilize this knowledge in training our own in-context learner, taylored for a new language, or improved on a specific task of your interest!\n"
      ],
      "id": "c9f30c1a-8962-4236-b7aa-3718d08548da"
    },
    {
      "cell_type": "code",
      "execution_count": null,
      "metadata": {
        "id": "42d0299e-e0b4-4e36-8b1d-2322b68cab54"
      },
      "outputs": [],
      "source": [
        "# notebook's requirements\n",
        "!pip install -q adaptor transformers datasets"
      ],
      "id": "42d0299e-e0b4-4e36-8b1d-2322b68cab54"
    },
    {
      "cell_type": "markdown",
      "metadata": {
        "id": "b487bae2-bbf2-44c4-9ea6-70126e319792"
      },
      "source": [
        "## Generation - refresher\n",
        "\n",
        "Recall the **Causal Langauge Modeling (CLM)** from earlier, where the model predicts the **following token** from previous context.\n",
        "\n",
        "![CLM_1](https://github.com/gaussalgo/L2L_MLPrague23/blob/main/notebooks/images/CLM_1_new.png?raw=1)  \n",
        "![CLM_2](https://github.com/gaussalgo/L2L_MLPrague23/blob/main/notebooks/images/CLM_2_new.png?raw=1)\n",
        "![CLM_3](https://github.com/gaussalgo/L2L_MLPrague23/blob/main/notebooks/images/CLM_3_new.png?raw=1)\n",
        "\n",
        "[[images source]](https://www.rohanawhad.com/improvements-of-spanbert-over-bert/)\n",
        "\n",
        "Note the relation of *generation* and CLM objective: We predict the next token conditionally to the input. Only in the case of \"real\" generation, the **input also contains the previous outputs** of the model."
      ],
      "id": "b487bae2-bbf2-44c4-9ea6-70126e319792"
    },
    {
      "cell_type": "markdown",
      "metadata": {
        "id": "6ab407ee-eedc-4843-9d58-a372ce76b86a"
      },
      "source": [
        "## Construction of Training pipeline\n",
        "\n",
        "Many libraries makes it easy to train your NN model, with different levels of user complexity - do not get confused by that.\n",
        "\n",
        "Ordered by implementation complexity incrementally, for PyTorch models, you can find at least these: **Pure PyTorch, PyTorch Lightning, Transformers Trainer, Adaptor (ours)**. We will take a look at how it looks at the most low-level (Pure PyTorch), and the most high-level (Adaptor), but in your time, you can also look at [Sequence Classification tutorial](https://huggingface.co/docs/transformers/tasks/sequence_classification) from HuggingFace.\n"
      ],
      "id": "6ab407ee-eedc-4843-9d58-a372ce76b86a"
    },
    {
      "cell_type": "markdown",
      "metadata": {
        "id": "95be66f8-ce1c-43a5-a49d-91832e69541c"
      },
      "source": [
        "## ⛵ Low-level Training pipeline - Example\n",
        "\n",
        "Here, we are going to take a look at the low level of updating a network.\n",
        "The process can be summarized in the following steps:\n",
        "\n",
        "1. **We pick our base model** to fine-tune. While all Transformer LMs can perform token classification, not all of them are equally good at it. We'll talk about it a bit more offline.\n",
        "\n",
        "2. **We construct training dataset** from our data. Here, we transform texts into valid model inputs/samples (as we've seen in previous session) and assign true labels for each sample.\n",
        "\n",
        "3. **We iterate over the samples** in so-called *epochs*. In this step, we get the model predictions for a *batch* of samples: The raw predictions take form of probabilities (usually log-probabilities, to make prediction faster).\n",
        "\n",
        "4. **We update the model**. Here, we first compare the predicted probabilities with \"true probabilities\", where true category gets a probability==1, and other categories get 0. The comparison is done by so-called *loss* function, which is a special version of distance measure. Then, we update the weights of the model so that they improve the loss metric.\n",
        "\n",
        "5. **We continue as long as the model improves**, which we measure on a held-out dataset, to avoid that the model just learns to remember our data (but then would perform badly in the real world)."
      ],
      "id": "95be66f8-ce1c-43a5-a49d-91832e69541c"
    },
    {
      "cell_type": "markdown",
      "metadata": {
        "id": "aE7HFMhTExJ0"
      },
      "source": [
        "### 1: Pick our base model"
      ],
      "id": "aE7HFMhTExJ0"
    },
    {
      "cell_type": "code",
      "execution_count": null,
      "metadata": {
        "id": "fe3494eb-b0c4-4756-b391-4277eb537e03"
      },
      "outputs": [],
      "source": [
        "from transformers import GPT2LMHeadModel, AutoTokenizer\n",
        "\n",
        "device = \"cuda\"\n",
        "\n",
        "model = GPT2LMHeadModel.from_pretrained(\"gpt2\").to(device)\n",
        "tokenizer = AutoTokenizer.from_pretrained(\"gpt2\")\n",
        "tokenizer.add_special_tokens({'pad_token': 'pad'})"
      ],
      "id": "fe3494eb-b0c4-4756-b391-4277eb537e03"
    },
    {
      "cell_type": "markdown",
      "metadata": {
        "id": "FSJXMP6KEq-F"
      },
      "source": [
        "### 2: Constructing training dataset"
      ],
      "id": "FSJXMP6KEq-F"
    },
    {
      "cell_type": "code",
      "execution_count": null,
      "metadata": {
        "id": "84e44004-d65f-41a3-8dbf-1964e0d3ddd5"
      },
      "outputs": [],
      "source": [
        "from datasets import load_dataset\n",
        "\n",
        "dataset = load_dataset(\"imdb\")"
      ],
      "id": "84e44004-d65f-41a3-8dbf-1964e0d3ddd5"
    },
    {
      "cell_type": "markdown",
      "metadata": {
        "id": "7JxXF_RVYUmR"
      },
      "source": [
        "### Dataset transformations\n",
        "\n",
        "Before we jump into the training routine, we'll zoom in on data processing we need for training GPT-like Causal language models.\n",
        "\n",
        "First, we'll transform the sample on model's input ids using the associated tokenizer. Then, we'll take a look at labels construction."
      ],
      "id": "7JxXF_RVYUmR"
    },
    {
      "cell_type": "code",
      "execution_count": null,
      "metadata": {
        "id": "b-ZgwraRh5SV"
      },
      "outputs": [],
      "source": [
        "sample_encoding = tokenizer(dataset[\"unsupervised\"]['text'][10], \n",
        "                            padding=\"longest\",  # we'll set padding and truncation so that tokenizer allows us to directly obtain tensors\n",
        "                            truncation=True,\n",
        "                            return_tensors=\"pt\"  # this returns the samples as PyTorch tensors, that we do not have to convert ourselves\n",
        "                            )"
      ],
      "id": "b-ZgwraRh5SV"
    },
    {
      "cell_type": "markdown",
      "metadata": {
        "id": "bx33FdQeE5yH"
      },
      "source": [
        "#### Constructing training labels"
      ],
      "id": "bx33FdQeE5yH"
    },
    {
      "cell_type": "code",
      "execution_count": null,
      "metadata": {
        "colab": {
          "base_uri": "https://localhost:8080/",
          "height": 105
        },
        "id": "xteHowKaD7aW",
        "outputId": "5cd73ac7-1bb8-425a-92f5-227c2ddd8441"
      },
      "outputs": [
        {
          "output_type": "execute_result",
          "data": {
            "text/plain": [
              "\"This| isn|'t| the| worst| comedy| of| all|-|time|,| but| that| is| about| the| best| thing| that| I| can| say| about| this| pathetic| film|.| I| didn|'t| laugh| once|,| or| even| smile| once| during| this| bomb|.| There| was| usually| something| going| on| on|-|screen|,| so| I| didn|'t| get| TO|O| bored|,| but| most| of| the| jokes| here| were| simply| awful|.| The| final| sequence| is| nothing| more| than| a| long| series| of| people| falling| through| doors| and| stumbling| all| over| the| place|.| Needless| to| say|,| it| was| a| fitting| way| to| end| a| movie| that| was| impossible| for| me| to| like|.\""
            ],
            "application/vnd.google.colaboratory.intrinsic+json": {
              "type": "string"
            }
          },
          "metadata": {},
          "execution_count": 5
        }
      ],
      "source": [
        "# GPT's input ids, decoded:\n",
        "\"|\".join(tokenizer.batch_decode(sample_encoding[\"input_ids\"][0]))"
      ],
      "id": "xteHowKaD7aW"
    },
    {
      "cell_type": "code",
      "execution_count": null,
      "metadata": {
        "colab": {
          "base_uri": "https://localhost:8080/",
          "height": 105
        },
        "id": "5v2Mb3FuDqBX",
        "outputId": "cc32cdf4-4e92-4ac5-b986-e8ec4c395be7"
      },
      "outputs": [
        {
          "output_type": "execute_result",
          "data": {
            "text/plain": [
              "\" isn|'t| the| worst| comedy| of| all|-|time|,| but| that| is| about| the| best| thing| that| I| can| say| about| this| pathetic| film|.| I| didn|'t| laugh| once|,| or| even| smile| once| during| this| bomb|.| There| was| usually| something| going| on| on|-|screen|,| so| I| didn|'t| get| TO|O| bored|,| but| most| of| the| jokes| here| were| simply| awful|.| The| final| sequence| is| nothing| more| than| a| long| series| of| people| falling| through| doors| and| stumbling| all| over| the| place|.| Needless| to| say|,| it| was| a| fitting| way| to| end| a| movie| that| was| impossible| for| me| to| like|.\""
            ],
            "application/vnd.google.colaboratory.intrinsic+json": {
              "type": "string"
            }
          },
          "metadata": {},
          "execution_count": 6
        }
      ],
      "source": [
        "# GPT's training labels: when training to predict the following token, we simply shift the inputs one position to the right\n",
        "labels = sample_encoding[\"input_ids\"][..., 1:]\n",
        "\n",
        "\"|\".join(tokenizer.batch_decode(labels[0]))"
      ],
      "id": "5v2Mb3FuDqBX"
    },
    {
      "cell_type": "markdown",
      "metadata": {
        "id": "aFxPgvIvNl9T"
      },
      "source": [
        "#### Creating next-token prediction inputs from each sample\n",
        "\n",
        "For the next-token prediction, we actually create multiple samples from each text: There are **many** tokens that we can use as **targets**!\n",
        "\n",
        "To make it easier for us, we'll repeatedly use the **same input ids**, and only **attend to the previous tokens**, to be used in prediction. We just need to be careful not to un-mask the actually-predicted token.\n",
        "\n",
        "We can implement this quite easily by constructing a **triangular attention mask** for each input from the batch."
      ],
      "id": "aFxPgvIvNl9T"
    },
    {
      "cell_type": "code",
      "execution_count": null,
      "metadata": {
        "colab": {
          "base_uri": "https://localhost:8080/"
        },
        "id": "ANSt04a0Nrv7",
        "outputId": "2d6d74b2-f209-4d94-ef97-e46463300348"
      },
      "outputs": [
        {
          "output_type": "execute_result",
          "data": {
            "text/plain": [
              "tensor([113])"
            ]
          },
          "metadata": {},
          "execution_count": 7
        }
      ],
      "source": [
        "attended_input_length = sample_encoding[\"attention_mask\"].sum(axis=1)\n",
        "attended_input_length"
      ],
      "id": "ANSt04a0Nrv7"
    },
    {
      "cell_type": "markdown",
      "metadata": {
        "id": "eL4S3SOEiJhO"
      },
      "source": [
        "**Input ids**: duplicate inputs by the number of predicted tokens"
      ],
      "id": "eL4S3SOEiJhO"
    },
    {
      "cell_type": "code",
      "execution_count": null,
      "metadata": {
        "colab": {
          "base_uri": "https://localhost:8080/"
        },
        "id": "0bpxWhHQQAUh",
        "outputId": "bcb5892b-a3ff-467f-a849-1f269fbd287a"
      },
      "outputs": [
        {
          "output_type": "execute_result",
          "data": {
            "text/plain": [
              "tensor([[1212, 2125,  470,  ...,  284,  588,   13],\n",
              "        [1212, 2125,  470,  ...,  284,  588,   13],\n",
              "        [1212, 2125,  470,  ...,  284,  588,   13],\n",
              "        ...,\n",
              "        [1212, 2125,  470,  ...,  284,  588,   13],\n",
              "        [1212, 2125,  470,  ...,  284,  588,   13],\n",
              "        [1212, 2125,  470,  ...,  284,  588,   13]])"
            ]
          },
          "metadata": {},
          "execution_count": 8
        }
      ],
      "source": [
        "# duplicate inputs by the number of predicted tokens\n",
        "input_ids = sample_encoding[\"input_ids\"].expand(attended_input_length, -1)\n",
        "input_ids"
      ],
      "id": "0bpxWhHQQAUh"
    },
    {
      "cell_type": "code",
      "execution_count": null,
      "metadata": {
        "colab": {
          "base_uri": "https://localhost:8080/"
        },
        "id": "RbKQ5_5fnNMJ",
        "outputId": "eb12cf38-ab8b-4e23-8fbe-ea560b026195"
      },
      "outputs": [
        {
          "output_type": "execute_result",
          "data": {
            "text/plain": [
              "torch.Size([113, 113])"
            ]
          },
          "metadata": {},
          "execution_count": 9
        }
      ],
      "source": [
        "input_ids.shape"
      ],
      "id": "RbKQ5_5fnNMJ"
    },
    {
      "cell_type": "markdown",
      "metadata": {
        "id": "5bKQm1DyiLSU"
      },
      "source": [
        "**Attention mask**: we create triangles that will mask all future tokens from prediction"
      ],
      "id": "5bKQm1DyiLSU"
    },
    {
      "cell_type": "code",
      "execution_count": null,
      "metadata": {
        "colab": {
          "base_uri": "https://localhost:8080/"
        },
        "id": "uEA8oIf7iYMr",
        "outputId": "27e916da-fae6-4f0a-dcfd-d59168afc5f2"
      },
      "outputs": [
        {
          "output_type": "execute_result",
          "data": {
            "text/plain": [
              "tensor([[1., 0., 0., 0., 0., 0.],\n",
              "        [1., 1., 0., 0., 0., 0.],\n",
              "        [1., 1., 1., 0., 0., 0.],\n",
              "        [1., 1., 1., 1., 0., 0.]])"
            ]
          },
          "metadata": {},
          "execution_count": 10
        }
      ],
      "source": [
        "import torch \n",
        "\n",
        "# this is how we construct tensor triangles\n",
        "torch.tril(torch.ones(4, 6), diagonal=0)"
      ],
      "id": "uEA8oIf7iYMr"
    },
    {
      "cell_type": "code",
      "execution_count": null,
      "metadata": {
        "colab": {
          "base_uri": "https://localhost:8080/"
        },
        "id": "HQvzkxXLiLxk",
        "outputId": "c2e6cc94-3303-49b9-a09f-ee93e561686b"
      },
      "outputs": [
        {
          "output_type": "execute_result",
          "data": {
            "text/plain": [
              "tensor([[1., 0., 0.,  ..., 0., 0., 0.],\n",
              "        [1., 1., 0.,  ..., 0., 0., 0.],\n",
              "        [1., 1., 1.,  ..., 0., 0., 0.],\n",
              "        ...,\n",
              "        [1., 1., 1.,  ..., 1., 0., 0.],\n",
              "        [1., 1., 1.,  ..., 1., 1., 0.],\n",
              "        [1., 1., 1.,  ..., 1., 1., 1.]])"
            ]
          },
          "metadata": {},
          "execution_count": 11
        }
      ],
      "source": [
        "attention_triangle = torch.tril(torch.ones(attended_input_length, input_ids.shape[1]), diagonal=0)\n",
        "attention_triangle"
      ],
      "id": "HQvzkxXLiLxk"
    },
    {
      "cell_type": "code",
      "execution_count": null,
      "metadata": {
        "colab": {
          "base_uri": "https://localhost:8080/"
        },
        "id": "rFyZ1L2znMHP",
        "outputId": "4b8bacb7-3e01-487e-bfbc-ff5f27d5eb10"
      },
      "outputs": [
        {
          "output_type": "execute_result",
          "data": {
            "text/plain": [
              "torch.Size([113, 113])"
            ]
          },
          "metadata": {},
          "execution_count": 12
        }
      ],
      "source": [
        "attention_triangle.shape"
      ],
      "id": "rFyZ1L2znMHP"
    },
    {
      "cell_type": "markdown",
      "metadata": {
        "id": "e6HZwI09iVGD"
      },
      "source": [
        "**Labels**: Finally, we spread the pre-computed labels to assign exactly one label id to each new sample"
      ],
      "id": "e6HZwI09iVGD"
    },
    {
      "cell_type": "code",
      "execution_count": null,
      "metadata": {
        "colab": {
          "base_uri": "https://localhost:8080/",
          "height": 105
        },
        "id": "VJrQS0Z1iVmi",
        "outputId": "1260a055-e499-4d02-ccc8-13d1fc20a4f5"
      },
      "outputs": [
        {
          "output_type": "execute_result",
          "data": {
            "text/plain": [
              "\" isn|'t| the| worst| comedy| of| all|-|time|,| but| that| is| about| the| best| thing| that| I| can| say| about| this| pathetic| film|.| I| didn|'t| laugh| once|,| or| even| smile| once| during| this| bomb|.| There| was| usually| something| going| on| on|-|screen|,| so| I| didn|'t| get| TO|O| bored|,| but| most| of| the| jokes| here| were| simply| awful|.| The| final| sequence| is| nothing| more| than| a| long| series| of| people| falling| through| doors| and| stumbling| all| over| the| place|.| Needless| to| say|,| it| was| a| fitting| way| to| end| a| movie| that| was| impossible| for| me| to| like|.\""
            ],
            "application/vnd.google.colaboratory.intrinsic+json": {
              "type": "string"
            }
          },
          "metadata": {},
          "execution_count": 13
        }
      ],
      "source": [
        "labels = sample_encoding[\"input_ids\"][..., 1:][:attended_input_length]\n",
        "labels\n",
        "\"|\".join(tokenizer.batch_decode(labels[0]))"
      ],
      "id": "VJrQS0Z1iVmi"
    },
    {
      "cell_type": "code",
      "execution_count": null,
      "metadata": {
        "colab": {
          "base_uri": "https://localhost:8080/"
        },
        "id": "ARYScE-vnq9d",
        "outputId": "7bac9ea7-b4b0-4f99-cc6a-89edc716bb73"
      },
      "outputs": [
        {
          "output_type": "execute_result",
          "data": {
            "text/plain": [
              "50256"
            ]
          },
          "metadata": {},
          "execution_count": 14
        }
      ],
      "source": [
        "# After the model is done, we want it to generate a special <EoS> token. This way, we know that the model is done with generation.\n",
        "model.config.eos_token_id"
      ],
      "id": "ARYScE-vnq9d"
    },
    {
      "cell_type": "code",
      "execution_count": null,
      "metadata": {
        "id": "KECoWaGUocoh"
      },
      "outputs": [],
      "source": [
        "# Hence, we add the token as the last label\n",
        "labels = torch.hstack([labels, torch.tensor([[model.config.eos_token_id]])])"
      ],
      "id": "KECoWaGUocoh"
    },
    {
      "cell_type": "code",
      "execution_count": null,
      "metadata": {
        "colab": {
          "base_uri": "https://localhost:8080/"
        },
        "id": "7GhQrHNFnerN",
        "outputId": "a53ca338-a1bc-42ba-ea0a-6b5e13bb1683"
      },
      "outputs": [
        {
          "output_type": "execute_result",
          "data": {
            "text/plain": [
              "torch.Size([1, 113])"
            ]
          },
          "metadata": {},
          "execution_count": 16
        }
      ],
      "source": [
        "labels.shape"
      ],
      "id": "7GhQrHNFnerN"
    },
    {
      "cell_type": "code",
      "execution_count": null,
      "metadata": {
        "colab": {
          "base_uri": "https://localhost:8080/"
        },
        "id": "F60-sVtcpH_G",
        "outputId": "d7cfdf53-39f9-4525-c0e2-054a10152428"
      },
      "outputs": [
        {
          "output_type": "execute_result",
          "data": {
            "text/plain": [
              "torch.Size([1, 113])"
            ]
          },
          "metadata": {},
          "execution_count": 17
        }
      ],
      "source": [
        "sample_encoding[\"input_ids\"].shape"
      ],
      "id": "F60-sVtcpH_G"
    },
    {
      "cell_type": "markdown",
      "metadata": {
        "id": "ZzNMHN7HivSx"
      },
      "source": [
        "#### Now, we wrap the whole encoding into a method"
      ],
      "id": "ZzNMHN7HivSx"
    },
    {
      "cell_type": "code",
      "execution_count": null,
      "metadata": {
        "id": "_k_coSUwhr0O"
      },
      "outputs": [],
      "source": [
        "from typing import Dict\n",
        "import torch\n",
        "import itertools\n",
        "\n",
        "def construct_causalLM_sample(sample: Dict[str, torch.tensor]) -> Dict[str, torch.tensor]:\n",
        "    extended_batch = {}\n",
        "\n",
        "    attended_input_length = sample[\"input_ids\"].shape[-1]\n",
        "\n",
        "    extended_batch[\"input_ids\"] = sample[\"input_ids\"].expand(attended_input_length, -1)\n",
        "\n",
        "    extended_batch[\"attention_mask\"] = torch.tril(torch.ones(attended_input_length, attended_input_length), diagonal=0)\n",
        "\n",
        "    extended_batch[\"labels\"] = sample[\"input_ids\"][..., 1:][:attended_input_length]\n",
        "    extended_batch[\"labels\"] = torch.hstack([extended_batch[\"labels\"][0], torch.tensor([model.config.eos_token_id])])\n",
        "\n",
        "    extended_batch[\"labels_position\"] = torch.arange(sample[\"input_ids\"].shape[-1])\n",
        "\n",
        "    return extended_batch"
      ],
      "id": "_k_coSUwhr0O"
    },
    {
      "cell_type": "markdown",
      "metadata": {
        "id": "kTYdZ21vJybl"
      },
      "source": [
        "### 3: Iterate over the samples and 4: Update the model\n",
        "\n",
        "Finally, we plug in the processing into the large training loop.\n",
        "\n",
        "#### What is happening here?\n",
        "\n",
        "As in training any neural network, we need to take care of several things that are not directly related to our objective.\n",
        "\n",
        "* Configure **batch size** and **learning rate**\n",
        "* Initialize **optimizer** that updates the model according to the gradients of the loss from real data\n",
        "* Initialize **loss function** measuring how well the model fits the data\n",
        "\n",
        "After that we **iterate over data**:\n",
        "* Obtain **batches of CLM samples**\n",
        "* Run them through the model to **obtain predictions** in a form of (log) probabilities over the model's vocabulary\n",
        "* Compute the value of the loss and register gradients of the model weights used later to update the model\n",
        "* Update the model and restart the gradients\n",
        "* Finally, we stop if the training does not improve for a while"
      ],
      "id": "kTYdZ21vJybl"
    },
    {
      "cell_type": "code",
      "execution_count": null,
      "metadata": {
        "id": "8a66c18f-8e39-4acf-af33-37ca69c46582",
        "scrolled": true
      },
      "outputs": [],
      "source": [
        "from transformers import AdamW\n",
        "from torch.nn import CrossEntropyLoss\n",
        "\n",
        "batch_size = 8\n",
        "learning_rate = 2e-6\n",
        "\n",
        "optimizer = AdamW(model.parameters(),  # optimizer will actually update the model weights,\n",
        "                  no_deprecation_warning=True,  # so that they get better at prediction after every step\n",
        "                  lr=learning_rate)\n",
        "\n",
        "loss_fn = CrossEntropyLoss()  # distance function comparing predictions to expected labels\n",
        "\n",
        "while True:\n",
        "    running_loss = 0  # aggregation variable, to observe if we progress\n",
        "    last_running_loss = 10e28  # super high initial loss that will decrease\n",
        "    for text in dataset[\"unsupervised\"]['text']:  # per-sample iteration\n",
        "        sample_encoding = tokenizer(text, \n",
        "                                    padding=\"longest\",  # padding and truncation allows us to directly obtain tensors,\n",
        "                                    truncation=True,    # but otherwise are not needed\n",
        "                                    return_tensors=\"pt\")\n",
        "        \n",
        "        clm_samples = construct_causalLM_sample(sample_encoding)  # transformation to CLM samples\n",
        "        for batch_offset in range(0, len(clm_samples[\"input_ids\"]), batch_size):  # per-CLM-samples iteration, batched\n",
        "\n",
        "            # Construction of the training batch that we've seen above\n",
        "            dataset_batch = {k: clm_samples[k][batch_offset: batch_offset+batch_size].to(model.device) \n",
        "                             for k in clm_samples.keys()}\n",
        "\n",
        "            # Model prediction, (also called forward pass)\n",
        "            model_logprobs = model(input_ids=dataset_batch[\"input_ids\"],  # this can also be done with model(**dataset_batch)\n",
        "                                   attention_mask=dataset_batch[\"attention_mask\"]).logits          \n",
        "            # HuggingFace implementation gives us predictions for all tokens, \n",
        "            # but we'll update the model only based on the predictions with labels \n",
        "            logprobs_with_labels = model_logprobs[torch.arange(model_logprobs.size(0)), dataset_batch[\"labels_position\"]]\n",
        "                        \n",
        "            # we first compare the predicted probabilities with \"true probabilities\"\n",
        "            loss_value = loss_fn(logprobs_with_labels, dataset_batch[\"labels\"])\n",
        "\n",
        "            # we note the errors (gradients) to each model parameters (also called backward pass)\n",
        "            loss_value.backward()\n",
        "            \n",
        "            running_loss += loss_value.item()\n",
        "            \n",
        "            # 4. We update the model\n",
        "            optimizer.step()\n",
        "            optimizer.zero_grad()\n",
        "            \n",
        "            # 5: Evaluation: Check and stop the training if the model no longer improves\n",
        "            if batch_offset!= 0 and (batch_offset/batch_size) % 10 == 0:\n",
        "                # print our loss after every 1000-th step\n",
        "                print(\"Current training loss: %s\" % running_loss)\n",
        "                # stop if the loss increased\n",
        "                if last_running_loss < running_loss:\n",
        "                    break\n",
        "\n",
        "                running_loss = 0  # restart the log"
      ],
      "id": "8a66c18f-8e39-4acf-af33-37ca69c46582"
    },
    {
      "cell_type": "markdown",
      "source": [
        "See the **training log of real large-scale training** of BLOOM (176B params, $2-5M in cloud computing): https://huggingface.co/bigscience/bloom/tensorboard"
      ],
      "metadata": {
        "id": "yZmE55MWviwh"
      },
      "id": "yZmE55MWviwh"
    },
    {
      "cell_type": "markdown",
      "metadata": {
        "id": "f45c9f88-bb44-4e74-9828-e6acebbfc8ba"
      },
      "source": [
        "# 🛥 High-level Training pipeline\n",
        "\n",
        "Today, many libraries make it much easier to train your language model, with different levels of specialized knowledge. Under the hood, it always comes down to (roughly) what we see above, but the high-level interface allows you to iterate experiments much faster.\n",
        "\n",
        "For PyTorch language models, you may consider at least these libraries (incrementally by usage complexity): **Pure PyTorch, PyTorch Lightning, Fairseq, Transformers Trainer, Adaptor (ours)**. We have seen the low-level side above, and now we'll peek into the most high-level (Adaptor). \n",
        "\n",
        "However, in your time, we also strongly recommend you to also take a look at how to use the ever-growing 🤗 HuggingFace Transformers library. You can find examples for training generative models in [Translation training tutorial](https://huggingface.co/docs/transformers/tasks/translation), [Summarization training tutorial](https://huggingface.co/docs/transformers/tasks/summarization) (it's almost the same) and [Generation example script](https://github.com/huggingface/transformers/blob/main/examples/pytorch/text-generation/run_generation.py) from 🤗 HuggingFace."
      ],
      "id": "f45c9f88-bb44-4e74-9828-e6acebbfc8ba"
    },
    {
      "cell_type": "markdown",
      "metadata": {
        "id": "bd0b70fa-5f1a-498e-a02b-81b72c83cc1f"
      },
      "source": [
        "### [Adaptor](https://github.com/gaussalgo/adaptor): Quick introduction\n",
        "\n",
        "[Adaptor](https://github.com/gaussalgo/adaptor) is our in-house library that allows us to run large collections of similar experiments very quickly. If you take a look at the [example script](https://github.com/huggingface/transformers/blob/main/examples/pytorch/text-generation/run_generation.py) above, you'll see that it has over 400 lines, with most code not directly relevant for the goal. Below, you'll see complete, similar example with Adaptor.\n",
        "\n",
        "This complexity reduction is enabled by **objective-centric paradigm**, where the model is no longer the central part of the training; the central structure in Adaptor is **training objective** that is applied to the model.\n",
        "\n",
        "Design-wise, Adaptor is relatively lightweight extension of 🤗 Transformers. Thanks to that, you can use almost all cutting-edge features as well as all the language models of 🤗 Transformers.\n"
      ],
      "id": "bd0b70fa-5f1a-498e-a02b-81b72c83cc1f"
    },
    {
      "cell_type": "markdown",
      "metadata": {
        "id": "zOzKykT3RmzT"
      },
      "source": [
        "## Training generative models with Adaptor\n",
        "\n",
        "We will take a look at how the training of generative model will look like if we use Adaptor. \n",
        "\n",
        "To give you an example for the final hands-on, we will demonstrate how to use the library on a fairly simple use-case, where we'll train a LM to **generate a rating of the review** that it gets in the input text. Again, we'll use the same `imdb` dataset for that."
      ],
      "id": "zOzKykT3RmzT"
    },
    {
      "cell_type": "code",
      "execution_count": null,
      "metadata": {
        "id": "b6b1a0f2-cc70-46dd-82bf-72277f44bff4"
      },
      "outputs": [],
      "source": [
        "!pip install -q datasets sentencepiece protobuf==3.20.0 adaptor==0.2.2  # required for generation\n",
        "!pip uninstall -y -q tensorflow tensorboard"
      ],
      "id": "b6b1a0f2-cc70-46dd-82bf-72277f44bff4"
    },
    {
      "cell_type": "code",
      "execution_count": null,
      "metadata": {
        "id": "6K98Yfkmj1_W"
      },
      "outputs": [],
      "source": [
        "from datasets import load_dataset\n",
        "\n",
        "dataset = load_dataset(\"imdb\", split=\"train\")"
      ],
      "id": "6K98Yfkmj1_W"
    },
    {
      "cell_type": "markdown",
      "metadata": {
        "id": "gyChO-yiXgaP"
      },
      "source": [
        "First, we pick the base model for adaptation. "
      ],
      "id": "gyChO-yiXgaP"
    },
    {
      "cell_type": "code",
      "execution_count": null,
      "metadata": {
        "id": "b4df1218-66cf-4f27-b156-b6c84f49f11d"
      },
      "outputs": [],
      "source": [
        "from adaptor.lang_module import LangModule\n",
        "\n",
        "language_module = LangModule(\"google/mt5-small\")"
      ],
      "id": "b4df1218-66cf-4f27-b156-b6c84f49f11d"
    },
    {
      "cell_type": "markdown",
      "metadata": {
        "id": "92bcac29-dad5-41da-8967-1fba93de87d3"
      },
      "source": [
        "Second, we choose the objective that we want to fine-tune the model for. The objective will take care of configuring the model correctly. We just give it our desired inputs and outputs."
      ],
      "id": "92bcac29-dad5-41da-8967-1fba93de87d3"
    },
    {
      "cell_type": "code",
      "execution_count": null,
      "metadata": {
        "id": "8ec9dbb0-28ce-4eef-adb4-e7f94fface07"
      },
      "outputs": [],
      "source": [
        "from adaptor.objectives.seq2seq import Sequence2Sequence\n",
        "\n",
        "promt = \"Is this review positive, or negative?\"\n",
        "\n",
        "eval_samples = 100\n",
        "\n",
        "training_objective = Sequence2Sequence(lang_module=language_module,\n",
        "                                       texts_or_path=[promt + review for review in dataset['text']][:-eval_samples],\n",
        "                                       labels_or_path=[\"positive\" if y == 1 else \"negative\" for y in dataset[\"label\"]][:-eval_samples],\n",
        "                                       val_texts_or_path=[promt + review for review in dataset['text']][-eval_samples:],\n",
        "                                       val_labels_or_path=[\"positive\" if y == 1 else \"negative\" for y in dataset[\"label\"]][-eval_samples:],\n",
        "                                       batch_size=1)"
      ],
      "id": "8ec9dbb0-28ce-4eef-adb4-e7f94fface07"
    },
    {
      "cell_type": "markdown",
      "metadata": {
        "id": "Ox2abCToZwRn"
      },
      "source": [
        "One more thing before the training: we need to **persist the weights** of the trained model somewhere. In our case, we create checkpoints that can be directly loaded as any HuggingFace model.\n",
        "\n",
        "In Google Colab, you can mount your Google Drive to persist the model checkpoints using the following commands. If you run this script elsewhere, you may skip the following steps."
      ],
      "id": "Ox2abCToZwRn"
    },
    {
      "cell_type": "code",
      "execution_count": null,
      "metadata": {
        "id": "JqKMyUe6xLhb"
      },
      "outputs": [],
      "source": [
        "# This will mount your google drive to persist the training model later on. \n",
        "# If you do not want to do it, you can skip this command.\n",
        "\n",
        "from google.colab import drive\n",
        "drive.mount('/content/drive/')"
      ],
      "id": "JqKMyUe6xLhb"
    },
    {
      "cell_type": "code",
      "source": [
        "output_dir = \"/content/drive/MyDrive/training_output_dir\"  # TODO: this is a path to your Google Drive - make sure that it is ok to write"
      ],
      "metadata": {
        "id": "4-A1r3lGheQK"
      },
      "id": "4-A1r3lGheQK",
      "execution_count": null,
      "outputs": []
    },
    {
      "cell_type": "code",
      "execution_count": null,
      "metadata": {
        "id": "3fa4070a-64fd-4f4d-a0e0-a095130abc94"
      },
      "outputs": [],
      "source": [
        "# Before starting the training, check that the folder where the model will be persisted actually exist\n",
        "\n",
        "!ls $output_dir"
      ],
      "id": "3fa4070a-64fd-4f4d-a0e0-a095130abc94"
    },
    {
      "cell_type": "code",
      "execution_count": null,
      "metadata": {
        "id": "_v-Fd9f-3v8B"
      },
      "outputs": [],
      "source": [
        "# if it does not, create it manually in the menu on the right\n",
        "\n",
        "!mkdir -p $output_dir"
      ],
      "id": "_v-Fd9f-3v8B"
    },
    {
      "cell_type": "code",
      "execution_count": null,
      "metadata": {
        "id": "7f3f1c47-66d2-4548-9555-715351459eb5"
      },
      "outputs": [],
      "source": [
        "# Check that the folder for checkpoints exist; Continue, if this command passes without errors\n",
        "\n",
        "!ls $output_dir"
      ],
      "id": "7f3f1c47-66d2-4548-9555-715351459eb5"
    },
    {
      "cell_type": "markdown",
      "metadata": {
        "id": "12cebf2c-6c81-46ce-84f8-e5eb2d8f0380"
      },
      "source": [
        "The training process is configured through a possibly large set of 🤗 Training Arguments. You can read through each of them in [TrainingArgs documentation](https://huggingface.co/docs/transformers/main_classes/trainer#transformers.TrainingArguments).\n",
        "\n",
        "We will use our chosen `output_dir` here."
      ],
      "id": "12cebf2c-6c81-46ce-84f8-e5eb2d8f0380"
    },
    {
      "cell_type": "code",
      "execution_count": null,
      "metadata": {
        "id": "32bae738-67fb-465d-81c6-a9efae3e138d"
      },
      "outputs": [],
      "source": [
        "from adaptor.utils import AdaptationArguments, StoppingStrategy\n",
        "\n",
        "args = AdaptationArguments(output_dir=output_dir,\n",
        "                           learning_rate=2e-5,\n",
        "                           warmup_steps=100,\n",
        "                           stopping_strategy=StoppingStrategy.FIRST_OBJECTIVE_CONVERGED,\n",
        "                           do_train=True,\n",
        "                           do_eval=True,\n",
        "                           logging_steps=100,\n",
        "                           eval_steps=200,\n",
        "                           evaluation_strategy=\"steps\",\n",
        "                           save_steps=200,\n",
        "                           save_total_limit=2,\n",
        "                           stopping_patience=5,\n",
        "                           num_train_epochs=20,\n",
        "                           max_steps=1000,  # remove this to remove a constraint on a training length\n",
        "                           gradient_accumulation_steps=30)"
      ],
      "id": "32bae738-67fb-465d-81c6-a9efae3e138d"
    },
    {
      "cell_type": "markdown",
      "metadata": {
        "id": "87c21df6-44e3-44f1-9f00-3e6ba9fe2868"
      },
      "source": [
        "The ordering of application of our defined objectives is determined by choosing a `Schedule`: Adaptor comes with `SequentialSchedule` and `ParallelSchedule`.\n",
        "In a single-objective cases (like ours), a selection of Schedule does not really matter, but in multi-task training, it can come quite handy.\n",
        "\n",
        "It is also fine to use more than one objective at once.\n",
        "In such cases, the only extra thing that one needs to decide is if the objectives' heads would be shared or not. If yes, you should fill in the argument `share_other_objective_head=other_training_objective` to the new objective(s)."
      ],
      "id": "87c21df6-44e3-44f1-9f00-3e6ba9fe2868"
    },
    {
      "cell_type": "code",
      "execution_count": null,
      "metadata": {
        "id": "d2efa3d0-f4bc-4ca4-a9e3-a430cf7c8384"
      },
      "outputs": [],
      "source": [
        "from adaptor.schedules import SequentialSchedule, ParallelSchedule\n",
        "from adaptor.adapter import Adapter\n",
        "\n",
        "# choose a schedule of applying objectives - with one objective does not really matter\n",
        "parallel_schedule = SequentialSchedule(objectives=[training_objective], args=args)\n",
        "\n",
        "# instantiate Adapter - analogical structure to HF Transformers' Trainer\n",
        "adapter = Adapter(lang_module=language_module,\n",
        "                  schedule=parallel_schedule,\n",
        "                  args=args)"
      ],
      "id": "d2efa3d0-f4bc-4ca4-a9e3-a430cf7c8384"
    },
    {
      "cell_type": "markdown",
      "metadata": {
        "id": "a72e0cd7-464b-470d-82c2-89e142af7d69"
      },
      "source": [
        "After all the configuration, we are ready to run the training and wait for the trained model.\n",
        "\n",
        "Given the `stopping_strategy=StoppingStrategy.FIRST_OBJECTIVE_CONVERGED` and `stopping_patience=1`, the training will terminate after first evaluation, where `model_quality_evaluator` (or evaluation loss, if no Evaluator is given) does not improve over one evaluation."
      ],
      "id": "a72e0cd7-464b-470d-82c2-89e142af7d69"
    },
    {
      "cell_type": "code",
      "execution_count": null,
      "metadata": {
        "id": "37079d64-8d00-4dcc-a5ed-061655433f01",
        "scrolled": true
      },
      "outputs": [],
      "source": [
        "adapter.train()"
      ],
      "id": "37079d64-8d00-4dcc-a5ed-061655433f01"
    },
    {
      "cell_type": "markdown",
      "metadata": {
        "id": "pnCsc9df_LNr"
      },
      "source": [
        "# ✋ Final Hands on: Train your own In-context learner\n",
        "\n",
        "Now your final task will be to improve In-context learning ability for a specific use-case that you have at hand. \n",
        "\n",
        "You can use any of the approaches of the existing models. Additionally, you can use datasets for **related tasks**. If you'd like to create an in-context learner for a **new language**, search if your target language has a QA dataset available. If not, chances are that you can still transfer using QA dataset in a similar language.\n"
      ],
      "id": "pnCsc9df_LNr"
    },
    {
      "cell_type": "markdown",
      "metadata": {
        "id": "aVVnaWK1pxS-"
      },
      "source": [
        "# ✋ [New] Final Hands-on Solution: Training in-context a few-shot learner\n",
        "\n",
        "\n",
        "Below you can find the solution of this task in the provided template.\n",
        "\n",
        "Here we combine the approach of T0 and Tk-Instruct: We train the in-context learner on a mixture of all available templates for given QA dataset and we fine-tune the model explicitly to the few-shot learning, with demonstrations in input prompts.\n",
        "\n",
        "Practically, for each sample from the training dataset, we construct an input prompt with randomly-selected number of demonstrations, folowed by the predicted input."
      ],
      "id": "aVVnaWK1pxS-"
    },
    {
      "cell_type": "code",
      "source": [
        "!pip install -q datasets sentencepiece protobuf==3.20.0 adaptor==0.2.2  # required for generation\n",
        "!pip uninstall -y -q tensorflow tensorboard\n",
        "\n",
        "!pip install -q git+https://github.com/fewshot-goes-multilingual/promptsource.git"
      ],
      "metadata": {
        "id": "83HaBuoMs43U"
      },
      "id": "83HaBuoMs43U",
      "execution_count": null,
      "outputs": []
    },
    {
      "cell_type": "markdown",
      "metadata": {
        "id": "MEd93ELE0sJG"
      },
      "source": [
        "### Implementation template\n",
        "\n",
        "Compared to the example of generation above, perhaps all you need to play with are the base model, and inputs and outputs. Think about the *relatedness* of the tasks and relevance of the existing Promptsource templates that you could use.\n",
        "\n",
        "When you are done with the design of your experiment, try executing the plan by optionally filling the template below."
      ],
      "id": "MEd93ELE0sJG"
    },
    {
      "cell_type": "code",
      "execution_count": 2,
      "metadata": {
        "id": "qVyFcsWD16K0"
      },
      "outputs": [],
      "source": [
        "base_model = \"google/mt5-small\"  # TODO: pick the base model"
      ],
      "id": "qVyFcsWD16K0"
    },
    {
      "cell_type": "code",
      "execution_count": 3,
      "metadata": {
        "id": "He90YEiS2J4i",
        "outputId": "9937977d-4d8b-4f0a-e7c1-260fcd80df52",
        "colab": {
          "base_uri": "https://localhost:8080/",
          "height": 200,
          "referenced_widgets": [
            "a08e2abc8ee34ffe84bad06e80616f68",
            "e37e968101bf444ab92f9297a6075d90",
            "e6dabb779d0e4ed3a9e7b6208b66a13e",
            "8458eba55bd64acb9d4e281e5a4229d1",
            "0eb7834402b74af19b1022c42807fb3f",
            "9eee61976c084185a95308b495f8e21e",
            "be227006ed684948b744185ec1e82a04",
            "7b745ba7da214907b9f154cf5c602e22",
            "3a74d1eb7ca44f9eaab8f67206e73d38",
            "d0ba9b92cf3f4f6da88d526f6946ab5f",
            "af2880af285847f0992d9dc6b3d48def",
            "45254e5e96ea4acfa5fbdf4bd9fa71cc",
            "891f607d016044ca86f71bd2c8a714e6",
            "52305e3b3ed54344a236f5455b613a8c",
            "475f8ab3de1f4e05b210f9075c9dec76",
            "dabb9c7107ad47b7a7cd8eb1d530b068",
            "e815f15c58b9428293fe475a88df6401",
            "d69503a42e5d45149ed30ace80099276",
            "b00bd9c95fb3444bbabecf730ec8e6ca",
            "859b9cf29f3a4ba6a931e28dd02b796a",
            "d844619ac14740788add45a07b22d888",
            "24a634e005c64604ac33089b3eb10d84",
            "aacf1a81d853442e8cd1f769f6c383ec",
            "f1da91cf61484d0bbcd80a48a5dfea17",
            "2cc3ae59832f466d81f02f21d54dea75",
            "f01365dc711348f58a6426993dcdca61",
            "47ad195ba38041c78cafe28d1ff817a3",
            "5c256f2a223b41cd95cfb35afda6d898",
            "04aaa7e2b4b740d6b7eca6290b11c532",
            "cf756c54fd4e4447aae3bc58954004a9",
            "1bbbd516c05248f983fbadd468097c34",
            "3ed687fac000480fba738471a69bef11",
            "f61722863dd3469c8decbbd428b84392",
            "f29561fd07e14f209d9491fc58315fa1",
            "bee66fc0cc384e0aa5e4494d26b564da",
            "7772749ae2f34053b9484068955ea692",
            "383a27bcf4c84aea86b051f684486abc",
            "9ebe9e9515894193905f829cbc8e11a7",
            "c5394af885864fef9789010911eaf518",
            "f8d23b8784144e359b8d88a904c20a1b",
            "05f937c0ce3048068b565289b0390d3d",
            "cf3dc04ac4ae492294ffdb92cc43d78d",
            "114b733c569b40c588b3487f80775b5f",
            "51d7138a6f2f4fc09fde3765732b3ba6"
          ]
        }
      },
      "outputs": [
        {
          "output_type": "display_data",
          "data": {
            "text/plain": [
              "Downloading:   0%|          | 0.00/82.0 [00:00<?, ?B/s]"
            ],
            "application/vnd.jupyter.widget-view+json": {
              "version_major": 2,
              "version_minor": 0,
              "model_id": "a08e2abc8ee34ffe84bad06e80616f68"
            }
          },
          "metadata": {}
        },
        {
          "output_type": "display_data",
          "data": {
            "text/plain": [
              "Downloading:   0%|          | 0.00/553 [00:00<?, ?B/s]"
            ],
            "application/vnd.jupyter.widget-view+json": {
              "version_major": 2,
              "version_minor": 0,
              "model_id": "45254e5e96ea4acfa5fbdf4bd9fa71cc"
            }
          },
          "metadata": {}
        },
        {
          "output_type": "display_data",
          "data": {
            "text/plain": [
              "Downloading:   0%|          | 0.00/4.11M [00:00<?, ?B/s]"
            ],
            "application/vnd.jupyter.widget-view+json": {
              "version_major": 2,
              "version_minor": 0,
              "model_id": "aacf1a81d853442e8cd1f769f6c383ec"
            }
          },
          "metadata": {}
        },
        {
          "output_type": "display_data",
          "data": {
            "text/plain": [
              "Downloading:   0%|          | 0.00/99.0 [00:00<?, ?B/s]"
            ],
            "application/vnd.jupyter.widget-view+json": {
              "version_major": 2,
              "version_minor": 0,
              "model_id": "f29561fd07e14f209d9491fc58315fa1"
            }
          },
          "metadata": {}
        },
        {
          "output_type": "stream",
          "name": "stderr",
          "text": [
            "/usr/local/lib/python3.10/dist-packages/transformers/convert_slow_tokenizer.py:434: UserWarning: The sentencepiece tokenizer that you are converting to a fast tokenizer uses the byte fallback option which is not implemented in the fast tokenizers. In practice this means that the fast version of the tokenizer can produce unknown tokens whereas the sentencepiece version would have converted these unknown tokens into a sequence of byte tokens matching the original piece of text.\n",
            "  warnings.warn(\n"
          ]
        }
      ],
      "source": [
        "from adaptor.lang_module import LangModule\n",
        "\n",
        "language_module = LangModule(base_model)"
      ],
      "id": "He90YEiS2J4i"
    },
    {
      "cell_type": "code",
      "execution_count": 4,
      "metadata": {
        "id": "2fTqeyUt2PEF",
        "outputId": "61056c31-5651-4d65-ef7e-89481fcf0a30",
        "colab": {
          "base_uri": "https://localhost:8080/",
          "height": 328,
          "referenced_widgets": [
            "5fbb2f81d444412e895a15350f055123",
            "6302f154b4f046e2bacd373bd83b39b2",
            "bef7849af18e4fc48ee2b35a46ad4e4f",
            "18e1724cdb7a4842923cf4f474cce2f9",
            "912848d611ae4836a7022c104408e9b0",
            "2ddfe38e511848f8a326ea5c13581bb5",
            "e0ea4a5f7015411c82260f3562ae786e",
            "1cc5aec4f8ba41a4b2736d5f7223fdf8",
            "5f3a547758724b039dff0db2788e56fe",
            "bde4a431c5d2427bbf323416c3f2525b",
            "6afe5d446fc343659143ca5c98cbaf48",
            "81058d3385304a2cb3f26b367496c949",
            "4ba641d7848d46cf9e91e64ea0bebddf",
            "efe2657cff454ac884c7411feb91b96f",
            "5a5e75c7d98e4bc6b43300b42c5237fe",
            "08f7dd4052094d05ba05b9f4cf76cd52",
            "b3a3e6ed7e0f46f4a3a59bea8dd25691",
            "502c2f09d3564adc92de5df36787af7d",
            "f17003cd0f3746c68457d756da916488",
            "689c41aeab1f4b1caa93f4303120e84e",
            "032c024d64294912a094b44b27c129d5",
            "2239f68e947946f59dab930e28ed7f6f",
            "49607db758a14cba8006bfc59103dc7a",
            "177c913781bf43b590001ba332b0f1e0",
            "918bd0bb0b824a3d8bba94f157ff4348",
            "8b7df8a77ee64bbaae3d819ec0e07081",
            "f0bf61cd0b324b2ba54b5f3034f88449",
            "428641db6b3f4bf4ac9ed5e9b34c7bd4",
            "a5e8f3008ab64aa4a768f0a0d0a16eee",
            "15ef924dc5344a2a8f5f6ac88f122f5d",
            "64b9297a69454aa3b521e992650eb510",
            "96495d5d11234feba19eb37bdfc3beb7",
            "f9f811e2e8d349a6a4e6498b779e3943",
            "41878e340e05435b89022e8465777b45",
            "226682ec23974717ac2270267a3fd1ba",
            "06b3b3a66c2b45c29c56397716539d1b",
            "8ebf42e06dea4b62b3239011c8f6c74e",
            "1ad78476420e45aa9c1d8b228977ecfc",
            "133997f92bd04c689f969a82b7c93c1f",
            "a542bae7689f492982011278f878ec68",
            "64eb18f2297f47328bb97a05962c8257",
            "9971b540a86b47308a729b16b652b4ee",
            "bad25dfcc29c49c0b05a46153536273a",
            "4fda8a7ecb7246a0accf0a9870c10a61",
            "282a80c62fde40afaf324533d6dfc2d5",
            "efa1b05780c44614873e66f0f5374e58",
            "d343666ff007456b8d9a2e1193df9017",
            "155a6a58c9d0426c98f50bae9bcdf567",
            "f666882838e142c0a125ca3a3cfe4be7",
            "77ff79612b0943beb643b0eda2323870",
            "e07c11c2e0a94e5b86d13a9e032d8761",
            "b82aaced4dfb4d6c94dc8bf62b17762a",
            "37c4b7f627d343d0b4fabae416fff9fa",
            "a2e6f40402694df8b5b1fa6cd368c00b",
            "6c83bd0e1ace4f71aff1467da48c98f4",
            "0211991e8ccf4a5f8449ba3d57a8a885",
            "97f155bbb7fc46538f5092bc98817168",
            "1d1113fc2145401a942f639eb4c87454",
            "568155de33b8421d93635321261b3a8c",
            "b7d9ac3d86a34ab381848f859f08896b",
            "041abc390a8c4c68891570f6058ad8e8",
            "20bc27faefce453fb06e921a7a63ee03",
            "9e712db06d8e4dbe891bd07c75de0879",
            "37d4c9489b87458393c8f90cae9b8e15",
            "b0c94a74de5143c39fa1e7951b524620",
            "af572d812fa24916929c3fac6dfb2063",
            "c901f12dae8e45bba0a045fdb89cbf3d",
            "cff1e9e6b4da48eb9bdd80e24c5cbd8a",
            "0c91c8e60adc401e95cf8cf0b505e725",
            "d01059d9af894cbeb35376eed35afaf3",
            "1cd9dea43788437f93b8cb568374ee88",
            "42f9432982224965a0a9ca2a6c9d7116",
            "5582b18a27194395a293cac6daee0201",
            "9262ea913d93467cb0add0a4b3b61fae",
            "a643dfe1922840688c36d338fbb3d5d3",
            "62273f5dc7e84d109608e5044ea370e4",
            "b660fd41dd6d49db87f50b65540b24ba",
            "f3828222535147ce81acefa50e74c887",
            "7949e11727a34d48835c3820c3ab37ba",
            "c78dd9e80dfd4b7a89d07cd98eef8f99",
            "6e60cf7862054ec6bb7cfe2b95347164",
            "a2f1153006144c9884d000be008776d5",
            "c6fcec7cca5841b6ac2cb517b565fdcb",
            "8e62948120d141d89c7b4b08cc5da6e4",
            "6c56b743661d4ce5b0aaba441dfc2d26",
            "b9c99f955f3f4c098963b41ef5fba4c9",
            "5877d84572ed437dbbb664dc89859a9c",
            "7e95a62468a54ed693d69e229113dbc4",
            "cfdd4027174e4efa96e65267f4a129ff",
            "a109a740c066486396f665bdc4265028",
            "35a51cb56ce948dc8670c204a05bb92f",
            "603404b8e529410583fb1a5d4765d173",
            "f682d38b89ee4a54a295fd9e4a8826c5",
            "41bf43d988d94b0f8ab315380b250f5d",
            "e2603ca60723407cb9b1661dcdc8b14e",
            "b760ae993bd84ebeb720b51c0b062b55",
            "175a46ba84434b57a724f4e7fc9ae868",
            "79ca1808c98e45ad9bd624d5151c2466",
            "009b7e2b45664fc3bf167f74bc8fb5bc",
            "20ce27bc8353453195d76a6509007bdf",
            "0c87435aa3a846df83b03be0950d34ba",
            "dcb62503e27c4b0397be8f1668bf3dbf",
            "48145acdd8e94a30bf23ffe1bd59ba6e",
            "562d426db4c94bd2a88d1188dbaa9b3a",
            "f58a37301e7a40ec8b1bdf47d10cc087",
            "70ce69c3483f402abc26d6584b676553",
            "d94d1a4e3cde416888aa64d6b7aea6b5",
            "9ec5bb7f66d34a789a82fa6fea923b08",
            "55efa93106ca4f319e6c0387b96520e5",
            "db99b6572b2b4dcd821aadee8e13fd58"
          ]
        }
      },
      "outputs": [
        {
          "output_type": "display_data",
          "data": {
            "text/plain": [
              "Downloading builder script:   0%|          | 0.00/5.27k [00:00<?, ?B/s]"
            ],
            "application/vnd.jupyter.widget-view+json": {
              "version_major": 2,
              "version_minor": 0,
              "model_id": "5fbb2f81d444412e895a15350f055123"
            }
          },
          "metadata": {}
        },
        {
          "output_type": "display_data",
          "data": {
            "text/plain": [
              "Downloading metadata:   0%|          | 0.00/2.36k [00:00<?, ?B/s]"
            ],
            "application/vnd.jupyter.widget-view+json": {
              "version_major": 2,
              "version_minor": 0,
              "model_id": "81058d3385304a2cb3f26b367496c949"
            }
          },
          "metadata": {}
        },
        {
          "output_type": "display_data",
          "data": {
            "text/plain": [
              "Downloading readme:   0%|          | 0.00/7.67k [00:00<?, ?B/s]"
            ],
            "application/vnd.jupyter.widget-view+json": {
              "version_major": 2,
              "version_minor": 0,
              "model_id": "49607db758a14cba8006bfc59103dc7a"
            }
          },
          "metadata": {}
        },
        {
          "output_type": "stream",
          "name": "stdout",
          "text": [
            "Downloading and preparing dataset squad/plain_text to /root/.cache/huggingface/datasets/squad/plain_text/1.0.0/d6ec3ceb99ca480ce37cdd35555d6cb2511d223b9150cce08a837ef62ffea453...\n"
          ]
        },
        {
          "output_type": "display_data",
          "data": {
            "text/plain": [
              "Downloading data files:   0%|          | 0/2 [00:00<?, ?it/s]"
            ],
            "application/vnd.jupyter.widget-view+json": {
              "version_major": 2,
              "version_minor": 0,
              "model_id": "41878e340e05435b89022e8465777b45"
            }
          },
          "metadata": {}
        },
        {
          "output_type": "display_data",
          "data": {
            "text/plain": [
              "Downloading data:   0%|          | 0.00/8.12M [00:00<?, ?B/s]"
            ],
            "application/vnd.jupyter.widget-view+json": {
              "version_major": 2,
              "version_minor": 0,
              "model_id": "282a80c62fde40afaf324533d6dfc2d5"
            }
          },
          "metadata": {}
        },
        {
          "output_type": "display_data",
          "data": {
            "text/plain": [
              "Downloading data:   0%|          | 0.00/1.05M [00:00<?, ?B/s]"
            ],
            "application/vnd.jupyter.widget-view+json": {
              "version_major": 2,
              "version_minor": 0,
              "model_id": "0211991e8ccf4a5f8449ba3d57a8a885"
            }
          },
          "metadata": {}
        },
        {
          "output_type": "display_data",
          "data": {
            "text/plain": [
              "Extracting data files:   0%|          | 0/2 [00:00<?, ?it/s]"
            ],
            "application/vnd.jupyter.widget-view+json": {
              "version_major": 2,
              "version_minor": 0,
              "model_id": "c901f12dae8e45bba0a045fdb89cbf3d"
            }
          },
          "metadata": {}
        },
        {
          "output_type": "display_data",
          "data": {
            "text/plain": [
              "Generating train split:   0%|          | 0/87599 [00:00<?, ? examples/s]"
            ],
            "application/vnd.jupyter.widget-view+json": {
              "version_major": 2,
              "version_minor": 0,
              "model_id": "f3828222535147ce81acefa50e74c887"
            }
          },
          "metadata": {}
        },
        {
          "output_type": "display_data",
          "data": {
            "text/plain": [
              "Generating validation split:   0%|          | 0/10570 [00:00<?, ? examples/s]"
            ],
            "application/vnd.jupyter.widget-view+json": {
              "version_major": 2,
              "version_minor": 0,
              "model_id": "cfdd4027174e4efa96e65267f4a129ff"
            }
          },
          "metadata": {}
        },
        {
          "output_type": "stream",
          "name": "stdout",
          "text": [
            "Dataset squad downloaded and prepared to /root/.cache/huggingface/datasets/squad/plain_text/1.0.0/d6ec3ceb99ca480ce37cdd35555d6cb2511d223b9150cce08a837ef62ffea453. Subsequent calls will reuse this data.\n"
          ]
        },
        {
          "output_type": "display_data",
          "data": {
            "text/plain": [
              "  0%|          | 0/2 [00:00<?, ?it/s]"
            ],
            "application/vnd.jupyter.widget-view+json": {
              "version_major": 2,
              "version_minor": 0,
              "model_id": "20ce27bc8353453195d76a6509007bdf"
            }
          },
          "metadata": {}
        }
      ],
      "source": [
        "from datasets import load_dataset\n",
        "main_dataset = load_dataset(\"squad\")  # TODO: pick datasets: see https://huggingface.co/datasets\n",
        "\n",
        "# other_dataset = load_dataset(\"imdb\")  # maybe do the same thing with your target dataset/similar templates?"
      ],
      "id": "2fTqeyUt2PEF"
    },
    {
      "cell_type": "markdown",
      "metadata": {
        "id": "o1LMX15SOHKL"
      },
      "source": [
        "Input prompts & labels collection"
      ],
      "id": "o1LMX15SOHKL"
    },
    {
      "cell_type": "code",
      "execution_count": 5,
      "metadata": {
        "id": "J1I5HrXYN5qW"
      },
      "outputs": [],
      "source": [
        "input_texts = []\n",
        "label_texts = []"
      ],
      "id": "J1I5HrXYN5qW"
    },
    {
      "cell_type": "markdown",
      "metadata": {
        "id": "B3ZU0AvdPRaw"
      },
      "source": [
        "Using Promptsource to verbalize squad's templates: See all templates on the project repo: https://github.com/bigscience-workshop/promptsource"
      ],
      "id": "B3ZU0AvdPRaw"
    },
    {
      "cell_type": "code",
      "source": [
        "from typing import List, Tuple\n",
        "\n",
        "# a method that will give you a single input prompt from \n",
        "# predicted sample and a list of demonstrations\n",
        "\n",
        "def construct_fewshot_prompt(sample: str,\n",
        "                             sample_demonstrations: List[Tuple[str, str]]) -> str:\n",
        "    demonstrations_str = \"\\n\".join([\"Input: %s Prediction: %s\" % tuple(demo) for demo in sample_demonstrations])\n",
        "    return demonstrations_str + \"\\nInput: %s Prediction:\" % sample"
      ],
      "metadata": {
        "id": "6rMZFDxG0lck"
      },
      "id": "6rMZFDxG0lck",
      "execution_count": 6,
      "outputs": []
    },
    {
      "cell_type": "code",
      "execution_count": null,
      "metadata": {
        "id": "bqw2gGuG2_6Q"
      },
      "outputs": [],
      "source": [
        "from promptsource.templates import DatasetTemplates\n",
        "import random\n",
        "from tqdm import tqdm\n",
        "\n",
        "prompts = DatasetTemplates(\"squad\")\n",
        "\n",
        "for template_id in prompts.all_template_names:\n",
        "    promt_template = prompts[template_id]\n",
        "\n",
        "    # verbalize inputs and \n",
        "    prompt_label_pairs = main_dataset[\"validation\"].map(lambda row: {\"prompt\": promt_template.apply(row)})[\"prompt\"]\n",
        "\n",
        "    for predicted_input, predicted_label in tqdm(prompt_label_pairs, desc=\"Collecting samples from template %s\" % template_id):\n",
        "      \n",
        "        # demonstrations collection\n",
        "        demonstrations = []\n",
        "        num_demonstrations = random.randint(2, 6)\n",
        "\n",
        "        while len(demonstrations) < num_demonstrations:\n",
        "            # pick next demonstration - not yet picked and not the predicted one\n",
        "            next_demonstration = next(demo for demo in random.sample(prompt_label_pairs, len(prompt_label_pairs))\n",
        "                                      if demo not in demonstrations and demo[0] != predicted_input)\n",
        "            demonstrations.append(next_demonstration)\n",
        "\n",
        "        fewshot_prompt = construct_fewshot_prompt(predicted_input, demonstrations)\n",
        "\n",
        "        input_texts.append(fewshot_prompt)\n",
        "        label_texts.append(predicted_label)"
      ],
      "id": "bqw2gGuG2_6Q"
    },
    {
      "cell_type": "code",
      "source": [
        "# example of input prompt:\n",
        "input_texts[123]"
      ],
      "metadata": {
        "id": "MnFjv6Os8tAR",
        "outputId": "e5854a5a-f272-4795-d98d-98156cf1c795",
        "colab": {
          "base_uri": "https://localhost:8080/",
          "height": 140
        }
      },
      "id": "MnFjv6Os8tAR",
      "execution_count": 8,
      "outputs": [
        {
          "output_type": "execute_result",
          "data": {
            "text/plain": [
              "\"Input: Based on his industry experience on Air Force missile projects, Mueller realized some skilled managers could be found among high-ranking officers in the United States Air Force, so he got Webb's permission to recruit General Samuel C. Phillips, who gained a reputation for his effective management of the Minuteman program, as OMSF program controller. Phillips' superior officer Bernard A. Schriever agreed to loan Phillips to NASA, along with a staff of officers under him, on the condition that Phillips be made Apollo Program Director. Mueller agreed, and Phillips managed Apollo from January 1964, until it achieved the first manned landing in July 1969, after which he returned to Air Force duty.\\n\\nQ: From what military branch did Mueller recruit managers from?\\n\\nReferring to the passage above, the correct answer to the given question is Prediction: United States Air Force\\nInput: Environmentalists are concerned about loss of biodiversity that will result from destruction of the forest, and also about the release of the carbon contained within the vegetation, which could accelerate global warming. Amazonian evergreen forests account for about 10% of the world's terrestrial primary productivity and 10% of the carbon stores in ecosystems—of the order of 1.1 × 1011 metric tonnes of carbon. Amazonian forests are estimated to have accumulated 0.62 ± 0.37 tons of carbon per hectare per year between 1975 and 1996.\\n\\nQ: What are environmentalists concerned about losing in the Amazon forest?\\n\\nReferring to the passage above, the correct answer to the given question is Prediction: loss of biodiversity\\nInput: The league eventually narrowed the bids to three sites: New Orleans' Mercedes-Benz Superdome, Miami's Sun Life Stadium, and the San Francisco Bay Area's Levi's Stadium.\\n\\nQ: What was the name of New Orleans' superdome at the time that Super Bowl 50 took place?\\n\\nReferring to the passage above, the correct answer to the given question is Prediction:\""
            ],
            "application/vnd.google.colaboratory.intrinsic+json": {
              "type": "string"
            }
          },
          "metadata": {},
          "execution_count": 8
        }
      ]
    },
    {
      "cell_type": "code",
      "source": [
        "# example of input prompt:\n",
        "label_texts[123]"
      ],
      "metadata": {
        "id": "fJP_A2Q_80VL",
        "outputId": "6c6e1e68-0e0f-4599-efde-8910c9dff641",
        "colab": {
          "base_uri": "https://localhost:8080/",
          "height": 36
        }
      },
      "id": "fJP_A2Q_80VL",
      "execution_count": 9,
      "outputs": [
        {
          "output_type": "execute_result",
          "data": {
            "text/plain": [
              "'Mercedes-Benz Superdome'"
            ],
            "application/vnd.google.colaboratory.intrinsic+json": {
              "type": "string"
            }
          },
          "metadata": {},
          "execution_count": 9
        }
      ]
    },
    {
      "cell_type": "code",
      "execution_count": 10,
      "metadata": {
        "id": "YQ4Nw936OwNr"
      },
      "outputs": [],
      "source": [
        "# shuffle the inputs\n",
        "import random\n",
        "\n",
        "data_index = list(range(len(input_texts)))\n",
        "\n",
        "random.shuffle(data_index)\n",
        "\n",
        "input_texts = [input_texts[i] for i in data_index]\n",
        "label_texts = [label_texts[i] for i in data_index]"
      ],
      "id": "YQ4Nw936OwNr"
    },
    {
      "cell_type": "markdown",
      "source": [
        "From this point on, the training looks like training any other sequence-to-sequence language model."
      ],
      "metadata": {
        "id": "1hjuYmi69OUv"
      },
      "id": "1hjuYmi69OUv"
    },
    {
      "cell_type": "code",
      "execution_count": 11,
      "metadata": {
        "id": "Enlb9bRDOfH6",
        "outputId": "e94a4ac8-dab9-4ccc-8560-139f0b2bee56",
        "colab": {
          "base_uri": "https://localhost:8080/",
          "height": 49,
          "referenced_widgets": [
            "1b3438b3606f48b68a45b5edf5c6697a",
            "c0ab641b08cc4313b43ba7ed06135394",
            "ec203b4cd51141a195014581eb93096d",
            "bdb216a2dfe844219923564bd05d4f5f",
            "2a9a8ac133a54d57876ec6da97f03879",
            "34fb861cb3d64ce7b2ac2dcd0d1f3c9c",
            "a316b29ca2144490a9de914bab578d0e",
            "ebc68b3740ba4af18981095d864bdc99",
            "d5386230488c45398d48bcd3a51169da",
            "9595253693a34902bd403fc2a6e89a1a",
            "7c97b8688548434d9ebfc5f0d841913f"
          ]
        }
      },
      "outputs": [
        {
          "output_type": "display_data",
          "data": {
            "text/plain": [
              "Downloading:   0%|          | 0.00/1.12G [00:00<?, ?B/s]"
            ],
            "application/vnd.jupyter.widget-view+json": {
              "version_major": 2,
              "version_minor": 0,
              "model_id": "1b3438b3606f48b68a45b5edf5c6697a"
            }
          },
          "metadata": {}
        }
      ],
      "source": [
        "# we use the same generative Sequence2Sequence objective as in the example above\n",
        "from adaptor.objectives.seq2seq import Sequence2Sequence\n",
        "\n",
        "\n",
        "val_samples = 100\n",
        "\n",
        "seq2seq_squad = Sequence2Sequence(lang_module=language_module,\n",
        "                                  texts_or_path=input_texts[:-100],\n",
        "                                  labels_or_path=label_texts[:-100],\n",
        "                                  val_texts_or_path=input_texts[-100:],\n",
        "                                  val_labels_or_path=label_texts[-100:],\n",
        "                                  batch_size=1)"
      ],
      "id": "Enlb9bRDOfH6"
    },
    {
      "cell_type": "markdown",
      "metadata": {
        "id": "gpYYZ56UQA6t"
      },
      "source": [
        "We keep the same training configuration as in the generation example above. See [TrainingArguments documentation](https://huggingface.co/docs/transformers/main_classes/trainer#transformers.TrainingArguments)."
      ],
      "id": "gpYYZ56UQA6t"
    },
    {
      "cell_type": "code",
      "execution_count": 12,
      "metadata": {
        "id": "afnSteLvOfdw"
      },
      "outputs": [],
      "source": [
        "from adaptor.utils import AdaptationArguments, StoppingStrategy\n",
        "\n",
        "output_dir = \"/content/drive/MyDrive/training_output_dir\"\n",
        "\n",
        "args = AdaptationArguments(output_dir=output_dir,\n",
        "                           learning_rate=2e-5,\n",
        "                           warmup_steps=1000,\n",
        "                           stopping_strategy=StoppingStrategy.FIRST_OBJECTIVE_CONVERGED,\n",
        "                           do_train=True,\n",
        "                           do_eval=True,\n",
        "                           logging_steps=100,\n",
        "                           eval_steps=200,\n",
        "                           evaluation_strategy=\"steps\",\n",
        "                           save_steps=200,\n",
        "                           save_total_limit=6,\n",
        "                           stopping_patience=5,\n",
        "                           num_train_epochs=20,\n",
        "                           gradient_accumulation_steps=20)"
      ],
      "id": "afnSteLvOfdw"
    },
    {
      "cell_type": "code",
      "execution_count": 13,
      "metadata": {
        "id": "Nakdjk9FQbpJ",
        "outputId": "cefe5e2e-7b03-4172-b7e4-1fc3d6345143",
        "colab": {
          "base_uri": "https://localhost:8080/"
        }
      },
      "outputs": [
        {
          "output_type": "stream",
          "name": "stderr",
          "text": [
            "WARNING:root:Total number of train samples: 26441\n",
            "WARNING:root:Total number of eval samples: 100\n"
          ]
        }
      ],
      "source": [
        "from adaptor.schedules import ParallelSchedule\n",
        "from adaptor.adapter import Adapter\n",
        "\n",
        "# if we have multiple data sources, we can insert more than one objective here\n",
        "parallel_schedule = ParallelSchedule(objectives=[seq2seq_squad], args=args)\n",
        "\n",
        "# instantiate Adapter - analogical structure to HF Transformers' Trainer\n",
        "adapter = Adapter(lang_module=language_module,\n",
        "                  schedule=parallel_schedule,\n",
        "                  args=args)"
      ],
      "id": "Nakdjk9FQbpJ"
    },
    {
      "cell_type": "code",
      "execution_count": null,
      "metadata": {
        "id": "xyFbAtCNQcKg",
        "outputId": "9146415b-518d-44cc-c257-ba3e58f5e18d",
        "colab": {
          "base_uri": "https://localhost:8080/"
        }
      },
      "outputs": [
        {
          "output_type": "stream",
          "name": "stderr",
          "text": [
            "/usr/local/lib/python3.10/dist-packages/transformers/optimization.py:306: FutureWarning: This implementation of AdamW is deprecated and will be removed in a future version. Use the PyTorch implementation torch.optim.AdamW instead, or set `no_deprecation_warning=True` to disable this warning\n",
            "  warnings.warn(\n",
            "***** Running training *****\n",
            "  Num examples = 528820\n",
            "  Num Epochs = 20\n",
            "  Instantaneous batch size per device = 1\n",
            "  Total train batch size (w. parallel, distributed & accumulation) = 20\n",
            "  Gradient Accumulation steps = 20\n",
            "  Total optimization steps = 528820\n",
            "WARNING:root:Converged objectives: []\n",
            "Sequence2Sequence:   0%|          | 0/26441 [00:00<?, ?batches/s]Asking to truncate to max_length but no maximum length is provided and the model has no predefined maximum length. Default to no truncation.\n",
            "Sequence2Sequence:   1%|          | 243/26441 [00:49<1:18:35,  5.56batches/s, epoch=1, loss=28.8, split=train]"
          ]
        }
      ],
      "source": [
        "# Start the training!\n",
        "adapter.train()"
      ],
      "id": "xyFbAtCNQcKg"
    },
    {
      "cell_type": "markdown",
      "source": [
        "## Evaluation\n",
        "\n",
        "After a few minutes of training, evaluate how your new ICL model stand in your task, using your evaluator from previous Hands-on!\n",
        "\n",
        "Copy-paste your implementation of evaluation from **✋ Hands on** in [ICL_intro notebook](https://github.com/gaussalgo/L2L_MLPrague23/blob/main/notebooks/ICL_intro.ipynb) here, change the model path your most recent checkpoint in `output_dir` and run the evaluation again."
      ],
      "metadata": {
        "id": "MpWucMVjmQm0"
      },
      "id": "MpWucMVjmQm0"
    },
    {
      "cell_type": "code",
      "source": [
        "!ls $output_dir"
      ],
      "metadata": {
        "id": "HNUTJLJFqdRb"
      },
      "id": "HNUTJLJFqdRb",
      "execution_count": null,
      "outputs": []
    },
    {
      "cell_type": "code",
      "source": [
        "from transformers import AutoModelForSeq2SeqLM, AutoTokenizer\n",
        " \n",
        "model_path = output_dir+\"/checkpoint-1000/Sequence2Sequence\"\n",
        "\n",
        "tokenizer = AutoTokenizer.from_pretrained(model_path)\n",
        "model = AutoModelForSeq2SeqLM.from_pretrained(model_path)"
      ],
      "metadata": {
        "id": "sdrdExMkx6Sq"
      },
      "id": "sdrdExMkx6Sq",
      "execution_count": null,
      "outputs": []
    },
    {
      "cell_type": "code",
      "source": [
        "# TODO: copy-paste and run your evaluation from ICL_intro here"
      ],
      "metadata": {
        "id": "BfyJEVaamjaZ"
      },
      "id": "BfyJEVaamjaZ",
      "execution_count": null,
      "outputs": []
    },
    {
      "cell_type": "markdown",
      "source": [
        "### Take-home exercise\n",
        "\n",
        "Evaluate how your new ICL model stand on the tasks that your model has never seen before. \n",
        "\n",
        "All you need for it is to execute the prepared evaluation script;\n",
        "See **competition** in the [project repository](https://github.com/gaussalgo/L2L_MLPrague23) for details!"
      ],
      "metadata": {
        "id": "dZhLzg0bmjxP"
      },
      "id": "dZhLzg0bmjxP"
    },
    {
      "cell_type": "code",
      "source": [
        "!git clone https://github.com/gaussalgo/L2L_MLPrague23.git"
      ],
      "metadata": {
        "id": "2ZdmGk4l0p_H"
      },
      "id": "2ZdmGk4l0p_H",
      "execution_count": null,
      "outputs": []
    },
    {
      "cell_type": "code",
      "source": [
        "!rm -rf L2L_MLPrague23"
      ],
      "metadata": {
        "id": "YYoxsUM127mg"
      },
      "id": "YYoxsUM127mg",
      "execution_count": null,
      "outputs": []
    },
    {
      "cell_type": "code",
      "source": [
        "# to make it work in Google Colab:\n",
        "\n",
        "!cp L2L_MLPrague23/competition/* ."
      ],
      "metadata": {
        "id": "n055NI5S10_S"
      },
      "id": "n055NI5S10_S",
      "execution_count": null,
      "outputs": []
    },
    {
      "cell_type": "code",
      "source": [
        "!pip install -q rouge_score"
      ],
      "metadata": {
        "id": "LEd6IrOq2DDa"
      },
      "id": "LEd6IrOq2DDa",
      "execution_count": null,
      "outputs": []
    },
    {
      "cell_type": "code",
      "source": [
        "# See the full instructions on https://github.com/gaussalgo/L2L_MLPrague23/tree/main/competition\n",
        "\n",
        "!python evaluator.py --model_name_or_path /content/drive/MyDrive/training_output_dir/checkpoint-1000/Sequence2Sequence"
      ],
      "metadata": {
        "id": "-N9FW__N0uvA"
      },
      "id": "-N9FW__N0uvA",
      "execution_count": null,
      "outputs": []
    }
  ],
  "metadata": {
    "colab": {
      "provenance": [],
      "toc_visible": true,
      "gpuType": "T4",
      "include_colab_link": true
    },
    "kernelspec": {
      "display_name": "Python 3",
      "name": "python3"
    },
    "language_info": {
      "codemirror_mode": {
        "name": "ipython",
        "version": 3
      },
      "file_extension": ".py",
      "mimetype": "text/x-python",
      "name": "python",
      "nbconvert_exporter": "python",
      "pygments_lexer": "ipython3",
      "version": "3.8.10"
    },
    "accelerator": "GPU",
    "widgets": {
      "application/vnd.jupyter.widget-state+json": {
        "a08e2abc8ee34ffe84bad06e80616f68": {
          "model_module": "@jupyter-widgets/controls",
          "model_name": "HBoxModel",
          "model_module_version": "1.5.0",
          "state": {
            "_dom_classes": [],
            "_model_module": "@jupyter-widgets/controls",
            "_model_module_version": "1.5.0",
            "_model_name": "HBoxModel",
            "_view_count": null,
            "_view_module": "@jupyter-widgets/controls",
            "_view_module_version": "1.5.0",
            "_view_name": "HBoxView",
            "box_style": "",
            "children": [
              "IPY_MODEL_e37e968101bf444ab92f9297a6075d90",
              "IPY_MODEL_e6dabb779d0e4ed3a9e7b6208b66a13e",
              "IPY_MODEL_8458eba55bd64acb9d4e281e5a4229d1"
            ],
            "layout": "IPY_MODEL_0eb7834402b74af19b1022c42807fb3f"
          }
        },
        "e37e968101bf444ab92f9297a6075d90": {
          "model_module": "@jupyter-widgets/controls",
          "model_name": "HTMLModel",
          "model_module_version": "1.5.0",
          "state": {
            "_dom_classes": [],
            "_model_module": "@jupyter-widgets/controls",
            "_model_module_version": "1.5.0",
            "_model_name": "HTMLModel",
            "_view_count": null,
            "_view_module": "@jupyter-widgets/controls",
            "_view_module_version": "1.5.0",
            "_view_name": "HTMLView",
            "description": "",
            "description_tooltip": null,
            "layout": "IPY_MODEL_9eee61976c084185a95308b495f8e21e",
            "placeholder": "​",
            "style": "IPY_MODEL_be227006ed684948b744185ec1e82a04",
            "value": "Downloading: 100%"
          }
        },
        "e6dabb779d0e4ed3a9e7b6208b66a13e": {
          "model_module": "@jupyter-widgets/controls",
          "model_name": "FloatProgressModel",
          "model_module_version": "1.5.0",
          "state": {
            "_dom_classes": [],
            "_model_module": "@jupyter-widgets/controls",
            "_model_module_version": "1.5.0",
            "_model_name": "FloatProgressModel",
            "_view_count": null,
            "_view_module": "@jupyter-widgets/controls",
            "_view_module_version": "1.5.0",
            "_view_name": "ProgressView",
            "bar_style": "success",
            "description": "",
            "description_tooltip": null,
            "layout": "IPY_MODEL_7b745ba7da214907b9f154cf5c602e22",
            "max": 82,
            "min": 0,
            "orientation": "horizontal",
            "style": "IPY_MODEL_3a74d1eb7ca44f9eaab8f67206e73d38",
            "value": 82
          }
        },
        "8458eba55bd64acb9d4e281e5a4229d1": {
          "model_module": "@jupyter-widgets/controls",
          "model_name": "HTMLModel",
          "model_module_version": "1.5.0",
          "state": {
            "_dom_classes": [],
            "_model_module": "@jupyter-widgets/controls",
            "_model_module_version": "1.5.0",
            "_model_name": "HTMLModel",
            "_view_count": null,
            "_view_module": "@jupyter-widgets/controls",
            "_view_module_version": "1.5.0",
            "_view_name": "HTMLView",
            "description": "",
            "description_tooltip": null,
            "layout": "IPY_MODEL_d0ba9b92cf3f4f6da88d526f6946ab5f",
            "placeholder": "​",
            "style": "IPY_MODEL_af2880af285847f0992d9dc6b3d48def",
            "value": " 82.0/82.0 [00:00&lt;00:00, 3.65kB/s]"
          }
        },
        "0eb7834402b74af19b1022c42807fb3f": {
          "model_module": "@jupyter-widgets/base",
          "model_name": "LayoutModel",
          "model_module_version": "1.2.0",
          "state": {
            "_model_module": "@jupyter-widgets/base",
            "_model_module_version": "1.2.0",
            "_model_name": "LayoutModel",
            "_view_count": null,
            "_view_module": "@jupyter-widgets/base",
            "_view_module_version": "1.2.0",
            "_view_name": "LayoutView",
            "align_content": null,
            "align_items": null,
            "align_self": null,
            "border": null,
            "bottom": null,
            "display": null,
            "flex": null,
            "flex_flow": null,
            "grid_area": null,
            "grid_auto_columns": null,
            "grid_auto_flow": null,
            "grid_auto_rows": null,
            "grid_column": null,
            "grid_gap": null,
            "grid_row": null,
            "grid_template_areas": null,
            "grid_template_columns": null,
            "grid_template_rows": null,
            "height": null,
            "justify_content": null,
            "justify_items": null,
            "left": null,
            "margin": null,
            "max_height": null,
            "max_width": null,
            "min_height": null,
            "min_width": null,
            "object_fit": null,
            "object_position": null,
            "order": null,
            "overflow": null,
            "overflow_x": null,
            "overflow_y": null,
            "padding": null,
            "right": null,
            "top": null,
            "visibility": null,
            "width": null
          }
        },
        "9eee61976c084185a95308b495f8e21e": {
          "model_module": "@jupyter-widgets/base",
          "model_name": "LayoutModel",
          "model_module_version": "1.2.0",
          "state": {
            "_model_module": "@jupyter-widgets/base",
            "_model_module_version": "1.2.0",
            "_model_name": "LayoutModel",
            "_view_count": null,
            "_view_module": "@jupyter-widgets/base",
            "_view_module_version": "1.2.0",
            "_view_name": "LayoutView",
            "align_content": null,
            "align_items": null,
            "align_self": null,
            "border": null,
            "bottom": null,
            "display": null,
            "flex": null,
            "flex_flow": null,
            "grid_area": null,
            "grid_auto_columns": null,
            "grid_auto_flow": null,
            "grid_auto_rows": null,
            "grid_column": null,
            "grid_gap": null,
            "grid_row": null,
            "grid_template_areas": null,
            "grid_template_columns": null,
            "grid_template_rows": null,
            "height": null,
            "justify_content": null,
            "justify_items": null,
            "left": null,
            "margin": null,
            "max_height": null,
            "max_width": null,
            "min_height": null,
            "min_width": null,
            "object_fit": null,
            "object_position": null,
            "order": null,
            "overflow": null,
            "overflow_x": null,
            "overflow_y": null,
            "padding": null,
            "right": null,
            "top": null,
            "visibility": null,
            "width": null
          }
        },
        "be227006ed684948b744185ec1e82a04": {
          "model_module": "@jupyter-widgets/controls",
          "model_name": "DescriptionStyleModel",
          "model_module_version": "1.5.0",
          "state": {
            "_model_module": "@jupyter-widgets/controls",
            "_model_module_version": "1.5.0",
            "_model_name": "DescriptionStyleModel",
            "_view_count": null,
            "_view_module": "@jupyter-widgets/base",
            "_view_module_version": "1.2.0",
            "_view_name": "StyleView",
            "description_width": ""
          }
        },
        "7b745ba7da214907b9f154cf5c602e22": {
          "model_module": "@jupyter-widgets/base",
          "model_name": "LayoutModel",
          "model_module_version": "1.2.0",
          "state": {
            "_model_module": "@jupyter-widgets/base",
            "_model_module_version": "1.2.0",
            "_model_name": "LayoutModel",
            "_view_count": null,
            "_view_module": "@jupyter-widgets/base",
            "_view_module_version": "1.2.0",
            "_view_name": "LayoutView",
            "align_content": null,
            "align_items": null,
            "align_self": null,
            "border": null,
            "bottom": null,
            "display": null,
            "flex": null,
            "flex_flow": null,
            "grid_area": null,
            "grid_auto_columns": null,
            "grid_auto_flow": null,
            "grid_auto_rows": null,
            "grid_column": null,
            "grid_gap": null,
            "grid_row": null,
            "grid_template_areas": null,
            "grid_template_columns": null,
            "grid_template_rows": null,
            "height": null,
            "justify_content": null,
            "justify_items": null,
            "left": null,
            "margin": null,
            "max_height": null,
            "max_width": null,
            "min_height": null,
            "min_width": null,
            "object_fit": null,
            "object_position": null,
            "order": null,
            "overflow": null,
            "overflow_x": null,
            "overflow_y": null,
            "padding": null,
            "right": null,
            "top": null,
            "visibility": null,
            "width": null
          }
        },
        "3a74d1eb7ca44f9eaab8f67206e73d38": {
          "model_module": "@jupyter-widgets/controls",
          "model_name": "ProgressStyleModel",
          "model_module_version": "1.5.0",
          "state": {
            "_model_module": "@jupyter-widgets/controls",
            "_model_module_version": "1.5.0",
            "_model_name": "ProgressStyleModel",
            "_view_count": null,
            "_view_module": "@jupyter-widgets/base",
            "_view_module_version": "1.2.0",
            "_view_name": "StyleView",
            "bar_color": null,
            "description_width": ""
          }
        },
        "d0ba9b92cf3f4f6da88d526f6946ab5f": {
          "model_module": "@jupyter-widgets/base",
          "model_name": "LayoutModel",
          "model_module_version": "1.2.0",
          "state": {
            "_model_module": "@jupyter-widgets/base",
            "_model_module_version": "1.2.0",
            "_model_name": "LayoutModel",
            "_view_count": null,
            "_view_module": "@jupyter-widgets/base",
            "_view_module_version": "1.2.0",
            "_view_name": "LayoutView",
            "align_content": null,
            "align_items": null,
            "align_self": null,
            "border": null,
            "bottom": null,
            "display": null,
            "flex": null,
            "flex_flow": null,
            "grid_area": null,
            "grid_auto_columns": null,
            "grid_auto_flow": null,
            "grid_auto_rows": null,
            "grid_column": null,
            "grid_gap": null,
            "grid_row": null,
            "grid_template_areas": null,
            "grid_template_columns": null,
            "grid_template_rows": null,
            "height": null,
            "justify_content": null,
            "justify_items": null,
            "left": null,
            "margin": null,
            "max_height": null,
            "max_width": null,
            "min_height": null,
            "min_width": null,
            "object_fit": null,
            "object_position": null,
            "order": null,
            "overflow": null,
            "overflow_x": null,
            "overflow_y": null,
            "padding": null,
            "right": null,
            "top": null,
            "visibility": null,
            "width": null
          }
        },
        "af2880af285847f0992d9dc6b3d48def": {
          "model_module": "@jupyter-widgets/controls",
          "model_name": "DescriptionStyleModel",
          "model_module_version": "1.5.0",
          "state": {
            "_model_module": "@jupyter-widgets/controls",
            "_model_module_version": "1.5.0",
            "_model_name": "DescriptionStyleModel",
            "_view_count": null,
            "_view_module": "@jupyter-widgets/base",
            "_view_module_version": "1.2.0",
            "_view_name": "StyleView",
            "description_width": ""
          }
        },
        "45254e5e96ea4acfa5fbdf4bd9fa71cc": {
          "model_module": "@jupyter-widgets/controls",
          "model_name": "HBoxModel",
          "model_module_version": "1.5.0",
          "state": {
            "_dom_classes": [],
            "_model_module": "@jupyter-widgets/controls",
            "_model_module_version": "1.5.0",
            "_model_name": "HBoxModel",
            "_view_count": null,
            "_view_module": "@jupyter-widgets/controls",
            "_view_module_version": "1.5.0",
            "_view_name": "HBoxView",
            "box_style": "",
            "children": [
              "IPY_MODEL_891f607d016044ca86f71bd2c8a714e6",
              "IPY_MODEL_52305e3b3ed54344a236f5455b613a8c",
              "IPY_MODEL_475f8ab3de1f4e05b210f9075c9dec76"
            ],
            "layout": "IPY_MODEL_dabb9c7107ad47b7a7cd8eb1d530b068"
          }
        },
        "891f607d016044ca86f71bd2c8a714e6": {
          "model_module": "@jupyter-widgets/controls",
          "model_name": "HTMLModel",
          "model_module_version": "1.5.0",
          "state": {
            "_dom_classes": [],
            "_model_module": "@jupyter-widgets/controls",
            "_model_module_version": "1.5.0",
            "_model_name": "HTMLModel",
            "_view_count": null,
            "_view_module": "@jupyter-widgets/controls",
            "_view_module_version": "1.5.0",
            "_view_name": "HTMLView",
            "description": "",
            "description_tooltip": null,
            "layout": "IPY_MODEL_e815f15c58b9428293fe475a88df6401",
            "placeholder": "​",
            "style": "IPY_MODEL_d69503a42e5d45149ed30ace80099276",
            "value": "Downloading: 100%"
          }
        },
        "52305e3b3ed54344a236f5455b613a8c": {
          "model_module": "@jupyter-widgets/controls",
          "model_name": "FloatProgressModel",
          "model_module_version": "1.5.0",
          "state": {
            "_dom_classes": [],
            "_model_module": "@jupyter-widgets/controls",
            "_model_module_version": "1.5.0",
            "_model_name": "FloatProgressModel",
            "_view_count": null,
            "_view_module": "@jupyter-widgets/controls",
            "_view_module_version": "1.5.0",
            "_view_name": "ProgressView",
            "bar_style": "success",
            "description": "",
            "description_tooltip": null,
            "layout": "IPY_MODEL_b00bd9c95fb3444bbabecf730ec8e6ca",
            "max": 553,
            "min": 0,
            "orientation": "horizontal",
            "style": "IPY_MODEL_859b9cf29f3a4ba6a931e28dd02b796a",
            "value": 553
          }
        },
        "475f8ab3de1f4e05b210f9075c9dec76": {
          "model_module": "@jupyter-widgets/controls",
          "model_name": "HTMLModel",
          "model_module_version": "1.5.0",
          "state": {
            "_dom_classes": [],
            "_model_module": "@jupyter-widgets/controls",
            "_model_module_version": "1.5.0",
            "_model_name": "HTMLModel",
            "_view_count": null,
            "_view_module": "@jupyter-widgets/controls",
            "_view_module_version": "1.5.0",
            "_view_name": "HTMLView",
            "description": "",
            "description_tooltip": null,
            "layout": "IPY_MODEL_d844619ac14740788add45a07b22d888",
            "placeholder": "​",
            "style": "IPY_MODEL_24a634e005c64604ac33089b3eb10d84",
            "value": " 553/553 [00:00&lt;00:00, 12.9kB/s]"
          }
        },
        "dabb9c7107ad47b7a7cd8eb1d530b068": {
          "model_module": "@jupyter-widgets/base",
          "model_name": "LayoutModel",
          "model_module_version": "1.2.0",
          "state": {
            "_model_module": "@jupyter-widgets/base",
            "_model_module_version": "1.2.0",
            "_model_name": "LayoutModel",
            "_view_count": null,
            "_view_module": "@jupyter-widgets/base",
            "_view_module_version": "1.2.0",
            "_view_name": "LayoutView",
            "align_content": null,
            "align_items": null,
            "align_self": null,
            "border": null,
            "bottom": null,
            "display": null,
            "flex": null,
            "flex_flow": null,
            "grid_area": null,
            "grid_auto_columns": null,
            "grid_auto_flow": null,
            "grid_auto_rows": null,
            "grid_column": null,
            "grid_gap": null,
            "grid_row": null,
            "grid_template_areas": null,
            "grid_template_columns": null,
            "grid_template_rows": null,
            "height": null,
            "justify_content": null,
            "justify_items": null,
            "left": null,
            "margin": null,
            "max_height": null,
            "max_width": null,
            "min_height": null,
            "min_width": null,
            "object_fit": null,
            "object_position": null,
            "order": null,
            "overflow": null,
            "overflow_x": null,
            "overflow_y": null,
            "padding": null,
            "right": null,
            "top": null,
            "visibility": null,
            "width": null
          }
        },
        "e815f15c58b9428293fe475a88df6401": {
          "model_module": "@jupyter-widgets/base",
          "model_name": "LayoutModel",
          "model_module_version": "1.2.0",
          "state": {
            "_model_module": "@jupyter-widgets/base",
            "_model_module_version": "1.2.0",
            "_model_name": "LayoutModel",
            "_view_count": null,
            "_view_module": "@jupyter-widgets/base",
            "_view_module_version": "1.2.0",
            "_view_name": "LayoutView",
            "align_content": null,
            "align_items": null,
            "align_self": null,
            "border": null,
            "bottom": null,
            "display": null,
            "flex": null,
            "flex_flow": null,
            "grid_area": null,
            "grid_auto_columns": null,
            "grid_auto_flow": null,
            "grid_auto_rows": null,
            "grid_column": null,
            "grid_gap": null,
            "grid_row": null,
            "grid_template_areas": null,
            "grid_template_columns": null,
            "grid_template_rows": null,
            "height": null,
            "justify_content": null,
            "justify_items": null,
            "left": null,
            "margin": null,
            "max_height": null,
            "max_width": null,
            "min_height": null,
            "min_width": null,
            "object_fit": null,
            "object_position": null,
            "order": null,
            "overflow": null,
            "overflow_x": null,
            "overflow_y": null,
            "padding": null,
            "right": null,
            "top": null,
            "visibility": null,
            "width": null
          }
        },
        "d69503a42e5d45149ed30ace80099276": {
          "model_module": "@jupyter-widgets/controls",
          "model_name": "DescriptionStyleModel",
          "model_module_version": "1.5.0",
          "state": {
            "_model_module": "@jupyter-widgets/controls",
            "_model_module_version": "1.5.0",
            "_model_name": "DescriptionStyleModel",
            "_view_count": null,
            "_view_module": "@jupyter-widgets/base",
            "_view_module_version": "1.2.0",
            "_view_name": "StyleView",
            "description_width": ""
          }
        },
        "b00bd9c95fb3444bbabecf730ec8e6ca": {
          "model_module": "@jupyter-widgets/base",
          "model_name": "LayoutModel",
          "model_module_version": "1.2.0",
          "state": {
            "_model_module": "@jupyter-widgets/base",
            "_model_module_version": "1.2.0",
            "_model_name": "LayoutModel",
            "_view_count": null,
            "_view_module": "@jupyter-widgets/base",
            "_view_module_version": "1.2.0",
            "_view_name": "LayoutView",
            "align_content": null,
            "align_items": null,
            "align_self": null,
            "border": null,
            "bottom": null,
            "display": null,
            "flex": null,
            "flex_flow": null,
            "grid_area": null,
            "grid_auto_columns": null,
            "grid_auto_flow": null,
            "grid_auto_rows": null,
            "grid_column": null,
            "grid_gap": null,
            "grid_row": null,
            "grid_template_areas": null,
            "grid_template_columns": null,
            "grid_template_rows": null,
            "height": null,
            "justify_content": null,
            "justify_items": null,
            "left": null,
            "margin": null,
            "max_height": null,
            "max_width": null,
            "min_height": null,
            "min_width": null,
            "object_fit": null,
            "object_position": null,
            "order": null,
            "overflow": null,
            "overflow_x": null,
            "overflow_y": null,
            "padding": null,
            "right": null,
            "top": null,
            "visibility": null,
            "width": null
          }
        },
        "859b9cf29f3a4ba6a931e28dd02b796a": {
          "model_module": "@jupyter-widgets/controls",
          "model_name": "ProgressStyleModel",
          "model_module_version": "1.5.0",
          "state": {
            "_model_module": "@jupyter-widgets/controls",
            "_model_module_version": "1.5.0",
            "_model_name": "ProgressStyleModel",
            "_view_count": null,
            "_view_module": "@jupyter-widgets/base",
            "_view_module_version": "1.2.0",
            "_view_name": "StyleView",
            "bar_color": null,
            "description_width": ""
          }
        },
        "d844619ac14740788add45a07b22d888": {
          "model_module": "@jupyter-widgets/base",
          "model_name": "LayoutModel",
          "model_module_version": "1.2.0",
          "state": {
            "_model_module": "@jupyter-widgets/base",
            "_model_module_version": "1.2.0",
            "_model_name": "LayoutModel",
            "_view_count": null,
            "_view_module": "@jupyter-widgets/base",
            "_view_module_version": "1.2.0",
            "_view_name": "LayoutView",
            "align_content": null,
            "align_items": null,
            "align_self": null,
            "border": null,
            "bottom": null,
            "display": null,
            "flex": null,
            "flex_flow": null,
            "grid_area": null,
            "grid_auto_columns": null,
            "grid_auto_flow": null,
            "grid_auto_rows": null,
            "grid_column": null,
            "grid_gap": null,
            "grid_row": null,
            "grid_template_areas": null,
            "grid_template_columns": null,
            "grid_template_rows": null,
            "height": null,
            "justify_content": null,
            "justify_items": null,
            "left": null,
            "margin": null,
            "max_height": null,
            "max_width": null,
            "min_height": null,
            "min_width": null,
            "object_fit": null,
            "object_position": null,
            "order": null,
            "overflow": null,
            "overflow_x": null,
            "overflow_y": null,
            "padding": null,
            "right": null,
            "top": null,
            "visibility": null,
            "width": null
          }
        },
        "24a634e005c64604ac33089b3eb10d84": {
          "model_module": "@jupyter-widgets/controls",
          "model_name": "DescriptionStyleModel",
          "model_module_version": "1.5.0",
          "state": {
            "_model_module": "@jupyter-widgets/controls",
            "_model_module_version": "1.5.0",
            "_model_name": "DescriptionStyleModel",
            "_view_count": null,
            "_view_module": "@jupyter-widgets/base",
            "_view_module_version": "1.2.0",
            "_view_name": "StyleView",
            "description_width": ""
          }
        },
        "aacf1a81d853442e8cd1f769f6c383ec": {
          "model_module": "@jupyter-widgets/controls",
          "model_name": "HBoxModel",
          "model_module_version": "1.5.0",
          "state": {
            "_dom_classes": [],
            "_model_module": "@jupyter-widgets/controls",
            "_model_module_version": "1.5.0",
            "_model_name": "HBoxModel",
            "_view_count": null,
            "_view_module": "@jupyter-widgets/controls",
            "_view_module_version": "1.5.0",
            "_view_name": "HBoxView",
            "box_style": "",
            "children": [
              "IPY_MODEL_f1da91cf61484d0bbcd80a48a5dfea17",
              "IPY_MODEL_2cc3ae59832f466d81f02f21d54dea75",
              "IPY_MODEL_f01365dc711348f58a6426993dcdca61"
            ],
            "layout": "IPY_MODEL_47ad195ba38041c78cafe28d1ff817a3"
          }
        },
        "f1da91cf61484d0bbcd80a48a5dfea17": {
          "model_module": "@jupyter-widgets/controls",
          "model_name": "HTMLModel",
          "model_module_version": "1.5.0",
          "state": {
            "_dom_classes": [],
            "_model_module": "@jupyter-widgets/controls",
            "_model_module_version": "1.5.0",
            "_model_name": "HTMLModel",
            "_view_count": null,
            "_view_module": "@jupyter-widgets/controls",
            "_view_module_version": "1.5.0",
            "_view_name": "HTMLView",
            "description": "",
            "description_tooltip": null,
            "layout": "IPY_MODEL_5c256f2a223b41cd95cfb35afda6d898",
            "placeholder": "​",
            "style": "IPY_MODEL_04aaa7e2b4b740d6b7eca6290b11c532",
            "value": "Downloading: 100%"
          }
        },
        "2cc3ae59832f466d81f02f21d54dea75": {
          "model_module": "@jupyter-widgets/controls",
          "model_name": "FloatProgressModel",
          "model_module_version": "1.5.0",
          "state": {
            "_dom_classes": [],
            "_model_module": "@jupyter-widgets/controls",
            "_model_module_version": "1.5.0",
            "_model_name": "FloatProgressModel",
            "_view_count": null,
            "_view_module": "@jupyter-widgets/controls",
            "_view_module_version": "1.5.0",
            "_view_name": "ProgressView",
            "bar_style": "success",
            "description": "",
            "description_tooltip": null,
            "layout": "IPY_MODEL_cf756c54fd4e4447aae3bc58954004a9",
            "max": 4309802,
            "min": 0,
            "orientation": "horizontal",
            "style": "IPY_MODEL_1bbbd516c05248f983fbadd468097c34",
            "value": 4309802
          }
        },
        "f01365dc711348f58a6426993dcdca61": {
          "model_module": "@jupyter-widgets/controls",
          "model_name": "HTMLModel",
          "model_module_version": "1.5.0",
          "state": {
            "_dom_classes": [],
            "_model_module": "@jupyter-widgets/controls",
            "_model_module_version": "1.5.0",
            "_model_name": "HTMLModel",
            "_view_count": null,
            "_view_module": "@jupyter-widgets/controls",
            "_view_module_version": "1.5.0",
            "_view_name": "HTMLView",
            "description": "",
            "description_tooltip": null,
            "layout": "IPY_MODEL_3ed687fac000480fba738471a69bef11",
            "placeholder": "​",
            "style": "IPY_MODEL_f61722863dd3469c8decbbd428b84392",
            "value": " 4.11M/4.11M [00:00&lt;00:00, 21.7MB/s]"
          }
        },
        "47ad195ba38041c78cafe28d1ff817a3": {
          "model_module": "@jupyter-widgets/base",
          "model_name": "LayoutModel",
          "model_module_version": "1.2.0",
          "state": {
            "_model_module": "@jupyter-widgets/base",
            "_model_module_version": "1.2.0",
            "_model_name": "LayoutModel",
            "_view_count": null,
            "_view_module": "@jupyter-widgets/base",
            "_view_module_version": "1.2.0",
            "_view_name": "LayoutView",
            "align_content": null,
            "align_items": null,
            "align_self": null,
            "border": null,
            "bottom": null,
            "display": null,
            "flex": null,
            "flex_flow": null,
            "grid_area": null,
            "grid_auto_columns": null,
            "grid_auto_flow": null,
            "grid_auto_rows": null,
            "grid_column": null,
            "grid_gap": null,
            "grid_row": null,
            "grid_template_areas": null,
            "grid_template_columns": null,
            "grid_template_rows": null,
            "height": null,
            "justify_content": null,
            "justify_items": null,
            "left": null,
            "margin": null,
            "max_height": null,
            "max_width": null,
            "min_height": null,
            "min_width": null,
            "object_fit": null,
            "object_position": null,
            "order": null,
            "overflow": null,
            "overflow_x": null,
            "overflow_y": null,
            "padding": null,
            "right": null,
            "top": null,
            "visibility": null,
            "width": null
          }
        },
        "5c256f2a223b41cd95cfb35afda6d898": {
          "model_module": "@jupyter-widgets/base",
          "model_name": "LayoutModel",
          "model_module_version": "1.2.0",
          "state": {
            "_model_module": "@jupyter-widgets/base",
            "_model_module_version": "1.2.0",
            "_model_name": "LayoutModel",
            "_view_count": null,
            "_view_module": "@jupyter-widgets/base",
            "_view_module_version": "1.2.0",
            "_view_name": "LayoutView",
            "align_content": null,
            "align_items": null,
            "align_self": null,
            "border": null,
            "bottom": null,
            "display": null,
            "flex": null,
            "flex_flow": null,
            "grid_area": null,
            "grid_auto_columns": null,
            "grid_auto_flow": null,
            "grid_auto_rows": null,
            "grid_column": null,
            "grid_gap": null,
            "grid_row": null,
            "grid_template_areas": null,
            "grid_template_columns": null,
            "grid_template_rows": null,
            "height": null,
            "justify_content": null,
            "justify_items": null,
            "left": null,
            "margin": null,
            "max_height": null,
            "max_width": null,
            "min_height": null,
            "min_width": null,
            "object_fit": null,
            "object_position": null,
            "order": null,
            "overflow": null,
            "overflow_x": null,
            "overflow_y": null,
            "padding": null,
            "right": null,
            "top": null,
            "visibility": null,
            "width": null
          }
        },
        "04aaa7e2b4b740d6b7eca6290b11c532": {
          "model_module": "@jupyter-widgets/controls",
          "model_name": "DescriptionStyleModel",
          "model_module_version": "1.5.0",
          "state": {
            "_model_module": "@jupyter-widgets/controls",
            "_model_module_version": "1.5.0",
            "_model_name": "DescriptionStyleModel",
            "_view_count": null,
            "_view_module": "@jupyter-widgets/base",
            "_view_module_version": "1.2.0",
            "_view_name": "StyleView",
            "description_width": ""
          }
        },
        "cf756c54fd4e4447aae3bc58954004a9": {
          "model_module": "@jupyter-widgets/base",
          "model_name": "LayoutModel",
          "model_module_version": "1.2.0",
          "state": {
            "_model_module": "@jupyter-widgets/base",
            "_model_module_version": "1.2.0",
            "_model_name": "LayoutModel",
            "_view_count": null,
            "_view_module": "@jupyter-widgets/base",
            "_view_module_version": "1.2.0",
            "_view_name": "LayoutView",
            "align_content": null,
            "align_items": null,
            "align_self": null,
            "border": null,
            "bottom": null,
            "display": null,
            "flex": null,
            "flex_flow": null,
            "grid_area": null,
            "grid_auto_columns": null,
            "grid_auto_flow": null,
            "grid_auto_rows": null,
            "grid_column": null,
            "grid_gap": null,
            "grid_row": null,
            "grid_template_areas": null,
            "grid_template_columns": null,
            "grid_template_rows": null,
            "height": null,
            "justify_content": null,
            "justify_items": null,
            "left": null,
            "margin": null,
            "max_height": null,
            "max_width": null,
            "min_height": null,
            "min_width": null,
            "object_fit": null,
            "object_position": null,
            "order": null,
            "overflow": null,
            "overflow_x": null,
            "overflow_y": null,
            "padding": null,
            "right": null,
            "top": null,
            "visibility": null,
            "width": null
          }
        },
        "1bbbd516c05248f983fbadd468097c34": {
          "model_module": "@jupyter-widgets/controls",
          "model_name": "ProgressStyleModel",
          "model_module_version": "1.5.0",
          "state": {
            "_model_module": "@jupyter-widgets/controls",
            "_model_module_version": "1.5.0",
            "_model_name": "ProgressStyleModel",
            "_view_count": null,
            "_view_module": "@jupyter-widgets/base",
            "_view_module_version": "1.2.0",
            "_view_name": "StyleView",
            "bar_color": null,
            "description_width": ""
          }
        },
        "3ed687fac000480fba738471a69bef11": {
          "model_module": "@jupyter-widgets/base",
          "model_name": "LayoutModel",
          "model_module_version": "1.2.0",
          "state": {
            "_model_module": "@jupyter-widgets/base",
            "_model_module_version": "1.2.0",
            "_model_name": "LayoutModel",
            "_view_count": null,
            "_view_module": "@jupyter-widgets/base",
            "_view_module_version": "1.2.0",
            "_view_name": "LayoutView",
            "align_content": null,
            "align_items": null,
            "align_self": null,
            "border": null,
            "bottom": null,
            "display": null,
            "flex": null,
            "flex_flow": null,
            "grid_area": null,
            "grid_auto_columns": null,
            "grid_auto_flow": null,
            "grid_auto_rows": null,
            "grid_column": null,
            "grid_gap": null,
            "grid_row": null,
            "grid_template_areas": null,
            "grid_template_columns": null,
            "grid_template_rows": null,
            "height": null,
            "justify_content": null,
            "justify_items": null,
            "left": null,
            "margin": null,
            "max_height": null,
            "max_width": null,
            "min_height": null,
            "min_width": null,
            "object_fit": null,
            "object_position": null,
            "order": null,
            "overflow": null,
            "overflow_x": null,
            "overflow_y": null,
            "padding": null,
            "right": null,
            "top": null,
            "visibility": null,
            "width": null
          }
        },
        "f61722863dd3469c8decbbd428b84392": {
          "model_module": "@jupyter-widgets/controls",
          "model_name": "DescriptionStyleModel",
          "model_module_version": "1.5.0",
          "state": {
            "_model_module": "@jupyter-widgets/controls",
            "_model_module_version": "1.5.0",
            "_model_name": "DescriptionStyleModel",
            "_view_count": null,
            "_view_module": "@jupyter-widgets/base",
            "_view_module_version": "1.2.0",
            "_view_name": "StyleView",
            "description_width": ""
          }
        },
        "f29561fd07e14f209d9491fc58315fa1": {
          "model_module": "@jupyter-widgets/controls",
          "model_name": "HBoxModel",
          "model_module_version": "1.5.0",
          "state": {
            "_dom_classes": [],
            "_model_module": "@jupyter-widgets/controls",
            "_model_module_version": "1.5.0",
            "_model_name": "HBoxModel",
            "_view_count": null,
            "_view_module": "@jupyter-widgets/controls",
            "_view_module_version": "1.5.0",
            "_view_name": "HBoxView",
            "box_style": "",
            "children": [
              "IPY_MODEL_bee66fc0cc384e0aa5e4494d26b564da",
              "IPY_MODEL_7772749ae2f34053b9484068955ea692",
              "IPY_MODEL_383a27bcf4c84aea86b051f684486abc"
            ],
            "layout": "IPY_MODEL_9ebe9e9515894193905f829cbc8e11a7"
          }
        },
        "bee66fc0cc384e0aa5e4494d26b564da": {
          "model_module": "@jupyter-widgets/controls",
          "model_name": "HTMLModel",
          "model_module_version": "1.5.0",
          "state": {
            "_dom_classes": [],
            "_model_module": "@jupyter-widgets/controls",
            "_model_module_version": "1.5.0",
            "_model_name": "HTMLModel",
            "_view_count": null,
            "_view_module": "@jupyter-widgets/controls",
            "_view_module_version": "1.5.0",
            "_view_name": "HTMLView",
            "description": "",
            "description_tooltip": null,
            "layout": "IPY_MODEL_c5394af885864fef9789010911eaf518",
            "placeholder": "​",
            "style": "IPY_MODEL_f8d23b8784144e359b8d88a904c20a1b",
            "value": "Downloading: 100%"
          }
        },
        "7772749ae2f34053b9484068955ea692": {
          "model_module": "@jupyter-widgets/controls",
          "model_name": "FloatProgressModel",
          "model_module_version": "1.5.0",
          "state": {
            "_dom_classes": [],
            "_model_module": "@jupyter-widgets/controls",
            "_model_module_version": "1.5.0",
            "_model_name": "FloatProgressModel",
            "_view_count": null,
            "_view_module": "@jupyter-widgets/controls",
            "_view_module_version": "1.5.0",
            "_view_name": "ProgressView",
            "bar_style": "success",
            "description": "",
            "description_tooltip": null,
            "layout": "IPY_MODEL_05f937c0ce3048068b565289b0390d3d",
            "max": 99,
            "min": 0,
            "orientation": "horizontal",
            "style": "IPY_MODEL_cf3dc04ac4ae492294ffdb92cc43d78d",
            "value": 99
          }
        },
        "383a27bcf4c84aea86b051f684486abc": {
          "model_module": "@jupyter-widgets/controls",
          "model_name": "HTMLModel",
          "model_module_version": "1.5.0",
          "state": {
            "_dom_classes": [],
            "_model_module": "@jupyter-widgets/controls",
            "_model_module_version": "1.5.0",
            "_model_name": "HTMLModel",
            "_view_count": null,
            "_view_module": "@jupyter-widgets/controls",
            "_view_module_version": "1.5.0",
            "_view_name": "HTMLView",
            "description": "",
            "description_tooltip": null,
            "layout": "IPY_MODEL_114b733c569b40c588b3487f80775b5f",
            "placeholder": "​",
            "style": "IPY_MODEL_51d7138a6f2f4fc09fde3765732b3ba6",
            "value": " 99.0/99.0 [00:00&lt;00:00, 1.24kB/s]"
          }
        },
        "9ebe9e9515894193905f829cbc8e11a7": {
          "model_module": "@jupyter-widgets/base",
          "model_name": "LayoutModel",
          "model_module_version": "1.2.0",
          "state": {
            "_model_module": "@jupyter-widgets/base",
            "_model_module_version": "1.2.0",
            "_model_name": "LayoutModel",
            "_view_count": null,
            "_view_module": "@jupyter-widgets/base",
            "_view_module_version": "1.2.0",
            "_view_name": "LayoutView",
            "align_content": null,
            "align_items": null,
            "align_self": null,
            "border": null,
            "bottom": null,
            "display": null,
            "flex": null,
            "flex_flow": null,
            "grid_area": null,
            "grid_auto_columns": null,
            "grid_auto_flow": null,
            "grid_auto_rows": null,
            "grid_column": null,
            "grid_gap": null,
            "grid_row": null,
            "grid_template_areas": null,
            "grid_template_columns": null,
            "grid_template_rows": null,
            "height": null,
            "justify_content": null,
            "justify_items": null,
            "left": null,
            "margin": null,
            "max_height": null,
            "max_width": null,
            "min_height": null,
            "min_width": null,
            "object_fit": null,
            "object_position": null,
            "order": null,
            "overflow": null,
            "overflow_x": null,
            "overflow_y": null,
            "padding": null,
            "right": null,
            "top": null,
            "visibility": null,
            "width": null
          }
        },
        "c5394af885864fef9789010911eaf518": {
          "model_module": "@jupyter-widgets/base",
          "model_name": "LayoutModel",
          "model_module_version": "1.2.0",
          "state": {
            "_model_module": "@jupyter-widgets/base",
            "_model_module_version": "1.2.0",
            "_model_name": "LayoutModel",
            "_view_count": null,
            "_view_module": "@jupyter-widgets/base",
            "_view_module_version": "1.2.0",
            "_view_name": "LayoutView",
            "align_content": null,
            "align_items": null,
            "align_self": null,
            "border": null,
            "bottom": null,
            "display": null,
            "flex": null,
            "flex_flow": null,
            "grid_area": null,
            "grid_auto_columns": null,
            "grid_auto_flow": null,
            "grid_auto_rows": null,
            "grid_column": null,
            "grid_gap": null,
            "grid_row": null,
            "grid_template_areas": null,
            "grid_template_columns": null,
            "grid_template_rows": null,
            "height": null,
            "justify_content": null,
            "justify_items": null,
            "left": null,
            "margin": null,
            "max_height": null,
            "max_width": null,
            "min_height": null,
            "min_width": null,
            "object_fit": null,
            "object_position": null,
            "order": null,
            "overflow": null,
            "overflow_x": null,
            "overflow_y": null,
            "padding": null,
            "right": null,
            "top": null,
            "visibility": null,
            "width": null
          }
        },
        "f8d23b8784144e359b8d88a904c20a1b": {
          "model_module": "@jupyter-widgets/controls",
          "model_name": "DescriptionStyleModel",
          "model_module_version": "1.5.0",
          "state": {
            "_model_module": "@jupyter-widgets/controls",
            "_model_module_version": "1.5.0",
            "_model_name": "DescriptionStyleModel",
            "_view_count": null,
            "_view_module": "@jupyter-widgets/base",
            "_view_module_version": "1.2.0",
            "_view_name": "StyleView",
            "description_width": ""
          }
        },
        "05f937c0ce3048068b565289b0390d3d": {
          "model_module": "@jupyter-widgets/base",
          "model_name": "LayoutModel",
          "model_module_version": "1.2.0",
          "state": {
            "_model_module": "@jupyter-widgets/base",
            "_model_module_version": "1.2.0",
            "_model_name": "LayoutModel",
            "_view_count": null,
            "_view_module": "@jupyter-widgets/base",
            "_view_module_version": "1.2.0",
            "_view_name": "LayoutView",
            "align_content": null,
            "align_items": null,
            "align_self": null,
            "border": null,
            "bottom": null,
            "display": null,
            "flex": null,
            "flex_flow": null,
            "grid_area": null,
            "grid_auto_columns": null,
            "grid_auto_flow": null,
            "grid_auto_rows": null,
            "grid_column": null,
            "grid_gap": null,
            "grid_row": null,
            "grid_template_areas": null,
            "grid_template_columns": null,
            "grid_template_rows": null,
            "height": null,
            "justify_content": null,
            "justify_items": null,
            "left": null,
            "margin": null,
            "max_height": null,
            "max_width": null,
            "min_height": null,
            "min_width": null,
            "object_fit": null,
            "object_position": null,
            "order": null,
            "overflow": null,
            "overflow_x": null,
            "overflow_y": null,
            "padding": null,
            "right": null,
            "top": null,
            "visibility": null,
            "width": null
          }
        },
        "cf3dc04ac4ae492294ffdb92cc43d78d": {
          "model_module": "@jupyter-widgets/controls",
          "model_name": "ProgressStyleModel",
          "model_module_version": "1.5.0",
          "state": {
            "_model_module": "@jupyter-widgets/controls",
            "_model_module_version": "1.5.0",
            "_model_name": "ProgressStyleModel",
            "_view_count": null,
            "_view_module": "@jupyter-widgets/base",
            "_view_module_version": "1.2.0",
            "_view_name": "StyleView",
            "bar_color": null,
            "description_width": ""
          }
        },
        "114b733c569b40c588b3487f80775b5f": {
          "model_module": "@jupyter-widgets/base",
          "model_name": "LayoutModel",
          "model_module_version": "1.2.0",
          "state": {
            "_model_module": "@jupyter-widgets/base",
            "_model_module_version": "1.2.0",
            "_model_name": "LayoutModel",
            "_view_count": null,
            "_view_module": "@jupyter-widgets/base",
            "_view_module_version": "1.2.0",
            "_view_name": "LayoutView",
            "align_content": null,
            "align_items": null,
            "align_self": null,
            "border": null,
            "bottom": null,
            "display": null,
            "flex": null,
            "flex_flow": null,
            "grid_area": null,
            "grid_auto_columns": null,
            "grid_auto_flow": null,
            "grid_auto_rows": null,
            "grid_column": null,
            "grid_gap": null,
            "grid_row": null,
            "grid_template_areas": null,
            "grid_template_columns": null,
            "grid_template_rows": null,
            "height": null,
            "justify_content": null,
            "justify_items": null,
            "left": null,
            "margin": null,
            "max_height": null,
            "max_width": null,
            "min_height": null,
            "min_width": null,
            "object_fit": null,
            "object_position": null,
            "order": null,
            "overflow": null,
            "overflow_x": null,
            "overflow_y": null,
            "padding": null,
            "right": null,
            "top": null,
            "visibility": null,
            "width": null
          }
        },
        "51d7138a6f2f4fc09fde3765732b3ba6": {
          "model_module": "@jupyter-widgets/controls",
          "model_name": "DescriptionStyleModel",
          "model_module_version": "1.5.0",
          "state": {
            "_model_module": "@jupyter-widgets/controls",
            "_model_module_version": "1.5.0",
            "_model_name": "DescriptionStyleModel",
            "_view_count": null,
            "_view_module": "@jupyter-widgets/base",
            "_view_module_version": "1.2.0",
            "_view_name": "StyleView",
            "description_width": ""
          }
        },
        "5fbb2f81d444412e895a15350f055123": {
          "model_module": "@jupyter-widgets/controls",
          "model_name": "HBoxModel",
          "model_module_version": "1.5.0",
          "state": {
            "_dom_classes": [],
            "_model_module": "@jupyter-widgets/controls",
            "_model_module_version": "1.5.0",
            "_model_name": "HBoxModel",
            "_view_count": null,
            "_view_module": "@jupyter-widgets/controls",
            "_view_module_version": "1.5.0",
            "_view_name": "HBoxView",
            "box_style": "",
            "children": [
              "IPY_MODEL_6302f154b4f046e2bacd373bd83b39b2",
              "IPY_MODEL_bef7849af18e4fc48ee2b35a46ad4e4f",
              "IPY_MODEL_18e1724cdb7a4842923cf4f474cce2f9"
            ],
            "layout": "IPY_MODEL_912848d611ae4836a7022c104408e9b0"
          }
        },
        "6302f154b4f046e2bacd373bd83b39b2": {
          "model_module": "@jupyter-widgets/controls",
          "model_name": "HTMLModel",
          "model_module_version": "1.5.0",
          "state": {
            "_dom_classes": [],
            "_model_module": "@jupyter-widgets/controls",
            "_model_module_version": "1.5.0",
            "_model_name": "HTMLModel",
            "_view_count": null,
            "_view_module": "@jupyter-widgets/controls",
            "_view_module_version": "1.5.0",
            "_view_name": "HTMLView",
            "description": "",
            "description_tooltip": null,
            "layout": "IPY_MODEL_2ddfe38e511848f8a326ea5c13581bb5",
            "placeholder": "​",
            "style": "IPY_MODEL_e0ea4a5f7015411c82260f3562ae786e",
            "value": "Downloading builder script: 100%"
          }
        },
        "bef7849af18e4fc48ee2b35a46ad4e4f": {
          "model_module": "@jupyter-widgets/controls",
          "model_name": "FloatProgressModel",
          "model_module_version": "1.5.0",
          "state": {
            "_dom_classes": [],
            "_model_module": "@jupyter-widgets/controls",
            "_model_module_version": "1.5.0",
            "_model_name": "FloatProgressModel",
            "_view_count": null,
            "_view_module": "@jupyter-widgets/controls",
            "_view_module_version": "1.5.0",
            "_view_name": "ProgressView",
            "bar_style": "success",
            "description": "",
            "description_tooltip": null,
            "layout": "IPY_MODEL_1cc5aec4f8ba41a4b2736d5f7223fdf8",
            "max": 5274,
            "min": 0,
            "orientation": "horizontal",
            "style": "IPY_MODEL_5f3a547758724b039dff0db2788e56fe",
            "value": 5274
          }
        },
        "18e1724cdb7a4842923cf4f474cce2f9": {
          "model_module": "@jupyter-widgets/controls",
          "model_name": "HTMLModel",
          "model_module_version": "1.5.0",
          "state": {
            "_dom_classes": [],
            "_model_module": "@jupyter-widgets/controls",
            "_model_module_version": "1.5.0",
            "_model_name": "HTMLModel",
            "_view_count": null,
            "_view_module": "@jupyter-widgets/controls",
            "_view_module_version": "1.5.0",
            "_view_name": "HTMLView",
            "description": "",
            "description_tooltip": null,
            "layout": "IPY_MODEL_bde4a431c5d2427bbf323416c3f2525b",
            "placeholder": "​",
            "style": "IPY_MODEL_6afe5d446fc343659143ca5c98cbaf48",
            "value": " 5.27k/5.27k [00:00&lt;00:00, 287kB/s]"
          }
        },
        "912848d611ae4836a7022c104408e9b0": {
          "model_module": "@jupyter-widgets/base",
          "model_name": "LayoutModel",
          "model_module_version": "1.2.0",
          "state": {
            "_model_module": "@jupyter-widgets/base",
            "_model_module_version": "1.2.0",
            "_model_name": "LayoutModel",
            "_view_count": null,
            "_view_module": "@jupyter-widgets/base",
            "_view_module_version": "1.2.0",
            "_view_name": "LayoutView",
            "align_content": null,
            "align_items": null,
            "align_self": null,
            "border": null,
            "bottom": null,
            "display": null,
            "flex": null,
            "flex_flow": null,
            "grid_area": null,
            "grid_auto_columns": null,
            "grid_auto_flow": null,
            "grid_auto_rows": null,
            "grid_column": null,
            "grid_gap": null,
            "grid_row": null,
            "grid_template_areas": null,
            "grid_template_columns": null,
            "grid_template_rows": null,
            "height": null,
            "justify_content": null,
            "justify_items": null,
            "left": null,
            "margin": null,
            "max_height": null,
            "max_width": null,
            "min_height": null,
            "min_width": null,
            "object_fit": null,
            "object_position": null,
            "order": null,
            "overflow": null,
            "overflow_x": null,
            "overflow_y": null,
            "padding": null,
            "right": null,
            "top": null,
            "visibility": null,
            "width": null
          }
        },
        "2ddfe38e511848f8a326ea5c13581bb5": {
          "model_module": "@jupyter-widgets/base",
          "model_name": "LayoutModel",
          "model_module_version": "1.2.0",
          "state": {
            "_model_module": "@jupyter-widgets/base",
            "_model_module_version": "1.2.0",
            "_model_name": "LayoutModel",
            "_view_count": null,
            "_view_module": "@jupyter-widgets/base",
            "_view_module_version": "1.2.0",
            "_view_name": "LayoutView",
            "align_content": null,
            "align_items": null,
            "align_self": null,
            "border": null,
            "bottom": null,
            "display": null,
            "flex": null,
            "flex_flow": null,
            "grid_area": null,
            "grid_auto_columns": null,
            "grid_auto_flow": null,
            "grid_auto_rows": null,
            "grid_column": null,
            "grid_gap": null,
            "grid_row": null,
            "grid_template_areas": null,
            "grid_template_columns": null,
            "grid_template_rows": null,
            "height": null,
            "justify_content": null,
            "justify_items": null,
            "left": null,
            "margin": null,
            "max_height": null,
            "max_width": null,
            "min_height": null,
            "min_width": null,
            "object_fit": null,
            "object_position": null,
            "order": null,
            "overflow": null,
            "overflow_x": null,
            "overflow_y": null,
            "padding": null,
            "right": null,
            "top": null,
            "visibility": null,
            "width": null
          }
        },
        "e0ea4a5f7015411c82260f3562ae786e": {
          "model_module": "@jupyter-widgets/controls",
          "model_name": "DescriptionStyleModel",
          "model_module_version": "1.5.0",
          "state": {
            "_model_module": "@jupyter-widgets/controls",
            "_model_module_version": "1.5.0",
            "_model_name": "DescriptionStyleModel",
            "_view_count": null,
            "_view_module": "@jupyter-widgets/base",
            "_view_module_version": "1.2.0",
            "_view_name": "StyleView",
            "description_width": ""
          }
        },
        "1cc5aec4f8ba41a4b2736d5f7223fdf8": {
          "model_module": "@jupyter-widgets/base",
          "model_name": "LayoutModel",
          "model_module_version": "1.2.0",
          "state": {
            "_model_module": "@jupyter-widgets/base",
            "_model_module_version": "1.2.0",
            "_model_name": "LayoutModel",
            "_view_count": null,
            "_view_module": "@jupyter-widgets/base",
            "_view_module_version": "1.2.0",
            "_view_name": "LayoutView",
            "align_content": null,
            "align_items": null,
            "align_self": null,
            "border": null,
            "bottom": null,
            "display": null,
            "flex": null,
            "flex_flow": null,
            "grid_area": null,
            "grid_auto_columns": null,
            "grid_auto_flow": null,
            "grid_auto_rows": null,
            "grid_column": null,
            "grid_gap": null,
            "grid_row": null,
            "grid_template_areas": null,
            "grid_template_columns": null,
            "grid_template_rows": null,
            "height": null,
            "justify_content": null,
            "justify_items": null,
            "left": null,
            "margin": null,
            "max_height": null,
            "max_width": null,
            "min_height": null,
            "min_width": null,
            "object_fit": null,
            "object_position": null,
            "order": null,
            "overflow": null,
            "overflow_x": null,
            "overflow_y": null,
            "padding": null,
            "right": null,
            "top": null,
            "visibility": null,
            "width": null
          }
        },
        "5f3a547758724b039dff0db2788e56fe": {
          "model_module": "@jupyter-widgets/controls",
          "model_name": "ProgressStyleModel",
          "model_module_version": "1.5.0",
          "state": {
            "_model_module": "@jupyter-widgets/controls",
            "_model_module_version": "1.5.0",
            "_model_name": "ProgressStyleModel",
            "_view_count": null,
            "_view_module": "@jupyter-widgets/base",
            "_view_module_version": "1.2.0",
            "_view_name": "StyleView",
            "bar_color": null,
            "description_width": ""
          }
        },
        "bde4a431c5d2427bbf323416c3f2525b": {
          "model_module": "@jupyter-widgets/base",
          "model_name": "LayoutModel",
          "model_module_version": "1.2.0",
          "state": {
            "_model_module": "@jupyter-widgets/base",
            "_model_module_version": "1.2.0",
            "_model_name": "LayoutModel",
            "_view_count": null,
            "_view_module": "@jupyter-widgets/base",
            "_view_module_version": "1.2.0",
            "_view_name": "LayoutView",
            "align_content": null,
            "align_items": null,
            "align_self": null,
            "border": null,
            "bottom": null,
            "display": null,
            "flex": null,
            "flex_flow": null,
            "grid_area": null,
            "grid_auto_columns": null,
            "grid_auto_flow": null,
            "grid_auto_rows": null,
            "grid_column": null,
            "grid_gap": null,
            "grid_row": null,
            "grid_template_areas": null,
            "grid_template_columns": null,
            "grid_template_rows": null,
            "height": null,
            "justify_content": null,
            "justify_items": null,
            "left": null,
            "margin": null,
            "max_height": null,
            "max_width": null,
            "min_height": null,
            "min_width": null,
            "object_fit": null,
            "object_position": null,
            "order": null,
            "overflow": null,
            "overflow_x": null,
            "overflow_y": null,
            "padding": null,
            "right": null,
            "top": null,
            "visibility": null,
            "width": null
          }
        },
        "6afe5d446fc343659143ca5c98cbaf48": {
          "model_module": "@jupyter-widgets/controls",
          "model_name": "DescriptionStyleModel",
          "model_module_version": "1.5.0",
          "state": {
            "_model_module": "@jupyter-widgets/controls",
            "_model_module_version": "1.5.0",
            "_model_name": "DescriptionStyleModel",
            "_view_count": null,
            "_view_module": "@jupyter-widgets/base",
            "_view_module_version": "1.2.0",
            "_view_name": "StyleView",
            "description_width": ""
          }
        },
        "81058d3385304a2cb3f26b367496c949": {
          "model_module": "@jupyter-widgets/controls",
          "model_name": "HBoxModel",
          "model_module_version": "1.5.0",
          "state": {
            "_dom_classes": [],
            "_model_module": "@jupyter-widgets/controls",
            "_model_module_version": "1.5.0",
            "_model_name": "HBoxModel",
            "_view_count": null,
            "_view_module": "@jupyter-widgets/controls",
            "_view_module_version": "1.5.0",
            "_view_name": "HBoxView",
            "box_style": "",
            "children": [
              "IPY_MODEL_4ba641d7848d46cf9e91e64ea0bebddf",
              "IPY_MODEL_efe2657cff454ac884c7411feb91b96f",
              "IPY_MODEL_5a5e75c7d98e4bc6b43300b42c5237fe"
            ],
            "layout": "IPY_MODEL_08f7dd4052094d05ba05b9f4cf76cd52"
          }
        },
        "4ba641d7848d46cf9e91e64ea0bebddf": {
          "model_module": "@jupyter-widgets/controls",
          "model_name": "HTMLModel",
          "model_module_version": "1.5.0",
          "state": {
            "_dom_classes": [],
            "_model_module": "@jupyter-widgets/controls",
            "_model_module_version": "1.5.0",
            "_model_name": "HTMLModel",
            "_view_count": null,
            "_view_module": "@jupyter-widgets/controls",
            "_view_module_version": "1.5.0",
            "_view_name": "HTMLView",
            "description": "",
            "description_tooltip": null,
            "layout": "IPY_MODEL_b3a3e6ed7e0f46f4a3a59bea8dd25691",
            "placeholder": "​",
            "style": "IPY_MODEL_502c2f09d3564adc92de5df36787af7d",
            "value": "Downloading metadata: 100%"
          }
        },
        "efe2657cff454ac884c7411feb91b96f": {
          "model_module": "@jupyter-widgets/controls",
          "model_name": "FloatProgressModel",
          "model_module_version": "1.5.0",
          "state": {
            "_dom_classes": [],
            "_model_module": "@jupyter-widgets/controls",
            "_model_module_version": "1.5.0",
            "_model_name": "FloatProgressModel",
            "_view_count": null,
            "_view_module": "@jupyter-widgets/controls",
            "_view_module_version": "1.5.0",
            "_view_name": "ProgressView",
            "bar_style": "success",
            "description": "",
            "description_tooltip": null,
            "layout": "IPY_MODEL_f17003cd0f3746c68457d756da916488",
            "max": 2360,
            "min": 0,
            "orientation": "horizontal",
            "style": "IPY_MODEL_689c41aeab1f4b1caa93f4303120e84e",
            "value": 2360
          }
        },
        "5a5e75c7d98e4bc6b43300b42c5237fe": {
          "model_module": "@jupyter-widgets/controls",
          "model_name": "HTMLModel",
          "model_module_version": "1.5.0",
          "state": {
            "_dom_classes": [],
            "_model_module": "@jupyter-widgets/controls",
            "_model_module_version": "1.5.0",
            "_model_name": "HTMLModel",
            "_view_count": null,
            "_view_module": "@jupyter-widgets/controls",
            "_view_module_version": "1.5.0",
            "_view_name": "HTMLView",
            "description": "",
            "description_tooltip": null,
            "layout": "IPY_MODEL_032c024d64294912a094b44b27c129d5",
            "placeholder": "​",
            "style": "IPY_MODEL_2239f68e947946f59dab930e28ed7f6f",
            "value": " 2.36k/2.36k [00:00&lt;00:00, 67.4kB/s]"
          }
        },
        "08f7dd4052094d05ba05b9f4cf76cd52": {
          "model_module": "@jupyter-widgets/base",
          "model_name": "LayoutModel",
          "model_module_version": "1.2.0",
          "state": {
            "_model_module": "@jupyter-widgets/base",
            "_model_module_version": "1.2.0",
            "_model_name": "LayoutModel",
            "_view_count": null,
            "_view_module": "@jupyter-widgets/base",
            "_view_module_version": "1.2.0",
            "_view_name": "LayoutView",
            "align_content": null,
            "align_items": null,
            "align_self": null,
            "border": null,
            "bottom": null,
            "display": null,
            "flex": null,
            "flex_flow": null,
            "grid_area": null,
            "grid_auto_columns": null,
            "grid_auto_flow": null,
            "grid_auto_rows": null,
            "grid_column": null,
            "grid_gap": null,
            "grid_row": null,
            "grid_template_areas": null,
            "grid_template_columns": null,
            "grid_template_rows": null,
            "height": null,
            "justify_content": null,
            "justify_items": null,
            "left": null,
            "margin": null,
            "max_height": null,
            "max_width": null,
            "min_height": null,
            "min_width": null,
            "object_fit": null,
            "object_position": null,
            "order": null,
            "overflow": null,
            "overflow_x": null,
            "overflow_y": null,
            "padding": null,
            "right": null,
            "top": null,
            "visibility": null,
            "width": null
          }
        },
        "b3a3e6ed7e0f46f4a3a59bea8dd25691": {
          "model_module": "@jupyter-widgets/base",
          "model_name": "LayoutModel",
          "model_module_version": "1.2.0",
          "state": {
            "_model_module": "@jupyter-widgets/base",
            "_model_module_version": "1.2.0",
            "_model_name": "LayoutModel",
            "_view_count": null,
            "_view_module": "@jupyter-widgets/base",
            "_view_module_version": "1.2.0",
            "_view_name": "LayoutView",
            "align_content": null,
            "align_items": null,
            "align_self": null,
            "border": null,
            "bottom": null,
            "display": null,
            "flex": null,
            "flex_flow": null,
            "grid_area": null,
            "grid_auto_columns": null,
            "grid_auto_flow": null,
            "grid_auto_rows": null,
            "grid_column": null,
            "grid_gap": null,
            "grid_row": null,
            "grid_template_areas": null,
            "grid_template_columns": null,
            "grid_template_rows": null,
            "height": null,
            "justify_content": null,
            "justify_items": null,
            "left": null,
            "margin": null,
            "max_height": null,
            "max_width": null,
            "min_height": null,
            "min_width": null,
            "object_fit": null,
            "object_position": null,
            "order": null,
            "overflow": null,
            "overflow_x": null,
            "overflow_y": null,
            "padding": null,
            "right": null,
            "top": null,
            "visibility": null,
            "width": null
          }
        },
        "502c2f09d3564adc92de5df36787af7d": {
          "model_module": "@jupyter-widgets/controls",
          "model_name": "DescriptionStyleModel",
          "model_module_version": "1.5.0",
          "state": {
            "_model_module": "@jupyter-widgets/controls",
            "_model_module_version": "1.5.0",
            "_model_name": "DescriptionStyleModel",
            "_view_count": null,
            "_view_module": "@jupyter-widgets/base",
            "_view_module_version": "1.2.0",
            "_view_name": "StyleView",
            "description_width": ""
          }
        },
        "f17003cd0f3746c68457d756da916488": {
          "model_module": "@jupyter-widgets/base",
          "model_name": "LayoutModel",
          "model_module_version": "1.2.0",
          "state": {
            "_model_module": "@jupyter-widgets/base",
            "_model_module_version": "1.2.0",
            "_model_name": "LayoutModel",
            "_view_count": null,
            "_view_module": "@jupyter-widgets/base",
            "_view_module_version": "1.2.0",
            "_view_name": "LayoutView",
            "align_content": null,
            "align_items": null,
            "align_self": null,
            "border": null,
            "bottom": null,
            "display": null,
            "flex": null,
            "flex_flow": null,
            "grid_area": null,
            "grid_auto_columns": null,
            "grid_auto_flow": null,
            "grid_auto_rows": null,
            "grid_column": null,
            "grid_gap": null,
            "grid_row": null,
            "grid_template_areas": null,
            "grid_template_columns": null,
            "grid_template_rows": null,
            "height": null,
            "justify_content": null,
            "justify_items": null,
            "left": null,
            "margin": null,
            "max_height": null,
            "max_width": null,
            "min_height": null,
            "min_width": null,
            "object_fit": null,
            "object_position": null,
            "order": null,
            "overflow": null,
            "overflow_x": null,
            "overflow_y": null,
            "padding": null,
            "right": null,
            "top": null,
            "visibility": null,
            "width": null
          }
        },
        "689c41aeab1f4b1caa93f4303120e84e": {
          "model_module": "@jupyter-widgets/controls",
          "model_name": "ProgressStyleModel",
          "model_module_version": "1.5.0",
          "state": {
            "_model_module": "@jupyter-widgets/controls",
            "_model_module_version": "1.5.0",
            "_model_name": "ProgressStyleModel",
            "_view_count": null,
            "_view_module": "@jupyter-widgets/base",
            "_view_module_version": "1.2.0",
            "_view_name": "StyleView",
            "bar_color": null,
            "description_width": ""
          }
        },
        "032c024d64294912a094b44b27c129d5": {
          "model_module": "@jupyter-widgets/base",
          "model_name": "LayoutModel",
          "model_module_version": "1.2.0",
          "state": {
            "_model_module": "@jupyter-widgets/base",
            "_model_module_version": "1.2.0",
            "_model_name": "LayoutModel",
            "_view_count": null,
            "_view_module": "@jupyter-widgets/base",
            "_view_module_version": "1.2.0",
            "_view_name": "LayoutView",
            "align_content": null,
            "align_items": null,
            "align_self": null,
            "border": null,
            "bottom": null,
            "display": null,
            "flex": null,
            "flex_flow": null,
            "grid_area": null,
            "grid_auto_columns": null,
            "grid_auto_flow": null,
            "grid_auto_rows": null,
            "grid_column": null,
            "grid_gap": null,
            "grid_row": null,
            "grid_template_areas": null,
            "grid_template_columns": null,
            "grid_template_rows": null,
            "height": null,
            "justify_content": null,
            "justify_items": null,
            "left": null,
            "margin": null,
            "max_height": null,
            "max_width": null,
            "min_height": null,
            "min_width": null,
            "object_fit": null,
            "object_position": null,
            "order": null,
            "overflow": null,
            "overflow_x": null,
            "overflow_y": null,
            "padding": null,
            "right": null,
            "top": null,
            "visibility": null,
            "width": null
          }
        },
        "2239f68e947946f59dab930e28ed7f6f": {
          "model_module": "@jupyter-widgets/controls",
          "model_name": "DescriptionStyleModel",
          "model_module_version": "1.5.0",
          "state": {
            "_model_module": "@jupyter-widgets/controls",
            "_model_module_version": "1.5.0",
            "_model_name": "DescriptionStyleModel",
            "_view_count": null,
            "_view_module": "@jupyter-widgets/base",
            "_view_module_version": "1.2.0",
            "_view_name": "StyleView",
            "description_width": ""
          }
        },
        "49607db758a14cba8006bfc59103dc7a": {
          "model_module": "@jupyter-widgets/controls",
          "model_name": "HBoxModel",
          "model_module_version": "1.5.0",
          "state": {
            "_dom_classes": [],
            "_model_module": "@jupyter-widgets/controls",
            "_model_module_version": "1.5.0",
            "_model_name": "HBoxModel",
            "_view_count": null,
            "_view_module": "@jupyter-widgets/controls",
            "_view_module_version": "1.5.0",
            "_view_name": "HBoxView",
            "box_style": "",
            "children": [
              "IPY_MODEL_177c913781bf43b590001ba332b0f1e0",
              "IPY_MODEL_918bd0bb0b824a3d8bba94f157ff4348",
              "IPY_MODEL_8b7df8a77ee64bbaae3d819ec0e07081"
            ],
            "layout": "IPY_MODEL_f0bf61cd0b324b2ba54b5f3034f88449"
          }
        },
        "177c913781bf43b590001ba332b0f1e0": {
          "model_module": "@jupyter-widgets/controls",
          "model_name": "HTMLModel",
          "model_module_version": "1.5.0",
          "state": {
            "_dom_classes": [],
            "_model_module": "@jupyter-widgets/controls",
            "_model_module_version": "1.5.0",
            "_model_name": "HTMLModel",
            "_view_count": null,
            "_view_module": "@jupyter-widgets/controls",
            "_view_module_version": "1.5.0",
            "_view_name": "HTMLView",
            "description": "",
            "description_tooltip": null,
            "layout": "IPY_MODEL_428641db6b3f4bf4ac9ed5e9b34c7bd4",
            "placeholder": "​",
            "style": "IPY_MODEL_a5e8f3008ab64aa4a768f0a0d0a16eee",
            "value": "Downloading readme: 100%"
          }
        },
        "918bd0bb0b824a3d8bba94f157ff4348": {
          "model_module": "@jupyter-widgets/controls",
          "model_name": "FloatProgressModel",
          "model_module_version": "1.5.0",
          "state": {
            "_dom_classes": [],
            "_model_module": "@jupyter-widgets/controls",
            "_model_module_version": "1.5.0",
            "_model_name": "FloatProgressModel",
            "_view_count": null,
            "_view_module": "@jupyter-widgets/controls",
            "_view_module_version": "1.5.0",
            "_view_name": "ProgressView",
            "bar_style": "success",
            "description": "",
            "description_tooltip": null,
            "layout": "IPY_MODEL_15ef924dc5344a2a8f5f6ac88f122f5d",
            "max": 7665,
            "min": 0,
            "orientation": "horizontal",
            "style": "IPY_MODEL_64b9297a69454aa3b521e992650eb510",
            "value": 7665
          }
        },
        "8b7df8a77ee64bbaae3d819ec0e07081": {
          "model_module": "@jupyter-widgets/controls",
          "model_name": "HTMLModel",
          "model_module_version": "1.5.0",
          "state": {
            "_dom_classes": [],
            "_model_module": "@jupyter-widgets/controls",
            "_model_module_version": "1.5.0",
            "_model_name": "HTMLModel",
            "_view_count": null,
            "_view_module": "@jupyter-widgets/controls",
            "_view_module_version": "1.5.0",
            "_view_name": "HTMLView",
            "description": "",
            "description_tooltip": null,
            "layout": "IPY_MODEL_96495d5d11234feba19eb37bdfc3beb7",
            "placeholder": "​",
            "style": "IPY_MODEL_f9f811e2e8d349a6a4e6498b779e3943",
            "value": " 7.67k/7.67k [00:00&lt;00:00, 425kB/s]"
          }
        },
        "f0bf61cd0b324b2ba54b5f3034f88449": {
          "model_module": "@jupyter-widgets/base",
          "model_name": "LayoutModel",
          "model_module_version": "1.2.0",
          "state": {
            "_model_module": "@jupyter-widgets/base",
            "_model_module_version": "1.2.0",
            "_model_name": "LayoutModel",
            "_view_count": null,
            "_view_module": "@jupyter-widgets/base",
            "_view_module_version": "1.2.0",
            "_view_name": "LayoutView",
            "align_content": null,
            "align_items": null,
            "align_self": null,
            "border": null,
            "bottom": null,
            "display": null,
            "flex": null,
            "flex_flow": null,
            "grid_area": null,
            "grid_auto_columns": null,
            "grid_auto_flow": null,
            "grid_auto_rows": null,
            "grid_column": null,
            "grid_gap": null,
            "grid_row": null,
            "grid_template_areas": null,
            "grid_template_columns": null,
            "grid_template_rows": null,
            "height": null,
            "justify_content": null,
            "justify_items": null,
            "left": null,
            "margin": null,
            "max_height": null,
            "max_width": null,
            "min_height": null,
            "min_width": null,
            "object_fit": null,
            "object_position": null,
            "order": null,
            "overflow": null,
            "overflow_x": null,
            "overflow_y": null,
            "padding": null,
            "right": null,
            "top": null,
            "visibility": null,
            "width": null
          }
        },
        "428641db6b3f4bf4ac9ed5e9b34c7bd4": {
          "model_module": "@jupyter-widgets/base",
          "model_name": "LayoutModel",
          "model_module_version": "1.2.0",
          "state": {
            "_model_module": "@jupyter-widgets/base",
            "_model_module_version": "1.2.0",
            "_model_name": "LayoutModel",
            "_view_count": null,
            "_view_module": "@jupyter-widgets/base",
            "_view_module_version": "1.2.0",
            "_view_name": "LayoutView",
            "align_content": null,
            "align_items": null,
            "align_self": null,
            "border": null,
            "bottom": null,
            "display": null,
            "flex": null,
            "flex_flow": null,
            "grid_area": null,
            "grid_auto_columns": null,
            "grid_auto_flow": null,
            "grid_auto_rows": null,
            "grid_column": null,
            "grid_gap": null,
            "grid_row": null,
            "grid_template_areas": null,
            "grid_template_columns": null,
            "grid_template_rows": null,
            "height": null,
            "justify_content": null,
            "justify_items": null,
            "left": null,
            "margin": null,
            "max_height": null,
            "max_width": null,
            "min_height": null,
            "min_width": null,
            "object_fit": null,
            "object_position": null,
            "order": null,
            "overflow": null,
            "overflow_x": null,
            "overflow_y": null,
            "padding": null,
            "right": null,
            "top": null,
            "visibility": null,
            "width": null
          }
        },
        "a5e8f3008ab64aa4a768f0a0d0a16eee": {
          "model_module": "@jupyter-widgets/controls",
          "model_name": "DescriptionStyleModel",
          "model_module_version": "1.5.0",
          "state": {
            "_model_module": "@jupyter-widgets/controls",
            "_model_module_version": "1.5.0",
            "_model_name": "DescriptionStyleModel",
            "_view_count": null,
            "_view_module": "@jupyter-widgets/base",
            "_view_module_version": "1.2.0",
            "_view_name": "StyleView",
            "description_width": ""
          }
        },
        "15ef924dc5344a2a8f5f6ac88f122f5d": {
          "model_module": "@jupyter-widgets/base",
          "model_name": "LayoutModel",
          "model_module_version": "1.2.0",
          "state": {
            "_model_module": "@jupyter-widgets/base",
            "_model_module_version": "1.2.0",
            "_model_name": "LayoutModel",
            "_view_count": null,
            "_view_module": "@jupyter-widgets/base",
            "_view_module_version": "1.2.0",
            "_view_name": "LayoutView",
            "align_content": null,
            "align_items": null,
            "align_self": null,
            "border": null,
            "bottom": null,
            "display": null,
            "flex": null,
            "flex_flow": null,
            "grid_area": null,
            "grid_auto_columns": null,
            "grid_auto_flow": null,
            "grid_auto_rows": null,
            "grid_column": null,
            "grid_gap": null,
            "grid_row": null,
            "grid_template_areas": null,
            "grid_template_columns": null,
            "grid_template_rows": null,
            "height": null,
            "justify_content": null,
            "justify_items": null,
            "left": null,
            "margin": null,
            "max_height": null,
            "max_width": null,
            "min_height": null,
            "min_width": null,
            "object_fit": null,
            "object_position": null,
            "order": null,
            "overflow": null,
            "overflow_x": null,
            "overflow_y": null,
            "padding": null,
            "right": null,
            "top": null,
            "visibility": null,
            "width": null
          }
        },
        "64b9297a69454aa3b521e992650eb510": {
          "model_module": "@jupyter-widgets/controls",
          "model_name": "ProgressStyleModel",
          "model_module_version": "1.5.0",
          "state": {
            "_model_module": "@jupyter-widgets/controls",
            "_model_module_version": "1.5.0",
            "_model_name": "ProgressStyleModel",
            "_view_count": null,
            "_view_module": "@jupyter-widgets/base",
            "_view_module_version": "1.2.0",
            "_view_name": "StyleView",
            "bar_color": null,
            "description_width": ""
          }
        },
        "96495d5d11234feba19eb37bdfc3beb7": {
          "model_module": "@jupyter-widgets/base",
          "model_name": "LayoutModel",
          "model_module_version": "1.2.0",
          "state": {
            "_model_module": "@jupyter-widgets/base",
            "_model_module_version": "1.2.0",
            "_model_name": "LayoutModel",
            "_view_count": null,
            "_view_module": "@jupyter-widgets/base",
            "_view_module_version": "1.2.0",
            "_view_name": "LayoutView",
            "align_content": null,
            "align_items": null,
            "align_self": null,
            "border": null,
            "bottom": null,
            "display": null,
            "flex": null,
            "flex_flow": null,
            "grid_area": null,
            "grid_auto_columns": null,
            "grid_auto_flow": null,
            "grid_auto_rows": null,
            "grid_column": null,
            "grid_gap": null,
            "grid_row": null,
            "grid_template_areas": null,
            "grid_template_columns": null,
            "grid_template_rows": null,
            "height": null,
            "justify_content": null,
            "justify_items": null,
            "left": null,
            "margin": null,
            "max_height": null,
            "max_width": null,
            "min_height": null,
            "min_width": null,
            "object_fit": null,
            "object_position": null,
            "order": null,
            "overflow": null,
            "overflow_x": null,
            "overflow_y": null,
            "padding": null,
            "right": null,
            "top": null,
            "visibility": null,
            "width": null
          }
        },
        "f9f811e2e8d349a6a4e6498b779e3943": {
          "model_module": "@jupyter-widgets/controls",
          "model_name": "DescriptionStyleModel",
          "model_module_version": "1.5.0",
          "state": {
            "_model_module": "@jupyter-widgets/controls",
            "_model_module_version": "1.5.0",
            "_model_name": "DescriptionStyleModel",
            "_view_count": null,
            "_view_module": "@jupyter-widgets/base",
            "_view_module_version": "1.2.0",
            "_view_name": "StyleView",
            "description_width": ""
          }
        },
        "41878e340e05435b89022e8465777b45": {
          "model_module": "@jupyter-widgets/controls",
          "model_name": "HBoxModel",
          "model_module_version": "1.5.0",
          "state": {
            "_dom_classes": [],
            "_model_module": "@jupyter-widgets/controls",
            "_model_module_version": "1.5.0",
            "_model_name": "HBoxModel",
            "_view_count": null,
            "_view_module": "@jupyter-widgets/controls",
            "_view_module_version": "1.5.0",
            "_view_name": "HBoxView",
            "box_style": "",
            "children": [
              "IPY_MODEL_226682ec23974717ac2270267a3fd1ba",
              "IPY_MODEL_06b3b3a66c2b45c29c56397716539d1b",
              "IPY_MODEL_8ebf42e06dea4b62b3239011c8f6c74e"
            ],
            "layout": "IPY_MODEL_1ad78476420e45aa9c1d8b228977ecfc"
          }
        },
        "226682ec23974717ac2270267a3fd1ba": {
          "model_module": "@jupyter-widgets/controls",
          "model_name": "HTMLModel",
          "model_module_version": "1.5.0",
          "state": {
            "_dom_classes": [],
            "_model_module": "@jupyter-widgets/controls",
            "_model_module_version": "1.5.0",
            "_model_name": "HTMLModel",
            "_view_count": null,
            "_view_module": "@jupyter-widgets/controls",
            "_view_module_version": "1.5.0",
            "_view_name": "HTMLView",
            "description": "",
            "description_tooltip": null,
            "layout": "IPY_MODEL_133997f92bd04c689f969a82b7c93c1f",
            "placeholder": "​",
            "style": "IPY_MODEL_a542bae7689f492982011278f878ec68",
            "value": "Downloading data files: 100%"
          }
        },
        "06b3b3a66c2b45c29c56397716539d1b": {
          "model_module": "@jupyter-widgets/controls",
          "model_name": "FloatProgressModel",
          "model_module_version": "1.5.0",
          "state": {
            "_dom_classes": [],
            "_model_module": "@jupyter-widgets/controls",
            "_model_module_version": "1.5.0",
            "_model_name": "FloatProgressModel",
            "_view_count": null,
            "_view_module": "@jupyter-widgets/controls",
            "_view_module_version": "1.5.0",
            "_view_name": "ProgressView",
            "bar_style": "success",
            "description": "",
            "description_tooltip": null,
            "layout": "IPY_MODEL_64eb18f2297f47328bb97a05962c8257",
            "max": 2,
            "min": 0,
            "orientation": "horizontal",
            "style": "IPY_MODEL_9971b540a86b47308a729b16b652b4ee",
            "value": 2
          }
        },
        "8ebf42e06dea4b62b3239011c8f6c74e": {
          "model_module": "@jupyter-widgets/controls",
          "model_name": "HTMLModel",
          "model_module_version": "1.5.0",
          "state": {
            "_dom_classes": [],
            "_model_module": "@jupyter-widgets/controls",
            "_model_module_version": "1.5.0",
            "_model_name": "HTMLModel",
            "_view_count": null,
            "_view_module": "@jupyter-widgets/controls",
            "_view_module_version": "1.5.0",
            "_view_name": "HTMLView",
            "description": "",
            "description_tooltip": null,
            "layout": "IPY_MODEL_bad25dfcc29c49c0b05a46153536273a",
            "placeholder": "​",
            "style": "IPY_MODEL_4fda8a7ecb7246a0accf0a9870c10a61",
            "value": " 2/2 [00:00&lt;00:00,  2.98it/s]"
          }
        },
        "1ad78476420e45aa9c1d8b228977ecfc": {
          "model_module": "@jupyter-widgets/base",
          "model_name": "LayoutModel",
          "model_module_version": "1.2.0",
          "state": {
            "_model_module": "@jupyter-widgets/base",
            "_model_module_version": "1.2.0",
            "_model_name": "LayoutModel",
            "_view_count": null,
            "_view_module": "@jupyter-widgets/base",
            "_view_module_version": "1.2.0",
            "_view_name": "LayoutView",
            "align_content": null,
            "align_items": null,
            "align_self": null,
            "border": null,
            "bottom": null,
            "display": null,
            "flex": null,
            "flex_flow": null,
            "grid_area": null,
            "grid_auto_columns": null,
            "grid_auto_flow": null,
            "grid_auto_rows": null,
            "grid_column": null,
            "grid_gap": null,
            "grid_row": null,
            "grid_template_areas": null,
            "grid_template_columns": null,
            "grid_template_rows": null,
            "height": null,
            "justify_content": null,
            "justify_items": null,
            "left": null,
            "margin": null,
            "max_height": null,
            "max_width": null,
            "min_height": null,
            "min_width": null,
            "object_fit": null,
            "object_position": null,
            "order": null,
            "overflow": null,
            "overflow_x": null,
            "overflow_y": null,
            "padding": null,
            "right": null,
            "top": null,
            "visibility": null,
            "width": null
          }
        },
        "133997f92bd04c689f969a82b7c93c1f": {
          "model_module": "@jupyter-widgets/base",
          "model_name": "LayoutModel",
          "model_module_version": "1.2.0",
          "state": {
            "_model_module": "@jupyter-widgets/base",
            "_model_module_version": "1.2.0",
            "_model_name": "LayoutModel",
            "_view_count": null,
            "_view_module": "@jupyter-widgets/base",
            "_view_module_version": "1.2.0",
            "_view_name": "LayoutView",
            "align_content": null,
            "align_items": null,
            "align_self": null,
            "border": null,
            "bottom": null,
            "display": null,
            "flex": null,
            "flex_flow": null,
            "grid_area": null,
            "grid_auto_columns": null,
            "grid_auto_flow": null,
            "grid_auto_rows": null,
            "grid_column": null,
            "grid_gap": null,
            "grid_row": null,
            "grid_template_areas": null,
            "grid_template_columns": null,
            "grid_template_rows": null,
            "height": null,
            "justify_content": null,
            "justify_items": null,
            "left": null,
            "margin": null,
            "max_height": null,
            "max_width": null,
            "min_height": null,
            "min_width": null,
            "object_fit": null,
            "object_position": null,
            "order": null,
            "overflow": null,
            "overflow_x": null,
            "overflow_y": null,
            "padding": null,
            "right": null,
            "top": null,
            "visibility": null,
            "width": null
          }
        },
        "a542bae7689f492982011278f878ec68": {
          "model_module": "@jupyter-widgets/controls",
          "model_name": "DescriptionStyleModel",
          "model_module_version": "1.5.0",
          "state": {
            "_model_module": "@jupyter-widgets/controls",
            "_model_module_version": "1.5.0",
            "_model_name": "DescriptionStyleModel",
            "_view_count": null,
            "_view_module": "@jupyter-widgets/base",
            "_view_module_version": "1.2.0",
            "_view_name": "StyleView",
            "description_width": ""
          }
        },
        "64eb18f2297f47328bb97a05962c8257": {
          "model_module": "@jupyter-widgets/base",
          "model_name": "LayoutModel",
          "model_module_version": "1.2.0",
          "state": {
            "_model_module": "@jupyter-widgets/base",
            "_model_module_version": "1.2.0",
            "_model_name": "LayoutModel",
            "_view_count": null,
            "_view_module": "@jupyter-widgets/base",
            "_view_module_version": "1.2.0",
            "_view_name": "LayoutView",
            "align_content": null,
            "align_items": null,
            "align_self": null,
            "border": null,
            "bottom": null,
            "display": null,
            "flex": null,
            "flex_flow": null,
            "grid_area": null,
            "grid_auto_columns": null,
            "grid_auto_flow": null,
            "grid_auto_rows": null,
            "grid_column": null,
            "grid_gap": null,
            "grid_row": null,
            "grid_template_areas": null,
            "grid_template_columns": null,
            "grid_template_rows": null,
            "height": null,
            "justify_content": null,
            "justify_items": null,
            "left": null,
            "margin": null,
            "max_height": null,
            "max_width": null,
            "min_height": null,
            "min_width": null,
            "object_fit": null,
            "object_position": null,
            "order": null,
            "overflow": null,
            "overflow_x": null,
            "overflow_y": null,
            "padding": null,
            "right": null,
            "top": null,
            "visibility": null,
            "width": null
          }
        },
        "9971b540a86b47308a729b16b652b4ee": {
          "model_module": "@jupyter-widgets/controls",
          "model_name": "ProgressStyleModel",
          "model_module_version": "1.5.0",
          "state": {
            "_model_module": "@jupyter-widgets/controls",
            "_model_module_version": "1.5.0",
            "_model_name": "ProgressStyleModel",
            "_view_count": null,
            "_view_module": "@jupyter-widgets/base",
            "_view_module_version": "1.2.0",
            "_view_name": "StyleView",
            "bar_color": null,
            "description_width": ""
          }
        },
        "bad25dfcc29c49c0b05a46153536273a": {
          "model_module": "@jupyter-widgets/base",
          "model_name": "LayoutModel",
          "model_module_version": "1.2.0",
          "state": {
            "_model_module": "@jupyter-widgets/base",
            "_model_module_version": "1.2.0",
            "_model_name": "LayoutModel",
            "_view_count": null,
            "_view_module": "@jupyter-widgets/base",
            "_view_module_version": "1.2.0",
            "_view_name": "LayoutView",
            "align_content": null,
            "align_items": null,
            "align_self": null,
            "border": null,
            "bottom": null,
            "display": null,
            "flex": null,
            "flex_flow": null,
            "grid_area": null,
            "grid_auto_columns": null,
            "grid_auto_flow": null,
            "grid_auto_rows": null,
            "grid_column": null,
            "grid_gap": null,
            "grid_row": null,
            "grid_template_areas": null,
            "grid_template_columns": null,
            "grid_template_rows": null,
            "height": null,
            "justify_content": null,
            "justify_items": null,
            "left": null,
            "margin": null,
            "max_height": null,
            "max_width": null,
            "min_height": null,
            "min_width": null,
            "object_fit": null,
            "object_position": null,
            "order": null,
            "overflow": null,
            "overflow_x": null,
            "overflow_y": null,
            "padding": null,
            "right": null,
            "top": null,
            "visibility": null,
            "width": null
          }
        },
        "4fda8a7ecb7246a0accf0a9870c10a61": {
          "model_module": "@jupyter-widgets/controls",
          "model_name": "DescriptionStyleModel",
          "model_module_version": "1.5.0",
          "state": {
            "_model_module": "@jupyter-widgets/controls",
            "_model_module_version": "1.5.0",
            "_model_name": "DescriptionStyleModel",
            "_view_count": null,
            "_view_module": "@jupyter-widgets/base",
            "_view_module_version": "1.2.0",
            "_view_name": "StyleView",
            "description_width": ""
          }
        },
        "282a80c62fde40afaf324533d6dfc2d5": {
          "model_module": "@jupyter-widgets/controls",
          "model_name": "HBoxModel",
          "model_module_version": "1.5.0",
          "state": {
            "_dom_classes": [],
            "_model_module": "@jupyter-widgets/controls",
            "_model_module_version": "1.5.0",
            "_model_name": "HBoxModel",
            "_view_count": null,
            "_view_module": "@jupyter-widgets/controls",
            "_view_module_version": "1.5.0",
            "_view_name": "HBoxView",
            "box_style": "",
            "children": [
              "IPY_MODEL_efa1b05780c44614873e66f0f5374e58",
              "IPY_MODEL_d343666ff007456b8d9a2e1193df9017",
              "IPY_MODEL_155a6a58c9d0426c98f50bae9bcdf567"
            ],
            "layout": "IPY_MODEL_f666882838e142c0a125ca3a3cfe4be7"
          }
        },
        "efa1b05780c44614873e66f0f5374e58": {
          "model_module": "@jupyter-widgets/controls",
          "model_name": "HTMLModel",
          "model_module_version": "1.5.0",
          "state": {
            "_dom_classes": [],
            "_model_module": "@jupyter-widgets/controls",
            "_model_module_version": "1.5.0",
            "_model_name": "HTMLModel",
            "_view_count": null,
            "_view_module": "@jupyter-widgets/controls",
            "_view_module_version": "1.5.0",
            "_view_name": "HTMLView",
            "description": "",
            "description_tooltip": null,
            "layout": "IPY_MODEL_77ff79612b0943beb643b0eda2323870",
            "placeholder": "​",
            "style": "IPY_MODEL_e07c11c2e0a94e5b86d13a9e032d8761",
            "value": "Downloading data: "
          }
        },
        "d343666ff007456b8d9a2e1193df9017": {
          "model_module": "@jupyter-widgets/controls",
          "model_name": "FloatProgressModel",
          "model_module_version": "1.5.0",
          "state": {
            "_dom_classes": [],
            "_model_module": "@jupyter-widgets/controls",
            "_model_module_version": "1.5.0",
            "_model_name": "FloatProgressModel",
            "_view_count": null,
            "_view_module": "@jupyter-widgets/controls",
            "_view_module_version": "1.5.0",
            "_view_name": "ProgressView",
            "bar_style": "success",
            "description": "",
            "description_tooltip": null,
            "layout": "IPY_MODEL_b82aaced4dfb4d6c94dc8bf62b17762a",
            "max": 8116577,
            "min": 0,
            "orientation": "horizontal",
            "style": "IPY_MODEL_37c4b7f627d343d0b4fabae416fff9fa",
            "value": 8116577
          }
        },
        "155a6a58c9d0426c98f50bae9bcdf567": {
          "model_module": "@jupyter-widgets/controls",
          "model_name": "HTMLModel",
          "model_module_version": "1.5.0",
          "state": {
            "_dom_classes": [],
            "_model_module": "@jupyter-widgets/controls",
            "_model_module_version": "1.5.0",
            "_model_name": "HTMLModel",
            "_view_count": null,
            "_view_module": "@jupyter-widgets/controls",
            "_view_module_version": "1.5.0",
            "_view_name": "HTMLView",
            "description": "",
            "description_tooltip": null,
            "layout": "IPY_MODEL_a2e6f40402694df8b5b1fa6cd368c00b",
            "placeholder": "​",
            "style": "IPY_MODEL_6c83bd0e1ace4f71aff1467da48c98f4",
            "value": " 30.3M/? [00:00&lt;00:00, 83.1MB/s]"
          }
        },
        "f666882838e142c0a125ca3a3cfe4be7": {
          "model_module": "@jupyter-widgets/base",
          "model_name": "LayoutModel",
          "model_module_version": "1.2.0",
          "state": {
            "_model_module": "@jupyter-widgets/base",
            "_model_module_version": "1.2.0",
            "_model_name": "LayoutModel",
            "_view_count": null,
            "_view_module": "@jupyter-widgets/base",
            "_view_module_version": "1.2.0",
            "_view_name": "LayoutView",
            "align_content": null,
            "align_items": null,
            "align_self": null,
            "border": null,
            "bottom": null,
            "display": null,
            "flex": null,
            "flex_flow": null,
            "grid_area": null,
            "grid_auto_columns": null,
            "grid_auto_flow": null,
            "grid_auto_rows": null,
            "grid_column": null,
            "grid_gap": null,
            "grid_row": null,
            "grid_template_areas": null,
            "grid_template_columns": null,
            "grid_template_rows": null,
            "height": null,
            "justify_content": null,
            "justify_items": null,
            "left": null,
            "margin": null,
            "max_height": null,
            "max_width": null,
            "min_height": null,
            "min_width": null,
            "object_fit": null,
            "object_position": null,
            "order": null,
            "overflow": null,
            "overflow_x": null,
            "overflow_y": null,
            "padding": null,
            "right": null,
            "top": null,
            "visibility": null,
            "width": null
          }
        },
        "77ff79612b0943beb643b0eda2323870": {
          "model_module": "@jupyter-widgets/base",
          "model_name": "LayoutModel",
          "model_module_version": "1.2.0",
          "state": {
            "_model_module": "@jupyter-widgets/base",
            "_model_module_version": "1.2.0",
            "_model_name": "LayoutModel",
            "_view_count": null,
            "_view_module": "@jupyter-widgets/base",
            "_view_module_version": "1.2.0",
            "_view_name": "LayoutView",
            "align_content": null,
            "align_items": null,
            "align_self": null,
            "border": null,
            "bottom": null,
            "display": null,
            "flex": null,
            "flex_flow": null,
            "grid_area": null,
            "grid_auto_columns": null,
            "grid_auto_flow": null,
            "grid_auto_rows": null,
            "grid_column": null,
            "grid_gap": null,
            "grid_row": null,
            "grid_template_areas": null,
            "grid_template_columns": null,
            "grid_template_rows": null,
            "height": null,
            "justify_content": null,
            "justify_items": null,
            "left": null,
            "margin": null,
            "max_height": null,
            "max_width": null,
            "min_height": null,
            "min_width": null,
            "object_fit": null,
            "object_position": null,
            "order": null,
            "overflow": null,
            "overflow_x": null,
            "overflow_y": null,
            "padding": null,
            "right": null,
            "top": null,
            "visibility": null,
            "width": null
          }
        },
        "e07c11c2e0a94e5b86d13a9e032d8761": {
          "model_module": "@jupyter-widgets/controls",
          "model_name": "DescriptionStyleModel",
          "model_module_version": "1.5.0",
          "state": {
            "_model_module": "@jupyter-widgets/controls",
            "_model_module_version": "1.5.0",
            "_model_name": "DescriptionStyleModel",
            "_view_count": null,
            "_view_module": "@jupyter-widgets/base",
            "_view_module_version": "1.2.0",
            "_view_name": "StyleView",
            "description_width": ""
          }
        },
        "b82aaced4dfb4d6c94dc8bf62b17762a": {
          "model_module": "@jupyter-widgets/base",
          "model_name": "LayoutModel",
          "model_module_version": "1.2.0",
          "state": {
            "_model_module": "@jupyter-widgets/base",
            "_model_module_version": "1.2.0",
            "_model_name": "LayoutModel",
            "_view_count": null,
            "_view_module": "@jupyter-widgets/base",
            "_view_module_version": "1.2.0",
            "_view_name": "LayoutView",
            "align_content": null,
            "align_items": null,
            "align_self": null,
            "border": null,
            "bottom": null,
            "display": null,
            "flex": null,
            "flex_flow": null,
            "grid_area": null,
            "grid_auto_columns": null,
            "grid_auto_flow": null,
            "grid_auto_rows": null,
            "grid_column": null,
            "grid_gap": null,
            "grid_row": null,
            "grid_template_areas": null,
            "grid_template_columns": null,
            "grid_template_rows": null,
            "height": null,
            "justify_content": null,
            "justify_items": null,
            "left": null,
            "margin": null,
            "max_height": null,
            "max_width": null,
            "min_height": null,
            "min_width": null,
            "object_fit": null,
            "object_position": null,
            "order": null,
            "overflow": null,
            "overflow_x": null,
            "overflow_y": null,
            "padding": null,
            "right": null,
            "top": null,
            "visibility": null,
            "width": null
          }
        },
        "37c4b7f627d343d0b4fabae416fff9fa": {
          "model_module": "@jupyter-widgets/controls",
          "model_name": "ProgressStyleModel",
          "model_module_version": "1.5.0",
          "state": {
            "_model_module": "@jupyter-widgets/controls",
            "_model_module_version": "1.5.0",
            "_model_name": "ProgressStyleModel",
            "_view_count": null,
            "_view_module": "@jupyter-widgets/base",
            "_view_module_version": "1.2.0",
            "_view_name": "StyleView",
            "bar_color": null,
            "description_width": ""
          }
        },
        "a2e6f40402694df8b5b1fa6cd368c00b": {
          "model_module": "@jupyter-widgets/base",
          "model_name": "LayoutModel",
          "model_module_version": "1.2.0",
          "state": {
            "_model_module": "@jupyter-widgets/base",
            "_model_module_version": "1.2.0",
            "_model_name": "LayoutModel",
            "_view_count": null,
            "_view_module": "@jupyter-widgets/base",
            "_view_module_version": "1.2.0",
            "_view_name": "LayoutView",
            "align_content": null,
            "align_items": null,
            "align_self": null,
            "border": null,
            "bottom": null,
            "display": null,
            "flex": null,
            "flex_flow": null,
            "grid_area": null,
            "grid_auto_columns": null,
            "grid_auto_flow": null,
            "grid_auto_rows": null,
            "grid_column": null,
            "grid_gap": null,
            "grid_row": null,
            "grid_template_areas": null,
            "grid_template_columns": null,
            "grid_template_rows": null,
            "height": null,
            "justify_content": null,
            "justify_items": null,
            "left": null,
            "margin": null,
            "max_height": null,
            "max_width": null,
            "min_height": null,
            "min_width": null,
            "object_fit": null,
            "object_position": null,
            "order": null,
            "overflow": null,
            "overflow_x": null,
            "overflow_y": null,
            "padding": null,
            "right": null,
            "top": null,
            "visibility": null,
            "width": null
          }
        },
        "6c83bd0e1ace4f71aff1467da48c98f4": {
          "model_module": "@jupyter-widgets/controls",
          "model_name": "DescriptionStyleModel",
          "model_module_version": "1.5.0",
          "state": {
            "_model_module": "@jupyter-widgets/controls",
            "_model_module_version": "1.5.0",
            "_model_name": "DescriptionStyleModel",
            "_view_count": null,
            "_view_module": "@jupyter-widgets/base",
            "_view_module_version": "1.2.0",
            "_view_name": "StyleView",
            "description_width": ""
          }
        },
        "0211991e8ccf4a5f8449ba3d57a8a885": {
          "model_module": "@jupyter-widgets/controls",
          "model_name": "HBoxModel",
          "model_module_version": "1.5.0",
          "state": {
            "_dom_classes": [],
            "_model_module": "@jupyter-widgets/controls",
            "_model_module_version": "1.5.0",
            "_model_name": "HBoxModel",
            "_view_count": null,
            "_view_module": "@jupyter-widgets/controls",
            "_view_module_version": "1.5.0",
            "_view_name": "HBoxView",
            "box_style": "",
            "children": [
              "IPY_MODEL_97f155bbb7fc46538f5092bc98817168",
              "IPY_MODEL_1d1113fc2145401a942f639eb4c87454",
              "IPY_MODEL_568155de33b8421d93635321261b3a8c"
            ],
            "layout": "IPY_MODEL_b7d9ac3d86a34ab381848f859f08896b"
          }
        },
        "97f155bbb7fc46538f5092bc98817168": {
          "model_module": "@jupyter-widgets/controls",
          "model_name": "HTMLModel",
          "model_module_version": "1.5.0",
          "state": {
            "_dom_classes": [],
            "_model_module": "@jupyter-widgets/controls",
            "_model_module_version": "1.5.0",
            "_model_name": "HTMLModel",
            "_view_count": null,
            "_view_module": "@jupyter-widgets/controls",
            "_view_module_version": "1.5.0",
            "_view_name": "HTMLView",
            "description": "",
            "description_tooltip": null,
            "layout": "IPY_MODEL_041abc390a8c4c68891570f6058ad8e8",
            "placeholder": "​",
            "style": "IPY_MODEL_20bc27faefce453fb06e921a7a63ee03",
            "value": "Downloading data: "
          }
        },
        "1d1113fc2145401a942f639eb4c87454": {
          "model_module": "@jupyter-widgets/controls",
          "model_name": "FloatProgressModel",
          "model_module_version": "1.5.0",
          "state": {
            "_dom_classes": [],
            "_model_module": "@jupyter-widgets/controls",
            "_model_module_version": "1.5.0",
            "_model_name": "FloatProgressModel",
            "_view_count": null,
            "_view_module": "@jupyter-widgets/controls",
            "_view_module_version": "1.5.0",
            "_view_name": "ProgressView",
            "bar_style": "success",
            "description": "",
            "description_tooltip": null,
            "layout": "IPY_MODEL_9e712db06d8e4dbe891bd07c75de0879",
            "max": 1054280,
            "min": 0,
            "orientation": "horizontal",
            "style": "IPY_MODEL_37d4c9489b87458393c8f90cae9b8e15",
            "value": 1054280
          }
        },
        "568155de33b8421d93635321261b3a8c": {
          "model_module": "@jupyter-widgets/controls",
          "model_name": "HTMLModel",
          "model_module_version": "1.5.0",
          "state": {
            "_dom_classes": [],
            "_model_module": "@jupyter-widgets/controls",
            "_model_module_version": "1.5.0",
            "_model_name": "HTMLModel",
            "_view_count": null,
            "_view_module": "@jupyter-widgets/controls",
            "_view_module_version": "1.5.0",
            "_view_name": "HTMLView",
            "description": "",
            "description_tooltip": null,
            "layout": "IPY_MODEL_b0c94a74de5143c39fa1e7951b524620",
            "placeholder": "​",
            "style": "IPY_MODEL_af572d812fa24916929c3fac6dfb2063",
            "value": " 4.85M/? [00:00&lt;00:00, 43.5MB/s]"
          }
        },
        "b7d9ac3d86a34ab381848f859f08896b": {
          "model_module": "@jupyter-widgets/base",
          "model_name": "LayoutModel",
          "model_module_version": "1.2.0",
          "state": {
            "_model_module": "@jupyter-widgets/base",
            "_model_module_version": "1.2.0",
            "_model_name": "LayoutModel",
            "_view_count": null,
            "_view_module": "@jupyter-widgets/base",
            "_view_module_version": "1.2.0",
            "_view_name": "LayoutView",
            "align_content": null,
            "align_items": null,
            "align_self": null,
            "border": null,
            "bottom": null,
            "display": null,
            "flex": null,
            "flex_flow": null,
            "grid_area": null,
            "grid_auto_columns": null,
            "grid_auto_flow": null,
            "grid_auto_rows": null,
            "grid_column": null,
            "grid_gap": null,
            "grid_row": null,
            "grid_template_areas": null,
            "grid_template_columns": null,
            "grid_template_rows": null,
            "height": null,
            "justify_content": null,
            "justify_items": null,
            "left": null,
            "margin": null,
            "max_height": null,
            "max_width": null,
            "min_height": null,
            "min_width": null,
            "object_fit": null,
            "object_position": null,
            "order": null,
            "overflow": null,
            "overflow_x": null,
            "overflow_y": null,
            "padding": null,
            "right": null,
            "top": null,
            "visibility": null,
            "width": null
          }
        },
        "041abc390a8c4c68891570f6058ad8e8": {
          "model_module": "@jupyter-widgets/base",
          "model_name": "LayoutModel",
          "model_module_version": "1.2.0",
          "state": {
            "_model_module": "@jupyter-widgets/base",
            "_model_module_version": "1.2.0",
            "_model_name": "LayoutModel",
            "_view_count": null,
            "_view_module": "@jupyter-widgets/base",
            "_view_module_version": "1.2.0",
            "_view_name": "LayoutView",
            "align_content": null,
            "align_items": null,
            "align_self": null,
            "border": null,
            "bottom": null,
            "display": null,
            "flex": null,
            "flex_flow": null,
            "grid_area": null,
            "grid_auto_columns": null,
            "grid_auto_flow": null,
            "grid_auto_rows": null,
            "grid_column": null,
            "grid_gap": null,
            "grid_row": null,
            "grid_template_areas": null,
            "grid_template_columns": null,
            "grid_template_rows": null,
            "height": null,
            "justify_content": null,
            "justify_items": null,
            "left": null,
            "margin": null,
            "max_height": null,
            "max_width": null,
            "min_height": null,
            "min_width": null,
            "object_fit": null,
            "object_position": null,
            "order": null,
            "overflow": null,
            "overflow_x": null,
            "overflow_y": null,
            "padding": null,
            "right": null,
            "top": null,
            "visibility": null,
            "width": null
          }
        },
        "20bc27faefce453fb06e921a7a63ee03": {
          "model_module": "@jupyter-widgets/controls",
          "model_name": "DescriptionStyleModel",
          "model_module_version": "1.5.0",
          "state": {
            "_model_module": "@jupyter-widgets/controls",
            "_model_module_version": "1.5.0",
            "_model_name": "DescriptionStyleModel",
            "_view_count": null,
            "_view_module": "@jupyter-widgets/base",
            "_view_module_version": "1.2.0",
            "_view_name": "StyleView",
            "description_width": ""
          }
        },
        "9e712db06d8e4dbe891bd07c75de0879": {
          "model_module": "@jupyter-widgets/base",
          "model_name": "LayoutModel",
          "model_module_version": "1.2.0",
          "state": {
            "_model_module": "@jupyter-widgets/base",
            "_model_module_version": "1.2.0",
            "_model_name": "LayoutModel",
            "_view_count": null,
            "_view_module": "@jupyter-widgets/base",
            "_view_module_version": "1.2.0",
            "_view_name": "LayoutView",
            "align_content": null,
            "align_items": null,
            "align_self": null,
            "border": null,
            "bottom": null,
            "display": null,
            "flex": null,
            "flex_flow": null,
            "grid_area": null,
            "grid_auto_columns": null,
            "grid_auto_flow": null,
            "grid_auto_rows": null,
            "grid_column": null,
            "grid_gap": null,
            "grid_row": null,
            "grid_template_areas": null,
            "grid_template_columns": null,
            "grid_template_rows": null,
            "height": null,
            "justify_content": null,
            "justify_items": null,
            "left": null,
            "margin": null,
            "max_height": null,
            "max_width": null,
            "min_height": null,
            "min_width": null,
            "object_fit": null,
            "object_position": null,
            "order": null,
            "overflow": null,
            "overflow_x": null,
            "overflow_y": null,
            "padding": null,
            "right": null,
            "top": null,
            "visibility": null,
            "width": null
          }
        },
        "37d4c9489b87458393c8f90cae9b8e15": {
          "model_module": "@jupyter-widgets/controls",
          "model_name": "ProgressStyleModel",
          "model_module_version": "1.5.0",
          "state": {
            "_model_module": "@jupyter-widgets/controls",
            "_model_module_version": "1.5.0",
            "_model_name": "ProgressStyleModel",
            "_view_count": null,
            "_view_module": "@jupyter-widgets/base",
            "_view_module_version": "1.2.0",
            "_view_name": "StyleView",
            "bar_color": null,
            "description_width": ""
          }
        },
        "b0c94a74de5143c39fa1e7951b524620": {
          "model_module": "@jupyter-widgets/base",
          "model_name": "LayoutModel",
          "model_module_version": "1.2.0",
          "state": {
            "_model_module": "@jupyter-widgets/base",
            "_model_module_version": "1.2.0",
            "_model_name": "LayoutModel",
            "_view_count": null,
            "_view_module": "@jupyter-widgets/base",
            "_view_module_version": "1.2.0",
            "_view_name": "LayoutView",
            "align_content": null,
            "align_items": null,
            "align_self": null,
            "border": null,
            "bottom": null,
            "display": null,
            "flex": null,
            "flex_flow": null,
            "grid_area": null,
            "grid_auto_columns": null,
            "grid_auto_flow": null,
            "grid_auto_rows": null,
            "grid_column": null,
            "grid_gap": null,
            "grid_row": null,
            "grid_template_areas": null,
            "grid_template_columns": null,
            "grid_template_rows": null,
            "height": null,
            "justify_content": null,
            "justify_items": null,
            "left": null,
            "margin": null,
            "max_height": null,
            "max_width": null,
            "min_height": null,
            "min_width": null,
            "object_fit": null,
            "object_position": null,
            "order": null,
            "overflow": null,
            "overflow_x": null,
            "overflow_y": null,
            "padding": null,
            "right": null,
            "top": null,
            "visibility": null,
            "width": null
          }
        },
        "af572d812fa24916929c3fac6dfb2063": {
          "model_module": "@jupyter-widgets/controls",
          "model_name": "DescriptionStyleModel",
          "model_module_version": "1.5.0",
          "state": {
            "_model_module": "@jupyter-widgets/controls",
            "_model_module_version": "1.5.0",
            "_model_name": "DescriptionStyleModel",
            "_view_count": null,
            "_view_module": "@jupyter-widgets/base",
            "_view_module_version": "1.2.0",
            "_view_name": "StyleView",
            "description_width": ""
          }
        },
        "c901f12dae8e45bba0a045fdb89cbf3d": {
          "model_module": "@jupyter-widgets/controls",
          "model_name": "HBoxModel",
          "model_module_version": "1.5.0",
          "state": {
            "_dom_classes": [],
            "_model_module": "@jupyter-widgets/controls",
            "_model_module_version": "1.5.0",
            "_model_name": "HBoxModel",
            "_view_count": null,
            "_view_module": "@jupyter-widgets/controls",
            "_view_module_version": "1.5.0",
            "_view_name": "HBoxView",
            "box_style": "",
            "children": [
              "IPY_MODEL_cff1e9e6b4da48eb9bdd80e24c5cbd8a",
              "IPY_MODEL_0c91c8e60adc401e95cf8cf0b505e725",
              "IPY_MODEL_d01059d9af894cbeb35376eed35afaf3"
            ],
            "layout": "IPY_MODEL_1cd9dea43788437f93b8cb568374ee88"
          }
        },
        "cff1e9e6b4da48eb9bdd80e24c5cbd8a": {
          "model_module": "@jupyter-widgets/controls",
          "model_name": "HTMLModel",
          "model_module_version": "1.5.0",
          "state": {
            "_dom_classes": [],
            "_model_module": "@jupyter-widgets/controls",
            "_model_module_version": "1.5.0",
            "_model_name": "HTMLModel",
            "_view_count": null,
            "_view_module": "@jupyter-widgets/controls",
            "_view_module_version": "1.5.0",
            "_view_name": "HTMLView",
            "description": "",
            "description_tooltip": null,
            "layout": "IPY_MODEL_42f9432982224965a0a9ca2a6c9d7116",
            "placeholder": "​",
            "style": "IPY_MODEL_5582b18a27194395a293cac6daee0201",
            "value": "Extracting data files: 100%"
          }
        },
        "0c91c8e60adc401e95cf8cf0b505e725": {
          "model_module": "@jupyter-widgets/controls",
          "model_name": "FloatProgressModel",
          "model_module_version": "1.5.0",
          "state": {
            "_dom_classes": [],
            "_model_module": "@jupyter-widgets/controls",
            "_model_module_version": "1.5.0",
            "_model_name": "FloatProgressModel",
            "_view_count": null,
            "_view_module": "@jupyter-widgets/controls",
            "_view_module_version": "1.5.0",
            "_view_name": "ProgressView",
            "bar_style": "success",
            "description": "",
            "description_tooltip": null,
            "layout": "IPY_MODEL_9262ea913d93467cb0add0a4b3b61fae",
            "max": 2,
            "min": 0,
            "orientation": "horizontal",
            "style": "IPY_MODEL_a643dfe1922840688c36d338fbb3d5d3",
            "value": 2
          }
        },
        "d01059d9af894cbeb35376eed35afaf3": {
          "model_module": "@jupyter-widgets/controls",
          "model_name": "HTMLModel",
          "model_module_version": "1.5.0",
          "state": {
            "_dom_classes": [],
            "_model_module": "@jupyter-widgets/controls",
            "_model_module_version": "1.5.0",
            "_model_name": "HTMLModel",
            "_view_count": null,
            "_view_module": "@jupyter-widgets/controls",
            "_view_module_version": "1.5.0",
            "_view_name": "HTMLView",
            "description": "",
            "description_tooltip": null,
            "layout": "IPY_MODEL_62273f5dc7e84d109608e5044ea370e4",
            "placeholder": "​",
            "style": "IPY_MODEL_b660fd41dd6d49db87f50b65540b24ba",
            "value": " 2/2 [00:00&lt;00:00, 47.20it/s]"
          }
        },
        "1cd9dea43788437f93b8cb568374ee88": {
          "model_module": "@jupyter-widgets/base",
          "model_name": "LayoutModel",
          "model_module_version": "1.2.0",
          "state": {
            "_model_module": "@jupyter-widgets/base",
            "_model_module_version": "1.2.0",
            "_model_name": "LayoutModel",
            "_view_count": null,
            "_view_module": "@jupyter-widgets/base",
            "_view_module_version": "1.2.0",
            "_view_name": "LayoutView",
            "align_content": null,
            "align_items": null,
            "align_self": null,
            "border": null,
            "bottom": null,
            "display": null,
            "flex": null,
            "flex_flow": null,
            "grid_area": null,
            "grid_auto_columns": null,
            "grid_auto_flow": null,
            "grid_auto_rows": null,
            "grid_column": null,
            "grid_gap": null,
            "grid_row": null,
            "grid_template_areas": null,
            "grid_template_columns": null,
            "grid_template_rows": null,
            "height": null,
            "justify_content": null,
            "justify_items": null,
            "left": null,
            "margin": null,
            "max_height": null,
            "max_width": null,
            "min_height": null,
            "min_width": null,
            "object_fit": null,
            "object_position": null,
            "order": null,
            "overflow": null,
            "overflow_x": null,
            "overflow_y": null,
            "padding": null,
            "right": null,
            "top": null,
            "visibility": null,
            "width": null
          }
        },
        "42f9432982224965a0a9ca2a6c9d7116": {
          "model_module": "@jupyter-widgets/base",
          "model_name": "LayoutModel",
          "model_module_version": "1.2.0",
          "state": {
            "_model_module": "@jupyter-widgets/base",
            "_model_module_version": "1.2.0",
            "_model_name": "LayoutModel",
            "_view_count": null,
            "_view_module": "@jupyter-widgets/base",
            "_view_module_version": "1.2.0",
            "_view_name": "LayoutView",
            "align_content": null,
            "align_items": null,
            "align_self": null,
            "border": null,
            "bottom": null,
            "display": null,
            "flex": null,
            "flex_flow": null,
            "grid_area": null,
            "grid_auto_columns": null,
            "grid_auto_flow": null,
            "grid_auto_rows": null,
            "grid_column": null,
            "grid_gap": null,
            "grid_row": null,
            "grid_template_areas": null,
            "grid_template_columns": null,
            "grid_template_rows": null,
            "height": null,
            "justify_content": null,
            "justify_items": null,
            "left": null,
            "margin": null,
            "max_height": null,
            "max_width": null,
            "min_height": null,
            "min_width": null,
            "object_fit": null,
            "object_position": null,
            "order": null,
            "overflow": null,
            "overflow_x": null,
            "overflow_y": null,
            "padding": null,
            "right": null,
            "top": null,
            "visibility": null,
            "width": null
          }
        },
        "5582b18a27194395a293cac6daee0201": {
          "model_module": "@jupyter-widgets/controls",
          "model_name": "DescriptionStyleModel",
          "model_module_version": "1.5.0",
          "state": {
            "_model_module": "@jupyter-widgets/controls",
            "_model_module_version": "1.5.0",
            "_model_name": "DescriptionStyleModel",
            "_view_count": null,
            "_view_module": "@jupyter-widgets/base",
            "_view_module_version": "1.2.0",
            "_view_name": "StyleView",
            "description_width": ""
          }
        },
        "9262ea913d93467cb0add0a4b3b61fae": {
          "model_module": "@jupyter-widgets/base",
          "model_name": "LayoutModel",
          "model_module_version": "1.2.0",
          "state": {
            "_model_module": "@jupyter-widgets/base",
            "_model_module_version": "1.2.0",
            "_model_name": "LayoutModel",
            "_view_count": null,
            "_view_module": "@jupyter-widgets/base",
            "_view_module_version": "1.2.0",
            "_view_name": "LayoutView",
            "align_content": null,
            "align_items": null,
            "align_self": null,
            "border": null,
            "bottom": null,
            "display": null,
            "flex": null,
            "flex_flow": null,
            "grid_area": null,
            "grid_auto_columns": null,
            "grid_auto_flow": null,
            "grid_auto_rows": null,
            "grid_column": null,
            "grid_gap": null,
            "grid_row": null,
            "grid_template_areas": null,
            "grid_template_columns": null,
            "grid_template_rows": null,
            "height": null,
            "justify_content": null,
            "justify_items": null,
            "left": null,
            "margin": null,
            "max_height": null,
            "max_width": null,
            "min_height": null,
            "min_width": null,
            "object_fit": null,
            "object_position": null,
            "order": null,
            "overflow": null,
            "overflow_x": null,
            "overflow_y": null,
            "padding": null,
            "right": null,
            "top": null,
            "visibility": null,
            "width": null
          }
        },
        "a643dfe1922840688c36d338fbb3d5d3": {
          "model_module": "@jupyter-widgets/controls",
          "model_name": "ProgressStyleModel",
          "model_module_version": "1.5.0",
          "state": {
            "_model_module": "@jupyter-widgets/controls",
            "_model_module_version": "1.5.0",
            "_model_name": "ProgressStyleModel",
            "_view_count": null,
            "_view_module": "@jupyter-widgets/base",
            "_view_module_version": "1.2.0",
            "_view_name": "StyleView",
            "bar_color": null,
            "description_width": ""
          }
        },
        "62273f5dc7e84d109608e5044ea370e4": {
          "model_module": "@jupyter-widgets/base",
          "model_name": "LayoutModel",
          "model_module_version": "1.2.0",
          "state": {
            "_model_module": "@jupyter-widgets/base",
            "_model_module_version": "1.2.0",
            "_model_name": "LayoutModel",
            "_view_count": null,
            "_view_module": "@jupyter-widgets/base",
            "_view_module_version": "1.2.0",
            "_view_name": "LayoutView",
            "align_content": null,
            "align_items": null,
            "align_self": null,
            "border": null,
            "bottom": null,
            "display": null,
            "flex": null,
            "flex_flow": null,
            "grid_area": null,
            "grid_auto_columns": null,
            "grid_auto_flow": null,
            "grid_auto_rows": null,
            "grid_column": null,
            "grid_gap": null,
            "grid_row": null,
            "grid_template_areas": null,
            "grid_template_columns": null,
            "grid_template_rows": null,
            "height": null,
            "justify_content": null,
            "justify_items": null,
            "left": null,
            "margin": null,
            "max_height": null,
            "max_width": null,
            "min_height": null,
            "min_width": null,
            "object_fit": null,
            "object_position": null,
            "order": null,
            "overflow": null,
            "overflow_x": null,
            "overflow_y": null,
            "padding": null,
            "right": null,
            "top": null,
            "visibility": null,
            "width": null
          }
        },
        "b660fd41dd6d49db87f50b65540b24ba": {
          "model_module": "@jupyter-widgets/controls",
          "model_name": "DescriptionStyleModel",
          "model_module_version": "1.5.0",
          "state": {
            "_model_module": "@jupyter-widgets/controls",
            "_model_module_version": "1.5.0",
            "_model_name": "DescriptionStyleModel",
            "_view_count": null,
            "_view_module": "@jupyter-widgets/base",
            "_view_module_version": "1.2.0",
            "_view_name": "StyleView",
            "description_width": ""
          }
        },
        "f3828222535147ce81acefa50e74c887": {
          "model_module": "@jupyter-widgets/controls",
          "model_name": "HBoxModel",
          "model_module_version": "1.5.0",
          "state": {
            "_dom_classes": [],
            "_model_module": "@jupyter-widgets/controls",
            "_model_module_version": "1.5.0",
            "_model_name": "HBoxModel",
            "_view_count": null,
            "_view_module": "@jupyter-widgets/controls",
            "_view_module_version": "1.5.0",
            "_view_name": "HBoxView",
            "box_style": "",
            "children": [
              "IPY_MODEL_7949e11727a34d48835c3820c3ab37ba",
              "IPY_MODEL_c78dd9e80dfd4b7a89d07cd98eef8f99",
              "IPY_MODEL_6e60cf7862054ec6bb7cfe2b95347164"
            ],
            "layout": "IPY_MODEL_a2f1153006144c9884d000be008776d5"
          }
        },
        "7949e11727a34d48835c3820c3ab37ba": {
          "model_module": "@jupyter-widgets/controls",
          "model_name": "HTMLModel",
          "model_module_version": "1.5.0",
          "state": {
            "_dom_classes": [],
            "_model_module": "@jupyter-widgets/controls",
            "_model_module_version": "1.5.0",
            "_model_name": "HTMLModel",
            "_view_count": null,
            "_view_module": "@jupyter-widgets/controls",
            "_view_module_version": "1.5.0",
            "_view_name": "HTMLView",
            "description": "",
            "description_tooltip": null,
            "layout": "IPY_MODEL_c6fcec7cca5841b6ac2cb517b565fdcb",
            "placeholder": "​",
            "style": "IPY_MODEL_8e62948120d141d89c7b4b08cc5da6e4",
            "value": "Generating train split: 100%"
          }
        },
        "c78dd9e80dfd4b7a89d07cd98eef8f99": {
          "model_module": "@jupyter-widgets/controls",
          "model_name": "FloatProgressModel",
          "model_module_version": "1.5.0",
          "state": {
            "_dom_classes": [],
            "_model_module": "@jupyter-widgets/controls",
            "_model_module_version": "1.5.0",
            "_model_name": "FloatProgressModel",
            "_view_count": null,
            "_view_module": "@jupyter-widgets/controls",
            "_view_module_version": "1.5.0",
            "_view_name": "ProgressView",
            "bar_style": "",
            "description": "",
            "description_tooltip": null,
            "layout": "IPY_MODEL_6c56b743661d4ce5b0aaba441dfc2d26",
            "max": 87599,
            "min": 0,
            "orientation": "horizontal",
            "style": "IPY_MODEL_b9c99f955f3f4c098963b41ef5fba4c9",
            "value": 87599
          }
        },
        "6e60cf7862054ec6bb7cfe2b95347164": {
          "model_module": "@jupyter-widgets/controls",
          "model_name": "HTMLModel",
          "model_module_version": "1.5.0",
          "state": {
            "_dom_classes": [],
            "_model_module": "@jupyter-widgets/controls",
            "_model_module_version": "1.5.0",
            "_model_name": "HTMLModel",
            "_view_count": null,
            "_view_module": "@jupyter-widgets/controls",
            "_view_module_version": "1.5.0",
            "_view_name": "HTMLView",
            "description": "",
            "description_tooltip": null,
            "layout": "IPY_MODEL_5877d84572ed437dbbb664dc89859a9c",
            "placeholder": "​",
            "style": "IPY_MODEL_7e95a62468a54ed693d69e229113dbc4",
            "value": " 87599/87599 [00:16&lt;00:00, 8853.47 examples/s]"
          }
        },
        "a2f1153006144c9884d000be008776d5": {
          "model_module": "@jupyter-widgets/base",
          "model_name": "LayoutModel",
          "model_module_version": "1.2.0",
          "state": {
            "_model_module": "@jupyter-widgets/base",
            "_model_module_version": "1.2.0",
            "_model_name": "LayoutModel",
            "_view_count": null,
            "_view_module": "@jupyter-widgets/base",
            "_view_module_version": "1.2.0",
            "_view_name": "LayoutView",
            "align_content": null,
            "align_items": null,
            "align_self": null,
            "border": null,
            "bottom": null,
            "display": null,
            "flex": null,
            "flex_flow": null,
            "grid_area": null,
            "grid_auto_columns": null,
            "grid_auto_flow": null,
            "grid_auto_rows": null,
            "grid_column": null,
            "grid_gap": null,
            "grid_row": null,
            "grid_template_areas": null,
            "grid_template_columns": null,
            "grid_template_rows": null,
            "height": null,
            "justify_content": null,
            "justify_items": null,
            "left": null,
            "margin": null,
            "max_height": null,
            "max_width": null,
            "min_height": null,
            "min_width": null,
            "object_fit": null,
            "object_position": null,
            "order": null,
            "overflow": null,
            "overflow_x": null,
            "overflow_y": null,
            "padding": null,
            "right": null,
            "top": null,
            "visibility": "hidden",
            "width": null
          }
        },
        "c6fcec7cca5841b6ac2cb517b565fdcb": {
          "model_module": "@jupyter-widgets/base",
          "model_name": "LayoutModel",
          "model_module_version": "1.2.0",
          "state": {
            "_model_module": "@jupyter-widgets/base",
            "_model_module_version": "1.2.0",
            "_model_name": "LayoutModel",
            "_view_count": null,
            "_view_module": "@jupyter-widgets/base",
            "_view_module_version": "1.2.0",
            "_view_name": "LayoutView",
            "align_content": null,
            "align_items": null,
            "align_self": null,
            "border": null,
            "bottom": null,
            "display": null,
            "flex": null,
            "flex_flow": null,
            "grid_area": null,
            "grid_auto_columns": null,
            "grid_auto_flow": null,
            "grid_auto_rows": null,
            "grid_column": null,
            "grid_gap": null,
            "grid_row": null,
            "grid_template_areas": null,
            "grid_template_columns": null,
            "grid_template_rows": null,
            "height": null,
            "justify_content": null,
            "justify_items": null,
            "left": null,
            "margin": null,
            "max_height": null,
            "max_width": null,
            "min_height": null,
            "min_width": null,
            "object_fit": null,
            "object_position": null,
            "order": null,
            "overflow": null,
            "overflow_x": null,
            "overflow_y": null,
            "padding": null,
            "right": null,
            "top": null,
            "visibility": null,
            "width": null
          }
        },
        "8e62948120d141d89c7b4b08cc5da6e4": {
          "model_module": "@jupyter-widgets/controls",
          "model_name": "DescriptionStyleModel",
          "model_module_version": "1.5.0",
          "state": {
            "_model_module": "@jupyter-widgets/controls",
            "_model_module_version": "1.5.0",
            "_model_name": "DescriptionStyleModel",
            "_view_count": null,
            "_view_module": "@jupyter-widgets/base",
            "_view_module_version": "1.2.0",
            "_view_name": "StyleView",
            "description_width": ""
          }
        },
        "6c56b743661d4ce5b0aaba441dfc2d26": {
          "model_module": "@jupyter-widgets/base",
          "model_name": "LayoutModel",
          "model_module_version": "1.2.0",
          "state": {
            "_model_module": "@jupyter-widgets/base",
            "_model_module_version": "1.2.0",
            "_model_name": "LayoutModel",
            "_view_count": null,
            "_view_module": "@jupyter-widgets/base",
            "_view_module_version": "1.2.0",
            "_view_name": "LayoutView",
            "align_content": null,
            "align_items": null,
            "align_self": null,
            "border": null,
            "bottom": null,
            "display": null,
            "flex": null,
            "flex_flow": null,
            "grid_area": null,
            "grid_auto_columns": null,
            "grid_auto_flow": null,
            "grid_auto_rows": null,
            "grid_column": null,
            "grid_gap": null,
            "grid_row": null,
            "grid_template_areas": null,
            "grid_template_columns": null,
            "grid_template_rows": null,
            "height": null,
            "justify_content": null,
            "justify_items": null,
            "left": null,
            "margin": null,
            "max_height": null,
            "max_width": null,
            "min_height": null,
            "min_width": null,
            "object_fit": null,
            "object_position": null,
            "order": null,
            "overflow": null,
            "overflow_x": null,
            "overflow_y": null,
            "padding": null,
            "right": null,
            "top": null,
            "visibility": null,
            "width": null
          }
        },
        "b9c99f955f3f4c098963b41ef5fba4c9": {
          "model_module": "@jupyter-widgets/controls",
          "model_name": "ProgressStyleModel",
          "model_module_version": "1.5.0",
          "state": {
            "_model_module": "@jupyter-widgets/controls",
            "_model_module_version": "1.5.0",
            "_model_name": "ProgressStyleModel",
            "_view_count": null,
            "_view_module": "@jupyter-widgets/base",
            "_view_module_version": "1.2.0",
            "_view_name": "StyleView",
            "bar_color": null,
            "description_width": ""
          }
        },
        "5877d84572ed437dbbb664dc89859a9c": {
          "model_module": "@jupyter-widgets/base",
          "model_name": "LayoutModel",
          "model_module_version": "1.2.0",
          "state": {
            "_model_module": "@jupyter-widgets/base",
            "_model_module_version": "1.2.0",
            "_model_name": "LayoutModel",
            "_view_count": null,
            "_view_module": "@jupyter-widgets/base",
            "_view_module_version": "1.2.0",
            "_view_name": "LayoutView",
            "align_content": null,
            "align_items": null,
            "align_self": null,
            "border": null,
            "bottom": null,
            "display": null,
            "flex": null,
            "flex_flow": null,
            "grid_area": null,
            "grid_auto_columns": null,
            "grid_auto_flow": null,
            "grid_auto_rows": null,
            "grid_column": null,
            "grid_gap": null,
            "grid_row": null,
            "grid_template_areas": null,
            "grid_template_columns": null,
            "grid_template_rows": null,
            "height": null,
            "justify_content": null,
            "justify_items": null,
            "left": null,
            "margin": null,
            "max_height": null,
            "max_width": null,
            "min_height": null,
            "min_width": null,
            "object_fit": null,
            "object_position": null,
            "order": null,
            "overflow": null,
            "overflow_x": null,
            "overflow_y": null,
            "padding": null,
            "right": null,
            "top": null,
            "visibility": null,
            "width": null
          }
        },
        "7e95a62468a54ed693d69e229113dbc4": {
          "model_module": "@jupyter-widgets/controls",
          "model_name": "DescriptionStyleModel",
          "model_module_version": "1.5.0",
          "state": {
            "_model_module": "@jupyter-widgets/controls",
            "_model_module_version": "1.5.0",
            "_model_name": "DescriptionStyleModel",
            "_view_count": null,
            "_view_module": "@jupyter-widgets/base",
            "_view_module_version": "1.2.0",
            "_view_name": "StyleView",
            "description_width": ""
          }
        },
        "cfdd4027174e4efa96e65267f4a129ff": {
          "model_module": "@jupyter-widgets/controls",
          "model_name": "HBoxModel",
          "model_module_version": "1.5.0",
          "state": {
            "_dom_classes": [],
            "_model_module": "@jupyter-widgets/controls",
            "_model_module_version": "1.5.0",
            "_model_name": "HBoxModel",
            "_view_count": null,
            "_view_module": "@jupyter-widgets/controls",
            "_view_module_version": "1.5.0",
            "_view_name": "HBoxView",
            "box_style": "",
            "children": [
              "IPY_MODEL_a109a740c066486396f665bdc4265028",
              "IPY_MODEL_35a51cb56ce948dc8670c204a05bb92f",
              "IPY_MODEL_603404b8e529410583fb1a5d4765d173"
            ],
            "layout": "IPY_MODEL_f682d38b89ee4a54a295fd9e4a8826c5"
          }
        },
        "a109a740c066486396f665bdc4265028": {
          "model_module": "@jupyter-widgets/controls",
          "model_name": "HTMLModel",
          "model_module_version": "1.5.0",
          "state": {
            "_dom_classes": [],
            "_model_module": "@jupyter-widgets/controls",
            "_model_module_version": "1.5.0",
            "_model_name": "HTMLModel",
            "_view_count": null,
            "_view_module": "@jupyter-widgets/controls",
            "_view_module_version": "1.5.0",
            "_view_name": "HTMLView",
            "description": "",
            "description_tooltip": null,
            "layout": "IPY_MODEL_41bf43d988d94b0f8ab315380b250f5d",
            "placeholder": "​",
            "style": "IPY_MODEL_e2603ca60723407cb9b1661dcdc8b14e",
            "value": "Generating validation split:  93%"
          }
        },
        "35a51cb56ce948dc8670c204a05bb92f": {
          "model_module": "@jupyter-widgets/controls",
          "model_name": "FloatProgressModel",
          "model_module_version": "1.5.0",
          "state": {
            "_dom_classes": [],
            "_model_module": "@jupyter-widgets/controls",
            "_model_module_version": "1.5.0",
            "_model_name": "FloatProgressModel",
            "_view_count": null,
            "_view_module": "@jupyter-widgets/controls",
            "_view_module_version": "1.5.0",
            "_view_name": "ProgressView",
            "bar_style": "",
            "description": "",
            "description_tooltip": null,
            "layout": "IPY_MODEL_b760ae993bd84ebeb720b51c0b062b55",
            "max": 10570,
            "min": 0,
            "orientation": "horizontal",
            "style": "IPY_MODEL_175a46ba84434b57a724f4e7fc9ae868",
            "value": 10570
          }
        },
        "603404b8e529410583fb1a5d4765d173": {
          "model_module": "@jupyter-widgets/controls",
          "model_name": "HTMLModel",
          "model_module_version": "1.5.0",
          "state": {
            "_dom_classes": [],
            "_model_module": "@jupyter-widgets/controls",
            "_model_module_version": "1.5.0",
            "_model_name": "HTMLModel",
            "_view_count": null,
            "_view_module": "@jupyter-widgets/controls",
            "_view_module_version": "1.5.0",
            "_view_name": "HTMLView",
            "description": "",
            "description_tooltip": null,
            "layout": "IPY_MODEL_79ca1808c98e45ad9bd624d5151c2466",
            "placeholder": "​",
            "style": "IPY_MODEL_009b7e2b45664fc3bf167f74bc8fb5bc",
            "value": " 9869/10570 [00:01&lt;00:00, 8054.35 examples/s]"
          }
        },
        "f682d38b89ee4a54a295fd9e4a8826c5": {
          "model_module": "@jupyter-widgets/base",
          "model_name": "LayoutModel",
          "model_module_version": "1.2.0",
          "state": {
            "_model_module": "@jupyter-widgets/base",
            "_model_module_version": "1.2.0",
            "_model_name": "LayoutModel",
            "_view_count": null,
            "_view_module": "@jupyter-widgets/base",
            "_view_module_version": "1.2.0",
            "_view_name": "LayoutView",
            "align_content": null,
            "align_items": null,
            "align_self": null,
            "border": null,
            "bottom": null,
            "display": null,
            "flex": null,
            "flex_flow": null,
            "grid_area": null,
            "grid_auto_columns": null,
            "grid_auto_flow": null,
            "grid_auto_rows": null,
            "grid_column": null,
            "grid_gap": null,
            "grid_row": null,
            "grid_template_areas": null,
            "grid_template_columns": null,
            "grid_template_rows": null,
            "height": null,
            "justify_content": null,
            "justify_items": null,
            "left": null,
            "margin": null,
            "max_height": null,
            "max_width": null,
            "min_height": null,
            "min_width": null,
            "object_fit": null,
            "object_position": null,
            "order": null,
            "overflow": null,
            "overflow_x": null,
            "overflow_y": null,
            "padding": null,
            "right": null,
            "top": null,
            "visibility": "hidden",
            "width": null
          }
        },
        "41bf43d988d94b0f8ab315380b250f5d": {
          "model_module": "@jupyter-widgets/base",
          "model_name": "LayoutModel",
          "model_module_version": "1.2.0",
          "state": {
            "_model_module": "@jupyter-widgets/base",
            "_model_module_version": "1.2.0",
            "_model_name": "LayoutModel",
            "_view_count": null,
            "_view_module": "@jupyter-widgets/base",
            "_view_module_version": "1.2.0",
            "_view_name": "LayoutView",
            "align_content": null,
            "align_items": null,
            "align_self": null,
            "border": null,
            "bottom": null,
            "display": null,
            "flex": null,
            "flex_flow": null,
            "grid_area": null,
            "grid_auto_columns": null,
            "grid_auto_flow": null,
            "grid_auto_rows": null,
            "grid_column": null,
            "grid_gap": null,
            "grid_row": null,
            "grid_template_areas": null,
            "grid_template_columns": null,
            "grid_template_rows": null,
            "height": null,
            "justify_content": null,
            "justify_items": null,
            "left": null,
            "margin": null,
            "max_height": null,
            "max_width": null,
            "min_height": null,
            "min_width": null,
            "object_fit": null,
            "object_position": null,
            "order": null,
            "overflow": null,
            "overflow_x": null,
            "overflow_y": null,
            "padding": null,
            "right": null,
            "top": null,
            "visibility": null,
            "width": null
          }
        },
        "e2603ca60723407cb9b1661dcdc8b14e": {
          "model_module": "@jupyter-widgets/controls",
          "model_name": "DescriptionStyleModel",
          "model_module_version": "1.5.0",
          "state": {
            "_model_module": "@jupyter-widgets/controls",
            "_model_module_version": "1.5.0",
            "_model_name": "DescriptionStyleModel",
            "_view_count": null,
            "_view_module": "@jupyter-widgets/base",
            "_view_module_version": "1.2.0",
            "_view_name": "StyleView",
            "description_width": ""
          }
        },
        "b760ae993bd84ebeb720b51c0b062b55": {
          "model_module": "@jupyter-widgets/base",
          "model_name": "LayoutModel",
          "model_module_version": "1.2.0",
          "state": {
            "_model_module": "@jupyter-widgets/base",
            "_model_module_version": "1.2.0",
            "_model_name": "LayoutModel",
            "_view_count": null,
            "_view_module": "@jupyter-widgets/base",
            "_view_module_version": "1.2.0",
            "_view_name": "LayoutView",
            "align_content": null,
            "align_items": null,
            "align_self": null,
            "border": null,
            "bottom": null,
            "display": null,
            "flex": null,
            "flex_flow": null,
            "grid_area": null,
            "grid_auto_columns": null,
            "grid_auto_flow": null,
            "grid_auto_rows": null,
            "grid_column": null,
            "grid_gap": null,
            "grid_row": null,
            "grid_template_areas": null,
            "grid_template_columns": null,
            "grid_template_rows": null,
            "height": null,
            "justify_content": null,
            "justify_items": null,
            "left": null,
            "margin": null,
            "max_height": null,
            "max_width": null,
            "min_height": null,
            "min_width": null,
            "object_fit": null,
            "object_position": null,
            "order": null,
            "overflow": null,
            "overflow_x": null,
            "overflow_y": null,
            "padding": null,
            "right": null,
            "top": null,
            "visibility": null,
            "width": null
          }
        },
        "175a46ba84434b57a724f4e7fc9ae868": {
          "model_module": "@jupyter-widgets/controls",
          "model_name": "ProgressStyleModel",
          "model_module_version": "1.5.0",
          "state": {
            "_model_module": "@jupyter-widgets/controls",
            "_model_module_version": "1.5.0",
            "_model_name": "ProgressStyleModel",
            "_view_count": null,
            "_view_module": "@jupyter-widgets/base",
            "_view_module_version": "1.2.0",
            "_view_name": "StyleView",
            "bar_color": null,
            "description_width": ""
          }
        },
        "79ca1808c98e45ad9bd624d5151c2466": {
          "model_module": "@jupyter-widgets/base",
          "model_name": "LayoutModel",
          "model_module_version": "1.2.0",
          "state": {
            "_model_module": "@jupyter-widgets/base",
            "_model_module_version": "1.2.0",
            "_model_name": "LayoutModel",
            "_view_count": null,
            "_view_module": "@jupyter-widgets/base",
            "_view_module_version": "1.2.0",
            "_view_name": "LayoutView",
            "align_content": null,
            "align_items": null,
            "align_self": null,
            "border": null,
            "bottom": null,
            "display": null,
            "flex": null,
            "flex_flow": null,
            "grid_area": null,
            "grid_auto_columns": null,
            "grid_auto_flow": null,
            "grid_auto_rows": null,
            "grid_column": null,
            "grid_gap": null,
            "grid_row": null,
            "grid_template_areas": null,
            "grid_template_columns": null,
            "grid_template_rows": null,
            "height": null,
            "justify_content": null,
            "justify_items": null,
            "left": null,
            "margin": null,
            "max_height": null,
            "max_width": null,
            "min_height": null,
            "min_width": null,
            "object_fit": null,
            "object_position": null,
            "order": null,
            "overflow": null,
            "overflow_x": null,
            "overflow_y": null,
            "padding": null,
            "right": null,
            "top": null,
            "visibility": null,
            "width": null
          }
        },
        "009b7e2b45664fc3bf167f74bc8fb5bc": {
          "model_module": "@jupyter-widgets/controls",
          "model_name": "DescriptionStyleModel",
          "model_module_version": "1.5.0",
          "state": {
            "_model_module": "@jupyter-widgets/controls",
            "_model_module_version": "1.5.0",
            "_model_name": "DescriptionStyleModel",
            "_view_count": null,
            "_view_module": "@jupyter-widgets/base",
            "_view_module_version": "1.2.0",
            "_view_name": "StyleView",
            "description_width": ""
          }
        },
        "20ce27bc8353453195d76a6509007bdf": {
          "model_module": "@jupyter-widgets/controls",
          "model_name": "HBoxModel",
          "model_module_version": "1.5.0",
          "state": {
            "_dom_classes": [],
            "_model_module": "@jupyter-widgets/controls",
            "_model_module_version": "1.5.0",
            "_model_name": "HBoxModel",
            "_view_count": null,
            "_view_module": "@jupyter-widgets/controls",
            "_view_module_version": "1.5.0",
            "_view_name": "HBoxView",
            "box_style": "",
            "children": [
              "IPY_MODEL_0c87435aa3a846df83b03be0950d34ba",
              "IPY_MODEL_dcb62503e27c4b0397be8f1668bf3dbf",
              "IPY_MODEL_48145acdd8e94a30bf23ffe1bd59ba6e"
            ],
            "layout": "IPY_MODEL_562d426db4c94bd2a88d1188dbaa9b3a"
          }
        },
        "0c87435aa3a846df83b03be0950d34ba": {
          "model_module": "@jupyter-widgets/controls",
          "model_name": "HTMLModel",
          "model_module_version": "1.5.0",
          "state": {
            "_dom_classes": [],
            "_model_module": "@jupyter-widgets/controls",
            "_model_module_version": "1.5.0",
            "_model_name": "HTMLModel",
            "_view_count": null,
            "_view_module": "@jupyter-widgets/controls",
            "_view_module_version": "1.5.0",
            "_view_name": "HTMLView",
            "description": "",
            "description_tooltip": null,
            "layout": "IPY_MODEL_f58a37301e7a40ec8b1bdf47d10cc087",
            "placeholder": "​",
            "style": "IPY_MODEL_70ce69c3483f402abc26d6584b676553",
            "value": "100%"
          }
        },
        "dcb62503e27c4b0397be8f1668bf3dbf": {
          "model_module": "@jupyter-widgets/controls",
          "model_name": "FloatProgressModel",
          "model_module_version": "1.5.0",
          "state": {
            "_dom_classes": [],
            "_model_module": "@jupyter-widgets/controls",
            "_model_module_version": "1.5.0",
            "_model_name": "FloatProgressModel",
            "_view_count": null,
            "_view_module": "@jupyter-widgets/controls",
            "_view_module_version": "1.5.0",
            "_view_name": "ProgressView",
            "bar_style": "success",
            "description": "",
            "description_tooltip": null,
            "layout": "IPY_MODEL_d94d1a4e3cde416888aa64d6b7aea6b5",
            "max": 2,
            "min": 0,
            "orientation": "horizontal",
            "style": "IPY_MODEL_9ec5bb7f66d34a789a82fa6fea923b08",
            "value": 2
          }
        },
        "48145acdd8e94a30bf23ffe1bd59ba6e": {
          "model_module": "@jupyter-widgets/controls",
          "model_name": "HTMLModel",
          "model_module_version": "1.5.0",
          "state": {
            "_dom_classes": [],
            "_model_module": "@jupyter-widgets/controls",
            "_model_module_version": "1.5.0",
            "_model_name": "HTMLModel",
            "_view_count": null,
            "_view_module": "@jupyter-widgets/controls",
            "_view_module_version": "1.5.0",
            "_view_name": "HTMLView",
            "description": "",
            "description_tooltip": null,
            "layout": "IPY_MODEL_55efa93106ca4f319e6c0387b96520e5",
            "placeholder": "​",
            "style": "IPY_MODEL_db99b6572b2b4dcd821aadee8e13fd58",
            "value": " 2/2 [00:00&lt;00:00, 54.27it/s]"
          }
        },
        "562d426db4c94bd2a88d1188dbaa9b3a": {
          "model_module": "@jupyter-widgets/base",
          "model_name": "LayoutModel",
          "model_module_version": "1.2.0",
          "state": {
            "_model_module": "@jupyter-widgets/base",
            "_model_module_version": "1.2.0",
            "_model_name": "LayoutModel",
            "_view_count": null,
            "_view_module": "@jupyter-widgets/base",
            "_view_module_version": "1.2.0",
            "_view_name": "LayoutView",
            "align_content": null,
            "align_items": null,
            "align_self": null,
            "border": null,
            "bottom": null,
            "display": null,
            "flex": null,
            "flex_flow": null,
            "grid_area": null,
            "grid_auto_columns": null,
            "grid_auto_flow": null,
            "grid_auto_rows": null,
            "grid_column": null,
            "grid_gap": null,
            "grid_row": null,
            "grid_template_areas": null,
            "grid_template_columns": null,
            "grid_template_rows": null,
            "height": null,
            "justify_content": null,
            "justify_items": null,
            "left": null,
            "margin": null,
            "max_height": null,
            "max_width": null,
            "min_height": null,
            "min_width": null,
            "object_fit": null,
            "object_position": null,
            "order": null,
            "overflow": null,
            "overflow_x": null,
            "overflow_y": null,
            "padding": null,
            "right": null,
            "top": null,
            "visibility": null,
            "width": null
          }
        },
        "f58a37301e7a40ec8b1bdf47d10cc087": {
          "model_module": "@jupyter-widgets/base",
          "model_name": "LayoutModel",
          "model_module_version": "1.2.0",
          "state": {
            "_model_module": "@jupyter-widgets/base",
            "_model_module_version": "1.2.0",
            "_model_name": "LayoutModel",
            "_view_count": null,
            "_view_module": "@jupyter-widgets/base",
            "_view_module_version": "1.2.0",
            "_view_name": "LayoutView",
            "align_content": null,
            "align_items": null,
            "align_self": null,
            "border": null,
            "bottom": null,
            "display": null,
            "flex": null,
            "flex_flow": null,
            "grid_area": null,
            "grid_auto_columns": null,
            "grid_auto_flow": null,
            "grid_auto_rows": null,
            "grid_column": null,
            "grid_gap": null,
            "grid_row": null,
            "grid_template_areas": null,
            "grid_template_columns": null,
            "grid_template_rows": null,
            "height": null,
            "justify_content": null,
            "justify_items": null,
            "left": null,
            "margin": null,
            "max_height": null,
            "max_width": null,
            "min_height": null,
            "min_width": null,
            "object_fit": null,
            "object_position": null,
            "order": null,
            "overflow": null,
            "overflow_x": null,
            "overflow_y": null,
            "padding": null,
            "right": null,
            "top": null,
            "visibility": null,
            "width": null
          }
        },
        "70ce69c3483f402abc26d6584b676553": {
          "model_module": "@jupyter-widgets/controls",
          "model_name": "DescriptionStyleModel",
          "model_module_version": "1.5.0",
          "state": {
            "_model_module": "@jupyter-widgets/controls",
            "_model_module_version": "1.5.0",
            "_model_name": "DescriptionStyleModel",
            "_view_count": null,
            "_view_module": "@jupyter-widgets/base",
            "_view_module_version": "1.2.0",
            "_view_name": "StyleView",
            "description_width": ""
          }
        },
        "d94d1a4e3cde416888aa64d6b7aea6b5": {
          "model_module": "@jupyter-widgets/base",
          "model_name": "LayoutModel",
          "model_module_version": "1.2.0",
          "state": {
            "_model_module": "@jupyter-widgets/base",
            "_model_module_version": "1.2.0",
            "_model_name": "LayoutModel",
            "_view_count": null,
            "_view_module": "@jupyter-widgets/base",
            "_view_module_version": "1.2.0",
            "_view_name": "LayoutView",
            "align_content": null,
            "align_items": null,
            "align_self": null,
            "border": null,
            "bottom": null,
            "display": null,
            "flex": null,
            "flex_flow": null,
            "grid_area": null,
            "grid_auto_columns": null,
            "grid_auto_flow": null,
            "grid_auto_rows": null,
            "grid_column": null,
            "grid_gap": null,
            "grid_row": null,
            "grid_template_areas": null,
            "grid_template_columns": null,
            "grid_template_rows": null,
            "height": null,
            "justify_content": null,
            "justify_items": null,
            "left": null,
            "margin": null,
            "max_height": null,
            "max_width": null,
            "min_height": null,
            "min_width": null,
            "object_fit": null,
            "object_position": null,
            "order": null,
            "overflow": null,
            "overflow_x": null,
            "overflow_y": null,
            "padding": null,
            "right": null,
            "top": null,
            "visibility": null,
            "width": null
          }
        },
        "9ec5bb7f66d34a789a82fa6fea923b08": {
          "model_module": "@jupyter-widgets/controls",
          "model_name": "ProgressStyleModel",
          "model_module_version": "1.5.0",
          "state": {
            "_model_module": "@jupyter-widgets/controls",
            "_model_module_version": "1.5.0",
            "_model_name": "ProgressStyleModel",
            "_view_count": null,
            "_view_module": "@jupyter-widgets/base",
            "_view_module_version": "1.2.0",
            "_view_name": "StyleView",
            "bar_color": null,
            "description_width": ""
          }
        },
        "55efa93106ca4f319e6c0387b96520e5": {
          "model_module": "@jupyter-widgets/base",
          "model_name": "LayoutModel",
          "model_module_version": "1.2.0",
          "state": {
            "_model_module": "@jupyter-widgets/base",
            "_model_module_version": "1.2.0",
            "_model_name": "LayoutModel",
            "_view_count": null,
            "_view_module": "@jupyter-widgets/base",
            "_view_module_version": "1.2.0",
            "_view_name": "LayoutView",
            "align_content": null,
            "align_items": null,
            "align_self": null,
            "border": null,
            "bottom": null,
            "display": null,
            "flex": null,
            "flex_flow": null,
            "grid_area": null,
            "grid_auto_columns": null,
            "grid_auto_flow": null,
            "grid_auto_rows": null,
            "grid_column": null,
            "grid_gap": null,
            "grid_row": null,
            "grid_template_areas": null,
            "grid_template_columns": null,
            "grid_template_rows": null,
            "height": null,
            "justify_content": null,
            "justify_items": null,
            "left": null,
            "margin": null,
            "max_height": null,
            "max_width": null,
            "min_height": null,
            "min_width": null,
            "object_fit": null,
            "object_position": null,
            "order": null,
            "overflow": null,
            "overflow_x": null,
            "overflow_y": null,
            "padding": null,
            "right": null,
            "top": null,
            "visibility": null,
            "width": null
          }
        },
        "db99b6572b2b4dcd821aadee8e13fd58": {
          "model_module": "@jupyter-widgets/controls",
          "model_name": "DescriptionStyleModel",
          "model_module_version": "1.5.0",
          "state": {
            "_model_module": "@jupyter-widgets/controls",
            "_model_module_version": "1.5.0",
            "_model_name": "DescriptionStyleModel",
            "_view_count": null,
            "_view_module": "@jupyter-widgets/base",
            "_view_module_version": "1.2.0",
            "_view_name": "StyleView",
            "description_width": ""
          }
        },
        "1b3438b3606f48b68a45b5edf5c6697a": {
          "model_module": "@jupyter-widgets/controls",
          "model_name": "HBoxModel",
          "model_module_version": "1.5.0",
          "state": {
            "_dom_classes": [],
            "_model_module": "@jupyter-widgets/controls",
            "_model_module_version": "1.5.0",
            "_model_name": "HBoxModel",
            "_view_count": null,
            "_view_module": "@jupyter-widgets/controls",
            "_view_module_version": "1.5.0",
            "_view_name": "HBoxView",
            "box_style": "",
            "children": [
              "IPY_MODEL_c0ab641b08cc4313b43ba7ed06135394",
              "IPY_MODEL_ec203b4cd51141a195014581eb93096d",
              "IPY_MODEL_bdb216a2dfe844219923564bd05d4f5f"
            ],
            "layout": "IPY_MODEL_2a9a8ac133a54d57876ec6da97f03879"
          }
        },
        "c0ab641b08cc4313b43ba7ed06135394": {
          "model_module": "@jupyter-widgets/controls",
          "model_name": "HTMLModel",
          "model_module_version": "1.5.0",
          "state": {
            "_dom_classes": [],
            "_model_module": "@jupyter-widgets/controls",
            "_model_module_version": "1.5.0",
            "_model_name": "HTMLModel",
            "_view_count": null,
            "_view_module": "@jupyter-widgets/controls",
            "_view_module_version": "1.5.0",
            "_view_name": "HTMLView",
            "description": "",
            "description_tooltip": null,
            "layout": "IPY_MODEL_34fb861cb3d64ce7b2ac2dcd0d1f3c9c",
            "placeholder": "​",
            "style": "IPY_MODEL_a316b29ca2144490a9de914bab578d0e",
            "value": "Downloading: 100%"
          }
        },
        "ec203b4cd51141a195014581eb93096d": {
          "model_module": "@jupyter-widgets/controls",
          "model_name": "FloatProgressModel",
          "model_module_version": "1.5.0",
          "state": {
            "_dom_classes": [],
            "_model_module": "@jupyter-widgets/controls",
            "_model_module_version": "1.5.0",
            "_model_name": "FloatProgressModel",
            "_view_count": null,
            "_view_module": "@jupyter-widgets/controls",
            "_view_module_version": "1.5.0",
            "_view_name": "ProgressView",
            "bar_style": "success",
            "description": "",
            "description_tooltip": null,
            "layout": "IPY_MODEL_ebc68b3740ba4af18981095d864bdc99",
            "max": 1200794589,
            "min": 0,
            "orientation": "horizontal",
            "style": "IPY_MODEL_d5386230488c45398d48bcd3a51169da",
            "value": 1200794589
          }
        },
        "bdb216a2dfe844219923564bd05d4f5f": {
          "model_module": "@jupyter-widgets/controls",
          "model_name": "HTMLModel",
          "model_module_version": "1.5.0",
          "state": {
            "_dom_classes": [],
            "_model_module": "@jupyter-widgets/controls",
            "_model_module_version": "1.5.0",
            "_model_name": "HTMLModel",
            "_view_count": null,
            "_view_module": "@jupyter-widgets/controls",
            "_view_module_version": "1.5.0",
            "_view_name": "HTMLView",
            "description": "",
            "description_tooltip": null,
            "layout": "IPY_MODEL_9595253693a34902bd403fc2a6e89a1a",
            "placeholder": "​",
            "style": "IPY_MODEL_7c97b8688548434d9ebfc5f0d841913f",
            "value": " 1.12G/1.12G [00:18&lt;00:00, 60.9MB/s]"
          }
        },
        "2a9a8ac133a54d57876ec6da97f03879": {
          "model_module": "@jupyter-widgets/base",
          "model_name": "LayoutModel",
          "model_module_version": "1.2.0",
          "state": {
            "_model_module": "@jupyter-widgets/base",
            "_model_module_version": "1.2.0",
            "_model_name": "LayoutModel",
            "_view_count": null,
            "_view_module": "@jupyter-widgets/base",
            "_view_module_version": "1.2.0",
            "_view_name": "LayoutView",
            "align_content": null,
            "align_items": null,
            "align_self": null,
            "border": null,
            "bottom": null,
            "display": null,
            "flex": null,
            "flex_flow": null,
            "grid_area": null,
            "grid_auto_columns": null,
            "grid_auto_flow": null,
            "grid_auto_rows": null,
            "grid_column": null,
            "grid_gap": null,
            "grid_row": null,
            "grid_template_areas": null,
            "grid_template_columns": null,
            "grid_template_rows": null,
            "height": null,
            "justify_content": null,
            "justify_items": null,
            "left": null,
            "margin": null,
            "max_height": null,
            "max_width": null,
            "min_height": null,
            "min_width": null,
            "object_fit": null,
            "object_position": null,
            "order": null,
            "overflow": null,
            "overflow_x": null,
            "overflow_y": null,
            "padding": null,
            "right": null,
            "top": null,
            "visibility": null,
            "width": null
          }
        },
        "34fb861cb3d64ce7b2ac2dcd0d1f3c9c": {
          "model_module": "@jupyter-widgets/base",
          "model_name": "LayoutModel",
          "model_module_version": "1.2.0",
          "state": {
            "_model_module": "@jupyter-widgets/base",
            "_model_module_version": "1.2.0",
            "_model_name": "LayoutModel",
            "_view_count": null,
            "_view_module": "@jupyter-widgets/base",
            "_view_module_version": "1.2.0",
            "_view_name": "LayoutView",
            "align_content": null,
            "align_items": null,
            "align_self": null,
            "border": null,
            "bottom": null,
            "display": null,
            "flex": null,
            "flex_flow": null,
            "grid_area": null,
            "grid_auto_columns": null,
            "grid_auto_flow": null,
            "grid_auto_rows": null,
            "grid_column": null,
            "grid_gap": null,
            "grid_row": null,
            "grid_template_areas": null,
            "grid_template_columns": null,
            "grid_template_rows": null,
            "height": null,
            "justify_content": null,
            "justify_items": null,
            "left": null,
            "margin": null,
            "max_height": null,
            "max_width": null,
            "min_height": null,
            "min_width": null,
            "object_fit": null,
            "object_position": null,
            "order": null,
            "overflow": null,
            "overflow_x": null,
            "overflow_y": null,
            "padding": null,
            "right": null,
            "top": null,
            "visibility": null,
            "width": null
          }
        },
        "a316b29ca2144490a9de914bab578d0e": {
          "model_module": "@jupyter-widgets/controls",
          "model_name": "DescriptionStyleModel",
          "model_module_version": "1.5.0",
          "state": {
            "_model_module": "@jupyter-widgets/controls",
            "_model_module_version": "1.5.0",
            "_model_name": "DescriptionStyleModel",
            "_view_count": null,
            "_view_module": "@jupyter-widgets/base",
            "_view_module_version": "1.2.0",
            "_view_name": "StyleView",
            "description_width": ""
          }
        },
        "ebc68b3740ba4af18981095d864bdc99": {
          "model_module": "@jupyter-widgets/base",
          "model_name": "LayoutModel",
          "model_module_version": "1.2.0",
          "state": {
            "_model_module": "@jupyter-widgets/base",
            "_model_module_version": "1.2.0",
            "_model_name": "LayoutModel",
            "_view_count": null,
            "_view_module": "@jupyter-widgets/base",
            "_view_module_version": "1.2.0",
            "_view_name": "LayoutView",
            "align_content": null,
            "align_items": null,
            "align_self": null,
            "border": null,
            "bottom": null,
            "display": null,
            "flex": null,
            "flex_flow": null,
            "grid_area": null,
            "grid_auto_columns": null,
            "grid_auto_flow": null,
            "grid_auto_rows": null,
            "grid_column": null,
            "grid_gap": null,
            "grid_row": null,
            "grid_template_areas": null,
            "grid_template_columns": null,
            "grid_template_rows": null,
            "height": null,
            "justify_content": null,
            "justify_items": null,
            "left": null,
            "margin": null,
            "max_height": null,
            "max_width": null,
            "min_height": null,
            "min_width": null,
            "object_fit": null,
            "object_position": null,
            "order": null,
            "overflow": null,
            "overflow_x": null,
            "overflow_y": null,
            "padding": null,
            "right": null,
            "top": null,
            "visibility": null,
            "width": null
          }
        },
        "d5386230488c45398d48bcd3a51169da": {
          "model_module": "@jupyter-widgets/controls",
          "model_name": "ProgressStyleModel",
          "model_module_version": "1.5.0",
          "state": {
            "_model_module": "@jupyter-widgets/controls",
            "_model_module_version": "1.5.0",
            "_model_name": "ProgressStyleModel",
            "_view_count": null,
            "_view_module": "@jupyter-widgets/base",
            "_view_module_version": "1.2.0",
            "_view_name": "StyleView",
            "bar_color": null,
            "description_width": ""
          }
        },
        "9595253693a34902bd403fc2a6e89a1a": {
          "model_module": "@jupyter-widgets/base",
          "model_name": "LayoutModel",
          "model_module_version": "1.2.0",
          "state": {
            "_model_module": "@jupyter-widgets/base",
            "_model_module_version": "1.2.0",
            "_model_name": "LayoutModel",
            "_view_count": null,
            "_view_module": "@jupyter-widgets/base",
            "_view_module_version": "1.2.0",
            "_view_name": "LayoutView",
            "align_content": null,
            "align_items": null,
            "align_self": null,
            "border": null,
            "bottom": null,
            "display": null,
            "flex": null,
            "flex_flow": null,
            "grid_area": null,
            "grid_auto_columns": null,
            "grid_auto_flow": null,
            "grid_auto_rows": null,
            "grid_column": null,
            "grid_gap": null,
            "grid_row": null,
            "grid_template_areas": null,
            "grid_template_columns": null,
            "grid_template_rows": null,
            "height": null,
            "justify_content": null,
            "justify_items": null,
            "left": null,
            "margin": null,
            "max_height": null,
            "max_width": null,
            "min_height": null,
            "min_width": null,
            "object_fit": null,
            "object_position": null,
            "order": null,
            "overflow": null,
            "overflow_x": null,
            "overflow_y": null,
            "padding": null,
            "right": null,
            "top": null,
            "visibility": null,
            "width": null
          }
        },
        "7c97b8688548434d9ebfc5f0d841913f": {
          "model_module": "@jupyter-widgets/controls",
          "model_name": "DescriptionStyleModel",
          "model_module_version": "1.5.0",
          "state": {
            "_model_module": "@jupyter-widgets/controls",
            "_model_module_version": "1.5.0",
            "_model_name": "DescriptionStyleModel",
            "_view_count": null,
            "_view_module": "@jupyter-widgets/base",
            "_view_module_version": "1.2.0",
            "_view_name": "StyleView",
            "description_width": ""
          }
        }
      }
    }
  },
  "nbformat": 4,
  "nbformat_minor": 5
}