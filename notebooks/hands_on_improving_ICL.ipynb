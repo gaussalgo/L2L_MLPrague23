{
  "cells": [
    {
      "cell_type": "markdown",
      "metadata": {
        "id": "view-in-github",
        "colab_type": "text"
      },
      "source": [
        "<a href=\"https://colab.research.google.com/github/gaussalgo/L2L_MLPrague23/blob/main/notebooks/hands_on_improving_ICL.ipynb\" target=\"_parent\"><img src=\"https://colab.research.google.com/assets/colab-badge.svg\" alt=\"Open In Colab\"/></a>"
      ]
    },
    {
      "cell_type": "markdown",
      "id": "c9f30c1a-8962-4236-b7aa-3718d08548da",
      "metadata": {
        "id": "c9f30c1a-8962-4236-b7aa-3718d08548da"
      },
      "source": [
        "# Training generative models\n",
        "\n",
        "Now that we have a theoretical background, we'll take a look at how the covered generative models are actually trained. \n",
        "\n",
        "After the overview, we will finally utilize this knowledge in training our own in-context learner, taylored for a new language, or improved on a specific task of your interest!\n"
      ]
    },
    {
      "cell_type": "code",
      "execution_count": 20,
      "id": "42d0299e-e0b4-4e36-8b1d-2322b68cab54",
      "metadata": {
        "id": "42d0299e-e0b4-4e36-8b1d-2322b68cab54",
        "colab": {
          "base_uri": "https://localhost:8080/"
        },
        "outputId": "d791085d-f639-46cd-e2e9-98762ef9a74e"
      },
      "outputs": [
        {
          "output_type": "stream",
          "name": "stdout",
          "text": [
            "Looking in indexes: https://pypi.org/simple, https://us-python.pkg.dev/colab-wheels/public/simple/\n",
            "Requirement already satisfied: transformers in /usr/local/lib/python3.10/dist-packages (4.29.2)\n",
            "Requirement already satisfied: datasets in /usr/local/lib/python3.10/dist-packages (2.12.0)\n",
            "Requirement already satisfied: filelock in /usr/local/lib/python3.10/dist-packages (from transformers) (3.12.0)\n",
            "Requirement already satisfied: huggingface-hub<1.0,>=0.14.1 in /usr/local/lib/python3.10/dist-packages (from transformers) (0.14.1)\n",
            "Requirement already satisfied: numpy>=1.17 in /usr/local/lib/python3.10/dist-packages (from transformers) (1.22.4)\n",
            "Requirement already satisfied: packaging>=20.0 in /usr/local/lib/python3.10/dist-packages (from transformers) (23.1)\n",
            "Requirement already satisfied: pyyaml>=5.1 in /usr/local/lib/python3.10/dist-packages (from transformers) (6.0)\n",
            "Requirement already satisfied: regex!=2019.12.17 in /usr/local/lib/python3.10/dist-packages (from transformers) (2022.10.31)\n",
            "Requirement already satisfied: requests in /usr/local/lib/python3.10/dist-packages (from transformers) (2.27.1)\n",
            "Requirement already satisfied: tokenizers!=0.11.3,<0.14,>=0.11.1 in /usr/local/lib/python3.10/dist-packages (from transformers) (0.13.3)\n",
            "Requirement already satisfied: tqdm>=4.27 in /usr/local/lib/python3.10/dist-packages (from transformers) (4.65.0)\n",
            "Requirement already satisfied: pyarrow>=8.0.0 in /usr/local/lib/python3.10/dist-packages (from datasets) (9.0.0)\n",
            "Requirement already satisfied: dill<0.3.7,>=0.3.0 in /usr/local/lib/python3.10/dist-packages (from datasets) (0.3.6)\n",
            "Requirement already satisfied: pandas in /usr/local/lib/python3.10/dist-packages (from datasets) (1.5.3)\n",
            "Requirement already satisfied: xxhash in /usr/local/lib/python3.10/dist-packages (from datasets) (3.2.0)\n",
            "Requirement already satisfied: multiprocess in /usr/local/lib/python3.10/dist-packages (from datasets) (0.70.14)\n",
            "Requirement already satisfied: fsspec[http]>=2021.11.1 in /usr/local/lib/python3.10/dist-packages (from datasets) (2023.4.0)\n",
            "Requirement already satisfied: aiohttp in /usr/local/lib/python3.10/dist-packages (from datasets) (3.8.4)\n",
            "Requirement already satisfied: responses<0.19 in /usr/local/lib/python3.10/dist-packages (from datasets) (0.18.0)\n",
            "Requirement already satisfied: attrs>=17.3.0 in /usr/local/lib/python3.10/dist-packages (from aiohttp->datasets) (23.1.0)\n",
            "Requirement already satisfied: charset-normalizer<4.0,>=2.0 in /usr/local/lib/python3.10/dist-packages (from aiohttp->datasets) (2.0.12)\n",
            "Requirement already satisfied: multidict<7.0,>=4.5 in /usr/local/lib/python3.10/dist-packages (from aiohttp->datasets) (6.0.4)\n",
            "Requirement already satisfied: async-timeout<5.0,>=4.0.0a3 in /usr/local/lib/python3.10/dist-packages (from aiohttp->datasets) (4.0.2)\n",
            "Requirement already satisfied: yarl<2.0,>=1.0 in /usr/local/lib/python3.10/dist-packages (from aiohttp->datasets) (1.9.2)\n",
            "Requirement already satisfied: frozenlist>=1.1.1 in /usr/local/lib/python3.10/dist-packages (from aiohttp->datasets) (1.3.3)\n",
            "Requirement already satisfied: aiosignal>=1.1.2 in /usr/local/lib/python3.10/dist-packages (from aiohttp->datasets) (1.3.1)\n",
            "Requirement already satisfied: typing-extensions>=3.7.4.3 in /usr/local/lib/python3.10/dist-packages (from huggingface-hub<1.0,>=0.14.1->transformers) (4.5.0)\n",
            "Requirement already satisfied: urllib3<1.27,>=1.21.1 in /usr/local/lib/python3.10/dist-packages (from requests->transformers) (1.26.15)\n",
            "Requirement already satisfied: certifi>=2017.4.17 in /usr/local/lib/python3.10/dist-packages (from requests->transformers) (2022.12.7)\n",
            "Requirement already satisfied: idna<4,>=2.5 in /usr/local/lib/python3.10/dist-packages (from requests->transformers) (3.4)\n",
            "Requirement already satisfied: python-dateutil>=2.8.1 in /usr/local/lib/python3.10/dist-packages (from pandas->datasets) (2.8.2)\n",
            "Requirement already satisfied: pytz>=2020.1 in /usr/local/lib/python3.10/dist-packages (from pandas->datasets) (2022.7.1)\n",
            "Requirement already satisfied: six>=1.5 in /usr/local/lib/python3.10/dist-packages (from python-dateutil>=2.8.1->pandas->datasets) (1.16.0)\n"
          ]
        }
      ],
      "source": [
        "# notebook's requirements\n",
        "!pip install transformers datasets"
      ]
    },
    {
      "cell_type": "markdown",
      "id": "b487bae2-bbf2-44c4-9ea6-70126e319792",
      "metadata": {
        "id": "b487bae2-bbf2-44c4-9ea6-70126e319792",
        "tags": []
      },
      "source": [
        "## Generation - refresher\n",
        "\n",
        "Recall the **Causal Langauge Modeling (CLM)** from earlier, where the model predicts the **following token** from previous context.\n",
        "\n",
        "![image.png](https://gcdnb.pbrd.co/images/Bx4h6Lordx0y.png?o=1)  \n",
        "![image.png](https://gcdnb.pbrd.co/images/rb7bmZS11gtl.png?o=1)\n",
        "![image.png](https://gcdnb.pbrd.co/images/gXYffjzLIk7n.png?o=1)\n",
        "\n",
        "[[images source]](https://www.rohanawhad.com/improvements-of-spanbert-over-bert/)\n",
        "\n",
        "Note that the task of language **generation** is very similar to CLM: We predict the next token conditionally to the input. Only in the case of generation, the **input also contains the previous outputs** of the model."
      ]
    },
    {
      "cell_type": "markdown",
      "id": "6ab407ee-eedc-4843-9d58-a372ce76b86a",
      "metadata": {
        "id": "6ab407ee-eedc-4843-9d58-a372ce76b86a"
      },
      "source": [
        "## Construction of Training pipeline\n",
        "\n",
        "Many libraries makes it easy to train your NN model, with different levels of user complexity - do not get confused by that.\n",
        "\n",
        "Ordered by implementation complexity incrementally, for PyTorch models, you can find at least these: **Pure PyTorch, PyTorch Lightning, Transformers Trainer, Adaptor (ours)**. We will take a look at how it looks at the most low-level (Pure PyTorch), and the most high-level (Adaptor), but in your time, you can also look at [Sequence Classification tutorial](https://huggingface.co/docs/transformers/tasks/sequence_classification) from HuggingFace.\n"
      ]
    },
    {
      "cell_type": "markdown",
      "id": "95be66f8-ce1c-43a5-a49d-91832e69541c",
      "metadata": {
        "id": "95be66f8-ce1c-43a5-a49d-91832e69541c"
      },
      "source": [
        "## ⛵ Low-level Training pipeline - Example\n",
        "\n",
        "Here, we are going to take a look at the low level of updating a network.\n",
        "The process can be summarized in the following steps:\n",
        "\n",
        "1. **We pick our base model** to fine-tune. While all Transformer LMs can perform token classification, not all of them are equally good at it. We'll talk about it a bit more offline.\n",
        "\n",
        "2. **We construct training dataset** from our data. Here, we transform texts into valid model inputs/samples (as we've seen in previous session) and assign true labels for each sample.\n",
        "\n",
        "3. **We iterate over the samples** in so-called *epochs*. In this step, we get the model predictions for a *batch* of samples: The raw predictions take form of probabilities (usually log-probabilities, to make prediction faster).\n",
        "\n",
        "4. **We update the model**. Here, we first compare the predicted probabilities with \"true probabilities\", where true category gets a probability==1, and other categories get 0. The comparison is done by so-called *loss* function, which is a special version of distance measure. Then, we update the weights of the model so that they improve the loss metric.\n",
        "\n",
        "5. **We continue as long as the model improves**, which we measure on a held-out dataset, to avoid that the model just learns to remember our data (but then would perform badly in the real world)."
      ]
    },
    {
      "cell_type": "markdown",
      "source": [
        "### 1: Pick our base model"
      ],
      "metadata": {
        "id": "aE7HFMhTExJ0"
      },
      "id": "aE7HFMhTExJ0"
    },
    {
      "cell_type": "code",
      "execution_count": 2,
      "id": "fe3494eb-b0c4-4756-b391-4277eb537e03",
      "metadata": {
        "id": "fe3494eb-b0c4-4756-b391-4277eb537e03",
        "outputId": "095441e6-1dda-4639-9741-93fd1b73f207",
        "colab": {
          "base_uri": "https://localhost:8080/"
        }
      },
      "outputs": [
        {
          "output_type": "execute_result",
          "data": {
            "text/plain": [
              "0"
            ]
          },
          "metadata": {},
          "execution_count": 2
        }
      ],
      "source": [
        "from transformers import GPT2LMHeadModel, AutoTokenizer\n",
        "\n",
        "device = \"cuda\"\n",
        "\n",
        "model = GPT2LMHeadModel.from_pretrained(\"gpt2\").to(device)\n",
        "tokenizer = AutoTokenizer.from_pretrained(\"gpt2\")\n",
        "tokenizer.add_special_tokens({'pad_token': 'pad'})\n"
      ]
    },
    {
      "cell_type": "markdown",
      "source": [
        "### 2: Constructing training dataset"
      ],
      "metadata": {
        "id": "FSJXMP6KEq-F"
      },
      "id": "FSJXMP6KEq-F"
    },
    {
      "cell_type": "code",
      "execution_count": 21,
      "id": "84e44004-d65f-41a3-8dbf-1964e0d3ddd5",
      "metadata": {
        "id": "84e44004-d65f-41a3-8dbf-1964e0d3ddd5",
        "outputId": "afd925a0-799f-41c0-ea78-390ce828a8cb",
        "colab": {
          "base_uri": "https://localhost:8080/",
          "height": 86,
          "referenced_widgets": [
            "3e95aafa36254805810862ff5d32f7ef",
            "0bbdaecf6b4b47dcb4cdb8bf8f4132dd",
            "32735411fd33434e8e2da866e2348754",
            "43e259d5a31b4ebe8a23b1ccee6e09ef",
            "dc46a848dd5d4c73af588aa7fcefa87e",
            "06bd6c01087340c8843ae78622b9e68c",
            "b6d9cdd11f2443f49cfff378d03a9ad2",
            "176a63adf4664d89bc90369adf4d66ce",
            "f19d895246d8466a9167bad774c61329",
            "b17402ac348646e99769d3d00bdeff4e",
            "474d2ed2e6b649628c86778818a30eef"
          ]
        }
      },
      "outputs": [
        {
          "output_type": "stream",
          "name": "stderr",
          "text": [
            "WARNING:datasets.builder:Found cached dataset imdb (/root/.cache/huggingface/datasets/imdb/plain_text/1.0.0/d613c88cf8fa3bab83b4ded3713f1f74830d1100e171db75bbddb80b3345c9c0)\n"
          ]
        },
        {
          "output_type": "display_data",
          "data": {
            "text/plain": [
              "  0%|          | 0/3 [00:00<?, ?it/s]"
            ],
            "application/vnd.jupyter.widget-view+json": {
              "version_major": 2,
              "version_minor": 0,
              "model_id": "3e95aafa36254805810862ff5d32f7ef"
            }
          },
          "metadata": {}
        }
      ],
      "source": [
        "# 2: We construct training dataset\n",
        "\n",
        "from datasets import load_dataset\n",
        "\n",
        "dataset = load_dataset(\"imdb\")"
      ]
    },
    {
      "cell_type": "markdown",
      "source": [
        "### Dataset transformations\n",
        "\n",
        "Before we jump into the training routine, we'll zoom in on data processing we need for training GPT-like Causal language models.\n",
        "\n",
        "First, we'll transform the sample on model's input ids using the associated tokenizer. Then, we'll take a look at labels construction."
      ],
      "metadata": {
        "id": "7JxXF_RVYUmR"
      },
      "id": "7JxXF_RVYUmR"
    },
    {
      "cell_type": "code",
      "source": [
        "sample_encoding = tokenizer(dataset[\"unsupervised\"]['text'][10], \n",
        "                            padding=\"longest\",  # we'll set padding and truncation so that tokenizer allows us to directly obtain tensors\n",
        "                            truncation=True,\n",
        "                            return_tensors=\"pt\"  # this returns the samples as PyTorch tensors, that we do not have to convert ourselves\n",
        "                            )"
      ],
      "metadata": {
        "id": "b-ZgwraRh5SV"
      },
      "id": "b-ZgwraRh5SV",
      "execution_count": 4,
      "outputs": []
    },
    {
      "cell_type": "markdown",
      "source": [
        "#### Constructing training labels"
      ],
      "metadata": {
        "id": "bx33FdQeE5yH"
      },
      "id": "bx33FdQeE5yH"
    },
    {
      "cell_type": "code",
      "source": [
        "# GPT's input ids, decoded:\n",
        "\"|\".join(tokenizer.batch_decode(sample_encoding[\"input_ids\"][0]))"
      ],
      "metadata": {
        "colab": {
          "base_uri": "https://localhost:8080/",
          "height": 105
        },
        "id": "xteHowKaD7aW",
        "outputId": "7ec8df84-d03b-41a6-b01d-021e4af955fe"
      },
      "id": "xteHowKaD7aW",
      "execution_count": 5,
      "outputs": [
        {
          "output_type": "execute_result",
          "data": {
            "text/plain": [
              "\"This| isn|'t| the| worst| comedy| of| all|-|time|,| but| that| is| about| the| best| thing| that| I| can| say| about| this| pathetic| film|.| I| didn|'t| laugh| once|,| or| even| smile| once| during| this| bomb|.| There| was| usually| something| going| on| on|-|screen|,| so| I| didn|'t| get| TO|O| bored|,| but| most| of| the| jokes| here| were| simply| awful|.| The| final| sequence| is| nothing| more| than| a| long| series| of| people| falling| through| doors| and| stumbling| all| over| the| place|.| Needless| to| say|,| it| was| a| fitting| way| to| end| a| movie| that| was| impossible| for| me| to| like|.\""
            ],
            "application/vnd.google.colaboratory.intrinsic+json": {
              "type": "string"
            }
          },
          "metadata": {},
          "execution_count": 5
        }
      ]
    },
    {
      "cell_type": "code",
      "source": [
        "# GPT's training labels: when training to predict the following token, we simply shift the inputs one position to the right\n",
        "labels = sample_encoding[\"input_ids\"][..., 1:]\n",
        "\n",
        "\"|\".join(tokenizer.batch_decode(labels[0]))"
      ],
      "metadata": {
        "colab": {
          "base_uri": "https://localhost:8080/",
          "height": 105
        },
        "id": "5v2Mb3FuDqBX",
        "outputId": "3d8e16b6-cbc9-440d-b9bd-231c1d2552d0"
      },
      "id": "5v2Mb3FuDqBX",
      "execution_count": 6,
      "outputs": [
        {
          "output_type": "execute_result",
          "data": {
            "text/plain": [
              "\" isn|'t| the| worst| comedy| of| all|-|time|,| but| that| is| about| the| best| thing| that| I| can| say| about| this| pathetic| film|.| I| didn|'t| laugh| once|,| or| even| smile| once| during| this| bomb|.| There| was| usually| something| going| on| on|-|screen|,| so| I| didn|'t| get| TO|O| bored|,| but| most| of| the| jokes| here| were| simply| awful|.| The| final| sequence| is| nothing| more| than| a| long| series| of| people| falling| through| doors| and| stumbling| all| over| the| place|.| Needless| to| say|,| it| was| a| fitting| way| to| end| a| movie| that| was| impossible| for| me| to| like|.\""
            ],
            "application/vnd.google.colaboratory.intrinsic+json": {
              "type": "string"
            }
          },
          "metadata": {},
          "execution_count": 6
        }
      ]
    },
    {
      "cell_type": "markdown",
      "source": [
        "#### Creating next-token prediction inputs from each sample\n",
        "\n",
        "For the next-token prediction, we actually create multiple samples from each text: There are **many** tokens that we can use as **targets**!\n",
        "\n",
        "To make it easier for us, we'll repeatedly use the **same input ids**, and only **attend to the previous tokens**, to be used in prediction. We just need to be careful not to un-mask the actually-predicted token.\n",
        "\n",
        "We can implement this quite easily by constructing a **triangular attention mask** for each input from the batch."
      ],
      "metadata": {
        "id": "aFxPgvIvNl9T"
      },
      "id": "aFxPgvIvNl9T"
    },
    {
      "cell_type": "code",
      "source": [
        "attended_input_length = sample_encoding[\"attention_mask\"].sum(axis=1)\n",
        "attended_input_length"
      ],
      "metadata": {
        "colab": {
          "base_uri": "https://localhost:8080/"
        },
        "id": "ANSt04a0Nrv7",
        "outputId": "eef372d1-2931-4743-fd2a-b7db5ff650f4"
      },
      "id": "ANSt04a0Nrv7",
      "execution_count": 7,
      "outputs": [
        {
          "output_type": "execute_result",
          "data": {
            "text/plain": [
              "tensor([113])"
            ]
          },
          "metadata": {},
          "execution_count": 7
        }
      ]
    },
    {
      "cell_type": "markdown",
      "source": [
        "**Input ids**: duplicate inputs by the number of predicted tokens"
      ],
      "metadata": {
        "id": "eL4S3SOEiJhO"
      },
      "id": "eL4S3SOEiJhO"
    },
    {
      "cell_type": "code",
      "source": [
        "# duplicate inputs by the number of predicted tokens\n",
        "input_ids = sample_encoding[\"input_ids\"].expand(attended_input_length, -1)\n",
        "input_ids"
      ],
      "metadata": {
        "colab": {
          "base_uri": "https://localhost:8080/"
        },
        "id": "0bpxWhHQQAUh",
        "outputId": "74eb2fe2-be6a-4418-a09e-f50d58ad8fff"
      },
      "id": "0bpxWhHQQAUh",
      "execution_count": 8,
      "outputs": [
        {
          "output_type": "execute_result",
          "data": {
            "text/plain": [
              "tensor([[1212, 2125,  470,  ...,  284,  588,   13],\n",
              "        [1212, 2125,  470,  ...,  284,  588,   13],\n",
              "        [1212, 2125,  470,  ...,  284,  588,   13],\n",
              "        ...,\n",
              "        [1212, 2125,  470,  ...,  284,  588,   13],\n",
              "        [1212, 2125,  470,  ...,  284,  588,   13],\n",
              "        [1212, 2125,  470,  ...,  284,  588,   13]])"
            ]
          },
          "metadata": {},
          "execution_count": 8
        }
      ]
    },
    {
      "cell_type": "code",
      "source": [
        "input_ids.shape"
      ],
      "metadata": {
        "colab": {
          "base_uri": "https://localhost:8080/"
        },
        "id": "RbKQ5_5fnNMJ",
        "outputId": "4896bc83-3602-4d15-bc03-2ba5e7b74268"
      },
      "id": "RbKQ5_5fnNMJ",
      "execution_count": 9,
      "outputs": [
        {
          "output_type": "execute_result",
          "data": {
            "text/plain": [
              "torch.Size([113, 113])"
            ]
          },
          "metadata": {},
          "execution_count": 9
        }
      ]
    },
    {
      "cell_type": "markdown",
      "source": [
        "**Attention mask**: we create triangles that will mask all future tokens from prediction"
      ],
      "metadata": {
        "id": "5bKQm1DyiLSU"
      },
      "id": "5bKQm1DyiLSU"
    },
    {
      "cell_type": "code",
      "source": [
        "import torch \n",
        "\n",
        "# this is how we construct tensor triangles\n",
        "torch.tril(torch.ones(4, 6), diagonal=0)"
      ],
      "metadata": {
        "colab": {
          "base_uri": "https://localhost:8080/"
        },
        "id": "uEA8oIf7iYMr",
        "outputId": "768b2697-d801-4883-b378-10f34e4a6a60"
      },
      "id": "uEA8oIf7iYMr",
      "execution_count": 10,
      "outputs": [
        {
          "output_type": "execute_result",
          "data": {
            "text/plain": [
              "tensor([[1., 0., 0., 0., 0., 0.],\n",
              "        [1., 1., 0., 0., 0., 0.],\n",
              "        [1., 1., 1., 0., 0., 0.],\n",
              "        [1., 1., 1., 1., 0., 0.]])"
            ]
          },
          "metadata": {},
          "execution_count": 10
        }
      ]
    },
    {
      "cell_type": "code",
      "source": [
        "attention_triangle = torch.tril(torch.ones(attended_input_length, input_ids.shape[1]), diagonal=0)\n",
        "attention_triangle"
      ],
      "metadata": {
        "colab": {
          "base_uri": "https://localhost:8080/"
        },
        "id": "HQvzkxXLiLxk",
        "outputId": "903efcea-2bd6-4397-cc3f-1f72a8f368c6"
      },
      "id": "HQvzkxXLiLxk",
      "execution_count": 11,
      "outputs": [
        {
          "output_type": "execute_result",
          "data": {
            "text/plain": [
              "tensor([[1., 0., 0.,  ..., 0., 0., 0.],\n",
              "        [1., 1., 0.,  ..., 0., 0., 0.],\n",
              "        [1., 1., 1.,  ..., 0., 0., 0.],\n",
              "        ...,\n",
              "        [1., 1., 1.,  ..., 1., 0., 0.],\n",
              "        [1., 1., 1.,  ..., 1., 1., 0.],\n",
              "        [1., 1., 1.,  ..., 1., 1., 1.]])"
            ]
          },
          "metadata": {},
          "execution_count": 11
        }
      ]
    },
    {
      "cell_type": "code",
      "source": [
        "attention_triangle.shape"
      ],
      "metadata": {
        "colab": {
          "base_uri": "https://localhost:8080/"
        },
        "id": "rFyZ1L2znMHP",
        "outputId": "8bbe4815-b64d-4e94-c8dd-11aa65448caa"
      },
      "id": "rFyZ1L2znMHP",
      "execution_count": 12,
      "outputs": [
        {
          "output_type": "execute_result",
          "data": {
            "text/plain": [
              "torch.Size([113, 113])"
            ]
          },
          "metadata": {},
          "execution_count": 12
        }
      ]
    },
    {
      "cell_type": "markdown",
      "source": [
        "**Labels**: Finally, we spread the pre-computed labels to assign exactly one label id to each new sample"
      ],
      "metadata": {
        "id": "e6HZwI09iVGD"
      },
      "id": "e6HZwI09iVGD"
    },
    {
      "cell_type": "code",
      "source": [
        "labels = sample_encoding[\"input_ids\"][..., 1:][:attended_input_length]\n",
        "labels\n",
        "\"|\".join(tokenizer.batch_decode(labels[0]))"
      ],
      "metadata": {
        "colab": {
          "base_uri": "https://localhost:8080/",
          "height": 105
        },
        "id": "VJrQS0Z1iVmi",
        "outputId": "e0a0c52a-0e91-4fb3-aba8-e50816102fbc"
      },
      "id": "VJrQS0Z1iVmi",
      "execution_count": 13,
      "outputs": [
        {
          "output_type": "execute_result",
          "data": {
            "text/plain": [
              "\" isn|'t| the| worst| comedy| of| all|-|time|,| but| that| is| about| the| best| thing| that| I| can| say| about| this| pathetic| film|.| I| didn|'t| laugh| once|,| or| even| smile| once| during| this| bomb|.| There| was| usually| something| going| on| on|-|screen|,| so| I| didn|'t| get| TO|O| bored|,| but| most| of| the| jokes| here| were| simply| awful|.| The| final| sequence| is| nothing| more| than| a| long| series| of| people| falling| through| doors| and| stumbling| all| over| the| place|.| Needless| to| say|,| it| was| a| fitting| way| to| end| a| movie| that| was| impossible| for| me| to| like|.\""
            ],
            "application/vnd.google.colaboratory.intrinsic+json": {
              "type": "string"
            }
          },
          "metadata": {},
          "execution_count": 13
        }
      ]
    },
    {
      "cell_type": "code",
      "source": [
        "# After the model is done, we want it to generate a special <EoS> token. This way, we know that the model is done with generation.\n",
        "model.config.eos_token_id"
      ],
      "metadata": {
        "colab": {
          "base_uri": "https://localhost:8080/"
        },
        "id": "ARYScE-vnq9d",
        "outputId": "4a818639-f84e-4f93-f557-86107d16713a"
      },
      "id": "ARYScE-vnq9d",
      "execution_count": 14,
      "outputs": [
        {
          "output_type": "execute_result",
          "data": {
            "text/plain": [
              "50256"
            ]
          },
          "metadata": {},
          "execution_count": 14
        }
      ]
    },
    {
      "cell_type": "code",
      "source": [
        "# Hence, we add the token as the last label\n",
        "labels = torch.hstack([labels, torch.tensor([[model.config.eos_token_id]])])"
      ],
      "metadata": {
        "id": "KECoWaGUocoh"
      },
      "id": "KECoWaGUocoh",
      "execution_count": 15,
      "outputs": []
    },
    {
      "cell_type": "code",
      "source": [
        "labels.shape"
      ],
      "metadata": {
        "colab": {
          "base_uri": "https://localhost:8080/"
        },
        "id": "7GhQrHNFnerN",
        "outputId": "0ffb93e6-46cf-41e4-a498-d797ad239caa"
      },
      "id": "7GhQrHNFnerN",
      "execution_count": 16,
      "outputs": [
        {
          "output_type": "execute_result",
          "data": {
            "text/plain": [
              "torch.Size([1, 113])"
            ]
          },
          "metadata": {},
          "execution_count": 16
        }
      ]
    },
    {
      "cell_type": "code",
      "source": [
        "sample_encoding[\"input_ids\"].shape"
      ],
      "metadata": {
        "colab": {
          "base_uri": "https://localhost:8080/"
        },
        "id": "F60-sVtcpH_G",
        "outputId": "959555ba-54c9-4cc7-9d89-55c15e9bbf01"
      },
      "id": "F60-sVtcpH_G",
      "execution_count": 17,
      "outputs": [
        {
          "output_type": "execute_result",
          "data": {
            "text/plain": [
              "torch.Size([1, 113])"
            ]
          },
          "metadata": {},
          "execution_count": 17
        }
      ]
    },
    {
      "cell_type": "markdown",
      "source": [
        "#### Now, we wrap the whole encoding into a method"
      ],
      "metadata": {
        "id": "ZzNMHN7HivSx"
      },
      "id": "ZzNMHN7HivSx"
    },
    {
      "cell_type": "code",
      "source": [
        "from typing import Dict\n",
        "import torch\n",
        "import itertools\n",
        "\n",
        "def construct_causalLM_sample(sample: Dict[str, torch.tensor]) -> Dict[str, torch.tensor]:\n",
        "    extended_batch = {}\n",
        "\n",
        "    attended_input_length = sample[\"input_ids\"].shape[-1]\n",
        "\n",
        "    extended_batch[\"input_ids\"] = sample[\"input_ids\"].expand(attended_input_length, -1)\n",
        "\n",
        "    extended_batch[\"attention_mask\"] = torch.tril(torch.ones(attended_input_length, attended_input_length), diagonal=0)\n",
        "\n",
        "    extended_batch[\"labels\"] = sample[\"input_ids\"][..., 1:][:attended_input_length]\n",
        "    extended_batch[\"labels\"] = torch.hstack([extended_batch[\"labels\"][0], torch.tensor([model.config.eos_token_id])])\n",
        "\n",
        "    extended_batch[\"labels_position\"] = torch.arange(sample[\"input_ids\"].shape[-1])\n",
        "\n",
        "    return extended_batch"
      ],
      "metadata": {
        "id": "_k_coSUwhr0O"
      },
      "id": "_k_coSUwhr0O",
      "execution_count": 18,
      "outputs": []
    },
    {
      "cell_type": "markdown",
      "source": [
        "### 3: Iterate over the samples and 4: Update the model\n",
        "\n",
        "Finally, we plug in the processing into the large training loop.\n",
        "\n",
        "#### What is happening here?\n",
        "\n",
        "As in training any neural network, we need to take care of several things that are not directly related to our objective.\n",
        "\n",
        "* Configure **batch size** and **learning rate**\n",
        "* Initialize **optimizer** that updates the model according to the gradients of the loss from real data\n",
        "* Initialize **loss function** measuring how well the model fits the data\n",
        "\n",
        "After that we **iterate over data**:\n",
        "* Obtain **batches of CLM samples**\n",
        "* Run them through the model to **obtain predictions** in a form of (log) probabilities over the model's vocabulary\n",
        "* Compute the value of the loss and register gradients of the model weights used later to update the model\n",
        "* Update the model and restart the gradients\n",
        "* Finally, we stop if the training does not improve for a while"
      ],
      "metadata": {
        "id": "kTYdZ21vJybl"
      },
      "id": "kTYdZ21vJybl"
    },
    {
      "cell_type": "code",
      "execution_count": null,
      "id": "8a66c18f-8e39-4acf-af33-37ca69c46582",
      "metadata": {
        "id": "8a66c18f-8e39-4acf-af33-37ca69c46582",
        "scrolled": true,
        "tags": []
      },
      "outputs": [],
      "source": [
        "from transformers import AdamW\n",
        "from torch.nn import CrossEntropyLoss\n",
        "\n",
        "batch_size = 8\n",
        "learning_rate = 2e-6\n",
        "\n",
        "optimizer = AdamW(model.parameters(),  # optimizer will actually update the model weights,\n",
        "                  no_deprecation_warning=True,  # so that they get better at prediction after every step\n",
        "                  lr=learning_rate)\n",
        "\n",
        "loss_fn = CrossEntropyLoss()  # distance function comparing predictions to expected labels\n",
        "\n",
        "while True:\n",
        "    running_loss = 0  # aggregation variable, to observe if we progress\n",
        "    last_running_loss = 10e28  # super high initial loss that will decrease\n",
        "    for text in dataset[\"unsupervised\"]['text']:  # per-sample iteration\n",
        "        sample_encoding = tokenizer(text, \n",
        "                                    padding=\"longest\",  # padding and truncation allows us to directly obtain tensors,\n",
        "                                    truncation=True,    # but otherwise are not needed\n",
        "                                    return_tensors=\"pt\")\n",
        "        \n",
        "        clm_samples = construct_causalLM_sample(sample_encoding)  # transformation to CLM samples\n",
        "        for batch_offset in range(0, len(clm_samples[\"input_ids\"]), batch_size):  # per-CLM-samples iteration, batched\n",
        "\n",
        "            # Construction of the training batch that we've seen above\n",
        "            dataset_batch = {k: clm_samples[k][batch_offset: batch_offset+batch_size].to(model.device) \n",
        "                             for k in clm_samples.keys()}\n",
        "\n",
        "            # Model prediction, (also called forward pass)\n",
        "            model_logprobs = model(input_ids=dataset_batch[\"input_ids\"],  # this can also be done with model(**dataset_batch)\n",
        "                                   attention_mask=dataset_batch[\"attention_mask\"]).logits          \n",
        "            # HuggingFace implementation gives us predictions for all tokens, \n",
        "            # but we'll update the model only based on the predictions with labels \n",
        "            logprobs_with_labels = model_logprobs[torch.arange(model_logprobs.size(0)), dataset_batch[\"labels_position\"]]\n",
        "                        \n",
        "            # we first compare the predicted probabilities with \"true probabilities\"\n",
        "            loss_value = loss_fn(logprobs_with_labels, dataset_batch[\"labels\"])\n",
        "\n",
        "            # we note the errors (gradients) to each model parameters (also called backward pass)\n",
        "            loss_value.backward()\n",
        "            \n",
        "            running_loss += loss_value.item()\n",
        "            \n",
        "            # 4. We update the model\n",
        "            optimizer.step()\n",
        "            optimizer.zero_grad()\n",
        "            \n",
        "            # 5: Evaluation: Check and stop the training if the model no longer improves\n",
        "            if batch_offset!= 0 and (batch_offset/batch_size) % 10 == 0:\n",
        "                # print our loss after every 1000-th step\n",
        "                print(\"Current training loss: %s\" % running_loss)\n",
        "                # stop if the loss increased\n",
        "                if last_running_loss < running_loss:\n",
        "                    break\n",
        "\n",
        "                running_loss = 0  # restart the log"
      ]
    },
    {
      "cell_type": "markdown",
      "id": "f45c9f88-bb44-4e74-9828-e6acebbfc8ba",
      "metadata": {
        "id": "f45c9f88-bb44-4e74-9828-e6acebbfc8ba"
      },
      "source": [
        "# 🛥 High-level Training pipeline\n",
        "\n",
        "Today, many libraries make it much easier to train your language model, with different levels of specialized knowledge. Under the hood, it always comes down to (roughly) what we see above, but the high-level interface allows you to iterate experiments much faster.\n",
        "\n",
        "For PyTorch language models, you may consider at least these libraries (incrementally by usage complexity): **Pure PyTorch, PyTorch Lightning, Fairseq, Transformers Trainer, Adaptor (ours)**. We have seen the low-level side above, and now we'll peek into the most high-level (Adaptor). \n",
        "\n",
        "However, in your time, we also strongly recommend you to also take a look at how to use the ever-growing 🤗 HuggingFace Transformers library. You can find examples for training generative models in [Translation training tutorial](https://huggingface.co/docs/transformers/tasks/translation), [Summarization training tutorial](https://huggingface.co/docs/transformers/tasks/summarization) (it's almost the same) and [Generation example script](https://github.com/huggingface/transformers/blob/main/examples/pytorch/text-generation/run_generation.py) from 🤗 HuggingFace."
      ]
    },
    {
      "cell_type": "markdown",
      "id": "bd0b70fa-5f1a-498e-a02b-81b72c83cc1f",
      "metadata": {
        "id": "bd0b70fa-5f1a-498e-a02b-81b72c83cc1f",
        "tags": []
      },
      "source": [
        "### [Adaptor](https://github.com/gaussalgo/adaptor): Quick introduction\n",
        "\n",
        "[Adaptor](https://github.com/gaussalgo/adaptor) is our in-house library that allows us to run large collections of similar experiments very quickly. If you take a look at the [example script](https://github.com/huggingface/transformers/blob/main/examples/pytorch/text-generation/run_generation.py) above, you'll see that it has over 400 lines, with most code not directly relevant for the goal. Below, you'll see complete, similar example with Adaptor.\n",
        "\n",
        "This complexity reduction is enabled by **objective-centric paradigm**, where the model is no longer the central part of the training; the central structure in Adaptor is **training objective** that is applied to the model.\n",
        "\n",
        "Design-wise, Adaptor is relatively lightweight extension of 🤗 Transformers. Thanks to that, you can use almost all cutting-edge features as well as all the language models of 🤗 Transformers.\n"
      ]
    },
    {
      "cell_type": "markdown",
      "source": [
        "## Training generative models with Adaptor\n",
        "\n",
        "We will take a look at how the training of generative model will look like if we use Adaptor. \n",
        "\n",
        "To give you an example for the final hands-on, we will demonstrate how to use the library on a fairly simple use-case, where we'll train a LM to **generate a rating of the review** that it gets in the input text. Again, we'll use the same `imdb` dataset for that."
      ],
      "metadata": {
        "id": "zOzKykT3RmzT"
      },
      "id": "zOzKykT3RmzT"
    },
    {
      "cell_type": "code",
      "execution_count": null,
      "id": "b6b1a0f2-cc70-46dd-82bf-72277f44bff4",
      "metadata": {
        "id": "b6b1a0f2-cc70-46dd-82bf-72277f44bff4"
      },
      "outputs": [],
      "source": [
        "!pip install sentencepiece protobuf==3.20.0 adaptor==0.2.1  # required for generation"
      ]
    },
    {
      "cell_type": "markdown",
      "source": [
        "First, we pick the base model for adaptation. "
      ],
      "metadata": {
        "id": "gyChO-yiXgaP"
      },
      "id": "gyChO-yiXgaP"
    },
    {
      "cell_type": "code",
      "execution_count": null,
      "id": "b4df1218-66cf-4f27-b156-b6c84f49f11d",
      "metadata": {
        "id": "b4df1218-66cf-4f27-b156-b6c84f49f11d"
      },
      "outputs": [],
      "source": [
        "from adaptor.lang_module import LangModule\n",
        "\n",
        "language_module = LangModule(\"google/mt5-base\")"
      ]
    },
    {
      "cell_type": "markdown",
      "id": "92bcac29-dad5-41da-8967-1fba93de87d3",
      "metadata": {
        "id": "92bcac29-dad5-41da-8967-1fba93de87d3"
      },
      "source": [
        "Second, we choose the objective that we want to fine-tune the model for. The objective will take care of configuring the model correctly. We just give it our desired inputs and outputs."
      ]
    },
    {
      "cell_type": "code",
      "execution_count": null,
      "id": "8ec9dbb0-28ce-4eef-adb4-e7f94fface07",
      "metadata": {
        "id": "8ec9dbb0-28ce-4eef-adb4-e7f94fface07"
      },
      "outputs": [],
      "source": [
        "from adaptor.objectives.seq2seq import Sequence2Sequence\n",
        "\n",
        "promt = \"How many stars will this review rate? Options: 1, 2, 3, 4, 5.\"\n",
        "\n",
        "training_objective = Sequence2Sequence(lang_module=language_module,\n",
        "                                       texts_or_path=[promt + review for review in dataset[\"train\"]['comment']],\n",
        "                                       labels_or_path=[str(x) for x in dataset[\"train\"][\"rating_int\"]],\n",
        "                                       val_texts_or_path=[promt + review for review in dataset[\"validation\"]['comment']],\n",
        "                                       val_labels_or_path=[str(x) for x in dataset[\"validation\"][\"rating_int\"]],\n",
        "                                       batch_size=1)"
      ]
    },
    {
      "cell_type": "markdown",
      "metadata": {
        "id": "12cebf2c-6c81-46ce-84f8-e5eb2d8f0380"
      },
      "source": [
        "The training process is configured through a possibly large set of 🤗 Training Arguments. You can read through each of them in [TrainingArgs documentation](https://huggingface.co/docs/transformers/main_classes/trainer#transformers.TrainingArguments)."
      ],
      "id": "12cebf2c-6c81-46ce-84f8-e5eb2d8f0380"
    },
    {
      "cell_type": "code",
      "execution_count": null,
      "metadata": {
        "id": "32bae738-67fb-465d-81c6-a9efae3e138d"
      },
      "outputs": [],
      "source": [
        "from adaptor.utils import AdaptationArguments, StoppingStrategy\n",
        "\n",
        "# TODO: maybe set other output dir\n",
        "output_dir = \"/content/drive/MyDrive/training_output_dir\"\n",
        "\n",
        "args = AdaptationArguments(output_dir=output_dir,\n",
        "                           learning_rate=2e-5,\n",
        "                           warmup_steps=1000,\n",
        "                           stopping_strategy=StoppingStrategy.FIRST_OBJECTIVE_CONVERGED,\n",
        "                           do_train=True,\n",
        "                           do_eval=True,\n",
        "                           log_level=\"critical\",\n",
        "                           logging_steps=100,\n",
        "                           eval_steps=200,\n",
        "                           evaluation_strategy=\"steps\",\n",
        "                           save_steps=200,\n",
        "                           save_total_limit=6,\n",
        "                           stopping_patience=5,\n",
        "                           num_train_epochs=20,\n",
        "                           max_steps=500,  # remove this to remove a constraint on a training length\n",
        "                           gradient_accumulation_steps=8)"
      ],
      "id": "32bae738-67fb-465d-81c6-a9efae3e138d"
    },
    {
      "cell_type": "markdown",
      "id": "87c21df6-44e3-44f1-9f00-3e6ba9fe2868",
      "metadata": {
        "id": "87c21df6-44e3-44f1-9f00-3e6ba9fe2868"
      },
      "source": [
        "It is also fine to use more than one objective at once.\n",
        "\n",
        "Multi-objective training is useful for separate logging of progress and early-stopping, \n",
        "\n",
        "In such cases, the only extra thing that one needs to decide is if the objectives' heads would be shared or not. If yes, you should fill in the argument `share_other_objective_head=other_training_objective` to the new objective(s).\n",
        "\n",
        "The ordering of application of the objectives is determined by choosing a `Schedule`: Adaptor comes with `SequentialSchedule` and `ParallelSchedule`.\n",
        "In a single-objective cases (like ours), a selection of Schedule does not really matter, but in multi-task training, it can come quite handy."
      ]
    },
    {
      "cell_type": "code",
      "execution_count": null,
      "id": "d2efa3d0-f4bc-4ca4-a9e3-a430cf7c8384",
      "metadata": {
        "id": "d2efa3d0-f4bc-4ca4-a9e3-a430cf7c8384"
      },
      "outputs": [],
      "source": [
        "from adaptor.schedules import SequentialSchedule, ParallelSchedule\n",
        "from adaptor.adapter import Adapter\n",
        "\n",
        "# choose a schedule of applying objectives - with one objective does not really matter\n",
        "parallel_schedule = SequentialSchedule(objectives=[training_objective], args=args)\n",
        "\n",
        "# instantiate Adapter - analogical structure to HF Transformers' Trainer\n",
        "adapter = Adapter(lang_module=language_module,\n",
        "                  schedule=parallel_schedule,\n",
        "                  args=args)"
      ]
    },
    {
      "cell_type": "markdown",
      "source": [
        "Last thing before the training: we need to **persist the weights** of the trained model somewhere. In our case, we create checkpoints that can be directly loaded as any HuggingFace model.\n",
        "\n",
        "In Google Colab, you can mount your Google Drive to persist the model checkpoints using the following commands. If you run this script elsewhere, you may skip the following steps."
      ],
      "metadata": {
        "id": "Ox2abCToZwRn"
      },
      "id": "Ox2abCToZwRn"
    },
    {
      "cell_type": "code",
      "source": [
        "# This will mount your google drive to persist the training model later on. \n",
        "# If you do not want to do it, you can skip this command.\n",
        "\n",
        "from google.colab import drive\n",
        "drive.mount('/content/drive')"
      ],
      "metadata": {
        "id": "JqKMyUe6xLhb"
      },
      "execution_count": null,
      "outputs": [],
      "id": "JqKMyUe6xLhb"
    },
    {
      "cell_type": "code",
      "execution_count": null,
      "metadata": {
        "id": "3fa4070a-64fd-4f4d-a0e0-a095130abc94"
      },
      "outputs": [],
      "source": [
        "# TODO: before starting the training, check that the folder where the model will be persisted actually exist\n",
        "\n",
        "!ls $output_dir"
      ],
      "id": "3fa4070a-64fd-4f4d-a0e0-a095130abc94"
    },
    {
      "cell_type": "code",
      "source": [
        "# if it does not, create it manually in the menu on the right\n",
        "\n",
        "# !mkdir $output_dir"
      ],
      "metadata": {
        "id": "_v-Fd9f-3v8B"
      },
      "execution_count": null,
      "outputs": [],
      "id": "_v-Fd9f-3v8B"
    },
    {
      "cell_type": "code",
      "execution_count": null,
      "metadata": {
        "id": "7f3f1c47-66d2-4548-9555-715351459eb5"
      },
      "outputs": [],
      "source": [
        "# Check that the folder for checkpoints existyou can continue, if this command passes without errors\n",
        "\n",
        "!ls $output_dir"
      ],
      "id": "7f3f1c47-66d2-4548-9555-715351459eb5"
    },
    {
      "cell_type": "markdown",
      "id": "a72e0cd7-464b-470d-82c2-89e142af7d69",
      "metadata": {
        "id": "a72e0cd7-464b-470d-82c2-89e142af7d69"
      },
      "source": [
        "After all the configuration, we are ready to run the training and wait for the trained model.\n",
        "\n",
        "Given the `stopping_strategy=StoppingStrategy.FIRST_OBJECTIVE_CONVERGED` and `stopping_patience=1`, the training will terminate after first evaluation, where `model_quality_evaluator` (or evaluation loss, if no Evaluator is given) does not improve over one evaluation."
      ]
    },
    {
      "cell_type": "code",
      "execution_count": null,
      "id": "37079d64-8d00-4dcc-a5ed-061655433f01",
      "metadata": {
        "id": "37079d64-8d00-4dcc-a5ed-061655433f01",
        "scrolled": true,
        "tags": []
      },
      "outputs": [],
      "source": [
        "adapter.train()"
      ]
    },
    {
      "cell_type": "markdown",
      "source": [
        "# Final Hands-on: Train your own In-context learner\n",
        "\n",
        "Now your final task will be to improve In-context learning ability for a specific use-case that you have at hand. \n",
        "\n",
        "You can use any of the approaches of the existing models. Additionally, you can use datasets for **related tasks**. If you'd like to create an in-context learner for a **new language**, search if your target language has a QA dataset available. If not, chances are that you can still transfer using QA dataset in a similar language.\n"
      ],
      "metadata": {
        "id": "aVVnaWK1pxS-"
      },
      "id": "aVVnaWK1pxS-"
    },
    {
      "cell_type": "markdown",
      "source": [
        "### Implementation template\n",
        "\n",
        "Compared to the example of generation above, perhaps all you need to play with are the base model, and inputs and outputs. Think about the *relatedness* of the tasks and relevance of the existing Promptsource templates that you could use.\n",
        "\n",
        "When you are done with the design of your experiment, try executing the plan by optionally filling the template below."
      ],
      "metadata": {
        "id": "MEd93ELE0sJG"
      },
      "id": "MEd93ELE0sJG"
    },
    {
      "cell_type": "code",
      "source": [
        "base_model = \"google/mt5-base\"  # TODO: pick the base model"
      ],
      "metadata": {
        "id": "qVyFcsWD16K0"
      },
      "id": "qVyFcsWD16K0",
      "execution_count": null,
      "outputs": []
    },
    {
      "cell_type": "code",
      "source": [
        "from adaptor.lang_module import LangModule\n",
        "\n",
        "language_module = LangModule(base_model)"
      ],
      "metadata": {
        "id": "He90YEiS2J4i"
      },
      "id": "He90YEiS2J4i",
      "execution_count": null,
      "outputs": []
    },
    {
      "cell_type": "code",
      "source": [
        "from datasets import load_dataset\n",
        "\n",
        "main_dataset = load_dataset(\"squad\")  # TODO: pick datasets: see https://huggingface.co/datasets\n",
        "# other_dataset = load_dataset(\"imdb\")  # maybe do the same thing with your target dataset/similar templates?"
      ],
      "metadata": {
        "id": "2fTqeyUt2PEF"
      },
      "id": "2fTqeyUt2PEF",
      "execution_count": null,
      "outputs": []
    },
    {
      "cell_type": "markdown",
      "source": [
        "Input prompts & labels collection"
      ],
      "metadata": {
        "id": "o1LMX15SOHKL"
      },
      "id": "o1LMX15SOHKL"
    },
    {
      "cell_type": "code",
      "source": [
        "input_texts = []\n",
        "label_texts = []"
      ],
      "metadata": {
        "id": "J1I5HrXYN5qW"
      },
      "id": "J1I5HrXYN5qW",
      "execution_count": null,
      "outputs": []
    },
    {
      "cell_type": "markdown",
      "source": [
        "Using Promptsource to verbalize squad's templates: See all templates on the project repo: https://github.com/bigscience-workshop/promptsource"
      ],
      "metadata": {
        "id": "B3ZU0AvdPRaw"
      },
      "id": "B3ZU0AvdPRaw"
    },
    {
      "cell_type": "code",
      "source": [
        "from promptsource.templates import DatasetTemplates\n",
        "\n",
        "prompts = DatasetTemplates(\"squad\")\n",
        "\n",
        "for template_id in prompts.all_dataset_templates:\n",
        "    promt_template = prompts[template_id]\n",
        "\n",
        "    prompt_label_pairs = main_dataset.map(promt_template.apply)\n",
        "\n",
        "    input_texts.extend(prompt for prompt, label in prompt_label_pairs)\n",
        "    label_texts.extend(label for prompt, label in prompt_label_pairs)"
      ],
      "metadata": {
        "id": "bqw2gGuG2_6Q"
      },
      "id": "bqw2gGuG2_6Q",
      "execution_count": null,
      "outputs": []
    },
    {
      "cell_type": "code",
      "source": [
        "# shuffle the inputs\n",
        "import random\n",
        "\n",
        "data_index = list(range(len(input_texts)))\n",
        "\n",
        "random.shuffle(data_index)\n",
        "\n",
        "input_texts = [input_texts[i] for i in data_index]\n",
        "label_texts = [label_texts[i] for i in data_index]"
      ],
      "metadata": {
        "id": "YQ4Nw936OwNr"
      },
      "id": "YQ4Nw936OwNr",
      "execution_count": null,
      "outputs": []
    },
    {
      "cell_type": "code",
      "source": [
        "# dataset objective\n",
        "\n",
        "val_samples = 100\n",
        "\n",
        "seq2seq_squad = Sequence2Sequence(lang_module=language_module,\n",
        "                                  texts_or_path=input_texts[:-100],\n",
        "                                  labels_or_path=label_texts,\n",
        "                                  val_texts_or_path=[promt + review for review in dataset[\"validation\"]['comment']],\n",
        "                                  val_labels_or_path=[str(x) for x in dataset[\"validation\"][\"rating_int\"]],\n",
        "                                  batch_size=1)"
      ],
      "metadata": {
        "id": "Enlb9bRDOfH6"
      },
      "id": "Enlb9bRDOfH6",
      "execution_count": null,
      "outputs": []
    },
    {
      "cell_type": "markdown",
      "source": [
        "Training as in the example above"
      ],
      "metadata": {
        "id": "gpYYZ56UQA6t"
      },
      "id": "gpYYZ56UQA6t"
    },
    {
      "cell_type": "code",
      "source": [
        "from adaptor.utils import AdaptationArguments, StoppingStrategy\n",
        "\n",
        "output_dir = \"/content/drive/MyDrive/training_output_dir\"\n",
        "\n",
        "args = AdaptationArguments(output_dir=output_dir,\n",
        "                           learning_rate=2e-5,\n",
        "                           warmup_steps=1000,\n",
        "                           stopping_strategy=StoppingStrategy.FIRST_OBJECTIVE_CONVERGED,\n",
        "                           do_train=True,\n",
        "                           do_eval=True,\n",
        "                           log_level=\"critical\",\n",
        "                           logging_steps=100,\n",
        "                           eval_steps=200,\n",
        "                           evaluation_strategy=\"steps\",\n",
        "                           save_steps=200,\n",
        "                           save_total_limit=6,\n",
        "                           stopping_patience=5,\n",
        "                           num_train_epochs=20,\n",
        "                           gradient_accumulation_steps=20)"
      ],
      "metadata": {
        "id": "afnSteLvOfdw"
      },
      "id": "afnSteLvOfdw",
      "execution_count": null,
      "outputs": []
    },
    {
      "cell_type": "code",
      "source": [
        "from adaptor.schedules import ParallelSchedule\n",
        "from adaptor.adapter import Adapter\n",
        "\n",
        "# choose a schedule of applying objectives - with one objective does not really matter\n",
        "parallel_schedule = ParallelSchedule(objectives=[seq2seq_squad], args=args)\n",
        "\n",
        "# instantiate Adapter - analogical structure to HF Transformers' Trainer\n",
        "adapter = Adapter(lang_module=language_module,\n",
        "                  schedule=parallel_schedule,\n",
        "                  args=args)"
      ],
      "metadata": {
        "id": "Nakdjk9FQbpJ"
      },
      "id": "Nakdjk9FQbpJ",
      "execution_count": null,
      "outputs": []
    },
    {
      "cell_type": "code",
      "source": [
        "# Start the training!\n",
        "adapter.train()"
      ],
      "metadata": {
        "id": "xyFbAtCNQcKg"
      },
      "id": "xyFbAtCNQcKg",
      "execution_count": null,
      "outputs": []
    },
    {
      "cell_type": "code",
      "source": [
        "# TODO takeaway home: evaluate how you stand, using your evaluator from previous Hands-on!"
      ],
      "metadata": {
        "id": "nTxnsEQ4RE8d"
      },
      "id": "nTxnsEQ4RE8d",
      "execution_count": null,
      "outputs": []
    }
  ],
  "metadata": {
    "colab": {
      "provenance": [],
      "gpuType": "T4",
      "include_colab_link": true
    },
    "kernelspec": {
      "display_name": "Python 3 (ipykernel)",
      "language": "python",
      "name": "python3"
    },
    "language_info": {
      "codemirror_mode": {
        "name": "ipython",
        "version": 3
      },
      "file_extension": ".py",
      "mimetype": "text/x-python",
      "name": "python",
      "nbconvert_exporter": "python",
      "pygments_lexer": "ipython3",
      "version": "3.8.10"
    },
    "accelerator": "GPU",
    "gpuClass": "standard",
    "widgets": {
      "application/vnd.jupyter.widget-state+json": {
        "3e95aafa36254805810862ff5d32f7ef": {
          "model_module": "@jupyter-widgets/controls",
          "model_name": "HBoxModel",
          "model_module_version": "1.5.0",
          "state": {
            "_dom_classes": [],
            "_model_module": "@jupyter-widgets/controls",
            "_model_module_version": "1.5.0",
            "_model_name": "HBoxModel",
            "_view_count": null,
            "_view_module": "@jupyter-widgets/controls",
            "_view_module_version": "1.5.0",
            "_view_name": "HBoxView",
            "box_style": "",
            "children": [
              "IPY_MODEL_0bbdaecf6b4b47dcb4cdb8bf8f4132dd",
              "IPY_MODEL_32735411fd33434e8e2da866e2348754",
              "IPY_MODEL_43e259d5a31b4ebe8a23b1ccee6e09ef"
            ],
            "layout": "IPY_MODEL_dc46a848dd5d4c73af588aa7fcefa87e"
          }
        },
        "0bbdaecf6b4b47dcb4cdb8bf8f4132dd": {
          "model_module": "@jupyter-widgets/controls",
          "model_name": "HTMLModel",
          "model_module_version": "1.5.0",
          "state": {
            "_dom_classes": [],
            "_model_module": "@jupyter-widgets/controls",
            "_model_module_version": "1.5.0",
            "_model_name": "HTMLModel",
            "_view_count": null,
            "_view_module": "@jupyter-widgets/controls",
            "_view_module_version": "1.5.0",
            "_view_name": "HTMLView",
            "description": "",
            "description_tooltip": null,
            "layout": "IPY_MODEL_06bd6c01087340c8843ae78622b9e68c",
            "placeholder": "​",
            "style": "IPY_MODEL_b6d9cdd11f2443f49cfff378d03a9ad2",
            "value": "100%"
          }
        },
        "32735411fd33434e8e2da866e2348754": {
          "model_module": "@jupyter-widgets/controls",
          "model_name": "FloatProgressModel",
          "model_module_version": "1.5.0",
          "state": {
            "_dom_classes": [],
            "_model_module": "@jupyter-widgets/controls",
            "_model_module_version": "1.5.0",
            "_model_name": "FloatProgressModel",
            "_view_count": null,
            "_view_module": "@jupyter-widgets/controls",
            "_view_module_version": "1.5.0",
            "_view_name": "ProgressView",
            "bar_style": "success",
            "description": "",
            "description_tooltip": null,
            "layout": "IPY_MODEL_176a63adf4664d89bc90369adf4d66ce",
            "max": 3,
            "min": 0,
            "orientation": "horizontal",
            "style": "IPY_MODEL_f19d895246d8466a9167bad774c61329",
            "value": 3
          }
        },
        "43e259d5a31b4ebe8a23b1ccee6e09ef": {
          "model_module": "@jupyter-widgets/controls",
          "model_name": "HTMLModel",
          "model_module_version": "1.5.0",
          "state": {
            "_dom_classes": [],
            "_model_module": "@jupyter-widgets/controls",
            "_model_module_version": "1.5.0",
            "_model_name": "HTMLModel",
            "_view_count": null,
            "_view_module": "@jupyter-widgets/controls",
            "_view_module_version": "1.5.0",
            "_view_name": "HTMLView",
            "description": "",
            "description_tooltip": null,
            "layout": "IPY_MODEL_b17402ac348646e99769d3d00bdeff4e",
            "placeholder": "​",
            "style": "IPY_MODEL_474d2ed2e6b649628c86778818a30eef",
            "value": " 3/3 [00:00&lt;00:00, 95.03it/s]"
          }
        },
        "dc46a848dd5d4c73af588aa7fcefa87e": {
          "model_module": "@jupyter-widgets/base",
          "model_name": "LayoutModel",
          "model_module_version": "1.2.0",
          "state": {
            "_model_module": "@jupyter-widgets/base",
            "_model_module_version": "1.2.0",
            "_model_name": "LayoutModel",
            "_view_count": null,
            "_view_module": "@jupyter-widgets/base",
            "_view_module_version": "1.2.0",
            "_view_name": "LayoutView",
            "align_content": null,
            "align_items": null,
            "align_self": null,
            "border": null,
            "bottom": null,
            "display": null,
            "flex": null,
            "flex_flow": null,
            "grid_area": null,
            "grid_auto_columns": null,
            "grid_auto_flow": null,
            "grid_auto_rows": null,
            "grid_column": null,
            "grid_gap": null,
            "grid_row": null,
            "grid_template_areas": null,
            "grid_template_columns": null,
            "grid_template_rows": null,
            "height": null,
            "justify_content": null,
            "justify_items": null,
            "left": null,
            "margin": null,
            "max_height": null,
            "max_width": null,
            "min_height": null,
            "min_width": null,
            "object_fit": null,
            "object_position": null,
            "order": null,
            "overflow": null,
            "overflow_x": null,
            "overflow_y": null,
            "padding": null,
            "right": null,
            "top": null,
            "visibility": null,
            "width": null
          }
        },
        "06bd6c01087340c8843ae78622b9e68c": {
          "model_module": "@jupyter-widgets/base",
          "model_name": "LayoutModel",
          "model_module_version": "1.2.0",
          "state": {
            "_model_module": "@jupyter-widgets/base",
            "_model_module_version": "1.2.0",
            "_model_name": "LayoutModel",
            "_view_count": null,
            "_view_module": "@jupyter-widgets/base",
            "_view_module_version": "1.2.0",
            "_view_name": "LayoutView",
            "align_content": null,
            "align_items": null,
            "align_self": null,
            "border": null,
            "bottom": null,
            "display": null,
            "flex": null,
            "flex_flow": null,
            "grid_area": null,
            "grid_auto_columns": null,
            "grid_auto_flow": null,
            "grid_auto_rows": null,
            "grid_column": null,
            "grid_gap": null,
            "grid_row": null,
            "grid_template_areas": null,
            "grid_template_columns": null,
            "grid_template_rows": null,
            "height": null,
            "justify_content": null,
            "justify_items": null,
            "left": null,
            "margin": null,
            "max_height": null,
            "max_width": null,
            "min_height": null,
            "min_width": null,
            "object_fit": null,
            "object_position": null,
            "order": null,
            "overflow": null,
            "overflow_x": null,
            "overflow_y": null,
            "padding": null,
            "right": null,
            "top": null,
            "visibility": null,
            "width": null
          }
        },
        "b6d9cdd11f2443f49cfff378d03a9ad2": {
          "model_module": "@jupyter-widgets/controls",
          "model_name": "DescriptionStyleModel",
          "model_module_version": "1.5.0",
          "state": {
            "_model_module": "@jupyter-widgets/controls",
            "_model_module_version": "1.5.0",
            "_model_name": "DescriptionStyleModel",
            "_view_count": null,
            "_view_module": "@jupyter-widgets/base",
            "_view_module_version": "1.2.0",
            "_view_name": "StyleView",
            "description_width": ""
          }
        },
        "176a63adf4664d89bc90369adf4d66ce": {
          "model_module": "@jupyter-widgets/base",
          "model_name": "LayoutModel",
          "model_module_version": "1.2.0",
          "state": {
            "_model_module": "@jupyter-widgets/base",
            "_model_module_version": "1.2.0",
            "_model_name": "LayoutModel",
            "_view_count": null,
            "_view_module": "@jupyter-widgets/base",
            "_view_module_version": "1.2.0",
            "_view_name": "LayoutView",
            "align_content": null,
            "align_items": null,
            "align_self": null,
            "border": null,
            "bottom": null,
            "display": null,
            "flex": null,
            "flex_flow": null,
            "grid_area": null,
            "grid_auto_columns": null,
            "grid_auto_flow": null,
            "grid_auto_rows": null,
            "grid_column": null,
            "grid_gap": null,
            "grid_row": null,
            "grid_template_areas": null,
            "grid_template_columns": null,
            "grid_template_rows": null,
            "height": null,
            "justify_content": null,
            "justify_items": null,
            "left": null,
            "margin": null,
            "max_height": null,
            "max_width": null,
            "min_height": null,
            "min_width": null,
            "object_fit": null,
            "object_position": null,
            "order": null,
            "overflow": null,
            "overflow_x": null,
            "overflow_y": null,
            "padding": null,
            "right": null,
            "top": null,
            "visibility": null,
            "width": null
          }
        },
        "f19d895246d8466a9167bad774c61329": {
          "model_module": "@jupyter-widgets/controls",
          "model_name": "ProgressStyleModel",
          "model_module_version": "1.5.0",
          "state": {
            "_model_module": "@jupyter-widgets/controls",
            "_model_module_version": "1.5.0",
            "_model_name": "ProgressStyleModel",
            "_view_count": null,
            "_view_module": "@jupyter-widgets/base",
            "_view_module_version": "1.2.0",
            "_view_name": "StyleView",
            "bar_color": null,
            "description_width": ""
          }
        },
        "b17402ac348646e99769d3d00bdeff4e": {
          "model_module": "@jupyter-widgets/base",
          "model_name": "LayoutModel",
          "model_module_version": "1.2.0",
          "state": {
            "_model_module": "@jupyter-widgets/base",
            "_model_module_version": "1.2.0",
            "_model_name": "LayoutModel",
            "_view_count": null,
            "_view_module": "@jupyter-widgets/base",
            "_view_module_version": "1.2.0",
            "_view_name": "LayoutView",
            "align_content": null,
            "align_items": null,
            "align_self": null,
            "border": null,
            "bottom": null,
            "display": null,
            "flex": null,
            "flex_flow": null,
            "grid_area": null,
            "grid_auto_columns": null,
            "grid_auto_flow": null,
            "grid_auto_rows": null,
            "grid_column": null,
            "grid_gap": null,
            "grid_row": null,
            "grid_template_areas": null,
            "grid_template_columns": null,
            "grid_template_rows": null,
            "height": null,
            "justify_content": null,
            "justify_items": null,
            "left": null,
            "margin": null,
            "max_height": null,
            "max_width": null,
            "min_height": null,
            "min_width": null,
            "object_fit": null,
            "object_position": null,
            "order": null,
            "overflow": null,
            "overflow_x": null,
            "overflow_y": null,
            "padding": null,
            "right": null,
            "top": null,
            "visibility": null,
            "width": null
          }
        },
        "474d2ed2e6b649628c86778818a30eef": {
          "model_module": "@jupyter-widgets/controls",
          "model_name": "DescriptionStyleModel",
          "model_module_version": "1.5.0",
          "state": {
            "_model_module": "@jupyter-widgets/controls",
            "_model_module_version": "1.5.0",
            "_model_name": "DescriptionStyleModel",
            "_view_count": null,
            "_view_module": "@jupyter-widgets/base",
            "_view_module_version": "1.2.0",
            "_view_name": "StyleView",
            "description_width": ""
          }
        }
      }
    }
  },
  "nbformat": 4,
  "nbformat_minor": 5
}